{
 "cells": [
  {
   "cell_type": "code",
   "execution_count": 59,
   "metadata": {},
   "outputs": [],
   "source": [
    "from gurobipy import Model, GRB, quicksum"
   ]
  },
  {
   "cell_type": "code",
   "execution_count": 60,
   "metadata": {},
   "outputs": [],
   "source": [
    "# Create a new model\n",
    "m = Model(\"safe_injection_clinics\")"
   ]
  },
  {
   "cell_type": "code",
   "execution_count": 61,
   "metadata": {},
   "outputs": [],
   "source": [
    "# Number of sites\n",
    "N = 14"
   ]
  },
  {
   "cell_type": "code",
   "execution_count": 62,
   "metadata": {},
   "outputs": [],
   "source": [
    "# Decision Variables\n",
    "x = m.addVars(N, vtype=GRB.BINARY, name=\"x\")\n",
    "y = m.addVars(N, vtype=GRB.INTEGER, name=\"y\")"
   ]
  },
  {
   "cell_type": "code",
   "execution_count": 63,
   "metadata": {},
   "outputs": [],
   "source": [
    "# Objective: Minimize total cost\n",
    "m.setObjective(quicksum(1000000 * x[n] + 100 * y[n] for n in range(N)), GRB.MINIMIZE)"
   ]
  },
  {
   "cell_type": "code",
   "execution_count": 64,
   "metadata": {},
   "outputs": [
    {
     "data": {
      "text/plain": [
       "<gurobi.Constr *Awaiting Model Update*>"
      ]
     },
     "execution_count": 64,
     "metadata": {},
     "output_type": "execute_result"
    }
   ],
   "source": [
    "# Constraints\n",
    "\n",
    "# Customer assignment constraints\n",
    "m.addConstr(quicksum(y[n] for n in range(N)) >= 4000, \"min_customers\")\n",
    "m.addConstr(quicksum(y[n] for n in range(N)) <= 8000, \"max_customers\")\n",
    "m.addConstrs((y[n] <= 600 * x[n] for n in range(N)), \"max_customers_per_clinic\")\n",
    "\n",
    "# Clinic opening constraints\n",
    "m.addConstr(quicksum(x[n] for n in range(N)) >= 5, \"min_clinics\")\n",
    "m.addConstr(quicksum(x[n] for n in range(N)) <= 14, \"max_clinics\")\n",
    "\n",
    "# Specific logical constraints\n",
    "m.addConstr(x[6] + x[8] <= 1, \"exclusive_7_9\")\n",
    "m.addConstr(x[1] <= x[10], \"dependency_2_11\")\n",
    "m.addConstr(x[7] + x[9] <= 1, \"exclusive_8_10\")\n",
    "m.addConstr(x[2] <= x[11] + x[13], \"dependency_3_12_14\")\n",
    "m.addConstr(2 * x[0] <= x[9] + x[12], \"dependency_1_10_13\")"
   ]
  },
  {
   "cell_type": "code",
   "execution_count": 65,
   "metadata": {},
   "outputs": [
    {
     "name": "stdout",
     "output_type": "stream",
     "text": [
      "Gurobi Optimizer version 11.0.0 build v11.0.0rc2 (mac64[arm] - Darwin 23.0.0 23A344)\n",
      "\n",
      "CPU model: Apple M1\n",
      "Thread count: 8 physical cores, 8 logical processors, using up to 8 threads\n",
      "\n",
      "Optimize a model with 23 rows, 28 columns and 96 nonzeros\n",
      "Model fingerprint: 0x3fe0f16e\n",
      "Variable types: 0 continuous, 28 integer (14 binary)\n",
      "Coefficient statistics:\n",
      "  Matrix range     [1e+00, 6e+02]\n",
      "  Objective range  [1e+02, 1e+06]\n",
      "  Bounds range     [1e+00, 1e+00]\n",
      "  RHS range        [1e+00, 8e+03]\n",
      "Found heuristic solution: objective 8400000.0000\n",
      "Presolve removed 2 rows and 0 columns\n",
      "Presolve time: 0.00s\n",
      "Presolved: 21 rows, 28 columns, 68 nonzeros\n",
      "Variable types: 0 continuous, 28 integer (14 binary)\n",
      "\n",
      "Root relaxation: objective 7.066667e+06, 27 iterations, 0.00 seconds (0.00 work units)\n",
      "\n",
      "    Nodes    |    Current Node    |     Objective Bounds      |     Work\n",
      " Expl Unexpl |  Obj  Depth IntInf | Incumbent    BestBd   Gap | It/Node Time\n",
      "\n",
      "     0     0 7066666.67    0    1 8400000.00 7066666.67  15.9%     -    0s\n",
      "H    0     0                    7400000.0000 7066666.67  4.50%     -    0s\n",
      "     0     0 7066666.67    0    3 7400000.00 7066666.67  4.50%     -    0s\n",
      "     0     0 7066666.67    0    3 7400000.00 7066666.67  4.50%     -    0s\n",
      "     0     0     cutoff    0      7400000.00 7400000.00  0.00%     -    0s\n",
      "\n",
      "Cutting planes:\n",
      "  Gomory: 1\n",
      "  MIR: 2\n",
      "  Flow cover: 1\n",
      "  GUB cover: 1\n",
      "  Network: 1\n",
      "\n",
      "Explored 1 nodes (38 simplex iterations) in 0.04 seconds (0.00 work units)\n",
      "Thread count was 8 (of 8 available processors)\n",
      "\n",
      "Solution count 2: 7.4e+06 8.4e+06 \n",
      "\n",
      "Optimal solution found (tolerance 1.00e-04)\n",
      "Best objective 7.400000000000e+06, best bound 7.400000000000e+06, gap 0.0000%\n"
     ]
    }
   ],
   "source": [
    "# Optimize model\n",
    "m.optimize()"
   ]
  },
  {
   "cell_type": "code",
   "execution_count": 66,
   "metadata": {},
   "outputs": [
    {
     "name": "stdout",
     "output_type": "stream",
     "text": [
      "Optimal solution found with total cost: $7400000.00\n",
      "Clinic at site 3 is open with 600.0 customers.\n",
      "Clinic at site 4 is open with 600.0 customers.\n",
      "Clinic at site 5 is open with 600.0 customers.\n",
      "Clinic at site 6 is open with 600.0 customers.\n",
      "Clinic at site 7 is open with 600.0 customers.\n",
      "Clinic at site 11 is open with 400.0 customers.\n",
      "Clinic at site 12 is open with 600.0 customers.\n"
     ]
    }
   ],
   "source": [
    "# Print solution\n",
    "if m.status == GRB.OPTIMAL:\n",
    "    print(f\"Optimal solution found with total cost: ${m.objVal:.2f}\")\n",
    "    for n in range(N):\n",
    "        if x[n].X > 0.5:  # Site is open\n",
    "            print(f\"Clinic at site {n+1} is open with {y[n].X} customers.\")\n",
    "else:\n",
    "    print(\"No optimal solution found.\")"
   ]
  },
  {
   "cell_type": "code",
   "execution_count": null,
   "metadata": {},
   "outputs": [],
   "source": []
  }
 ],
 "metadata": {
  "kernelspec": {
   "display_name": "Python 3",
   "language": "python",
   "name": "python3"
  },
  "language_info": {
   "codemirror_mode": {
    "name": "ipython",
    "version": 3
   },
   "file_extension": ".py",
   "mimetype": "text/x-python",
   "name": "python",
   "nbconvert_exporter": "python",
   "pygments_lexer": "ipython3",
   "version": "3.10.11"
  }
 },
 "nbformat": 4,
 "nbformat_minor": 2
}
