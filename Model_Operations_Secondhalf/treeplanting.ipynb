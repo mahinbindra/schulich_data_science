{
 "cells": [
  {
   "cell_type": "code",
   "execution_count": 1,
   "metadata": {},
   "outputs": [],
   "source": [
    "import gurobipy as gp\n",
    "from gurobipy import GRB\n",
    "import pandas as pd"
   ]
  },
  {
   "cell_type": "code",
   "execution_count": 2,
   "metadata": {},
   "outputs": [],
   "source": [
    "# Load data from CSV file\n",
    "data = pd.read_csv('/Users/mahinbindra/Downloads/Trees.csv')"
   ]
  },
  {
   "cell_type": "code",
   "execution_count": 3,
   "metadata": {},
   "outputs": [
    {
     "name": "stdout",
     "output_type": "stream",
     "text": [
      "Set parameter Username\n",
      "Academic license - for non-commercial use only - expires 2025-01-15\n"
     ]
    }
   ],
   "source": [
    "# Create a new model\n",
    "m = gp.Model(\"tree_planting\")"
   ]
  },
  {
   "cell_type": "code",
   "execution_count": 4,
   "metadata": {},
   "outputs": [],
   "source": [
    "# Add variables\n",
    "x = m.addVars(18, vtype=GRB.BINARY, name=\"x\")  # Whether a location is chosen\n",
    "t = m.addVars(18, vtype=GRB.INTEGER, name=\"t\")  # Number of trees planted at each location"
   ]
  },
  {
   "cell_type": "code",
   "execution_count": 5,
   "metadata": {},
   "outputs": [],
   "source": [
    "# Cost coefficients\n",
    "fixed_costs = data['Cost Per Location']\n",
    "planting_costs = data['Planting Cost Per Tree']"
   ]
  },
  {
   "cell_type": "code",
   "execution_count": 6,
   "metadata": {},
   "outputs": [],
   "source": [
    "# Objective: minimize total costs\n",
    "m.setObjective(gp.quicksum(fixed_costs[i] * x[i] + planting_costs[i] * t[i] for i in range(18)), GRB.MINIMIZE)"
   ]
  },
  {
   "cell_type": "code",
   "execution_count": 7,
   "metadata": {},
   "outputs": [
    {
     "data": {
      "text/plain": [
       "<gurobi.Constr *Awaiting Model Update*>"
      ]
     },
     "execution_count": 7,
     "metadata": {},
     "output_type": "execute_result"
    }
   ],
   "source": [
    "# Add constraints\n",
    "# Tree planting constraints\n",
    "m.addConstrs((103000 * x[i] <= t[i] for i in range(18)), \"min_trees\")\n",
    "m.addConstrs((t[i] <= 970000 * x[i] for i in range(18)), \"max_trees\")\n",
    "\n",
    "# Location selection constraints\n",
    "m.addConstr(x[0] + x[1] + x[2] + x[3] <= 2, \"group1_max2\")\n",
    "m.addConstr(x[5] + x[8] + x[11] + x[14] + x[17] == 3, \"group2_exact3\")\n",
    "m.addConstr(x[1] + x[3] + x[5] + x[7] + x[11] + x[13] + x[15] + x[17] <= 4, \"group3_max4\")\n",
    "\n",
    "# Updated exclusive location constraints\n",
    "m.addConstr(x[4] <= 1 - x[5], \"exclude5_from6\")\n",
    "m.addConstr(x[4] <= 1 - x[6], \"exclude5_from7\")\n",
    "m.addConstr(x[4] <= 1 - x[7], \"exclude5_from8\")\n",
    "\n",
    "# Updated dependent location constraints\n",
    "m.addConstr(2 * x[8] <= x[12] + x[14] + x[16], \"dependent9_on13_15_17\")\n",
    "\n",
    "# Balance between locations 1-9 and 10-18\n",
    "m.addConstr(sum(t[i] for i in range(9)) == sum(t[i] for i in range(9, 18)), \"balance_trees\")\n",
    "\n",
    "# Total number of trees planted\n",
    "m.addConstr(sum(t[i] for i in range(18)) == 10000000, \"total_trees\")"
   ]
  },
  {
   "cell_type": "code",
   "execution_count": 8,
   "metadata": {},
   "outputs": [
    {
     "name": "stdout",
     "output_type": "stream",
     "text": [
      "Gurobi Optimizer version 11.0.0 build v11.0.0rc2 (mac64[arm] - Darwin 23.0.0 23A344)\n",
      "\n",
      "CPU model: Apple M1\n",
      "Thread count: 8 physical cores, 8 logical processors, using up to 8 threads\n",
      "\n",
      "Optimize a model with 45 rows, 36 columns and 135 nonzeros\n",
      "Model fingerprint: 0x1d33ea8b\n",
      "Variable types: 0 continuous, 36 integer (18 binary)\n",
      "Coefficient statistics:\n",
      "  Matrix range     [1e+00, 1e+06]\n",
      "  Objective range  [1e-01, 5e+04]\n",
      "  Bounds range     [1e+00, 1e+00]\n",
      "  RHS range        [1e+00, 1e+07]\n",
      "Presolve time: 0.01s\n",
      "Presolved: 45 rows, 36 columns, 135 nonzeros\n",
      "Variable types: 0 continuous, 36 integer (18 binary)\n",
      "\n",
      "Root relaxation: objective 2.916598e+06, 31 iterations, 0.00 seconds (0.00 work units)\n",
      "\n",
      "    Nodes    |    Current Node    |     Objective Bounds      |     Work\n",
      " Expl Unexpl |  Obj  Depth IntInf | Incumbent    BestBd   Gap | It/Node Time\n",
      "\n",
      "     0     0 2916597.94    0    3          - 2916597.94      -     -    0s\n",
      "H    0     0                    3021000.0000 2974865.98  1.53%     -    0s\n",
      "     0     0 2974865.98    0    8 3021000.00 2974865.98  1.53%     -    0s\n",
      "     0     0 2978731.94    0    8 3021000.00 2978731.94  1.40%     -    0s\n",
      "H    0     0                    3020999.9789 2978731.94  1.40%     -    0s\n",
      "     0     0 2978731.94    0    3 3020999.98 2978731.94  1.40%     -    0s\n",
      "     0     0     cutoff    0      3020999.98 3020999.98  0.00%     -    0s\n",
      "\n",
      "Cutting planes:\n",
      "  Gomory: 1\n",
      "  Lift-and-project: 2\n",
      "  MIR: 2\n",
      "  Flow cover: 3\n",
      "  Inf proof: 1\n",
      "\n",
      "Explored 1 nodes (45 simplex iterations) in 0.04 seconds (0.00 work units)\n",
      "Thread count was 8 (of 8 available processors)\n",
      "\n",
      "Solution count 2: 3.021e+06 3.021e+06 \n",
      "\n",
      "Optimal solution found (tolerance 1.00e-04)\n",
      "Best objective 3.020999979017e+06, best bound 3.020999979017e+06, gap 0.0000%\n"
     ]
    }
   ],
   "source": [
    "# Solve the model\n",
    "m.optimize()"
   ]
  },
  {
   "cell_type": "code",
   "execution_count": 9,
   "metadata": {},
   "outputs": [
    {
     "name": "stdout",
     "output_type": "stream",
     "text": [
      "Optimal solution found:\n",
      "Location 1: Plant 150001 trees\n",
      "Location 3: Plant 969999 trees\n",
      "Location 6: Plant 970000 trees\n",
      "Location 7: Plant 970000 trees\n",
      "Location 8: Plant 970000 trees\n",
      "Location 9: Plant 970000 trees\n",
      "Location 11: Plant 150000 trees\n",
      "Location 13: Plant 970000 trees\n",
      "Location 14: Plant 970000 trees\n",
      "Location 15: Plant 970000 trees\n",
      "Location 16: Plant 970000 trees\n",
      "Location 17: Plant 970000 trees\n"
     ]
    }
   ],
   "source": [
    "# Print solution\n",
    "if m.status == GRB.OPTIMAL:\n",
    "    print('Optimal solution found:')\n",
    "    locations = m.getAttr('x', x)\n",
    "    trees = m.getAttr('x', t)\n",
    "    for i in range(18):\n",
    "        if locations[i] > 0.5:  # Only print chosen locations\n",
    "            print(f\"Location {i+1}: Plant {trees[i]:.0f} trees\")\n",
    "else:\n",
    "    print('No optimal solution found')"
   ]
  },
  {
   "cell_type": "code",
   "execution_count": 10,
   "metadata": {},
   "outputs": [
    {
     "name": "stdout",
     "output_type": "stream",
     "text": [
      "Gurobi Optimizer version 11.0.0 build v11.0.0rc2 (mac64[arm] - Darwin 23.0.0 23A344)\n",
      "\n",
      "CPU model: Apple M1\n",
      "Thread count: 8 physical cores, 8 logical processors, using up to 8 threads\n",
      "\n",
      "Optimize a model with 19 rows, 36 columns and 54 nonzeros\n",
      "Model fingerprint: 0xe875a456\n",
      "Variable types: 0 continuous, 36 integer (18 binary)\n",
      "Coefficient statistics:\n",
      "  Matrix range     [1e+00, 1e+06]\n",
      "  Objective range  [1e-01, 5e+04]\n",
      "  Bounds range     [1e+00, 1e+00]\n",
      "  RHS range        [1e+07, 1e+07]\n",
      "Found heuristic solution: objective 3306500.0000\n",
      "Presolve time: 0.00s\n",
      "Presolved: 19 rows, 36 columns, 54 nonzeros\n",
      "Variable types: 0 continuous, 36 integer (18 binary)\n",
      "Found heuristic solution: objective 3306498.5500\n",
      "\n",
      "Root relaxation: objective 2.609732e+06, 13 iterations, 0.00 seconds (0.00 work units)\n",
      "\n",
      "    Nodes    |    Current Node    |     Objective Bounds      |     Work\n",
      " Expl Unexpl |  Obj  Depth IntInf | Incumbent    BestBd   Gap | It/Node Time\n",
      "\n",
      "     0     0 2609731.96    0    1 3306498.55 2609731.96  21.1%     -    0s\n",
      "H    0     0                    2627000.0000 2609731.96  0.66%     -    0s\n",
      "\n",
      "Cutting planes:\n",
      "  Flow cover: 2\n",
      "\n",
      "Explored 1 nodes (13 simplex iterations) in 0.01 seconds (0.00 work units)\n",
      "Thread count was 8 (of 8 available processors)\n",
      "\n",
      "Solution count 3: 2.627e+06 3.3065e+06 3.3065e+06 \n",
      "\n",
      "Optimal solution found (tolerance 1.00e-04)\n",
      "Best objective 2.627000000000e+06, best bound 2.627000000000e+06, gap 0.0000%\n",
      "Optimal solution found:\n",
      "Location 7: Plant 970000 trees\n",
      "Location 9: Plant 300000 trees\n",
      "Location 10: Plant 970000 trees\n",
      "Location 11: Plant 970000 trees\n",
      "Location 12: Plant 970000 trees\n",
      "Location 13: Plant 970000 trees\n",
      "Location 14: Plant 970000 trees\n",
      "Location 15: Plant 970000 trees\n",
      "Location 16: Plant 970000 trees\n",
      "Location 17: Plant 970000 trees\n",
      "Location 18: Plant 970000 trees\n"
     ]
    }
   ],
   "source": [
    "import gurobipy as gp\n",
    "from gurobipy import GRB\n",
    "import pandas as pd\n",
    "\n",
    "# Load data from CSV file\n",
    "data = pd.read_csv('/Users/mahinbindra/Downloads/Trees.csv')\n",
    "\n",
    "# Create a new model\n",
    "m = gp.Model(\"tree_planting_no_constraints\")\n",
    "\n",
    "# Add variables\n",
    "x = m.addVars(18, vtype=GRB.BINARY, name=\"x\")  # Whether a location is chosen\n",
    "t = m.addVars(18, vtype=GRB.INTEGER, name=\"t\")  # Number of trees planted at each location\n",
    "\n",
    "# Cost coefficients\n",
    "fixed_costs = data['Cost Per Location']\n",
    "planting_costs = data['Planting Cost Per Tree']\n",
    "\n",
    "# Objective: minimize total costs\n",
    "m.setObjective(gp.quicksum(fixed_costs[i] * x[i] + planting_costs[i] * t[i] for i in range(18)), GRB.MINIMIZE)\n",
    "\n",
    "# Add constraints\n",
    "# Each location can plant up to 970,000 trees if chosen\n",
    "m.addConstrs((t[i] <= 970000 * x[i] for i in range(18)), \"max_trees\")\n",
    "\n",
    "# Total number of trees planted\n",
    "m.addConstr(sum(t[i] for i in range(18)) == 10000000, \"total_trees\")\n",
    "\n",
    "# Solve the model\n",
    "m.optimize()\n",
    "\n",
    "# Print solution\n",
    "if m.status == GRB.OPTIMAL:\n",
    "    print('Optimal solution found:')\n",
    "    locations = m.getAttr('x', x)\n",
    "    trees = m.getAttr('x', t)\n",
    "    for i in range(18):\n",
    "        if locations[i] > 0.5:  # Only print chosen locations\n",
    "            print(f\"Location {i+1}: Plant {trees[i]:.0f} trees\")\n",
    "else:\n",
    "    print('No optimal solution found')\n"
   ]
  },
  {
   "cell_type": "code",
   "execution_count": null,
   "metadata": {},
   "outputs": [],
   "source": []
  }
 ],
 "metadata": {
  "kernelspec": {
   "display_name": "Python 3",
   "language": "python",
   "name": "python3"
  },
  "language_info": {
   "codemirror_mode": {
    "name": "ipython",
    "version": 3
   },
   "file_extension": ".py",
   "mimetype": "text/x-python",
   "name": "python",
   "nbconvert_exporter": "python",
   "pygments_lexer": "ipython3",
   "version": "3.10.11"
  }
 },
 "nbformat": 4,
 "nbformat_minor": 2
}
