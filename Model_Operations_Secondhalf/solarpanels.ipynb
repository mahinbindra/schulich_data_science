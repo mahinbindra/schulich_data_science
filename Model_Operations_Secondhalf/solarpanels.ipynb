{
 "cells": [
  {
   "cell_type": "code",
   "execution_count": 9,
   "metadata": {},
   "outputs": [],
   "source": [
    "from gurobipy import Model, GRB, quicksum"
   ]
  },
  {
   "cell_type": "code",
   "execution_count": 10,
   "metadata": {},
   "outputs": [],
   "source": [
    "# Create a new model\n",
    "m = Model(\"solar_farm\")"
   ]
  },
  {
   "cell_type": "code",
   "execution_count": 11,
   "metadata": {},
   "outputs": [],
   "source": [
    "# Number of sites\n",
    "N = 20"
   ]
  },
  {
   "cell_type": "code",
   "execution_count": 12,
   "metadata": {},
   "outputs": [],
   "source": [
    "# Decision variables\n",
    "x = m.addVars(N, vtype=GRB.BINARY, name=\"x\")  # Whether to build a farm at site n\n",
    "s = m.addVars(N, vtype=GRB.INTEGER, name=\"s\") # Number of small panels at site n\n",
    "l = m.addVars(N, vtype=GRB.INTEGER, name=\"l\") # Number of large panels at site n"
   ]
  },
  {
   "cell_type": "code",
   "execution_count": 13,
   "metadata": {},
   "outputs": [],
   "source": [
    "# Objective: Minimize cost of setting up farms and installing panels\n",
    "m.setObjective(quicksum(3e6 * x[n] + 5000 * s[n] + 25000 * l[n] for n in range(N)), GRB.MINIMIZE)"
   ]
  },
  {
   "cell_type": "code",
   "execution_count": 14,
   "metadata": {},
   "outputs": [
    {
     "data": {
      "text/plain": [
       "<gurobi.Constr *Awaiting Model Update*>"
      ]
     },
     "execution_count": 14,
     "metadata": {},
     "output_type": "execute_result"
    }
   ],
   "source": [
    "# Constraints\n",
    "\n",
    "# Total production requirement\n",
    "m.addConstr(quicksum(6000 * s[n] + 20000 * l[n] for n in range(N)) >= 10e6, \"TotalProduction\")\n",
    "\n",
    "# Capacity constraints at each site\n",
    "m.addConstrs((s[n] + 3 * l[n] <= 110 * x[n] for n in range(N)), \"Capacity\")\n",
    "\n",
    "# Ratio of small to large panels at each site\n",
    "m.addConstrs((s[n] >= 0.1 * l[n] for n in range(N)), \"PanelRatio\")\n",
    "\n",
    "# Geographical and Deployment Constraints\n",
    "m.addConstr(sum(x[n] for n in range(5)) == 3, \"Sites1-5\")\n",
    "m.addConstr(sum(x[n] for n in range(5, 10)) <= 4, \"Sites6-10\")\n",
    "m.addConstr(sum(x[n] for n in range(10, 15)) >= 2, \"Sites11-15\")\n",
    "m.addConstr(x[15] + sum(x[n] for n in range(17, 20)) <= 1, \"Exclusive16\")\n",
    "m.addConstr(x[16] + sum(x[n] for n in range(17, 20)) <= 1, \"Exclusive17\")\n",
    "\n",
    "# Total small panels must exceed 30% of all panels\n",
    "total_panels = quicksum(s[n] + l[n] for n in range(N))\n",
    "total_small_panels = quicksum(s[n] for n in range(N))\n",
    "m.addConstr(total_small_panels >= 0.3 * total_panels, \"SmallPanelRequirement\")"
   ]
  },
  {
   "cell_type": "code",
   "execution_count": 15,
   "metadata": {},
   "outputs": [
    {
     "name": "stdout",
     "output_type": "stream",
     "text": [
      "Gurobi Optimizer version 11.0.0 build v11.0.0rc2 (mac64[arm] - Darwin 23.0.0 23A344)\n",
      "\n",
      "CPU model: Apple M1\n",
      "Thread count: 8 physical cores, 8 logical processors, using up to 8 threads\n",
      "\n",
      "Optimize a model with 47 rows, 60 columns and 203 nonzeros\n",
      "Model fingerprint: 0xd0255bd0\n",
      "Variable types: 0 continuous, 60 integer (20 binary)\n",
      "Coefficient statistics:\n",
      "  Matrix range     [1e-01, 2e+04]\n",
      "  Objective range  [5e+03, 3e+06]\n",
      "  Bounds range     [1e+00, 1e+00]\n",
      "  RHS range        [1e+00, 1e+07]\n",
      "Presolve time: 0.00s\n",
      "Presolved: 47 rows, 60 columns, 203 nonzeros\n",
      "Variable types: 0 continuous, 60 integer (20 binary)\n",
      "\n",
      "Root relaxation: objective 5.345224e+07, 71 iterations, 0.00 seconds (0.00 work units)\n",
      "\n",
      "    Nodes    |    Current Node    |     Objective Bounds      |     Work\n",
      " Expl Unexpl |  Obj  Depth IntInf | Incumbent    BestBd   Gap | It/Node Time\n",
      "\n",
      "     0     0 5.3452e+07    0    3          - 5.3452e+07      -     -    0s\n",
      "H    0     0                    5.375000e+07 5.3452e+07  0.55%     -    0s\n",
      "H    0     0                    5.365000e+07 5.3452e+07  0.37%     -    0s\n",
      "H    0     0                    5.352500e+07 5.3452e+07  0.14%     -    0s\n",
      "H    0     0                    5.350000e+07 5.3452e+07  0.09%     -    0s\n",
      "     0     0 5.3452e+07    0   27 5.3500e+07 5.3452e+07  0.09%     -    0s\n",
      "     0     0 5.3452e+07    0    7 5.3500e+07 5.3452e+07  0.09%     -    0s\n",
      "     0     0 5.3452e+07    0    6 5.3500e+07 5.3452e+07  0.09%     -    0s\n",
      "\n",
      "Cutting planes:\n",
      "  Learned: 2\n",
      "  Gomory: 2\n",
      "\n",
      "Explored 1 nodes (140 simplex iterations) in 0.02 seconds (0.00 work units)\n",
      "Thread count was 8 (of 8 available processors)\n",
      "\n",
      "Solution count 4: 5.35e+07 5.3525e+07 5.365e+07 5.375e+07 \n",
      "\n",
      "Optimal solution found (tolerance 1.00e-04)\n",
      "Best objective 5.350000000000e+07, best bound 5.350000000000e+07, gap 0.0000%\n"
     ]
    }
   ],
   "source": [
    "# Optimize the model\n",
    "m.optimize()"
   ]
  },
  {
   "cell_type": "code",
   "execution_count": 16,
   "metadata": {},
   "outputs": [
    {
     "name": "stdout",
     "output_type": "stream",
     "text": [
      "Optimal solution found:\n",
      "Site 2: Build with 5.0 small panels and 35.0 large panels\n",
      "Site 3: Build with 5.0 small panels and 35.0 large panels\n",
      "Site 4: Build with 20.0 small panels and 30.0 large panels\n",
      "Site 6: Build with 110.0 small panels and 0.0 large panels\n",
      "Site 7: Build with 5.0 small panels and 35.0 large panels\n",
      "Site 8: Build with 5.0 small panels and 35.0 large panels\n",
      "Site 9: Build with 5.0 small panels and 35.0 large panels\n",
      "Site 11: Build with 5.0 small panels and 35.0 large panels\n",
      "Site 12: Build with 5.0 small panels and 35.0 large panels\n",
      "Site 13: Build with 5.0 small panels and 35.0 large panels\n",
      "Site 14: Build with 110.0 small panels and 0.0 large panels\n",
      "Site 15: Build with 110.0 small panels and -0.0 large panels\n",
      "Site 16: Build with 5.0 small panels and 35.0 large panels\n",
      "Site 17: Build with 5.0 small panels and 35.0 large panels\n"
     ]
    }
   ],
   "source": [
    "# Print the solution\n",
    "if m.status == GRB.OPTIMAL:\n",
    "    print(\"Optimal solution found:\")\n",
    "    for n in range(N):\n",
    "        if x[n].X > 0.5:  # Site is chosen\n",
    "            print(f\"Site {n+1}: Build with {s[n].X} small panels and {l[n].X} large panels\")\n",
    "else:\n",
    "    print(\"No optimal solution found.\")"
   ]
  },
  {
   "cell_type": "code",
   "execution_count": null,
   "metadata": {},
   "outputs": [],
   "source": []
  }
 ],
 "metadata": {
  "kernelspec": {
   "display_name": "Python 3",
   "language": "python",
   "name": "python3"
  },
  "language_info": {
   "codemirror_mode": {
    "name": "ipython",
    "version": 3
   },
   "file_extension": ".py",
   "mimetype": "text/x-python",
   "name": "python",
   "nbconvert_exporter": "python",
   "pygments_lexer": "ipython3",
   "version": "3.10.11"
  }
 },
 "nbformat": 4,
 "nbformat_minor": 2
}
