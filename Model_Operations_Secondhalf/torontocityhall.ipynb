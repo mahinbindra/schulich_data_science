{
 "cells": [
  {
   "cell_type": "code",
   "execution_count": 37,
   "metadata": {},
   "outputs": [],
   "source": [
    "from gurobipy import Model, GRB"
   ]
  },
  {
   "cell_type": "code",
   "execution_count": 38,
   "metadata": {},
   "outputs": [],
   "source": [
    "# Create a new model\n",
    "m = Model(\"road_salt_storage\")"
   ]
  },
  {
   "cell_type": "code",
   "execution_count": 39,
   "metadata": {},
   "outputs": [],
   "source": [
    "# Parameters\n",
    "n_locations = 15\n",
    "n_wards = 44\n",
    "max_capacity = 4500\n",
    "min_salt_per_ward = 500\n",
    "fixed_cost = 500000"
   ]
  },
  {
   "cell_type": "code",
   "execution_count": 40,
   "metadata": {},
   "outputs": [],
   "source": [
    "# Function to calculate transportation cost\n",
    "def calc_cni(n, i):\n",
    "    return (n / 2) * (11 - (i / 4))"
   ]
  },
  {
   "cell_type": "code",
   "execution_count": 41,
   "metadata": {},
   "outputs": [],
   "source": [
    "# Decision variables\n",
    "x = m.addVars(n_locations, vtype=GRB.BINARY, name=\"x\")\n",
    "y = m.addVars(n_locations, n_wards, vtype=GRB.CONTINUOUS, name=\"y\", lb=0)"
   ]
  },
  {
   "cell_type": "code",
   "execution_count": 42,
   "metadata": {},
   "outputs": [],
   "source": [
    "# Objective function\n",
    "m.setObjective(sum(fixed_cost * x[n] for n in range(n_locations)) +\n",
    "               sum(calc_cni(n+1, i+1) * y[n,i] for n in range(n_locations) for i in range(n_wards)),\n",
    "               GRB.MINIMIZE)"
   ]
  },
  {
   "cell_type": "code",
   "execution_count": 43,
   "metadata": {},
   "outputs": [
    {
     "data": {
      "text/plain": [
       "<gurobi.Constr *Awaiting Model Update*>"
      ]
     },
     "execution_count": 43,
     "metadata": {},
     "output_type": "execute_result"
    }
   ],
   "source": [
    "# Constraints\n",
    "\n",
    "# Constraint a: Capacity limit at each site\n",
    "m.addConstrs((sum(y[n, i] for i in range(n_wards)) <= max_capacity * x[n] for n in range(n_locations)), \"capacity\")\n",
    "\n",
    "# Constraint b: Demand at each ward\n",
    "m.addConstrs((sum(y[n, i] for n in range(n_locations)) >= min_salt_per_ward for i in range(n_wards)), \"demand\")\n",
    "\n",
    "# Constraint c: At least 8 storage sites must be opened\n",
    "m.addConstr(sum(x[n] for n in range(n_locations)) >= 8, \"min_sites\")\n",
    "\n",
    "# Constraint d: Limitation on specific sites\n",
    "specific_sites = [1, 3, 5, 7, 9, 12]  # Corrected to match problem statement\n",
    "m.addConstr(sum(x[n] for n in specific_sites) <= 3, \"specific_limit\")\n",
    "\n",
    "# Constraint e: Linked opening of sites 7 and 13\n",
    "m.addConstr(x[6] <= x[12], \"link_7_13\")\n",
    "\n",
    "# Constraint f: Exact two sites among 1, 5, 14\n",
    "m.addConstr(x[0] + x[4] + x[13] == 2, \"exact_two\")\n",
    "\n",
    "# Constraint g: Exclusive sites 2 and 12\n",
    "m.addConstr(x[1] + x[11] <= 1, \"exclusive_2_12\")\n",
    "\n",
    "# Constraint h: Conditional openings\n",
    "m.addConstr(x[2] <= x[1], \"cond_3_2\")\n",
    "m.addConstr(x[2] <= x[8], \"cond_3_9\")\n",
    "m.addConstr(x[2] <= x[10], \"cond_3_11\")"
   ]
  },
  {
   "cell_type": "code",
   "execution_count": 44,
   "metadata": {},
   "outputs": [
    {
     "name": "stdout",
     "output_type": "stream",
     "text": [
      "Gurobi Optimizer version 11.0.0 build v11.0.0rc2 (mac64[arm] - Darwin 23.0.0 23A344)\n",
      "\n",
      "CPU model: Apple M1\n",
      "Thread count: 8 physical cores, 8 logical processors, using up to 8 threads\n",
      "\n",
      "Optimize a model with 67 rows, 675 columns and 1369 nonzeros\n",
      "Model fingerprint: 0xac3bcd01\n",
      "Variable types: 660 continuous, 15 integer (15 binary)\n",
      "Coefficient statistics:\n",
      "  Matrix range     [1e+00, 4e+03]\n",
      "  Objective range  [1e-01, 5e+05]\n",
      "  Bounds range     [1e+00, 1e+00]\n",
      "  RHS range        [1e+00, 5e+02]\n",
      "Found heuristic solution: objective 5650187.5000\n",
      "Presolve time: 0.00s\n",
      "Presolved: 67 rows, 675 columns, 1366 nonzeros\n",
      "Found heuristic solution: objective 4565250.0000\n",
      "Variable types: 660 continuous, 15 integer (15 binary)\n",
      "\n",
      "Root relaxation: objective 4.126875e+06, 122 iterations, 0.00 seconds (0.00 work units)\n",
      "\n",
      "    Nodes    |    Current Node    |     Objective Bounds      |     Work\n",
      " Expl Unexpl |  Obj  Depth IntInf | Incumbent    BestBd   Gap | It/Node Time\n",
      "\n",
      "     0     0 4126875.00    0    2 4565250.00 4126875.00  9.60%     -    0s\n",
      "H    0     0                    4131875.0000 4126875.00  0.12%     -    0s\n",
      "H    0     0                    4131250.0000 4126875.00  0.11%     -    0s\n",
      "H    0     0                    4126875.0000 4126875.00  0.00%     -    0s\n",
      "\n",
      "Cutting planes:\n",
      "  MIR: 2\n",
      "  Flow cover: 7\n",
      "\n",
      "Explored 1 nodes (122 simplex iterations) in 0.01 seconds (0.01 work units)\n",
      "Thread count was 8 (of 8 available processors)\n",
      "\n",
      "Solution count 3: 4.12688e+06 4.56525e+06 5.65019e+06 \n",
      "\n",
      "Optimal solution found (tolerance 1.00e-04)\n",
      "Best objective 4.126875000000e+06, best bound 4.126875000000e+06, gap 0.0000%\n"
     ]
    }
   ],
   "source": [
    "# Optimize model\n",
    "m.optimize()"
   ]
  },
  {
   "cell_type": "code",
   "execution_count": 45,
   "metadata": {},
   "outputs": [
    {
     "name": "stdout",
     "output_type": "stream",
     "text": [
      "Optimal solution found:\n",
      "\n",
      "x[0] = 1.0\n",
      "x[1] = 1.0\n",
      "x[2] = 1.0\n",
      "x[3] = 1.0\n",
      "x[4] = 1.0\n",
      "x[5] = 1.0\n",
      "x[8] = 1.0\n",
      "x[10] = 1.0\n",
      "y[0,0] = 500.0\n",
      "y[0,1] = 500.0\n",
      "y[0,2] = 500.0\n",
      "y[0,3] = 500.0\n",
      "y[0,4] = 500.0\n",
      "y[0,5] = 500.0\n",
      "y[0,6] = 500.0\n",
      "y[0,7] = 500.0\n",
      "y[0,8] = 500.0\n",
      "y[1,9] = 500.0\n",
      "y[1,10] = 500.0\n",
      "y[1,11] = 500.0\n",
      "y[1,12] = 500.0\n",
      "y[1,13] = 500.0\n",
      "y[1,14] = 500.0\n",
      "y[1,15] = 500.0\n",
      "y[1,16] = 500.0\n",
      "y[1,17] = 500.0\n",
      "y[2,18] = 500.0\n",
      "y[2,19] = 500.0\n",
      "y[2,20] = 500.0\n",
      "y[2,21] = 500.0\n",
      "y[2,22] = 500.0\n",
      "y[2,23] = 500.0\n",
      "y[2,24] = 500.0\n",
      "y[2,25] = 500.0\n",
      "y[2,26] = 500.0\n",
      "y[3,27] = 500.0\n",
      "y[3,28] = 500.0\n",
      "y[3,29] = 500.0\n",
      "y[3,30] = 500.0\n",
      "y[3,31] = 500.0\n",
      "y[3,32] = 500.0\n",
      "y[3,33] = 500.0\n",
      "y[3,34] = 500.0\n",
      "y[3,35] = 500.0\n",
      "y[4,36] = 500.0\n",
      "y[4,37] = 500.0\n",
      "y[4,38] = 500.0\n",
      "y[4,39] = 500.0\n",
      "y[4,40] = 500.0\n",
      "y[4,41] = 500.0\n",
      "y[4,42] = 500.0\n",
      "y[4,43] = 1000.0\n",
      "y[5,43] = 4500.0\n",
      "y[8,43] = 4500.0\n",
      "y[10,43] = 4500.0\n"
     ]
    }
   ],
   "source": [
    "# Print solution\n",
    "if m.status == GRB.OPTIMAL:\n",
    "    print('Optimal solution found:\\n')\n",
    "    for v in m.getVars():\n",
    "        if v.x > 0:\n",
    "            print(f\"{v.varName} = {v.x}\")\n",
    "\n",
    "else:\n",
    "    print('No optimal solution found.')"
   ]
  },
  {
   "cell_type": "code",
   "execution_count": null,
   "metadata": {},
   "outputs": [],
   "source": []
  }
 ],
 "metadata": {
  "kernelspec": {
   "display_name": "Python 3",
   "language": "python",
   "name": "python3"
  },
  "language_info": {
   "codemirror_mode": {
    "name": "ipython",
    "version": 3
   },
   "file_extension": ".py",
   "mimetype": "text/x-python",
   "name": "python",
   "nbconvert_exporter": "python",
   "pygments_lexer": "ipython3",
   "version": "3.10.11"
  }
 },
 "nbformat": 4,
 "nbformat_minor": 2
}
