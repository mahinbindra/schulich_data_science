{
 "cells": [
  {
   "cell_type": "code",
   "execution_count": 64,
   "metadata": {},
   "outputs": [],
   "source": [
    "from gurobipy import Model, GRB, quicksum"
   ]
  },
  {
   "cell_type": "code",
   "execution_count": 65,
   "metadata": {},
   "outputs": [],
   "source": [
    "# Initialize the model\n",
    "m = Model(\"charging_stations\")"
   ]
  },
  {
   "cell_type": "code",
   "execution_count": 66,
   "metadata": {},
   "outputs": [],
   "source": [
    "# Indices for companies and sites\n",
    "companies = [1, 2]\n",
    "sites = list(range(1, 31))"
   ]
  },
  {
   "cell_type": "code",
   "execution_count": 67,
   "metadata": {},
   "outputs": [],
   "source": [
    "# Parameters\n",
    "fixed_cost = 2500000  # Fixed cost for building a station\n",
    "variable_cost = 150000  # Variable cost per charging unit"
   ]
  },
  {
   "cell_type": "code",
   "execution_count": 68,
   "metadata": {},
   "outputs": [],
   "source": [
    "# Decision variables\n",
    "z = m.addVars(companies, sites, vtype=GRB.BINARY, name=\"z\")\n",
    "x = m.addVars(companies, sites, vtype=GRB.INTEGER, name=\"x\")"
   ]
  },
  {
   "cell_type": "code",
   "execution_count": 69,
   "metadata": {},
   "outputs": [],
   "source": [
    "# Objective function\n",
    "m.setObjective(\n",
    "    quicksum(2500000 * z[i, n] + 150000 * x[i, n] for i in companies for n in sites),\n",
    "    GRB.MINIMIZE\n",
    ")"
   ]
  },
  {
   "cell_type": "code",
   "execution_count": 70,
   "metadata": {},
   "outputs": [
    {
     "data": {
      "text/plain": [
       "<gurobi.Constr *Awaiting Model Update*>"
      ]
     },
     "execution_count": 70,
     "metadata": {},
     "output_type": "execute_result"
    }
   ],
   "source": [
    "# Constraints\n",
    "# Each site can have at most one company building a charging station\n",
    "for n in sites:\n",
    "    m.addConstr(quicksum(z[i, n] for i in companies) <= 1)\n",
    "\n",
    "# Constraint a: At least 14 charging stations must be built along the corridor\n",
    "m.addConstr(quicksum(z[i, n] for i in companies for n in sites) >= 14)\n",
    "\n",
    "# Constraint b: No more than 18 charging units can be built at any of the charging stations\n",
    "for i in companies:\n",
    "    for n in sites:\n",
    "        m.addConstr(x[i, n] <= 18 * z[i, n])\n",
    "\n",
    "# Constraint c: If a charging station is built at site 2, one must also be built at site 30\n",
    "for i in companies:\n",
    "    m.addConstr(z[i, 2] <= z[i, 30])\n",
    "\n",
    "# Constraint d: If company 1 builds a charging station at site 8, it cannot build one at site 21\n",
    "m.addConstr(z[1, 8] + z[1, 21] <= 1)\n",
    "\n",
    "# Constraint e: The number of charging stations built by company 2 at sites 3, 11, 17, 19, and 23 must equal 4\n",
    "m.addConstr(quicksum(z[2, n] for n in [3, 11, 17, 19, 23]) == 4)\n",
    "\n",
    "# Constraint f: The number of charging stations built by both companies at sites 12, 15, and 18 cannot be less than 1\n",
    "m.addConstr(quicksum(z[i, n] for i in companies for n in [12, 15, 18]) >= 1)\n",
    "\n",
    "# Constraint g: If company 1 builds a charging station at site 1, they must also build stations at sites 26, 27, and 28\n",
    "m.addConstrs((z[1, 1] <= z[1, n] for n in [26, 27, 28]))\n",
    "\n",
    "# Constraint h: The number of charging units built at station 14 must equal the number built at station 22\n",
    "m.addConstr(quicksum(x[i, 14] for i in companies) == quicksum(x[i, 22] for i in companies))\n"
   ]
  },
  {
   "cell_type": "code",
   "execution_count": 71,
   "metadata": {},
   "outputs": [
    {
     "name": "stdout",
     "output_type": "stream",
     "text": [
      "Gurobi Optimizer version 11.0.0 build v11.0.0rc2 (mac64[arm] - Darwin 23.0.0 23A344)\n",
      "\n",
      "CPU model: Apple M1\n",
      "Thread count: 8 physical cores, 8 logical processors, using up to 8 threads\n",
      "\n",
      "Optimize a model with 100 rows, 120 columns and 267 nonzeros\n",
      "Model fingerprint: 0xbd2cb119\n",
      "Variable types: 0 continuous, 120 integer (60 binary)\n",
      "Coefficient statistics:\n",
      "  Matrix range     [1e+00, 2e+01]\n",
      "  Objective range  [2e+05, 2e+06]\n",
      "  Bounds range     [1e+00, 1e+00]\n",
      "  RHS range        [1e+00, 1e+01]\n",
      "Found heuristic solution: objective 3.500000e+07\n",
      "Presolve removed 100 rows and 120 columns\n",
      "Presolve time: 0.00s\n",
      "Presolve: All rows and columns removed\n",
      "\n",
      "Explored 0 nodes (0 simplex iterations) in 0.00 seconds (0.00 work units)\n",
      "Thread count was 1 (of 8 available processors)\n",
      "\n",
      "Solution count 1: 3.5e+07 \n",
      "\n",
      "Optimal solution found (tolerance 1.00e-04)\n",
      "Best objective 3.500000000000e+07, best bound 3.500000000000e+07, gap 0.0000%\n"
     ]
    }
   ],
   "source": [
    "# Solve the model\n",
    "m.optimize()"
   ]
  },
  {
   "cell_type": "code",
   "execution_count": 72,
   "metadata": {},
   "outputs": [
    {
     "name": "stdout",
     "output_type": "stream",
     "text": [
      "Optimal cost: 35000000.0\n",
      "Company 1 builds a station at site 4 with -0.0 units.\n",
      "Company 1 builds a station at site 5 with -0.0 units.\n",
      "Company 1 builds a station at site 6 with -0.0 units.\n",
      "Company 1 builds a station at site 15 with -0.0 units.\n",
      "Company 1 builds a station at site 16 with -0.0 units.\n",
      "Company 1 builds a station at site 28 with -0.0 units.\n",
      "Company 1 builds a station at site 29 with -0.0 units.\n",
      "Company 2 builds a station at site 7 with -0.0 units.\n",
      "Company 2 builds a station at site 8 with -0.0 units.\n",
      "Company 2 builds a station at site 9 with -0.0 units.\n",
      "Company 2 builds a station at site 11 with -0.0 units.\n",
      "Company 2 builds a station at site 17 with -0.0 units.\n",
      "Company 2 builds a station at site 19 with -0.0 units.\n",
      "Company 2 builds a station at site 23 with -0.0 units.\n"
     ]
    }
   ],
   "source": [
    "# Print the solution\n",
    "if m.status == GRB.OPTIMAL:\n",
    "    print(f'Optimal cost: {m.objVal}')\n",
    "    for i in companies:\n",
    "        for n in sites:\n",
    "            if z[i, n].x > 0:\n",
    "                print(f'Company {i} builds a station at site {n} with {x[i, n].x} units.')\n",
    "else:\n",
    "    print('No optimal solution found.')"
   ]
  },
  {
   "cell_type": "code",
   "execution_count": null,
   "metadata": {},
   "outputs": [],
   "source": []
  }
 ],
 "metadata": {
  "kernelspec": {
   "display_name": "Python 3",
   "language": "python",
   "name": "python3"
  },
  "language_info": {
   "codemirror_mode": {
    "name": "ipython",
    "version": 3
   },
   "file_extension": ".py",
   "mimetype": "text/x-python",
   "name": "python",
   "nbconvert_exporter": "python",
   "pygments_lexer": "ipython3",
   "version": "3.10.11"
  }
 },
 "nbformat": 4,
 "nbformat_minor": 2
}
