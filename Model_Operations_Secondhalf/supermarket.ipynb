{
 "cells": [
  {
   "cell_type": "code",
   "execution_count": 1,
   "metadata": {},
   "outputs": [],
   "source": [
    "from gurobipy import Model, GRB"
   ]
  },
  {
   "cell_type": "code",
   "execution_count": 2,
   "metadata": {},
   "outputs": [
    {
     "name": "stdout",
     "output_type": "stream",
     "text": [
      "Set parameter Username\n",
      "Academic license - for non-commercial use only - expires 2025-01-15\n"
     ]
    }
   ],
   "source": [
    "# Create a new model\n",
    "m = Model(\"farm_boy_expansion\")"
   ]
  },
  {
   "cell_type": "code",
   "execution_count": 3,
   "metadata": {},
   "outputs": [],
   "source": [
    "# Decision Variables\n",
    "# x_n: binary variable, 1 if a supermarket is built at site n, 0 otherwise\n",
    "# s_n: size of the supermarket at site n in square meters (continuous variable)\n",
    "x = {n: m.addVar(vtype=GRB.BINARY, name=f\"x_{n}\") for n in range(1, 16)}\n",
    "s = {n: m.addVar(vtype=GRB.CONTINUOUS, name=f\"s_{n}\", lb=0) for n in range(1, 16)}"
   ]
  },
  {
   "cell_type": "code",
   "execution_count": 4,
   "metadata": {},
   "outputs": [],
   "source": [
    "# Objective Function: Minimize Total Costs\n",
    "m.setObjective(sum(2000000 * x[n] + 2.00 * s[n] for n in range(1, 16)), GRB.MINIMIZE)"
   ]
  },
  {
   "cell_type": "code",
   "execution_count": 5,
   "metadata": {},
   "outputs": [
    {
     "data": {
      "text/plain": [
       "<gurobi.Constr *Awaiting Model Update*>"
      ]
     },
     "execution_count": 5,
     "metadata": {},
     "output_type": "execute_result"
    }
   ],
   "source": [
    "# Constraints\n",
    "# a) At least 8 supermarkets\n",
    "m.addConstr(sum(x[n] for n in range(1, 16)) >= 8, \"min_supermarkets\")\n",
    "\n",
    "# b) At least 296,000 square meters in total\n",
    "m.addConstr(sum(s[n] for n in range(1, 16)) >= 296000, \"min_total_size\")\n",
    "\n",
    "# c) Maximum size of any supermarket\n",
    "for n in range(1, 16):\n",
    "    m.addConstr(s[n] <= 23000 * x[n], f\"max_size_{n}\")\n",
    "\n",
    "# Modified constraints based on user input\n",
    "# 1. Dependency constraint for site 1\n",
    "m.addConstr(3 * x[1] <= x[7] + x[12] + x[15], \"dependency_site_1\")\n",
    "\n",
    "# 2. Mutual exclusivity of sites 3 and 13\n",
    "m.addConstr(x[3] + x[13] <= 1, \"mutual_exclusivity_3_13\")\n",
    "\n",
    "# 3. Size ratio constraints\n",
    "# Sum of sizes at sites 6-10 must be at least 1.2 times the sum at sites 1-5\n",
    "m.addConstr(sum(s[n] for n in range(6, 11)) >= 1.2 * sum(s[n] for n in range(1, 6)), \"size_ratio_6_10_to_1_5\")\n",
    "# Sum of sizes at sites 6-10 must be less than 3.4 times the sum at sites 11-15\n",
    "m.addConstr(sum(s[n] for n in range(6, 11)) <= 3.4 * sum(s[n] for n in range(11, 16)), \"size_ratio_6_10_to_11_15\")\n",
    "\n",
    "# Other constraints based on initial problem setup\n",
    "# Number of supermarkets at certain sites must equal 4\n",
    "m.addConstr(x[3] + x[5] + x[7] + x[9] + x[11] + x[13] == 4, \"exact_four_supermarkets\")\n",
    "\n",
    "# Number of supermarkets at certain sites must be at least 2\n",
    "m.addConstr(x[4] + x[6] + x[8] + x[10] + x[14] >= 2, \"at_least_two_supermarkets\")\n",
    "\n",
    "# Linking supermarkets at locations 4 and 10\n",
    "m.addConstr(x[4] <= x[10], \"link_4_to_10\")"
   ]
  },
  {
   "cell_type": "code",
   "execution_count": 6,
   "metadata": {},
   "outputs": [
    {
     "name": "stdout",
     "output_type": "stream",
     "text": [
      "Gurobi Optimizer version 11.0.0 build v11.0.0rc2 (mac64[arm] - Darwin 23.0.0 23A344)\n",
      "\n",
      "CPU model: Apple M1\n",
      "Thread count: 8 physical cores, 8 logical processors, using up to 8 threads\n",
      "\n",
      "Optimize a model with 24 rows, 30 columns and 99 nonzeros\n",
      "Model fingerprint: 0x9b6be9c4\n",
      "Variable types: 15 continuous, 15 integer (15 binary)\n",
      "Coefficient statistics:\n",
      "  Matrix range     [1e+00, 2e+04]\n",
      "  Objective range  [2e+00, 2e+06]\n",
      "  Bounds range     [1e+00, 1e+00]\n",
      "  RHS range        [1e+00, 3e+05]\n",
      "Found heuristic solution: objective 2.659200e+07\n",
      "Presolve removed 8 rows and 6 columns\n",
      "Presolve time: 0.00s\n",
      "Presolved: 16 rows, 24 columns, 55 nonzeros\n",
      "Variable types: 13 continuous, 11 integer (11 binary)\n",
      "\n",
      "Root relaxation: objective 2.633113e+07, 29 iterations, 0.01 seconds (0.00 work units)\n",
      "\n",
      "    Nodes    |    Current Node    |     Objective Bounds      |     Work\n",
      " Expl Unexpl |  Obj  Depth IntInf | Incumbent    BestBd   Gap | It/Node Time\n",
      "\n",
      "     0     0 2.6331e+07    0    1 2.6592e+07 2.6331e+07  0.98%     -    0s\n",
      "     0     0 2.6331e+07    0    1 2.6592e+07 2.6331e+07  0.98%     -    0s\n",
      "     0     0 2.6331e+07    0    1 2.6592e+07 2.6331e+07  0.98%     -    0s\n",
      "     0     0 2.6331e+07    0    1 2.6592e+07 2.6331e+07  0.98%     -    0s\n",
      "     0     0 2.6331e+07    0    1 2.6592e+07 2.6331e+07  0.98%     -    0s\n",
      "     0     0 2.6331e+07    0    1 2.6592e+07 2.6331e+07  0.98%     -    0s\n",
      "\n",
      "Explored 1 nodes (34 simplex iterations) in 0.08 seconds (0.00 work units)\n",
      "Thread count was 8 (of 8 available processors)\n",
      "\n",
      "Solution count 1: 2.6592e+07 \n",
      "\n",
      "Optimal solution found (tolerance 1.00e-04)\n",
      "Best objective 2.659200000000e+07, best bound 2.659200000000e+07, gap 0.0000%\n"
     ]
    }
   ],
   "source": [
    "# Optimize model\n",
    "m.optimize()"
   ]
  },
  {
   "cell_type": "code",
   "execution_count": 7,
   "metadata": {},
   "outputs": [
    {
     "name": "stdout",
     "output_type": "stream",
     "text": [
      "Optimal solution found:\n",
      "Location 1: Built = 1.0, Size = 20000 sqm\n",
      "Location 2: Built = 1.0, Size = 23000 sqm\n",
      "Location 3: Built = 1.0, Size = 23000 sqm\n",
      "Location 4: Built = 1.0, Size = 23000 sqm\n",
      "Location 5: Built = 0.0, Size = 0 sqm\n",
      "Location 6: Built = 1.0, Size = 23000 sqm\n",
      "Location 7: Built = 1.0, Size = 23000 sqm\n",
      "Location 8: Built = 1.0, Size = 23000 sqm\n",
      "Location 9: Built = 1.0, Size = 23000 sqm\n",
      "Location 10: Built = 1.0, Size = 23000 sqm\n",
      "Location 11: Built = 1.0, Size = 23000 sqm\n",
      "Location 12: Built = 1.0, Size = 23000 sqm\n",
      "Location 13: Built = 0.0, Size = 0 sqm\n",
      "Location 14: Built = 1.0, Size = 23000 sqm\n",
      "Location 15: Built = 1.0, Size = 23000 sqm\n"
     ]
    }
   ],
   "source": [
    "# Print solution\n",
    "if m.status == GRB.OPTIMAL:\n",
    "    print(\"Optimal solution found:\")\n",
    "    for n in range(1, 16):\n",
    "        print(f\"Location {n}: Built = {x[n].X}, Size = {s[n].X if x[n].X > 0 else 0:.0f} sqm\")\n",
    "else:\n",
    "    print(\"No optimal solution found.\")"
   ]
  },
  {
   "cell_type": "code",
   "execution_count": null,
   "metadata": {},
   "outputs": [],
   "source": []
  }
 ],
 "metadata": {
  "kernelspec": {
   "display_name": "Python 3",
   "language": "python",
   "name": "python3"
  },
  "language_info": {
   "codemirror_mode": {
    "name": "ipython",
    "version": 3
   },
   "file_extension": ".py",
   "mimetype": "text/x-python",
   "name": "python",
   "nbconvert_exporter": "python",
   "pygments_lexer": "ipython3",
   "version": "3.10.11"
  }
 },
 "nbformat": 4,
 "nbformat_minor": 2
}
