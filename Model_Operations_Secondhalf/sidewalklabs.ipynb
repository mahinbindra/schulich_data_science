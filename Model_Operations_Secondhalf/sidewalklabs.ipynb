{
 "cells": [
  {
   "cell_type": "code",
   "execution_count": 18,
   "metadata": {},
   "outputs": [],
   "source": [
    "from gurobipy import Model, GRB, quicksum"
   ]
  },
  {
   "cell_type": "code",
   "execution_count": 19,
   "metadata": {},
   "outputs": [],
   "source": [
    "# Initialize the model\n",
    "model = Model(\"Quayside_Apartment_Construction\")"
   ]
  },
  {
   "cell_type": "code",
   "execution_count": 20,
   "metadata": {},
   "outputs": [],
   "source": [
    "# Number of sites\n",
    "N = 11"
   ]
  },
  {
   "cell_type": "code",
   "execution_count": 21,
   "metadata": {},
   "outputs": [],
   "source": [
    "# Decision variables\n",
    "x = model.addVars(N+1, vtype=GRB.BINARY, name=\"x\")  # Style A decision\n",
    "y = model.addVars(N+1, vtype=GRB.BINARY, name=\"y\")  # Style B decision\n",
    "z = model.addVars(N+1, vtype=GRB.INTEGER, name=\"z\") # Number of units"
   ]
  },
  {
   "cell_type": "code",
   "execution_count": 22,
   "metadata": {},
   "outputs": [],
   "source": [
    "# Objective function: Minimize the total cost\n",
    "model.setObjective(quicksum(10000000 * n * x[n] + 10000000 * (11 - n) * y[n] + 50000 * z[n] for n in range(1, N+1)), GRB.MINIMIZE)"
   ]
  },
  {
   "cell_type": "code",
   "execution_count": 23,
   "metadata": {},
   "outputs": [],
   "source": [
    "# Constraints\n",
    "\n",
    "# Number of buildings between 4 and 9\n",
    "model.addConstr(quicksum(x[n] + y[n] for n in range(1, N+1)) >= 4, \"Min_Buildings\")\n",
    "model.addConstr(quicksum(x[n] + y[n] for n in range(1, N+1)) <= 9, \"Max_Buildings\")\n",
    "\n",
    "# Units constraints for style A and B\n",
    "for n in range(1, N+1):\n",
    "    model.addConstr(z[n] >= 175 * x[n] + 210 * y[n], \"Min_Units{}\".format(n))\n",
    "    model.addConstr(z[n] <= 245 * x[n] + 305 * y[n], \"Max_Units{}\".format(n))\n",
    "\n",
    "# Total units must exceed 2400\n",
    "model.addConstr(quicksum(z[n] for n in range(1, N+1)) >= 2400, \"Total_Units\")\n",
    "\n",
    "# Site dependencies\n",
    "model.addConstr(x[4] + y[4] <= x[7] + y[7], \"Site_4_and_7_Dependency\")\n",
    "\n",
    "# Cross-style dependency\n",
    "model.addConstr(x[5] <= y[6], \"Style_Dependency_5_6\")\n",
    "\n",
    "# Ensure exclusivity of building styles at any site\n",
    "for n in range(1, N+1):\n",
    "    model.addConstr(x[n] + y[n] <= 1, \"Style_Exclusivity_{}\".format(n))"
   ]
  },
  {
   "cell_type": "code",
   "execution_count": 24,
   "metadata": {},
   "outputs": [
    {
     "name": "stdout",
     "output_type": "stream",
     "text": [
      "Gurobi Optimizer version 11.0.0 build v11.0.0rc2 (mac64[arm] - Darwin 23.0.0 23A344)\n",
      "\n",
      "CPU model: Apple M1\n",
      "Thread count: 8 physical cores, 8 logical processors, using up to 8 threads\n",
      "\n",
      "Optimize a model with 38 rows, 36 columns and 149 nonzeros\n",
      "Model fingerprint: 0x140dde17\n",
      "Variable types: 0 continuous, 36 integer (24 binary)\n",
      "Coefficient statistics:\n",
      "  Matrix range     [1e+00, 3e+02]\n",
      "  Objective range  [5e+04, 1e+08]\n",
      "  Bounds range     [1e+00, 1e+00]\n",
      "  RHS range        [1e+00, 2e+03]\n",
      "Found heuristic solution: objective 4.600000e+08\n",
      "Presolve removed 0 rows and 3 columns\n",
      "Presolve time: 0.00s\n",
      "Presolved: 38 rows, 33 columns, 149 nonzeros\n",
      "Variable types: 0 continuous, 33 integer (22 binary)\n",
      "Found heuristic solution: objective 4.000000e+08\n",
      "\n",
      "Root relaxation: objective 3.028571e+08, 16 iterations, 0.00 seconds (0.00 work units)\n",
      "\n",
      "    Nodes    |    Current Node    |     Objective Bounds      |     Work\n",
      " Expl Unexpl |  Obj  Depth IntInf | Incumbent    BestBd   Gap | It/Node Time\n",
      "\n",
      "     0     0 3.0286e+08    0    1 4.0000e+08 3.0286e+08  24.3%     -    0s\n",
      "H    0     0                    3.200000e+08 3.0286e+08  5.36%     -    0s\n",
      "     0     0 3.0714e+08    0    1 3.2000e+08 3.0714e+08  4.02%     -    0s\n",
      "     0     0 3.2000e+08    0    5 3.2000e+08 3.2000e+08  0.00%     -    0s\n",
      "\n",
      "Cutting planes:\n",
      "  Cover: 2\n",
      "  Zero half: 1\n",
      "\n",
      "Explored 1 nodes (19 simplex iterations) in 0.02 seconds (0.00 work units)\n",
      "Thread count was 8 (of 8 available processors)\n",
      "\n",
      "Solution count 3: 3.2e+08 4e+08 4.6e+08 \n",
      "\n",
      "Optimal solution found (tolerance 1.00e-04)\n",
      "Best objective 3.200000000000e+08, best bound 3.200000000000e+08, gap 0.0000%\n"
     ]
    }
   ],
   "source": [
    "# Solve the model\n",
    "model.optimize()"
   ]
  },
  {
   "cell_type": "code",
   "execution_count": 25,
   "metadata": {},
   "outputs": [
    {
     "name": "stdout",
     "output_type": "stream",
     "text": [
      "Optimal solution found:\n",
      "Build a style A building at site 1 with 210.0 units.\n",
      "Build a style A building at site 2 with 245.0 units.\n",
      "Build a style A building at site 3 with 245.0 units.\n",
      "Build a style A building at site 4 with 175.0 units.\n",
      "Build a style B building at site 7 with 305.0 units.\n",
      "Build a style B building at site 8 with 305.0 units.\n",
      "Build a style B building at site 9 with 305.0 units.\n",
      "Build a style B building at site 10 with 305.0 units.\n",
      "Build a style B building at site 11 with 305.0 units.\n"
     ]
    }
   ],
   "source": [
    "# Print solution\n",
    "if model.status == GRB.OPTIMAL:\n",
    "    print(\"Optimal solution found:\")\n",
    "    for n in range(1, N+1):\n",
    "        if x[n].X > 0.5:  # Check if style A is chosen\n",
    "            print(f\"Build a style A building at site {n} with {z[n].X} units.\")\n",
    "        elif y[n].X > 0.5:  # Check if style B is chosen\n",
    "            print(f\"Build a style B building at site {n} with {z[n].X} units.\")\n",
    "else:\n",
    "    print(\"No optimal solution found.\")"
   ]
  },
  {
   "cell_type": "code",
   "execution_count": null,
   "metadata": {},
   "outputs": [],
   "source": []
  }
 ],
 "metadata": {
  "kernelspec": {
   "display_name": "Python 3",
   "language": "python",
   "name": "python3"
  },
  "language_info": {
   "codemirror_mode": {
    "name": "ipython",
    "version": 3
   },
   "file_extension": ".py",
   "mimetype": "text/x-python",
   "name": "python",
   "nbconvert_exporter": "python",
   "pygments_lexer": "ipython3",
   "version": "3.10.11"
  }
 },
 "nbformat": 4,
 "nbformat_minor": 2
}
