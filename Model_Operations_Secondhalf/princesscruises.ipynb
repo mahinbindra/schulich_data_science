{
 "cells": [
  {
   "cell_type": "code",
   "execution_count": 1,
   "metadata": {},
   "outputs": [],
   "source": [
    "from gurobipy import Model, GRB"
   ]
  },
  {
   "cell_type": "code",
   "execution_count": 2,
   "metadata": {},
   "outputs": [
    {
     "name": "stdout",
     "output_type": "stream",
     "text": [
      "Set parameter Username\n",
      "Academic license - for non-commercial use only - expires 2025-01-15\n"
     ]
    }
   ],
   "source": [
    "# Initialize the model\n",
    "m = Model(\"Cruise_Reservations\")"
   ]
  },
  {
   "cell_type": "code",
   "execution_count": 3,
   "metadata": {},
   "outputs": [],
   "source": [
    "# First stage decision variables\n",
    "x = m.addVars(3, vtype=GRB.INTEGER, name=\"x\")  # Regular reservations for package i\n",
    "y = m.addVars(3, vtype=GRB.INTEGER, name=\"y\")  # VIP reservations for package i"
   ]
  },
  {
   "cell_type": "code",
   "execution_count": 4,
   "metadata": {},
   "outputs": [],
   "source": [
    "# Anticipated demand for each scenario (i, n)\n",
    "demand_regular = {(1, 1): 79, (1, 2): 83, (1, 3): 87, (1, 4): 91, (1, 5): 95,\n",
    "                  (2, 1): 50, (2, 2): 53, (2, 3): 56, (2, 4): 59, (2, 5): 62,\n",
    "                  (3, 1): 54, (3, 2): 64, (3, 3): 64, (3, 4): 74, (3, 5): 84}\n",
    "demand_vip = {(1, 1): 40, (1, 2): 42, (1, 3): 44, (1, 4): 46, (1, 5): 50,\n",
    "              (2, 1): 30, (2, 2): 33, (2, 3): 36, (2, 4): 39, (2, 5): 42,\n",
    "              (3, 1): 29, (3, 2): 33, (3, 3): 37, (3, 4): 41, (3, 5): 45}"
   ]
  },
  {
   "cell_type": "code",
   "execution_count": 5,
   "metadata": {},
   "outputs": [],
   "source": [
    "# Prices for each package\n",
    "prices = {1: {'Regular': 4180, 'VIP': 5630},\n",
    "          2: {'Regular': 2230, 'VIP': 3460},\n",
    "          3: {'Regular': 2390, 'VIP': 3520}}"
   ]
  },
  {
   "cell_type": "code",
   "execution_count": 6,
   "metadata": {},
   "outputs": [],
   "source": [
    "# Second stage decision variables for each scenario n\n",
    "x_scenarios = m.addVars(3, 5, vtype=GRB.INTEGER, name=\"x_scenarios\")  # Regular, scenario n\n",
    "y_scenarios = m.addVars(3, 5, vtype=GRB.INTEGER, name=\"y_scenarios\")  # VIP, scenario n"
   ]
  },
  {
   "cell_type": "code",
   "execution_count": 8,
   "metadata": {},
   "outputs": [],
   "source": [
    "# Adjusted indices for the objective function\n",
    "objective_terms = [(prices[i]['Regular'] * x_scenarios[i-1, n-1] +\n",
    "                    prices[i]['VIP'] * y_scenarios[i-1, n-1]) for i in range(1, 4) for n in range(1, 6)]\n",
    "m.setObjective(1/5 * sum(objective_terms), GRB.MAXIMIZE)"
   ]
  },
  {
   "cell_type": "code",
   "execution_count": 10,
   "metadata": {},
   "outputs": [],
   "source": [
    "\n",
    "# Add constraints\n",
    "# Capacity constraints\n",
    "for i in range(3):  # Adjusted to 0-based index\n",
    "    m.addConstr(x[i] + y[i] <= 175, f\"Capacity_Package_{i+1}\")\n",
    "\n",
    "# Demand constraints\n",
    "for i in range(3):  # Adjusted to 0-based index\n",
    "    for n in range(5):  # Adjusted to 0-based index\n",
    "        m.addConstr(x_scenarios[i, n] <= demand_regular[i+1, n+1], f\"Demand_Regular_{i+1}_{n+1}\")\n",
    "        m.addConstr(y_scenarios[i, n] <= demand_vip[i+1, n+1], f\"Demand_VIP_{i+1}_{n+1}\")\n",
    "\n",
    "# VIP percentage constraints\n",
    "for i in range(3):  # Adjusted to 0-based index\n",
    "    for n in range(5):  # Adjusted to 0-based index\n",
    "        m.addConstr(y_scenarios[i, n] <= 0.4 * (x_scenarios[i, n] + y_scenarios[i, n]),\n",
    "                    f\"VIP_Percentage_{i+1}_{n+1}\")\n",
    "\n",
    "# Linking first stage decisions to second stage\n",
    "for i in range(3):  # Adjusted to 0-based index\n",
    "    for n in range(5):  # Adjusted to 0-based index\n",
    "        m.addConstr(x_scenarios[i, n] <= x[i], f\"Link_x_{i+1}_{n+1}\")\n",
    "        m.addConstr(y_scenarios[i, n] <= y[i], f\"Link_y_{i+1}_{n+1}\")\n",
    "\n",
    "# Non-negativity constraints\n",
    "for i in range(3):  # Adjusted to 0-based index\n",
    "    m.addConstr(x[i] >= 0, f\"NonNeg_x_{i+1}\")\n",
    "    m.addConstr(y[i] >= 0, f\"NonNeg_y_{i+1}\")\n",
    "    for n in range(5):  # Adjusted to 0-based index\n",
    "        m.addConstr(x_scenarios[i, n] >= 0, f\"NonNeg_x_{i+1}_{n+1}\")\n",
    "        m.addConstr(y_scenarios[i, n] >= 0, f\"NonNeg_y_{i+1}_{n+1}\")\n",
    "\n"
   ]
  },
  {
   "cell_type": "code",
   "execution_count": 11,
   "metadata": {},
   "outputs": [
    {
     "name": "stdout",
     "output_type": "stream",
     "text": [
      "Gurobi Optimizer version 11.0.0 build v11.0.0rc2 (mac64[arm] - Darwin 23.0.0 23A344)\n",
      "\n",
      "CPU model: Apple M1\n",
      "Thread count: 8 physical cores, 8 logical processors, using up to 8 threads\n",
      "\n",
      "Optimize a model with 116 rows, 36 columns and 166 nonzeros\n",
      "Model fingerprint: 0x0aef7023\n",
      "Variable types: 0 continuous, 36 integer (0 binary)\n",
      "Coefficient statistics:\n",
      "  Matrix range     [4e-01, 1e+00]\n",
      "  Objective range  [4e+02, 1e+03]\n",
      "  Bounds range     [0e+00, 0e+00]\n",
      "  RHS range        [3e+01, 2e+02]\n",
      "Found heuristic solution: objective -0.0000000\n",
      "Presolve removed 116 rows and 36 columns\n",
      "Presolve time: 0.01s\n",
      "Presolve: All rows and columns removed\n",
      "\n",
      "Explored 0 nodes (0 simplex iterations) in 0.02 seconds (0.00 work units)\n",
      "Thread count was 1 (of 8 available processors)\n",
      "\n",
      "Solution count 2: 1.15514e+06 -0 \n",
      "\n",
      "Optimal solution found (tolerance 1.00e-04)\n",
      "Best objective 1.155140000000e+06, best bound 1.155140000000e+06, gap 0.0000%\n"
     ]
    }
   ],
   "source": [
    "# Solve the model\n",
    "m.optimize()"
   ]
  },
  {
   "cell_type": "code",
   "execution_count": 12,
   "metadata": {},
   "outputs": [
    {
     "name": "stdout",
     "output_type": "stream",
     "text": [
      "Optimal solution found:\n",
      "x[0]: 125.0\n",
      "x[1]: 134.0\n",
      "x[2]: 130.0\n",
      "y[0]: 50.0\n",
      "y[1]: 41.0\n",
      "y[2]: 45.0\n",
      "x_scenarios[0,0]: 79.0\n",
      "x_scenarios[0,1]: 83.0\n",
      "x_scenarios[0,2]: 87.0\n",
      "x_scenarios[0,3]: 91.0\n",
      "x_scenarios[0,4]: 95.0\n",
      "x_scenarios[1,0]: 50.0\n",
      "x_scenarios[1,1]: 53.0\n",
      "x_scenarios[1,2]: 56.0\n",
      "x_scenarios[1,3]: 59.0\n",
      "x_scenarios[1,4]: 62.0\n",
      "x_scenarios[2,0]: 54.0\n",
      "x_scenarios[2,1]: 64.0\n",
      "x_scenarios[2,2]: 64.0\n",
      "x_scenarios[2,3]: 74.0\n",
      "x_scenarios[2,4]: 84.0\n",
      "y_scenarios[0,0]: 40.0\n",
      "y_scenarios[0,1]: 42.0\n",
      "y_scenarios[0,2]: 44.0\n",
      "y_scenarios[0,3]: 46.0\n",
      "y_scenarios[0,4]: 50.0\n",
      "y_scenarios[1,0]: 30.0\n",
      "y_scenarios[1,1]: 33.0\n",
      "y_scenarios[1,2]: 36.0\n",
      "y_scenarios[1,3]: 39.0\n",
      "y_scenarios[1,4]: 41.0\n",
      "y_scenarios[2,0]: 29.0\n",
      "y_scenarios[2,1]: 33.0\n",
      "y_scenarios[2,2]: 37.0\n",
      "y_scenarios[2,3]: 41.0\n",
      "y_scenarios[2,4]: 45.0\n",
      "Optimal Expected Revenue: 1155140.0\n"
     ]
    }
   ],
   "source": [
    "# Output the results\n",
    "if m.status == GRB.OPTIMAL:\n",
    "    print(\"Optimal solution found:\")\n",
    "    for v in m.getVars():\n",
    "        print(f\"{v.VarName}: {v.X}\")\n",
    "\n",
    "    print(f\"Optimal Expected Revenue: {m.ObjVal}\")\n",
    "else:\n",
    "    print(\"Optimal solution not found. Status code:\", m.status)"
   ]
  },
  {
   "cell_type": "code",
   "execution_count": 13,
   "metadata": {},
   "outputs": [
    {
     "name": "stdout",
     "output_type": "stream",
     "text": [
      "Number of VIP bookings for the Back-to-Back package: 41.0\n"
     ]
    }
   ],
   "source": [
    "# Output the results for VIP bookings for the Back-to-Back package\n",
    "if m.status == GRB.OPTIMAL:\n",
    "    vip_bookings_back_to_back = y[1].X\n",
    "    print(f\"Number of VIP bookings for the Back-to-Back package: {vip_bookings_back_to_back}\")\n",
    "else:\n",
    "    print(\"Optimal solution not found. Status code:\", m.status)"
   ]
  },
  {
   "cell_type": "code",
   "execution_count": null,
   "metadata": {},
   "outputs": [],
   "source": []
  }
 ],
 "metadata": {
  "kernelspec": {
   "display_name": "Python 3",
   "language": "python",
   "name": "python3"
  },
  "language_info": {
   "codemirror_mode": {
    "name": "ipython",
    "version": 3
   },
   "file_extension": ".py",
   "mimetype": "text/x-python",
   "name": "python",
   "nbconvert_exporter": "python",
   "pygments_lexer": "ipython3",
   "version": "3.10.11"
  }
 },
 "nbformat": 4,
 "nbformat_minor": 2
}
