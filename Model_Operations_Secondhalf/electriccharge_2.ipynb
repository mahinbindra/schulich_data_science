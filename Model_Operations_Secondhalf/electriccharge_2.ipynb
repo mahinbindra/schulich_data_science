{
 "cells": [
  {
   "cell_type": "code",
   "execution_count": 37,
   "metadata": {},
   "outputs": [],
   "source": [
    "from gurobipy import Model, GRB, quicksum"
   ]
  },
  {
   "cell_type": "code",
   "execution_count": 38,
   "metadata": {},
   "outputs": [],
   "source": [
    "# Create a new model\n",
    "m = Model(\"electric_charging_stations\")"
   ]
  },
  {
   "cell_type": "code",
   "execution_count": 39,
   "metadata": {},
   "outputs": [],
   "source": [
    "# Set of companies and sites\n",
    "companies = [1, 2]\n",
    "sites = list(range(1, 31))"
   ]
  },
  {
   "cell_type": "code",
   "execution_count": 40,
   "metadata": {},
   "outputs": [],
   "source": [
    "# Fixed cost for building a station\n",
    "fixed_cost = 2500000\n",
    "\n",
    "# Variable cost per charging unit\n",
    "variable_cost = 150000"
   ]
  },
  {
   "cell_type": "code",
   "execution_count": 41,
   "metadata": {},
   "outputs": [],
   "source": [
    "# Decision variables\n",
    "x = m.addVars(companies, sites, vtype=GRB.BINARY, name=\"x\")\n",
    "y = m.addVars(companies, sites, vtype=GRB.INTEGER, name=\"y\")"
   ]
  },
  {
   "cell_type": "code",
   "execution_count": 42,
   "metadata": {},
   "outputs": [],
   "source": [
    "# # Objective: Minimize total cost\n",
    "# m.setObjective(\n",
    "#     quicksum(2500000 * x[i, n] + 150000 * y[i, n] for i in companies for n in sites), \n",
    "#     GRB.MINIMIZE\n",
    "# )"
   ]
  },
  {
   "cell_type": "code",
   "execution_count": 43,
   "metadata": {},
   "outputs": [],
   "source": [
    "# Objective: Minimize total cost\n",
    "m.setObjective(\n",
    "    quicksum(fixed_cost * (x[1, n] + x[2, n]) + variable_cost * (y[1, n] + y[2, n])\n",
    "             for n in sites), \n",
    "    GRB.MINIMIZE\n",
    ")"
   ]
  },
  {
   "cell_type": "code",
   "execution_count": 44,
   "metadata": {},
   "outputs": [
    {
     "data": {
      "text/plain": [
       "<gurobi.Constr *Awaiting Model Update*>"
      ]
     },
     "execution_count": 44,
     "metadata": {},
     "output_type": "execute_result"
    }
   ],
   "source": [
    "# Constraints\n",
    "\n",
    "# a) At least 14 stations must be built\n",
    "m.addConstr(quicksum(x[i, n] for i in companies for n in sites) >= 14)\n",
    "\n",
    "# b) No more than 18 units at any station\n",
    "for i in companies:\n",
    "    for n in sites:\n",
    "        m.addConstr(y[i, n] <= 18 * x[i, n])\n",
    "\n",
    "# e) Company 2 must build exactly 4 stations among specific sites\n",
    "m.addConstr(quicksum(x[2, n] for n in [3, 11, 17, 19, 23]) == 4)\n",
    "\n",
    "# f) At least one station at sites 12, 15, and 18\n",
    "m.addConstr(quicksum(x[i, n] for i in companies for n in [12, 15, 18]) >= 1)\n",
    "\n",
    "# Rest of the constraints based on the problem statement\n",
    "\n",
    "# Constraint to ensure only one company builds at a site\n",
    "for n in sites:\n",
    "    m.addConstr(quicksum(x[i, n] for i in companies) <= 1)\n",
    "\n",
    "# If a station is built at site 2, then a station must also be built at site 30\n",
    "for i in companies:\n",
    "    m.addConstr(x[i, 2] <= x[i, 30])\n",
    "\n",
    "# Company 1 cannot build at both sites 8 and 21\n",
    "m.addConstr(x[1, 8] + x[1, 21] <= 1)\n",
    "\n",
    "# If company 1 builds a station at site 1, they must also build at sites 26, 27, 28\n",
    "m.addConstr(x[1, 1] <= x[1, 26])\n",
    "m.addConstr(x[1, 1] <= x[1, 27])\n",
    "m.addConstr(x[1, 1] <= x[1, 28])\n",
    "\n",
    "# The number of units at station 14 must equal the number at station 22\n",
    "m.addConstr(quicksum(y[i, 14] for i in companies) == quicksum(y[i, 22] for i in companies))\n"
   ]
  },
  {
   "cell_type": "code",
   "execution_count": 45,
   "metadata": {},
   "outputs": [
    {
     "name": "stdout",
     "output_type": "stream",
     "text": [
      "Gurobi Optimizer version 11.0.0 build v11.0.0rc2 (mac64[arm] - Darwin 23.0.0 23A344)\n",
      "\n",
      "CPU model: Apple M1\n",
      "Thread count: 8 physical cores, 8 logical processors, using up to 8 threads\n",
      "\n",
      "Optimize a model with 100 rows, 120 columns and 267 nonzeros\n",
      "Model fingerprint: 0xee00405d\n",
      "Variable types: 0 continuous, 120 integer (60 binary)\n",
      "Coefficient statistics:\n",
      "  Matrix range     [1e+00, 2e+01]\n",
      "  Objective range  [2e+05, 2e+06]\n",
      "  Bounds range     [1e+00, 1e+00]\n",
      "  RHS range        [1e+00, 1e+01]\n",
      "Found heuristic solution: objective 3.500000e+07\n",
      "Presolve removed 100 rows and 120 columns\n",
      "Presolve time: 0.00s\n",
      "Presolve: All rows and columns removed\n",
      "\n",
      "Explored 0 nodes (0 simplex iterations) in 0.00 seconds (0.00 work units)\n",
      "Thread count was 1 (of 8 available processors)\n",
      "\n",
      "Solution count 1: 3.5e+07 \n",
      "\n",
      "Optimal solution found (tolerance 1.00e-04)\n",
      "Best objective 3.500000000000e+07, best bound 3.500000000000e+07, gap 0.0000%\n"
     ]
    }
   ],
   "source": [
    "# Solve model\n",
    "m.optimize()"
   ]
  },
  {
   "cell_type": "code",
   "execution_count": 46,
   "metadata": {},
   "outputs": [
    {
     "name": "stdout",
     "output_type": "stream",
     "text": [
      "Optimal cost: 3.5e+07\n",
      "Company 1 builds a station at site 10 with 0 units.\n",
      "Company 1 builds a station at site 15 with 0 units.\n",
      "Company 1 builds a station at site 16 with 0 units.\n",
      "Company 1 builds a station at site 27 with 0 units.\n",
      "Company 1 builds a station at site 29 with 0 units.\n",
      "Company 2 builds a station at site 4 with 0 units.\n",
      "Company 2 builds a station at site 5 with 0 units.\n",
      "Company 2 builds a station at site 6 with 0 units.\n",
      "Company 2 builds a station at site 8 with 0 units.\n",
      "Company 2 builds a station at site 11 with 0 units.\n",
      "Company 2 builds a station at site 13 with 0 units.\n",
      "Company 2 builds a station at site 17 with 0 units.\n",
      "Company 2 builds a station at site 19 with 0 units.\n",
      "Company 2 builds a station at site 23 with 0 units.\n"
     ]
    }
   ],
   "source": [
    "# Print solution\n",
    "if m.status == GRB.OPTIMAL:\n",
    "    print('Optimal cost: %g' % m.objVal)\n",
    "    for i in companies:\n",
    "        for n in sites:\n",
    "            if x[i, n].x > 0.5:  # If station is built\n",
    "                print('Company %d builds a station at site %d with %d units.' % (i, n, y[i, n].x))\n",
    "else:\n",
    "    print('No optimal solution found.')"
   ]
  }
 ],
 "metadata": {
  "kernelspec": {
   "display_name": "Python 3",
   "language": "python",
   "name": "python3"
  },
  "language_info": {
   "codemirror_mode": {
    "name": "ipython",
    "version": 3
   },
   "file_extension": ".py",
   "mimetype": "text/x-python",
   "name": "python",
   "nbconvert_exporter": "python",
   "pygments_lexer": "ipython3",
   "version": "3.10.11"
  }
 },
 "nbformat": 4,
 "nbformat_minor": 2
}
