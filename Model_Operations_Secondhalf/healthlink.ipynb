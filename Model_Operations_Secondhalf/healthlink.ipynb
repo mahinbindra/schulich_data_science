{
 "cells": [
  {
   "cell_type": "code",
   "execution_count": 36,
   "metadata": {},
   "outputs": [],
   "source": [
    "from gurobipy import Model, GRB\n",
    "import pandas as pd"
   ]
  },
  {
   "cell_type": "code",
   "execution_count": 37,
   "metadata": {},
   "outputs": [],
   "source": [
    "# Load your data\n",
    "costs_df = pd.read_csv('/Users/mahinbindra/Downloads/costs.csv')  # Ensure you set the correct path to the file"
   ]
  },
  {
   "cell_type": "code",
   "execution_count": 38,
   "metadata": {},
   "outputs": [],
   "source": [
    "# Initialize the Gurobi model\n",
    "model = Model(\"HealthLink_Supplies_Distribution\")"
   ]
  },
  {
   "cell_type": "code",
   "execution_count": 39,
   "metadata": {},
   "outputs": [],
   "source": [
    "# Define the number of sites\n",
    "num_sites = len(costs_df)"
   ]
  },
  {
   "cell_type": "code",
   "execution_count": 40,
   "metadata": {},
   "outputs": [],
   "source": [
    "# Decision Variables\n",
    "# x_i: Binary variable for establishing a warehouse at site i\n",
    "# y_i: Continuous variable for the units stored at site i, if a warehouse is established\n",
    "x = model.addVars(num_sites, vtype=GRB.BINARY, name=\"x\")\n",
    "y = model.addVars(num_sites, vtype=GRB.CONTINUOUS, name=\"y\")\n"
   ]
  },
  {
   "cell_type": "code",
   "execution_count": 41,
   "metadata": {},
   "outputs": [],
   "source": [
    "# Objective Function: Minimize total cost (fixed costs and transportation costs)\n",
    "model.setObjective(sum(costs_df['Fixed'][i] * x[i] + costs_df['Variable'][i] * y[i] for i in range(num_sites)), GRB.MINIMIZE)"
   ]
  },
  {
   "cell_type": "code",
   "execution_count": 42,
   "metadata": {},
   "outputs": [
    {
     "data": {
      "text/plain": [
       "<gurobi.Constr *Awaiting Model Update*>"
      ]
     },
     "execution_count": 42,
     "metadata": {},
     "output_type": "execute_result"
    }
   ],
   "source": [
    "# Constraints\n",
    "# Capacity constraints as a separate constraint\n",
    "for i in range(num_sites):\n",
    "    model.addConstr(y[i] <= 375000 * x[i], f\"Upper_Capacity_{i+1}\")\n",
    "    model.addConstr(y[i] >= 175000 * x[i], f\"Lower_Capacity_{i+1}\")\n",
    "\n",
    "# Mutual exclusion constraints based on the image\n",
    "for j in [5, 6, 7]:\n",
    "    model.addConstr(y[0] <= 1 - x[j], f\"Mutual_Exclusion_1_{j+1}\")\n",
    "    model.addConstr(y[1] <= 1 - x[j], f\"Mutual_Exclusion_2_{j+1}\")\n",
    "\n",
    "for i_prime in [24, 26, 27]:\n",
    "    model.addConstr(sum(x[i] for i in range(18, 22)) <= 4 * (1 - x[i_prime-1]), f\"Mutual_Exclusion_19_22_{i_prime}\")\n",
    "\n",
    "# Constraint 6: If any location from 1-5 is chosen, at least one odd site from 21-27 must be chosen\n",
    "odd_sites = [i for i in range(20, 27) if i % 2 == 1]\n",
    "model.addConstr(sum(x[i] for i in range(5)) <= sum(x[i] for i in odd_sites), \"odd_sites_selection\")\n",
    "\n",
    "# Constraint 7: Equal number of locations in 1-14 and 15-27\n",
    "model.addConstr(sum(x[i] for i in range(14)) == sum(x[i] for i in range(14, 27)), \"equal_distribution_sites\")\n",
    "\n",
    "# Constraint 8: Equal sum of units in 1-9 and 19-27\n",
    "model.addConstr(sum(y[i] for i in range(9)) == sum(y[i] for i in range(18, 27)), \"equal_units_distribution\")\n",
    "\n",
    "# 5. Total units constraint\n",
    "model.addConstr(sum(y[i] for i in range(num_sites)) == 2900000, \"Total_Units\")"
   ]
  },
  {
   "cell_type": "code",
   "execution_count": 43,
   "metadata": {},
   "outputs": [
    {
     "name": "stdout",
     "output_type": "stream",
     "text": [
      "Gurobi Optimizer version 11.0.0 build v11.0.0rc2 (mac64[arm] - Darwin 23.0.0 23A344)\n",
      "\n",
      "CPU model: Apple M1\n",
      "Thread count: 8 physical cores, 8 logical processors, using up to 8 threads\n",
      "\n",
      "Optimize a model with 67 rows, 54 columns and 215 nonzeros\n",
      "Model fingerprint: 0x21480d4b\n",
      "Variable types: 27 continuous, 27 integer (27 binary)\n",
      "Coefficient statistics:\n",
      "  Matrix range     [1e+00, 4e+05]\n",
      "  Objective range  [2e-01, 3e+06]\n",
      "  Bounds range     [1e+00, 1e+00]\n",
      "  RHS range        [1e+00, 3e+06]\n",
      "Found heuristic solution: objective 1.888275e+07\n",
      "Presolve removed 10 rows and 4 columns\n",
      "Presolve time: 0.00s\n",
      "Presolved: 57 rows, 50 columns, 187 nonzeros\n",
      "Variable types: 25 continuous, 25 integer (25 binary)\n",
      "\n",
      "Root relaxation: objective 1.199367e+07, 33 iterations, 0.00 seconds (0.00 work units)\n",
      "\n",
      "    Nodes    |    Current Node    |     Objective Bounds      |     Work\n",
      " Expl Unexpl |  Obj  Depth IntInf | Incumbent    BestBd   Gap | It/Node Time\n",
      "\n",
      "     0     0 1.1994e+07    0    2 1.8883e+07 1.1994e+07  36.5%     -    0s\n",
      "H    0     0                    1.240700e+07 1.1994e+07  3.33%     -    0s\n",
      "     0     0 1.2392e+07    0    2 1.2407e+07 1.2392e+07  0.12%     -    0s\n",
      "\n",
      "Cutting planes:\n",
      "  Gomory: 1\n",
      "  Flow cover: 1\n",
      "  Relax-and-lift: 1\n",
      "\n",
      "Explored 1 nodes (37 simplex iterations) in 0.01 seconds (0.00 work units)\n",
      "Thread count was 8 (of 8 available processors)\n",
      "\n",
      "Solution count 2: 1.2407e+07 1.88828e+07 \n",
      "\n",
      "Optimal solution found (tolerance 1.00e-04)\n",
      "Best objective 1.240700000000e+07, best bound 1.240700000000e+07, gap 0.0000%\n"
     ]
    }
   ],
   "source": [
    "# Optimize the model\n",
    "model.optimize()\n"
   ]
  },
  {
   "cell_type": "code",
   "execution_count": 44,
   "metadata": {},
   "outputs": [
    {
     "name": "stdout",
     "output_type": "stream",
     "text": [
      "\n",
      "Optimal Solution Found:\n",
      "x[0], 0.0\n",
      "x[1], 0.0\n",
      "x[2], -0.0\n",
      "x[3], -0.0\n",
      "x[4], 1.0\n",
      "x[5], -0.0\n",
      "x[6], 1.0\n",
      "x[7], -0.0\n",
      "x[8], 1.0\n",
      "x[9], -0.0\n",
      "x[10], 1.0\n",
      "x[11], -0.0\n",
      "x[12], -0.0\n",
      "x[13], -0.0\n",
      "x[14], -0.0\n",
      "x[15], 1.0\n",
      "x[16], -0.0\n",
      "x[17], -0.0\n",
      "x[18], 1.0\n",
      "x[19], -0.0\n",
      "x[20], -0.0\n",
      "x[21], 1.0\n",
      "x[22], -0.0\n",
      "x[23], -0.0\n",
      "x[24], 1.0\n",
      "x[25], -0.0\n",
      "x[26], -0.0\n",
      "y[0], 0.0\n",
      "y[1], 0.0\n",
      "y[2], 0.0\n",
      "y[3], 0.0\n",
      "y[4], 375000.0\n",
      "y[5], 0.0\n",
      "y[6], 325000.0\n",
      "y[7], 0.0\n",
      "y[8], 375000.0\n",
      "y[9], 0.0\n",
      "y[10], 375000.0\n",
      "y[11], 0.0\n",
      "y[12], 0.0\n",
      "y[13], 0.0\n",
      "y[14], 0.0\n",
      "y[15], 375000.0\n",
      "y[16], 0.0\n",
      "y[17], 0.0\n",
      "y[18], 325000.0\n",
      "y[19], 0.0\n",
      "y[20], 0.0\n",
      "y[21], 375000.0\n",
      "y[22], 0.0\n",
      "y[23], 0.0\n",
      "y[24], 375000.0\n",
      "y[25], 0.0\n",
      "y[26], 0.0\n"
     ]
    }
   ],
   "source": [
    "# Display the output\n",
    "if model.status == GRB.OPTIMAL:\n",
    "    print(\"\\nOptimal Solution Found:\")\n",
    "    for v in model.getVars():\n",
    "        print(f\"{v.VarName}, {v.X}\")\n",
    "else:\n",
    "    print(\"\\nNo optimal solution found.\")"
   ]
  },
  {
   "cell_type": "code",
   "execution_count": null,
   "metadata": {},
   "outputs": [],
   "source": []
  }
 ],
 "metadata": {
  "kernelspec": {
   "display_name": "Python 3",
   "language": "python",
   "name": "python3"
  },
  "language_info": {
   "codemirror_mode": {
    "name": "ipython",
    "version": 3
   },
   "file_extension": ".py",
   "mimetype": "text/x-python",
   "name": "python",
   "nbconvert_exporter": "python",
   "pygments_lexer": "ipython3",
   "version": "3.10.11"
  }
 },
 "nbformat": 4,
 "nbformat_minor": 2
}
