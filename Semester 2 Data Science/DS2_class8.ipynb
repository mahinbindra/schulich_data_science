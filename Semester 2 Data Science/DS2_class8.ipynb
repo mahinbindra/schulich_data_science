{
 "cells": [
  {
   "cell_type": "code",
   "execution_count": 123,
   "metadata": {},
   "outputs": [],
   "source": [
    "import pandas as pd\n",
    "import tensorflow as ts\n",
    "import numpy as np\n",
    "import matplotlib.pyplot as plt"
   ]
  },
  {
   "cell_type": "code",
   "execution_count": 124,
   "metadata": {},
   "outputs": [
    {
     "name": "stdout",
     "output_type": "stream",
     "text": [
      "Requirement already satisfied: tensorflow_datasets in /Library/Frameworks/Python.framework/Versions/3.10/lib/python3.10/site-packages (4.9.3)\n",
      "Requirement already satisfied: absl-py in /Library/Frameworks/Python.framework/Versions/3.10/lib/python3.10/site-packages (from tensorflow_datasets) (1.4.0)\n",
      "Requirement already satisfied: array-record in /Library/Frameworks/Python.framework/Versions/3.10/lib/python3.10/site-packages (from tensorflow_datasets) (0.4.1)\n",
      "Requirement already satisfied: click in /Library/Frameworks/Python.framework/Versions/3.10/lib/python3.10/site-packages (from tensorflow_datasets) (8.1.7)\n",
      "Requirement already satisfied: dm-tree in /Library/Frameworks/Python.framework/Versions/3.10/lib/python3.10/site-packages (from tensorflow_datasets) (0.1.8)\n",
      "Requirement already satisfied: etils[enp,epath,etree]>=0.9.0 in /Library/Frameworks/Python.framework/Versions/3.10/lib/python3.10/site-packages (from tensorflow_datasets) (1.5.2)\n",
      "Requirement already satisfied: numpy in /Library/Frameworks/Python.framework/Versions/3.10/lib/python3.10/site-packages (from tensorflow_datasets) (1.24.3)\n",
      "Requirement already satisfied: promise in /Library/Frameworks/Python.framework/Versions/3.10/lib/python3.10/site-packages (from tensorflow_datasets) (2.3)\n",
      "Requirement already satisfied: protobuf>=3.20 in /Library/Frameworks/Python.framework/Versions/3.10/lib/python3.10/site-packages (from tensorflow_datasets) (3.20.3)\n",
      "Requirement already satisfied: psutil in /Users/mahinbindra/Library/Python/3.10/lib/python/site-packages (from tensorflow_datasets) (5.9.5)\n",
      "Requirement already satisfied: requests>=2.19.0 in /Library/Frameworks/Python.framework/Versions/3.10/lib/python3.10/site-packages (from tensorflow_datasets) (2.31.0)\n",
      "Requirement already satisfied: tensorflow-metadata in /Library/Frameworks/Python.framework/Versions/3.10/lib/python3.10/site-packages (from tensorflow_datasets) (1.14.0)\n",
      "Requirement already satisfied: termcolor in /Library/Frameworks/Python.framework/Versions/3.10/lib/python3.10/site-packages (from tensorflow_datasets) (2.3.0)\n",
      "Requirement already satisfied: toml in /Library/Frameworks/Python.framework/Versions/3.10/lib/python3.10/site-packages (from tensorflow_datasets) (0.10.2)\n",
      "Requirement already satisfied: tqdm in /Library/Frameworks/Python.framework/Versions/3.10/lib/python3.10/site-packages (from tensorflow_datasets) (4.66.1)\n",
      "Requirement already satisfied: wrapt in /Library/Frameworks/Python.framework/Versions/3.10/lib/python3.10/site-packages (from tensorflow_datasets) (1.14.1)\n",
      "Requirement already satisfied: fsspec in /Library/Frameworks/Python.framework/Versions/3.10/lib/python3.10/site-packages (from etils[enp,epath,etree]>=0.9.0->tensorflow_datasets) (2023.10.0)\n",
      "Requirement already satisfied: importlib_resources in /Library/Frameworks/Python.framework/Versions/3.10/lib/python3.10/site-packages (from etils[enp,epath,etree]>=0.9.0->tensorflow_datasets) (6.1.1)\n",
      "Requirement already satisfied: typing_extensions in /Library/Frameworks/Python.framework/Versions/3.10/lib/python3.10/site-packages (from etils[enp,epath,etree]>=0.9.0->tensorflow_datasets) (4.7.1)\n",
      "Requirement already satisfied: zipp in /Library/Frameworks/Python.framework/Versions/3.10/lib/python3.10/site-packages (from etils[enp,epath,etree]>=0.9.0->tensorflow_datasets) (3.17.0)\n",
      "Requirement already satisfied: charset-normalizer<4,>=2 in /Library/Frameworks/Python.framework/Versions/3.10/lib/python3.10/site-packages (from requests>=2.19.0->tensorflow_datasets) (3.2.0)\n",
      "Requirement already satisfied: idna<4,>=2.5 in /Library/Frameworks/Python.framework/Versions/3.10/lib/python3.10/site-packages (from requests>=2.19.0->tensorflow_datasets) (3.4)\n",
      "Requirement already satisfied: urllib3<3,>=1.21.1 in /Library/Frameworks/Python.framework/Versions/3.10/lib/python3.10/site-packages (from requests>=2.19.0->tensorflow_datasets) (2.0.4)\n",
      "Requirement already satisfied: certifi>=2017.4.17 in /Library/Frameworks/Python.framework/Versions/3.10/lib/python3.10/site-packages (from requests>=2.19.0->tensorflow_datasets) (2023.7.22)\n",
      "Requirement already satisfied: six in /Users/mahinbindra/Library/Python/3.10/lib/python/site-packages (from promise->tensorflow_datasets) (1.16.0)\n",
      "Requirement already satisfied: googleapis-common-protos<2,>=1.52.0 in /Library/Frameworks/Python.framework/Versions/3.10/lib/python3.10/site-packages (from tensorflow-metadata->tensorflow_datasets) (1.61.0)\n",
      "\n",
      "\u001b[1m[\u001b[0m\u001b[34;49mnotice\u001b[0m\u001b[1;39;49m]\u001b[0m\u001b[39;49m A new release of pip is available: \u001b[0m\u001b[31;49m23.2.1\u001b[0m\u001b[39;49m -> \u001b[0m\u001b[32;49m23.3.1\u001b[0m\n",
      "\u001b[1m[\u001b[0m\u001b[34;49mnotice\u001b[0m\u001b[1;39;49m]\u001b[0m\u001b[39;49m To update, run: \u001b[0m\u001b[32;49mpip3 install --upgrade pip\u001b[0m\n",
      "Note: you may need to restart the kernel to use updated packages.\n"
     ]
    }
   ],
   "source": [
    "pip install tensorflow_datasets"
   ]
  },
  {
   "cell_type": "markdown",
   "metadata": {},
   "source": []
  },
  {
   "cell_type": "code",
   "execution_count": 125,
   "metadata": {},
   "outputs": [],
   "source": [
    "import tensorflow_datasets as tfds"
   ]
  },
  {
   "cell_type": "code",
   "execution_count": 126,
   "metadata": {},
   "outputs": [],
   "source": [
    "(train, test) = tfds.load('mnist', split = ['train', 'test'])"
   ]
  },
  {
   "cell_type": "code",
   "execution_count": 127,
   "metadata": {},
   "outputs": [
    {
     "data": {
      "text/plain": [
       "<_PrefetchDataset element_spec={'image': TensorSpec(shape=(28, 28, 1), dtype=tf.uint8, name=None), 'label': TensorSpec(shape=(), dtype=tf.int64, name=None)}>"
      ]
     },
     "execution_count": 127,
     "metadata": {},
     "output_type": "execute_result"
    }
   ],
   "source": [
    "train"
   ]
  },
  {
   "cell_type": "code",
   "execution_count": 128,
   "metadata": {},
   "outputs": [
    {
     "data": {
      "text/plain": [
       "<_PrefetchDataset element_spec={'image': TensorSpec(shape=(28, 28, 1), dtype=tf.uint8, name=None), 'label': TensorSpec(shape=(), dtype=tf.int64, name=None)}>"
      ]
     },
     "execution_count": 128,
     "metadata": {},
     "output_type": "execute_result"
    }
   ],
   "source": [
    "test"
   ]
  },
  {
   "cell_type": "code",
   "execution_count": 129,
   "metadata": {},
   "outputs": [],
   "source": [
    "from sklearn.preprocessing import StandardScaler\n",
    "from sklearn.preprocessing import OneHotEncoder"
   ]
  },
  {
   "cell_type": "code",
   "execution_count": 130,
   "metadata": {},
   "outputs": [],
   "source": [
    "def load_dataset(train_size, test_size):\n",
    "    train, test = ts.keras.datasets.mnist.load_data()\n",
    "\n",
    "    # take a sample\n",
    "    train_idx = np.random.randint(low=0, high=train[0].shape[0], size=train_size)\n",
    "    test_idx = np.random.randint(low=0, high=test[0].shape[0], size=test_size)\n",
    "    X_train = train[0][train_idx].reshape(-1,28*28)\n",
    "    y_train = train[1][train_idx].reshape(-1,1)\n",
    "    X_test = test[0][test_idx].reshape(-1,28*28)\n",
    "    y_test = test[1][test_idx].reshape(-1,1)\n",
    "    scale = StandardScaler()\n",
    "    X_train = scale.fit_transform(X_train)\n",
    "    X_test = scale.transform(X_test)\n",
    "\n",
    "    OH = OneHotEncoder(categories='auto', sparse=False)\n",
    "    y_train = OH.fit_transform(y_train)\n",
    "    y_test = OH.transform(y_test)\n",
    "    \n",
    "    print('X_train:',X_train.shape)\n",
    "    print('y_train:',y_train.shape)\n",
    "    print('X_test:',X_test.shape)\n",
    "    print('y_test:',y_test.shape)\n",
    "    print('Min:', X_train.min())\n",
    "    print('Max:', X_train.max())\n",
    "\n",
    "    return X_train, X_test, y_train, y_test"
   ]
  },
  {
   "cell_type": "code",
   "execution_count": 131,
   "metadata": {},
   "outputs": [
    {
     "name": "stdout",
     "output_type": "stream",
     "text": [
      "X_train: (60000, 784)\n",
      "y_train: (60000, 10)\n",
      "X_test: (10000, 784)\n",
      "y_test: (10000, 10)\n",
      "Min: -1.2763272966574752\n",
      "Max: 244.9469330286174\n"
     ]
    },
    {
     "name": "stderr",
     "output_type": "stream",
     "text": [
      "/Library/Frameworks/Python.framework/Versions/3.10/lib/python3.10/site-packages/sklearn/preprocessing/_encoders.py:868: FutureWarning: `sparse` was renamed to `sparse_output` in version 1.2 and will be removed in 1.4. `sparse_output` is ignored unless you leave `sparse` to its default value.\n",
      "  warnings.warn(\n"
     ]
    }
   ],
   "source": [
    "X_train, X_test, y_train, y_test = load_dataset(60000,10000)"
   ]
  },
  {
   "cell_type": "markdown",
   "metadata": {},
   "source": [
    "## Optimizing at the Initialization Stage"
   ]
  },
  {
   "cell_type": "code",
   "execution_count": 132,
   "metadata": {},
   "outputs": [],
   "source": [
    "from tensorflow.keras import layers"
   ]
  },
  {
   "cell_type": "code",
   "execution_count": 133,
   "metadata": {},
   "outputs": [
    {
     "name": "stderr",
     "output_type": "stream",
     "text": [
      "WARNING:absl:At this time, the v2.11+ optimizer `tf.keras.optimizers.SGD` runs slowly on M1/M2 Macs, please use the legacy Keras optimizer instead, located at `tf.keras.optimizers.legacy.SGD`.\n"
     ]
    }
   ],
   "source": [
    "init = ts.initializers.zeros()\n",
    "activate = 'relu'\n",
    "optimizer = ts.keras.optimizers.SGD(learning_rate=0.01)"
   ]
  },
  {
   "cell_type": "code",
   "execution_count": 134,
   "metadata": {},
   "outputs": [],
   "source": [
    "def simple_model(initializer, activation='relu'):\n",
    "    return ts.keras.Sequential([layers.Dense(32, activation, input_shape=(784,), kernel_initializer=initializer),\n",
    "                                layers.Dense(32, activation, kernel_initializer=initializer),\n",
    "                                layers.Dense(32, activation, kernel_initializer=initializer),\n",
    "                                layers.Dense(32, activation, kernel_initializer=initializer),\n",
    "                                layers.Dense(10, activation = 'softmax', kernel_initializer=ts.keras.initializers.glorot_normal())\n",
    "\n",
    "\n",
    "\n",
    "    ])"
   ]
  },
  {
   "cell_type": "code",
   "execution_count": 135,
   "metadata": {},
   "outputs": [
    {
     "name": "stderr",
     "output_type": "stream",
     "text": [
      "WARNING:absl:At this time, the v2.11+ optimizer `tf.keras.optimizers.SGD` runs slowly on M1/M2 Macs, please use the legacy Keras optimizer instead, located at `tf.keras.optimizers.legacy.SGD`.\n"
     ]
    }
   ],
   "source": [
    "init = ts.initializers.zeros()\n",
    "activate = 'relu'\n",
    "optimizer = ts.keras.optimizers.SGD(learning_rate=0.01)"
   ]
  },
  {
   "cell_type": "code",
   "execution_count": 136,
   "metadata": {},
   "outputs": [],
   "source": [
    "model_zeros = simple_model(init, activate)"
   ]
  },
  {
   "cell_type": "code",
   "execution_count": 137,
   "metadata": {},
   "outputs": [
    {
     "name": "stdout",
     "output_type": "stream",
     "text": [
      "Epoch 1/10\n",
      "19/19 [==============================] - 0s 10ms/step - loss: 2.3026 - accuracy: 0.1113 - val_loss: 2.3025 - val_accuracy: 0.1138\n",
      "Epoch 2/10\n",
      "19/19 [==============================] - 0s 6ms/step - loss: 2.3025 - accuracy: 0.1125 - val_loss: 2.3025 - val_accuracy: 0.1138\n",
      "Epoch 3/10\n",
      "19/19 [==============================] - 0s 6ms/step - loss: 2.3024 - accuracy: 0.1125 - val_loss: 2.3025 - val_accuracy: 0.1138\n",
      "Epoch 4/10\n",
      "19/19 [==============================] - 0s 6ms/step - loss: 2.3024 - accuracy: 0.1125 - val_loss: 2.3024 - val_accuracy: 0.1138\n",
      "Epoch 5/10\n",
      "19/19 [==============================] - 0s 6ms/step - loss: 2.3023 - accuracy: 0.1125 - val_loss: 2.3024 - val_accuracy: 0.1138\n",
      "Epoch 6/10\n",
      "19/19 [==============================] - 0s 6ms/step - loss: 2.3023 - accuracy: 0.1125 - val_loss: 2.3024 - val_accuracy: 0.1138\n",
      "Epoch 7/10\n",
      "19/19 [==============================] - 0s 7ms/step - loss: 2.3023 - accuracy: 0.1125 - val_loss: 2.3023 - val_accuracy: 0.1138\n",
      "Epoch 8/10\n",
      "19/19 [==============================] - 0s 7ms/step - loss: 2.3022 - accuracy: 0.1125 - val_loss: 2.3023 - val_accuracy: 0.1138\n",
      "Epoch 9/10\n",
      "19/19 [==============================] - 0s 6ms/step - loss: 2.3022 - accuracy: 0.1125 - val_loss: 2.3023 - val_accuracy: 0.1138\n",
      "Epoch 10/10\n",
      "19/19 [==============================] - 0s 6ms/step - loss: 2.3021 - accuracy: 0.1125 - val_loss: 2.3023 - val_accuracy: 0.1138\n"
     ]
    },
    {
     "data": {
      "text/plain": [
       "<keras.src.callbacks.History at 0x2a401e350>"
      ]
     },
     "execution_count": 137,
     "metadata": {},
     "output_type": "execute_result"
    }
   ],
   "source": [
    "model_zeros.compile(optimizer=optimizer, loss='categorical_crossentropy', metrics=['accuracy'])\n",
    "model_zeros.fit(X_train, y_train, epochs=10, batch_size=3200, validation_data=(X_test, y_test))"
   ]
  },
  {
   "cell_type": "code",
   "execution_count": 138,
   "metadata": {},
   "outputs": [
    {
     "name": "stderr",
     "output_type": "stream",
     "text": [
      "WARNING:absl:At this time, the v2.11+ optimizer `tf.keras.optimizers.SGD` runs slowly on M1/M2 Macs, please use the legacy Keras optimizer instead, located at `tf.keras.optimizers.legacy.SGD`.\n",
      "/Library/Frameworks/Python.framework/Versions/3.10/lib/python3.10/site-packages/keras/src/initializers/initializers.py:120: UserWarning: The initializer RandomNormal is unseeded and being called multiple times, which will return identical values each time (even if the initializer is unseeded). Please update your code to provide a seed to the initializer, or avoid using the same initializer instance more than once.\n",
      "  warnings.warn(\n"
     ]
    },
    {
     "name": "stdout",
     "output_type": "stream",
     "text": [
      "Epoch 1/10\n",
      "19/19 [==============================] - 0s 10ms/step - loss: 2.3021 - accuracy: 0.1119 - val_loss: 2.3019 - val_accuracy: 0.1385\n",
      "Epoch 2/10\n",
      "19/19 [==============================] - 0s 6ms/step - loss: 2.3017 - accuracy: 0.1596 - val_loss: 2.3015 - val_accuracy: 0.1625\n",
      "Epoch 3/10\n",
      "19/19 [==============================] - 0s 6ms/step - loss: 2.3013 - accuracy: 0.1704 - val_loss: 2.3012 - val_accuracy: 0.1774\n",
      "Epoch 4/10\n",
      "19/19 [==============================] - 0s 6ms/step - loss: 2.3010 - accuracy: 0.1697 - val_loss: 2.3009 - val_accuracy: 0.1736\n",
      "Epoch 5/10\n",
      "19/19 [==============================] - 0s 6ms/step - loss: 2.3007 - accuracy: 0.1671 - val_loss: 2.3006 - val_accuracy: 0.1661\n",
      "Epoch 6/10\n",
      "19/19 [==============================] - 0s 7ms/step - loss: 2.3004 - accuracy: 0.1585 - val_loss: 2.3003 - val_accuracy: 0.1602\n",
      "Epoch 7/10\n",
      "19/19 [==============================] - 0s 7ms/step - loss: 2.3001 - accuracy: 0.1556 - val_loss: 2.3001 - val_accuracy: 0.1530\n",
      "Epoch 8/10\n",
      "19/19 [==============================] - 0s 7ms/step - loss: 2.2999 - accuracy: 0.1458 - val_loss: 2.2998 - val_accuracy: 0.1443\n",
      "Epoch 9/10\n",
      "19/19 [==============================] - 0s 7ms/step - loss: 2.2996 - accuracy: 0.1393 - val_loss: 2.2996 - val_accuracy: 0.1363\n",
      "Epoch 10/10\n",
      "19/19 [==============================] - 0s 6ms/step - loss: 2.2994 - accuracy: 0.1346 - val_loss: 2.2993 - val_accuracy: 0.1313\n"
     ]
    },
    {
     "data": {
      "text/plain": [
       "<keras.src.callbacks.History at 0x2a4d8b2b0>"
      ]
     },
     "execution_count": 138,
     "metadata": {},
     "output_type": "execute_result"
    }
   ],
   "source": [
    "init = ts.initializers.random_normal()\n",
    "activate = 'relu'\n",
    "optimizer = ts.keras.optimizers.SGD(learning_rate=0.01)\n",
    "model_normal = simple_model(init, activate)\n",
    "model_normal.compile(optimizer=optimizer, loss='categorical_crossentropy', metrics=['accuracy'])\n",
    "model_normal.fit(X_train, y_train, epochs=10, batch_size=3200, validation_data=(X_test, y_test))"
   ]
  },
  {
   "cell_type": "code",
   "execution_count": 139,
   "metadata": {},
   "outputs": [
    {
     "name": "stderr",
     "output_type": "stream",
     "text": [
      "WARNING:absl:At this time, the v2.11+ optimizer `tf.keras.optimizers.SGD` runs slowly on M1/M2 Macs, please use the legacy Keras optimizer instead, located at `tf.keras.optimizers.legacy.SGD`.\n",
      "/Library/Frameworks/Python.framework/Versions/3.10/lib/python3.10/site-packages/keras/src/initializers/initializers.py:120: UserWarning: The initializer GlorotUniform is unseeded and being called multiple times, which will return identical values each time (even if the initializer is unseeded). Please update your code to provide a seed to the initializer, or avoid using the same initializer instance more than once.\n",
      "  warnings.warn(\n"
     ]
    },
    {
     "name": "stdout",
     "output_type": "stream",
     "text": [
      "Epoch 1/10\n",
      "19/19 [==============================] - 0s 10ms/step - loss: 2.3185 - accuracy: 0.1108 - val_loss: 2.3011 - val_accuracy: 0.1311\n",
      "Epoch 2/10\n",
      "19/19 [==============================] - 0s 6ms/step - loss: 2.2812 - accuracy: 0.1625 - val_loss: 2.2659 - val_accuracy: 0.2014\n",
      "Epoch 3/10\n",
      "19/19 [==============================] - 0s 6ms/step - loss: 2.2448 - accuracy: 0.2180 - val_loss: 2.2281 - val_accuracy: 0.2345\n",
      "Epoch 4/10\n",
      "19/19 [==============================] - 0s 6ms/step - loss: 2.2036 - accuracy: 0.2439 - val_loss: 2.1842 - val_accuracy: 0.2552\n",
      "Epoch 5/10\n",
      "19/19 [==============================] - 0s 7ms/step - loss: 2.1561 - accuracy: 0.2641 - val_loss: 2.1348 - val_accuracy: 0.2764\n",
      "Epoch 6/10\n",
      "19/19 [==============================] - 0s 7ms/step - loss: 2.1050 - accuracy: 0.2862 - val_loss: 2.0850 - val_accuracy: 0.2966\n",
      "Epoch 7/10\n",
      "19/19 [==============================] - 0s 7ms/step - loss: 2.0554 - accuracy: 0.3054 - val_loss: 2.0376 - val_accuracy: 0.3148\n",
      "Epoch 8/10\n",
      "19/19 [==============================] - 0s 9ms/step - loss: 2.0080 - accuracy: 0.3252 - val_loss: 1.9919 - val_accuracy: 0.3367\n",
      "Epoch 9/10\n",
      "19/19 [==============================] - 0s 7ms/step - loss: 1.9613 - accuracy: 0.3454 - val_loss: 1.9461 - val_accuracy: 0.3565\n",
      "Epoch 10/10\n",
      "19/19 [==============================] - 0s 7ms/step - loss: 1.9141 - accuracy: 0.3699 - val_loss: 1.8992 - val_accuracy: 0.3768\n"
     ]
    },
    {
     "data": {
      "text/plain": [
       "<keras.src.callbacks.History at 0x2c110f3a0>"
      ]
     },
     "execution_count": 139,
     "metadata": {},
     "output_type": "execute_result"
    }
   ],
   "source": [
    "init = ts.initializers.glorot_uniform()\n",
    "activate = 'relu'\n",
    "optimizer = ts.keras.optimizers.SGD(learning_rate=0.01)\n",
    "model_glorotu = simple_model(init, activate)\n",
    "model_glorotu.compile(optimizer=optimizer, loss='categorical_crossentropy', metrics=['accuracy'])\n",
    "model_glorotu.fit(X_train, y_train, epochs=10, batch_size=3200, validation_data=(X_test, y_test))"
   ]
  },
  {
   "cell_type": "code",
   "execution_count": 141,
   "metadata": {},
   "outputs": [
    {
     "name": "stderr",
     "output_type": "stream",
     "text": [
      "WARNING:absl:At this time, the v2.11+ optimizer `tf.keras.optimizers.SGD` runs slowly on M1/M2 Macs, please use the legacy Keras optimizer instead, located at `tf.keras.optimizers.legacy.SGD`.\n",
      "/Library/Frameworks/Python.framework/Versions/3.10/lib/python3.10/site-packages/keras/src/initializers/initializers.py:120: UserWarning: The initializer HeUniform is unseeded and being called multiple times, which will return identical values each time (even if the initializer is unseeded). Please update your code to provide a seed to the initializer, or avoid using the same initializer instance more than once.\n",
      "  warnings.warn(\n"
     ]
    },
    {
     "name": "stdout",
     "output_type": "stream",
     "text": [
      "Epoch 1/10\n",
      "19/19 [==============================] - 0s 12ms/step - loss: 2.4767 - accuracy: 0.1447 - val_loss: 2.2628 - val_accuracy: 0.1925\n",
      "Epoch 2/10\n",
      "19/19 [==============================] - 0s 6ms/step - loss: 2.1293 - accuracy: 0.2713 - val_loss: 2.0189 - val_accuracy: 0.3259\n",
      "Epoch 3/10\n",
      "19/19 [==============================] - 0s 7ms/step - loss: 1.9250 - accuracy: 0.3701 - val_loss: 1.8381 - val_accuracy: 0.4108\n",
      "Epoch 4/10\n",
      "19/19 [==============================] - 0s 6ms/step - loss: 1.7619 - accuracy: 0.4424 - val_loss: 1.6801 - val_accuracy: 0.4736\n",
      "Epoch 5/10\n",
      "19/19 [==============================] - 0s 7ms/step - loss: 1.6137 - accuracy: 0.4945 - val_loss: 1.5326 - val_accuracy: 0.5211\n",
      "Epoch 6/10\n",
      "19/19 [==============================] - 0s 7ms/step - loss: 1.4737 - accuracy: 0.5365 - val_loss: 1.3955 - val_accuracy: 0.5595\n",
      "Epoch 7/10\n",
      "19/19 [==============================] - 0s 7ms/step - loss: 1.3434 - accuracy: 0.5724 - val_loss: 1.2714 - val_accuracy: 0.5942\n",
      "Epoch 8/10\n",
      "19/19 [==============================] - 0s 7ms/step - loss: 1.2249 - accuracy: 0.6088 - val_loss: 1.1611 - val_accuracy: 0.6313\n",
      "Epoch 9/10\n",
      "19/19 [==============================] - 0s 7ms/step - loss: 1.1198 - accuracy: 0.6410 - val_loss: 1.0654 - val_accuracy: 0.6633\n",
      "Epoch 10/10\n",
      "19/19 [==============================] - 0s 7ms/step - loss: 1.0285 - accuracy: 0.6725 - val_loss: 0.9836 - val_accuracy: 0.6871\n"
     ]
    },
    {
     "data": {
      "text/plain": [
       "<keras.src.callbacks.History at 0x172411a80>"
      ]
     },
     "execution_count": 141,
     "metadata": {},
     "output_type": "execute_result"
    }
   ],
   "source": [
    "init = ts.initializers.he_uniform()\n",
    "activate = 'relu'\n",
    "optimizer = ts.keras.optimizers.SGD(learning_rate=0.01)\n",
    "model_heu = simple_model(init, activate)\n",
    "model_heu.compile(optimizer=optimizer, loss='categorical_crossentropy', metrics=['accuracy'])\n",
    "model_heu.fit(X_train, y_train, epochs=10, batch_size=3200, validation_data=(X_test, y_test))"
   ]
  },
  {
   "cell_type": "code",
   "execution_count": 142,
   "metadata": {},
   "outputs": [
    {
     "data": {
      "text/plain": [
       "Text(0, 0.5, 'Validation Accuracy')"
      ]
     },
     "execution_count": 142,
     "metadata": {},
     "output_type": "execute_result"
    },
    {
     "data": {
      "image/png": "[encoded data removed]",
      "text/plain": [
       "<Figure size 640x480 with 1 Axes>"
      ]
     },
     "metadata": {},
     "output_type": "display_data"
    }
   ],
   "source": [
    "for i in [model_heu, model_normal, model_glorotu, model_zeros]:\n",
    "    plt.plot(i.history.history['val_accuracy'], label=i.get_config()['layers'][1]['config']['kernel_initializer']['class_name'])\n",
    "\n",
    "plt.legend()\n",
    "plt.xlabel('Epoch')\n",
    "plt.ylabel('Validation Accuracy')"
   ]
  },
  {
   "cell_type": "code",
   "execution_count": 145,
   "metadata": {},
   "outputs": [],
   "source": [
    "def simple_model_bn(initializer = 'he_uniform', activation='relu'):\n",
    "    return ts.keras.Sequential([layers.Dense(32, activation, input_shape=(784,), kernel_initializer=initializer),\n",
    "                                layers.BatchNormalization(trainable=True, scale=True, center=True),\n",
    "                                layers.Dense(32, activation, kernel_initializer=initializer),\n",
    "                                layers.BatchNormalization(trainable=True, scale=True, center=True),\n",
    "                                layers.Dense(32, activation, kernel_initializer=initializer),\n",
    "                                layers.BatchNormalization(trainable=True, scale=True, center=True),\n",
    "                                layers.Dense(32, activation, kernel_initializer=initializer),\n",
    "                                layers.BatchNormalization(trainable=True, scale=True, center=True),\n",
    "                                layers.Dense(10, activation = 'softmax', kernel_initializer=ts.keras.initializers.glorot_normal())\n",
    "\n",
    "\n",
    "\n",
    "    ])"
   ]
  },
  {
   "cell_type": "code",
   "execution_count": 146,
   "metadata": {},
   "outputs": [
    {
     "name": "stdout",
     "output_type": "stream",
     "text": [
      "Model: \"sequential_24\"\n",
      "_________________________________________________________________\n",
      " Layer (type)                Output Shape              Param #   \n",
      "=================================================================\n",
      " dense_121 (Dense)           (None, 32)                25120     \n",
      "                                                                 \n",
      " batch_normalization (Batch  (None, 32)                128       \n",
      " Normalization)                                                  \n",
      "                                                                 \n",
      " dense_122 (Dense)           (None, 32)                1056      \n",
      "                                                                 \n",
      " batch_normalization_1 (Bat  (None, 32)                128       \n",
      " chNormalization)                                                \n",
      "                                                                 \n",
      " dense_123 (Dense)           (None, 32)                1056      \n",
      "                                                                 \n",
      " batch_normalization_2 (Bat  (None, 32)                128       \n",
      " chNormalization)                                                \n",
      "                                                                 \n",
      " dense_124 (Dense)           (None, 32)                1056      \n",
      "                                                                 \n",
      " batch_normalization_3 (Bat  (None, 32)                128       \n",
      " chNormalization)                                                \n",
      "                                                                 \n",
      " dense_125 (Dense)           (None, 10)                330       \n",
      "                                                                 \n",
      "=================================================================\n",
      "Total params: 29130 (113.79 KB)\n",
      "Trainable params: 28874 (112.79 KB)\n",
      "Non-trainable params: 256 (1.00 KB)\n",
      "_________________________________________________________________\n"
     ]
    }
   ],
   "source": [
    "simple_model_bn().summary()"
   ]
  },
  {
   "cell_type": "code",
   "execution_count": 148,
   "metadata": {},
   "outputs": [
    {
     "name": "stderr",
     "output_type": "stream",
     "text": [
      "WARNING:absl:At this time, the v2.11+ optimizer `tf.keras.optimizers.SGD` runs slowly on M1/M2 Macs, please use the legacy Keras optimizer instead, located at `tf.keras.optimizers.legacy.SGD`.\n",
      "/Library/Frameworks/Python.framework/Versions/3.10/lib/python3.10/site-packages/keras/src/initializers/initializers.py:120: UserWarning: The initializer RandomNormal is unseeded and being called multiple times, which will return identical values each time (even if the initializer is unseeded). Please update your code to provide a seed to the initializer, or avoid using the same initializer instance more than once.\n",
      "  warnings.warn(\n"
     ]
    },
    {
     "name": "stdout",
     "output_type": "stream",
     "text": [
      "Epoch 1/10\n",
      "19/19 [==============================] - 1s 18ms/step - loss: 1.9421 - accuracy: 0.3738 - val_loss: 2.2963 - val_accuracy: 0.1634\n",
      "Epoch 2/10\n",
      "19/19 [==============================] - 0s 11ms/step - loss: 1.3085 - accuracy: 0.5935 - val_loss: 2.2863 - val_accuracy: 0.1785\n",
      "Epoch 3/10\n",
      "19/19 [==============================] - 0s 9ms/step - loss: 1.0480 - accuracy: 0.6888 - val_loss: 2.2718 - val_accuracy: 0.1886\n",
      "Epoch 4/10\n",
      "19/19 [==============================] - 0s 9ms/step - loss: 0.8935 - accuracy: 0.7403 - val_loss: 2.2521 - val_accuracy: 0.2040\n",
      "Epoch 5/10\n",
      "19/19 [==============================] - 0s 9ms/step - loss: 0.7859 - accuracy: 0.7762 - val_loss: 2.2257 - val_accuracy: 0.2255\n",
      "Epoch 6/10\n",
      "19/19 [==============================] - 0s 12ms/step - loss: 0.7062 - accuracy: 0.8033 - val_loss: 2.1908 - val_accuracy: 0.2428\n",
      "Epoch 7/10\n",
      "19/19 [==============================] - 0s 11ms/step - loss: 0.6445 - accuracy: 0.8217 - val_loss: 2.1463 - val_accuracy: 0.2583\n",
      "Epoch 8/10\n",
      "19/19 [==============================] - 0s 10ms/step - loss: 0.5949 - accuracy: 0.8367 - val_loss: 2.0901 - val_accuracy: 0.2765\n",
      "Epoch 9/10\n",
      "19/19 [==============================] - 0s 10ms/step - loss: 0.5548 - accuracy: 0.8487 - val_loss: 2.0207 - val_accuracy: 0.3133\n",
      "Epoch 10/10\n",
      "19/19 [==============================] - 0s 10ms/step - loss: 0.5213 - accuracy: 0.8586 - val_loss: 1.9371 - val_accuracy: 0.3803\n"
     ]
    },
    {
     "data": {
      "text/plain": [
       "<keras.src.callbacks.History at 0x2bf095180>"
      ]
     },
     "execution_count": 148,
     "metadata": {},
     "output_type": "execute_result"
    }
   ],
   "source": [
    "init = ts.keras.initializers.random_normal()\n",
    "activate = 'relu'\n",
    "\n",
    "optimizer = ts.keras.optimizers.SGD(0.01)\n",
    "model_bn = simple_model_bn(init, activate)\n",
    "model_bn.compile(optimizer=optimizer, loss='categorical_crossentropy', metrics=['accuracy'])\n",
    "model_bn.fit(X_train, y_train, epochs=10, batch_size=3200, validation_data = (X_test, y_test))"
   ]
  },
  {
   "cell_type": "code",
   "execution_count": 149,
   "metadata": {},
   "outputs": [
    {
     "name": "stderr",
     "output_type": "stream",
     "text": [
      "WARNING:absl:At this time, the v2.11+ optimizer `tf.keras.optimizers.SGD` runs slowly on M1/M2 Macs, please use the legacy Keras optimizer instead, located at `tf.keras.optimizers.legacy.SGD`.\n",
      "/Library/Frameworks/Python.framework/Versions/3.10/lib/python3.10/site-packages/keras/src/initializers/initializers.py:120: UserWarning: The initializer HeNormal is unseeded and being called multiple times, which will return identical values each time (even if the initializer is unseeded). Please update your code to provide a seed to the initializer, or avoid using the same initializer instance more than once.\n",
      "  warnings.warn(\n"
     ]
    },
    {
     "name": "stdout",
     "output_type": "stream",
     "text": [
      "Epoch 1/10\n",
      "19/19 [==============================] - 1s 17ms/step - loss: 2.4912 - accuracy: 0.1908 - val_loss: 2.3336 - val_accuracy: 0.1466\n",
      "Epoch 2/10\n",
      "19/19 [==============================] - 0s 10ms/step - loss: 1.9928 - accuracy: 0.3453 - val_loss: 2.1213 - val_accuracy: 0.2526\n",
      "Epoch 3/10\n",
      "19/19 [==============================] - 0s 10ms/step - loss: 1.7108 - accuracy: 0.4501 - val_loss: 1.9179 - val_accuracy: 0.3901\n",
      "Epoch 4/10\n",
      "19/19 [==============================] - 0s 11ms/step - loss: 1.5172 - accuracy: 0.5291 - val_loss: 1.7261 - val_accuracy: 0.5090\n",
      "Epoch 5/10\n",
      "19/19 [==============================] - 0s 11ms/step - loss: 1.3708 - accuracy: 0.5881 - val_loss: 1.5516 - val_accuracy: 0.5859\n",
      "Epoch 6/10\n",
      "19/19 [==============================] - 0s 13ms/step - loss: 1.2523 - accuracy: 0.6378 - val_loss: 1.3987 - val_accuracy: 0.6338\n",
      "Epoch 7/10\n",
      "19/19 [==============================] - 0s 13ms/step - loss: 1.1542 - accuracy: 0.6758 - val_loss: 1.2671 - val_accuracy: 0.6778\n",
      "Epoch 8/10\n",
      "19/19 [==============================] - 0s 12ms/step - loss: 1.0733 - accuracy: 0.7033 - val_loss: 1.1553 - val_accuracy: 0.7109\n",
      "Epoch 9/10\n",
      "19/19 [==============================] - 0s 12ms/step - loss: 1.0017 - accuracy: 0.7292 - val_loss: 1.0614 - val_accuracy: 0.7345\n",
      "Epoch 10/10\n",
      "19/19 [==============================] - 0s 12ms/step - loss: 0.9411 - accuracy: 0.7507 - val_loss: 0.9812 - val_accuracy: 0.7505\n"
     ]
    },
    {
     "data": {
      "text/plain": [
       "<keras.src.callbacks.History at 0x2c7ac5960>"
      ]
     },
     "execution_count": 149,
     "metadata": {},
     "output_type": "execute_result"
    }
   ],
   "source": [
    "init = ts.keras.initializers.he_normal()\n",
    "activate = 'relu'\n",
    "\n",
    "optimizer = ts.keras.optimizers.SGD(0.01)\n",
    "model_heu = simple_model_bn(init, activate)\n",
    "model_heu.compile(optimizer=optimizer, loss='categorical_crossentropy', metrics=['accuracy'])\n",
    "model_heu.fit(X_train, y_train, epochs=10, batch_size=3200, validation_data = (X_test, y_test))"
   ]
  },
  {
   "cell_type": "code",
   "execution_count": 152,
   "metadata": {},
   "outputs": [
    {
     "name": "stderr",
     "output_type": "stream",
     "text": [
      "WARNING:absl:At this time, the v2.11+ optimizer `tf.keras.optimizers.Adagrad` runs slowly on M1/M2 Macs, please use the legacy Keras optimizer instead, located at `tf.keras.optimizers.legacy.Adagrad`.\n",
      "/Library/Frameworks/Python.framework/Versions/3.10/lib/python3.10/site-packages/keras/src/initializers/initializers.py:120: UserWarning: The initializer RandomUniform is unseeded and being called multiple times, which will return identical values each time (even if the initializer is unseeded). Please update your code to provide a seed to the initializer, or avoid using the same initializer instance more than once.\n",
      "  warnings.warn(\n"
     ]
    },
    {
     "name": "stdout",
     "output_type": "stream",
     "text": [
      "Epoch 1/10\n",
      "19/19 [==============================] - 1s 19ms/step - loss: 1.1389 - accuracy: 0.6527 - val_loss: 2.2973 - val_accuracy: 0.2888\n",
      "Epoch 2/10\n",
      "19/19 [==============================] - 0s 10ms/step - loss: 0.5066 - accuracy: 0.8647 - val_loss: 2.2924 - val_accuracy: 0.1322\n",
      "Epoch 3/10\n",
      "19/19 [==============================] - 0s 10ms/step - loss: 0.3769 - accuracy: 0.9000 - val_loss: 2.2856 - val_accuracy: 0.0992\n",
      "Epoch 4/10\n",
      "19/19 [==============================] - 0s 9ms/step - loss: 0.3130 - accuracy: 0.9170 - val_loss: 2.2762 - val_accuracy: 0.1011\n",
      "Epoch 5/10\n",
      "19/19 [==============================] - 0s 10ms/step - loss: 0.2728 - accuracy: 0.9272 - val_loss: 2.2634 - val_accuracy: 0.1121\n",
      "Epoch 6/10\n",
      "19/19 [==============================] - 0s 10ms/step - loss: 0.2444 - accuracy: 0.9353 - val_loss: 2.2463 - val_accuracy: 0.1443\n",
      "Epoch 7/10\n",
      "19/19 [==============================] - 0s 10ms/step - loss: 0.2234 - accuracy: 0.9411 - val_loss: 2.2237 - val_accuracy: 0.2076\n",
      "Epoch 8/10\n",
      "19/19 [==============================] - 0s 10ms/step - loss: 0.2062 - accuracy: 0.9460 - val_loss: 2.1928 - val_accuracy: 0.3155\n",
      "Epoch 9/10\n",
      "19/19 [==============================] - 0s 10ms/step - loss: 0.1922 - accuracy: 0.9498 - val_loss: 2.1531 - val_accuracy: 0.4261\n",
      "Epoch 10/10\n",
      "19/19 [==============================] - 0s 10ms/step - loss: 0.1810 - accuracy: 0.9523 - val_loss: 2.1021 - val_accuracy: 0.5130\n"
     ]
    },
    {
     "data": {
      "text/plain": [
       "<keras.src.callbacks.History at 0x1743f0eb0>"
      ]
     },
     "execution_count": 152,
     "metadata": {},
     "output_type": "execute_result"
    }
   ],
   "source": [
    "init = ts.keras.initializers.random_uniform()\n",
    "activate = 'relu'\n",
    "\n",
    "optimizer = ts.keras.optimizers.Adagrad(0.01)\n",
    "model_bn_ad = simple_model_bn(init, activate)\n",
    "model_bn_ad.compile(optimizer=optimizer, loss='categorical_crossentropy', metrics=['accuracy'])\n",
    "model_bn_ad.fit(X_train, y_train, epochs=10, batch_size=3200, validation_data = (X_test, y_test))"
   ]
  },
  {
   "cell_type": "code",
   "execution_count": 151,
   "metadata": {},
   "outputs": [
    {
     "name": "stderr",
     "output_type": "stream",
     "text": [
      "WARNING:absl:At this time, the v2.11+ optimizer `tf.keras.optimizers.Adam` runs slowly on M1/M2 Macs, please use the legacy Keras optimizer instead, located at `tf.keras.optimizers.legacy.Adam`.\n",
      "/Library/Frameworks/Python.framework/Versions/3.10/lib/python3.10/site-packages/keras/src/initializers/initializers.py:120: UserWarning: The initializer RandomUniform is unseeded and being called multiple times, which will return identical values each time (even if the initializer is unseeded). Please update your code to provide a seed to the initializer, or avoid using the same initializer instance more than once.\n",
      "  warnings.warn(\n"
     ]
    },
    {
     "name": "stdout",
     "output_type": "stream",
     "text": [
      "Epoch 1/10\n",
      "19/19 [==============================] - 1s 17ms/step - loss: 0.8466 - accuracy: 0.7335 - val_loss: 2.0676 - val_accuracy: 0.3356\n",
      "Epoch 2/10\n",
      "19/19 [==============================] - 0s 10ms/step - loss: 0.2654 - accuracy: 0.9213 - val_loss: 1.7928 - val_accuracy: 0.5499\n",
      "Epoch 3/10\n",
      "19/19 [==============================] - 0s 9ms/step - loss: 0.1790 - accuracy: 0.9477 - val_loss: 1.5650 - val_accuracy: 0.7348\n",
      "Epoch 4/10\n",
      "19/19 [==============================] - 0s 10ms/step - loss: 0.1367 - accuracy: 0.9599 - val_loss: 1.3945 - val_accuracy: 0.7855\n",
      "Epoch 5/10\n",
      "19/19 [==============================] - 0s 9ms/step - loss: 0.1116 - accuracy: 0.9677 - val_loss: 1.2299 - val_accuracy: 0.8182\n",
      "Epoch 6/10\n",
      "19/19 [==============================] - 0s 10ms/step - loss: 0.0891 - accuracy: 0.9737 - val_loss: 1.0639 - val_accuracy: 0.8621\n",
      "Epoch 7/10\n",
      "19/19 [==============================] - 0s 10ms/step - loss: 0.0746 - accuracy: 0.9780 - val_loss: 0.8593 - val_accuracy: 0.8849\n",
      "Epoch 8/10\n",
      "19/19 [==============================] - 0s 10ms/step - loss: 0.0644 - accuracy: 0.9817 - val_loss: 0.6748 - val_accuracy: 0.9077\n",
      "Epoch 9/10\n",
      "19/19 [==============================] - 0s 11ms/step - loss: 0.0572 - accuracy: 0.9835 - val_loss: 0.5319 - val_accuracy: 0.9102\n",
      "Epoch 10/10\n",
      "19/19 [==============================] - 0s 11ms/step - loss: 0.0532 - accuracy: 0.9852 - val_loss: 0.3962 - val_accuracy: 0.9261\n"
     ]
    },
    {
     "data": {
      "text/plain": [
       "<keras.src.callbacks.History at 0x2be848520>"
      ]
     },
     "execution_count": 151,
     "metadata": {},
     "output_type": "execute_result"
    }
   ],
   "source": [
    "init = ts.keras.initializers.random_uniform()\n",
    "activate = 'relu'\n",
    "\n",
    "optimizer = ts.keras.optimizers.Adam(0.01)\n",
    "model_bn_adam = simple_model_bn(init, activate)\n",
    "model_bn_adam.compile(optimizer=optimizer, loss='categorical_crossentropy', metrics=['accuracy'])\n",
    "model_bn_adam.fit(X_train, y_train, epochs=10, batch_size=3200, validation_data = (X_test, y_test))"
   ]
  },
  {
   "cell_type": "code",
   "execution_count": 153,
   "metadata": {},
   "outputs": [],
   "source": [
    "from tensorflow.keras.callbacks import EarlyStopping"
   ]
  },
  {
   "cell_type": "code",
   "execution_count": 155,
   "metadata": {},
   "outputs": [
    {
     "name": "stderr",
     "output_type": "stream",
     "text": [
      "WARNING:absl:At this time, the v2.11+ optimizer `tf.keras.optimizers.Adam` runs slowly on M1/M2 Macs, please use the legacy Keras optimizer instead, located at `tf.keras.optimizers.legacy.Adam`.\n",
      "/Library/Frameworks/Python.framework/Versions/3.10/lib/python3.10/site-packages/keras/src/initializers/initializers.py:120: UserWarning: The initializer RandomUniform is unseeded and being called multiple times, which will return identical values each time (even if the initializer is unseeded). Please update your code to provide a seed to the initializer, or avoid using the same initializer instance more than once.\n",
      "  warnings.warn(\n"
     ]
    },
    {
     "name": "stdout",
     "output_type": "stream",
     "text": [
      "Epoch 1/2000\n",
      "1875/1875 [==============================] - 3s 1ms/step - loss: 0.3608 - accuracy: 0.8918 - val_loss: 0.2316 - val_accuracy: 0.9316\n",
      "Epoch 2/2000\n",
      "1875/1875 [==============================] - 2s 976us/step - loss: 0.2131 - accuracy: 0.9361 - val_loss: 0.1793 - val_accuracy: 0.9494\n",
      "Epoch 3/2000\n",
      "1875/1875 [==============================] - 2s 983us/step - loss: 0.1724 - accuracy: 0.9477 - val_loss: 0.1772 - val_accuracy: 0.9519\n",
      "Epoch 4/2000\n",
      "1875/1875 [==============================] - 2s 1ms/step - loss: 0.1468 - accuracy: 0.9550 - val_loss: 0.1457 - val_accuracy: 0.9615\n",
      "Epoch 5/2000\n",
      "1875/1875 [==============================] - 2s 963us/step - loss: 0.1267 - accuracy: 0.9618 - val_loss: 0.1655 - val_accuracy: 0.9554\n",
      "Epoch 6/2000\n",
      "1875/1875 [==============================] - 2s 1ms/step - loss: 0.1153 - accuracy: 0.9646 - val_loss: 0.1537 - val_accuracy: 0.9584\n",
      "Epoch 7/2000\n",
      "1875/1875 [==============================] - 2s 979us/step - loss: 0.1053 - accuracy: 0.9676 - val_loss: 0.1553 - val_accuracy: 0.9592\n",
      "Epoch 8/2000\n",
      "1875/1875 [==============================] - 2s 992us/step - loss: 0.0956 - accuracy: 0.9703 - val_loss: 0.1347 - val_accuracy: 0.9643\n",
      "Epoch 9/2000\n",
      "1875/1875 [==============================] - 2s 965us/step - loss: 0.0883 - accuracy: 0.9724 - val_loss: 0.1613 - val_accuracy: 0.9634\n",
      "Epoch 10/2000\n",
      "1875/1875 [==============================] - 2s 934us/step - loss: 0.0811 - accuracy: 0.9750 - val_loss: 0.1415 - val_accuracy: 0.9648\n",
      "Epoch 11/2000\n",
      "1875/1875 [==============================] - 2s 938us/step - loss: 0.0754 - accuracy: 0.9762 - val_loss: 0.1495 - val_accuracy: 0.9619\n",
      "Epoch 12/2000\n",
      "1875/1875 [==============================] - 2s 983us/step - loss: 0.0729 - accuracy: 0.9769 - val_loss: 0.1885 - val_accuracy: 0.9603\n",
      "Epoch 13/2000\n",
      "1875/1875 [==============================] - 2s 986us/step - loss: 0.0699 - accuracy: 0.9773 - val_loss: 0.1563 - val_accuracy: 0.9659\n",
      "Epoch 14/2000\n",
      "1875/1875 [==============================] - 2s 958us/step - loss: 0.0664 - accuracy: 0.9790 - val_loss: 0.1482 - val_accuracy: 0.9652\n",
      "Epoch 15/2000\n",
      "1875/1875 [==============================] - 2s 937us/step - loss: 0.0634 - accuracy: 0.9802 - val_loss: 0.1529 - val_accuracy: 0.9666\n",
      "Epoch 16/2000\n",
      "1875/1875 [==============================] - 2s 948us/step - loss: 0.0593 - accuracy: 0.9811 - val_loss: 0.1662 - val_accuracy: 0.9659\n",
      "Epoch 17/2000\n",
      "1875/1875 [==============================] - 2s 936us/step - loss: 0.0575 - accuracy: 0.9813 - val_loss: 0.1905 - val_accuracy: 0.9640\n",
      "Epoch 18/2000\n",
      "1867/1875 [============================>.] - ETA: 0s - loss: 0.0549 - accuracy: 0.9826Restoring model weights from the end of the best epoch: 8.\n",
      "1875/1875 [==============================] - 2s 941us/step - loss: 0.0548 - accuracy: 0.9826 - val_loss: 0.1900 - val_accuracy: 0.9637\n",
      "Epoch 18: early stopping\n",
      "Train Acc: 0.9854999780654907 Test Acc: 0.9642999768257141\n"
     ]
    }
   ],
   "source": [
    "init = ts.keras.initializers.random_uniform()\n",
    "activate = 'relu'\n",
    "\n",
    "optimizer = ts.keras.optimizers.Adam(0.01)\n",
    "model_bn_adam = simple_model_bn(init, activate)\n",
    "model_bn_adam.compile(optimizer=optimizer, loss='categorical_crossentropy', metrics=['accuracy'])\n",
    "\n",
    "es = EarlyStopping(monitor='val_loss', mode='min', patience=10, restore_best_weights=True, verbose=1)\n",
    "\n",
    "history = model_bn_adam.fit(X_train, y_train, epochs=2000, callbacks=[es], validation_data = (X_test, y_test))\n",
    "\n",
    "_, train_acc = model_bn_adam.evaluate(X_train, y_train, verbose=0)\n",
    "_, test_acc = model_bn_adam.evaluate(X_test, y_test, verbose=0)\n",
    "print('Train Acc:', train_acc, 'Test Acc:', test_acc)"
   ]
  },
  {
   "cell_type": "code",
   "execution_count": null,
   "metadata": {},
   "outputs": [],
   "source": [
    "init = ts.keras.initializers.random_uniform()\n",
    "activate = 'relu'\n",
    "\n",
    "optimizer = ts.keras.optimizers.Adam(learning_rate=0.01)\n",
    "model_bn_adam = simple_model_bn(init, activate)\n",
    "model_bn_adam.compile(optimizer=optimizer, loss='categorical_crossentropy', metrics=['accuracy'])\n",
    "\n",
    "es = EarlyStopping(monitor='val_loss', mode='min', patience=10, restore_best_weights=True, verbose=1)\n",
    "\n",
    "history = model_bn_adam.fit(X_train, y_train, epochs=2000, callbacks=[es], validation_data = (X_test, y_test), verbose=0)\n",
    "\n",
    "_, train_acc = model_bn_adam.evaluate(X_train, y_train, verbose=0)\n",
    "_, test_acc = model_bn_adam.evaluate(X_test, y_test, verbose=0)\n",
    "print('Train Acc:', train_acc, 'Test Acc:', test_acc)"
   ]
  }
 ],
 "metadata": {
  "kernelspec": {
   "display_name": "Python 3",
   "language": "python",
   "name": "python3"
  },
  "language_info": {
   "codemirror_mode": {
    "name": "ipython",
    "version": 3
   },
   "file_extension": ".py",
   "mimetype": "text/x-python",
   "name": "python",
   "nbconvert_exporter": "python",
   "pygments_lexer": "ipython3",
   "version": "3.10.11"
  }
 },
 "nbformat": 4,
 "nbformat_minor": 2
}
