{
 "cells": [
  {
   "cell_type": "code",
   "execution_count": 39,
   "metadata": {},
   "outputs": [],
   "source": [
    "from gurobipy import Model, GRB"
   ]
  },
  {
   "cell_type": "code",
   "execution_count": 40,
   "metadata": {},
   "outputs": [],
   "source": [
    "# Create a new model\n",
    "m = Model(\"bike_redistribution\")"
   ]
  },
  {
   "cell_type": "code",
   "execution_count": 41,
   "metadata": {},
   "outputs": [],
   "source": [
    "# Define the sets for hubs and edges including costs\n",
    "hubs = range(1, 8)\n",
    "edges_with_costs = {\n",
    "    (1, 2): 20, (1, 5): 25,\n",
    "    (2, 5): 30, (2, 7): 45,\n",
    "    (3, 1): 20, (3, 6): 35,\n",
    "    (4, 2): 30,\n",
    "    (5, 3): 25, (5, 4): 15, (5, 6): 28,\n",
    "    (6, 7): 12,\n",
    "    (7, 4): 27\n",
    "}"
   ]
  },
  {
   "cell_type": "code",
   "execution_count": 42,
   "metadata": {},
   "outputs": [],
   "source": [
    "# Define supply/demand for each hub\n",
    "hub_supply_demand = {1: -8, 2: 5, 3: 3, 4: -3, 5: 2, 6: -5, 7: 6}"
   ]
  },
  {
   "cell_type": "code",
   "execution_count": 43,
   "metadata": {},
   "outputs": [],
   "source": [
    "# Create variables for each edge\n",
    "x = {}\n",
    "for i, j in edges_with_costs.keys():\n",
    "    x[i, j] = m.addVar(vtype=GRB.INTEGER, name=f\"x_{i}_{j}\")"
   ]
  },
  {
   "cell_type": "code",
   "execution_count": 44,
   "metadata": {},
   "outputs": [],
   "source": [
    "# Constraint: Supply-Demand balance for each hub\n",
    "for hub in hubs:\n",
    "    m.addConstr(\n",
    "        sum(x[i, j] for i, j in edges_with_costs.keys() if i == hub) - \n",
    "        sum(x[j, i] for j, i in edges_with_costs.keys() if i == hub) == \n",
    "        hub_supply_demand[hub] * 14\n",
    "    )"
   ]
  },
  {
   "cell_type": "code",
   "execution_count": 45,
   "metadata": {},
   "outputs": [
    {
     "data": {
      "text/plain": [
       "<gurobi.Constr *Awaiting Model Update*>"
      ]
     },
     "execution_count": 45,
     "metadata": {},
     "output_type": "execute_result"
    }
   ],
   "source": [
    "# Constraints for total number of bikes transferred from hubs 2 and 3\n",
    "m.addConstr(sum(x[2, j] for j in hubs if (2, j) in edges_with_costs) <= 2 * sum(x[4, j] for j in hubs if (4, j) in edges_with_costs))\n",
    "m.addConstr(sum(x[3, j] for j in hubs if (3, j) in edges_with_costs) <= 2 * sum(x[5, j] for j in hubs if (5, j) in edges_with_costs))"
   ]
  },
  {
   "cell_type": "code",
   "execution_count": 46,
   "metadata": {},
   "outputs": [
    {
     "data": {
      "text/plain": [
       "<gurobi.Constr *Awaiting Model Update*>"
      ]
     },
     "execution_count": 46,
     "metadata": {},
     "output_type": "execute_result"
    }
   ],
   "source": [
    "# Constraints for transfers between hubs 1-5\n",
    "m.addConstr(\n",
    "    sum(x[i, j] for i in range(1, 6) for j in range(1, 6) if (i, j) in edges_with_costs) >= 0.05 * 1400\n",
    ")\n",
    "m.addConstr(\n",
    "    sum(x[i, j] for i in range(1, 6) for j in range(1, 6) if (i, j) in edges_with_costs) <= 0.50 * 1400\n",
    ")"
   ]
  },
  {
   "cell_type": "code",
   "execution_count": 47,
   "metadata": {},
   "outputs": [],
   "source": [
    "# Explicit Objective Function\n",
    "m.setObjective(sum(edges_with_costs[i, j] * x[i, j] for i, j in edges_with_costs), GRB.MINIMIZE)"
   ]
  },
  {
   "cell_type": "code",
   "execution_count": 48,
   "metadata": {},
   "outputs": [
    {
     "name": "stdout",
     "output_type": "stream",
     "text": [
      "Gurobi Optimizer version 11.0.0 build v11.0.0rc2 (mac64[arm] - Darwin 23.0.0 23A344)\n",
      "\n",
      "CPU model: Apple M1\n",
      "Thread count: 8 physical cores, 8 logical processors, using up to 8 threads\n",
      "\n",
      "Optimize a model with 11 rows, 12 columns and 46 nonzeros\n",
      "Model fingerprint: 0xc9499dfa\n",
      "Variable types: 0 continuous, 12 integer (0 binary)\n",
      "Coefficient statistics:\n",
      "  Matrix range     [1e+00, 2e+00]\n",
      "  Objective range  [1e+01, 4e+01]\n",
      "  Bounds range     [0e+00, 0e+00]\n",
      "  RHS range        [3e+01, 7e+02]\n",
      "Found heuristic solution: objective 25508.000000\n",
      "Presolve removed 11 rows and 12 columns\n",
      "Presolve time: 0.00s\n",
      "Presolve: All rows and columns removed\n",
      "\n",
      "Explored 0 nodes (0 simplex iterations) in 0.01 seconds (0.00 work units)\n",
      "Thread count was 1 (of 8 available processors)\n",
      "\n",
      "Solution count 2: 14938 25508 \n",
      "\n",
      "Optimal solution found (tolerance 1.00e-04)\n",
      "Best objective 1.493800000000e+04, best bound 1.493800000000e+04, gap 0.0000%\n"
     ]
    }
   ],
   "source": [
    "# Optimize the model\n",
    "m.optimize()"
   ]
  },
  {
   "cell_type": "code",
   "execution_count": 49,
   "metadata": {},
   "outputs": [
    {
     "name": "stdout",
     "output_type": "stream",
     "text": [
      "Transfer 140.0 bikes from hub 2 to hub 5\n",
      "Transfer 112.0 bikes from hub 3 to hub 1\n",
      "Transfer 70.0 bikes from hub 4 to hub 2\n",
      "Transfer 70.0 bikes from hub 5 to hub 3\n",
      "Transfer 28.0 bikes from hub 5 to hub 4\n",
      "Transfer 70.0 bikes from hub 5 to hub 6\n",
      "Transfer 84.0 bikes from hub 7 to hub 4\n"
     ]
    }
   ],
   "source": [
    "# Output the solution\n",
    "if m.status == GRB.Status.OPTIMAL:\n",
    "    solution = m.getAttr('x', x)\n",
    "    for i, j in edges_with_costs.keys():\n",
    "        if solution[i, j] > 0:\n",
    "            print(f\"Transfer {solution[i, j]} bikes from hub {i} to hub {j}\")"
   ]
  },
  {
   "cell_type": "code",
   "execution_count": 50,
   "metadata": {},
   "outputs": [
    {
     "name": "stdout",
     "output_type": "stream",
     "text": [
      "Transfer 140.0 bikes from hub 2 to hub 5\n",
      "Transfer 112.0 bikes from hub 3 to hub 1\n",
      "Transfer 70.0 bikes from hub 4 to hub 2\n",
      "Transfer 70.0 bikes from hub 5 to hub 3\n",
      "Transfer 28.0 bikes from hub 5 to hub 4\n",
      "Transfer 70.0 bikes from hub 5 to hub 6\n",
      "Transfer 84.0 bikes from hub 7 to hub 4\n"
     ]
    }
   ],
   "source": [
    "# Output the solution\n",
    "if m.status == GRB.Status.OPTIMAL:\n",
    "    solution = m.getAttr('x', x)\n",
    "    for (i, j) in edges_with_costs:\n",
    "        if solution[i, j] > 0:\n",
    "            print(f\"Transfer {solution[i, j]} bikes from hub {i} to hub {j}\")\n",
    "else:\n",
    "    print('No optimal solution found')"
   ]
  },
  {
   "cell_type": "code",
   "execution_count": null,
   "metadata": {},
   "outputs": [],
   "source": []
  }
 ],
 "metadata": {
  "kernelspec": {
   "display_name": "Python 3",
   "language": "python",
   "name": "python3"
  },
  "language_info": {
   "codemirror_mode": {
    "name": "ipython",
    "version": 3
   },
   "file_extension": ".py",
   "mimetype": "text/x-python",
   "name": "python",
   "nbconvert_exporter": "python",
   "pygments_lexer": "ipython3",
   "version": "3.10.11"
  }
 },
 "nbformat": 4,
 "nbformat_minor": 2
}
