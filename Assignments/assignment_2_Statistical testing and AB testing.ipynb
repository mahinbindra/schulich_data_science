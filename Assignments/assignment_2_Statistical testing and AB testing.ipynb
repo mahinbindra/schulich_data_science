{
 "cells": [
  {
   "attachments": {},
   "cell_type": "markdown",
   "metadata": {},
   "source": [
    "MBAN 6110 S: Assignment 2 - Statistical testing and A/B testing\n",
    "\n",
    "- Submitted by: Mahin Bindra\n",
    "- Student ID: 220089330"
   ]
  },
  {
   "cell_type": "code",
   "execution_count": 1,
   "metadata": {},
   "outputs": [],
   "source": [
    "import pandas as pd"
   ]
  },
  {
   "cell_type": "code",
   "execution_count": 2,
   "metadata": {},
   "outputs": [],
   "source": [
    "experiment = pd.read_csv('/Users/mahinbindra/Downloads/experiment_dataset.csv')"
   ]
  },
  {
   "cell_type": "code",
   "execution_count": 3,
   "metadata": {},
   "outputs": [
    {
     "data": {
      "text/html": [
       "<div>\n",
       "<style scoped>\n",
       "    .dataframe tbody tr th:only-of-type {\n",
       "        vertical-align: middle;\n",
       "    }\n",
       "\n",
       "    .dataframe tbody tr th {\n",
       "        vertical-align: top;\n",
       "    }\n",
       "\n",
       "    .dataframe thead th {\n",
       "        text-align: right;\n",
       "    }\n",
       "</style>\n",
       "<table border=\"1\" class=\"dataframe\">\n",
       "  <thead>\n",
       "    <tr style=\"text-align: right;\">\n",
       "      <th></th>\n",
       "      <th>Unnamed: 0</th>\n",
       "      <th>Age</th>\n",
       "      <th>Location</th>\n",
       "      <th>Device</th>\n",
       "      <th>Variant</th>\n",
       "      <th>Time Spent</th>\n",
       "      <th>CTR</th>\n",
       "    </tr>\n",
       "  </thead>\n",
       "  <tbody>\n",
       "    <tr>\n",
       "      <th>count</th>\n",
       "      <td>1000.000000</td>\n",
       "      <td>1000.000000</td>\n",
       "      <td>1000</td>\n",
       "      <td>1000</td>\n",
       "      <td>1000</td>\n",
       "      <td>1000.000000</td>\n",
       "      <td>1000.000000</td>\n",
       "    </tr>\n",
       "    <tr>\n",
       "      <th>unique</th>\n",
       "      <td>NaN</td>\n",
       "      <td>NaN</td>\n",
       "      <td>3</td>\n",
       "      <td>3</td>\n",
       "      <td>3</td>\n",
       "      <td>NaN</td>\n",
       "      <td>NaN</td>\n",
       "    </tr>\n",
       "    <tr>\n",
       "      <th>top</th>\n",
       "      <td>NaN</td>\n",
       "      <td>NaN</td>\n",
       "      <td>Location2</td>\n",
       "      <td>Device3</td>\n",
       "      <td>Control</td>\n",
       "      <td>NaN</td>\n",
       "      <td>NaN</td>\n",
       "    </tr>\n",
       "    <tr>\n",
       "      <th>freq</th>\n",
       "      <td>NaN</td>\n",
       "      <td>NaN</td>\n",
       "      <td>343</td>\n",
       "      <td>346</td>\n",
       "      <td>340</td>\n",
       "      <td>NaN</td>\n",
       "      <td>NaN</td>\n",
       "    </tr>\n",
       "    <tr>\n",
       "      <th>mean</th>\n",
       "      <td>499.500000</td>\n",
       "      <td>40.715000</td>\n",
       "      <td>NaN</td>\n",
       "      <td>NaN</td>\n",
       "      <td>NaN</td>\n",
       "      <td>22.713345</td>\n",
       "      <td>0.109145</td>\n",
       "    </tr>\n",
       "    <tr>\n",
       "      <th>std</th>\n",
       "      <td>288.819436</td>\n",
       "      <td>13.655557</td>\n",
       "      <td>NaN</td>\n",
       "      <td>NaN</td>\n",
       "      <td>NaN</td>\n",
       "      <td>5.479292</td>\n",
       "      <td>0.022366</td>\n",
       "    </tr>\n",
       "    <tr>\n",
       "      <th>min</th>\n",
       "      <td>0.000000</td>\n",
       "      <td>18.000000</td>\n",
       "      <td>NaN</td>\n",
       "      <td>NaN</td>\n",
       "      <td>NaN</td>\n",
       "      <td>7.114806</td>\n",
       "      <td>0.012975</td>\n",
       "    </tr>\n",
       "    <tr>\n",
       "      <th>25%</th>\n",
       "      <td>249.750000</td>\n",
       "      <td>28.000000</td>\n",
       "      <td>NaN</td>\n",
       "      <td>NaN</td>\n",
       "      <td>NaN</td>\n",
       "      <td>19.216608</td>\n",
       "      <td>0.094286</td>\n",
       "    </tr>\n",
       "    <tr>\n",
       "      <th>50%</th>\n",
       "      <td>499.500000</td>\n",
       "      <td>41.000000</td>\n",
       "      <td>NaN</td>\n",
       "      <td>NaN</td>\n",
       "      <td>NaN</td>\n",
       "      <td>22.506707</td>\n",
       "      <td>0.108944</td>\n",
       "    </tr>\n",
       "    <tr>\n",
       "      <th>75%</th>\n",
       "      <td>749.250000</td>\n",
       "      <td>53.000000</td>\n",
       "      <td>NaN</td>\n",
       "      <td>NaN</td>\n",
       "      <td>NaN</td>\n",
       "      <td>26.255950</td>\n",
       "      <td>0.124238</td>\n",
       "    </tr>\n",
       "    <tr>\n",
       "      <th>max</th>\n",
       "      <td>999.000000</td>\n",
       "      <td>64.000000</td>\n",
       "      <td>NaN</td>\n",
       "      <td>NaN</td>\n",
       "      <td>NaN</td>\n",
       "      <td>39.395770</td>\n",
       "      <td>0.172728</td>\n",
       "    </tr>\n",
       "  </tbody>\n",
       "</table>\n",
       "</div>"
      ],
      "text/plain": [
       "         Unnamed: 0          Age   Location   Device  Variant   Time Spent   \n",
       "count   1000.000000  1000.000000       1000     1000     1000  1000.000000  \\\n",
       "unique          NaN          NaN          3        3        3          NaN   \n",
       "top             NaN          NaN  Location2  Device3  Control          NaN   \n",
       "freq            NaN          NaN        343      346      340          NaN   \n",
       "mean     499.500000    40.715000        NaN      NaN      NaN    22.713345   \n",
       "std      288.819436    13.655557        NaN      NaN      NaN     5.479292   \n",
       "min        0.000000    18.000000        NaN      NaN      NaN     7.114806   \n",
       "25%      249.750000    28.000000        NaN      NaN      NaN    19.216608   \n",
       "50%      499.500000    41.000000        NaN      NaN      NaN    22.506707   \n",
       "75%      749.250000    53.000000        NaN      NaN      NaN    26.255950   \n",
       "max      999.000000    64.000000        NaN      NaN      NaN    39.395770   \n",
       "\n",
       "                CTR  \n",
       "count   1000.000000  \n",
       "unique          NaN  \n",
       "top             NaN  \n",
       "freq            NaN  \n",
       "mean       0.109145  \n",
       "std        0.022366  \n",
       "min        0.012975  \n",
       "25%        0.094286  \n",
       "50%        0.108944  \n",
       "75%        0.124238  \n",
       "max        0.172728  "
      ]
     },
     "execution_count": 3,
     "metadata": {},
     "output_type": "execute_result"
    }
   ],
   "source": [
    "experiment.describe(include='all')"
   ]
  },
  {
   "cell_type": "code",
   "execution_count": 4,
   "metadata": {},
   "outputs": [
    {
     "data": {
      "text/html": [
       "<div>\n",
       "<style scoped>\n",
       "    .dataframe tbody tr th:only-of-type {\n",
       "        vertical-align: middle;\n",
       "    }\n",
       "\n",
       "    .dataframe tbody tr th {\n",
       "        vertical-align: top;\n",
       "    }\n",
       "\n",
       "    .dataframe thead th {\n",
       "        text-align: right;\n",
       "    }\n",
       "</style>\n",
       "<table border=\"1\" class=\"dataframe\">\n",
       "  <thead>\n",
       "    <tr style=\"text-align: right;\">\n",
       "      <th></th>\n",
       "      <th>Unnamed: 0</th>\n",
       "      <th>Age</th>\n",
       "      <th>Location</th>\n",
       "      <th>Device</th>\n",
       "      <th>Variant</th>\n",
       "      <th>Time Spent</th>\n",
       "      <th>CTR</th>\n",
       "    </tr>\n",
       "  </thead>\n",
       "  <tbody>\n",
       "    <tr>\n",
       "      <th>0</th>\n",
       "      <td>0</td>\n",
       "      <td>62</td>\n",
       "      <td>Location2</td>\n",
       "      <td>Device2</td>\n",
       "      <td>Control</td>\n",
       "      <td>13.928669</td>\n",
       "      <td>0.084776</td>\n",
       "    </tr>\n",
       "    <tr>\n",
       "      <th>1</th>\n",
       "      <td>1</td>\n",
       "      <td>18</td>\n",
       "      <td>Location1</td>\n",
       "      <td>Device1</td>\n",
       "      <td>Variant B</td>\n",
       "      <td>11.310518</td>\n",
       "      <td>0.096859</td>\n",
       "    </tr>\n",
       "    <tr>\n",
       "      <th>2</th>\n",
       "      <td>2</td>\n",
       "      <td>21</td>\n",
       "      <td>Location2</td>\n",
       "      <td>Device1</td>\n",
       "      <td>Variant B</td>\n",
       "      <td>24.842100</td>\n",
       "      <td>0.097630</td>\n",
       "    </tr>\n",
       "    <tr>\n",
       "      <th>3</th>\n",
       "      <td>3</td>\n",
       "      <td>21</td>\n",
       "      <td>Location1</td>\n",
       "      <td>Device3</td>\n",
       "      <td>Variant B</td>\n",
       "      <td>20.061300</td>\n",
       "      <td>0.109783</td>\n",
       "    </tr>\n",
       "    <tr>\n",
       "      <th>4</th>\n",
       "      <td>4</td>\n",
       "      <td>57</td>\n",
       "      <td>Location1</td>\n",
       "      <td>Device2</td>\n",
       "      <td>Variant B</td>\n",
       "      <td>34.495503</td>\n",
       "      <td>0.068579</td>\n",
       "    </tr>\n",
       "    <tr>\n",
       "      <th>5</th>\n",
       "      <td>5</td>\n",
       "      <td>27</td>\n",
       "      <td>Location3</td>\n",
       "      <td>Device1</td>\n",
       "      <td>Variant B</td>\n",
       "      <td>26.129246</td>\n",
       "      <td>0.149341</td>\n",
       "    </tr>\n",
       "    <tr>\n",
       "      <th>6</th>\n",
       "      <td>6</td>\n",
       "      <td>37</td>\n",
       "      <td>Location3</td>\n",
       "      <td>Device3</td>\n",
       "      <td>Variant B</td>\n",
       "      <td>20.525362</td>\n",
       "      <td>0.095788</td>\n",
       "    </tr>\n",
       "    <tr>\n",
       "      <th>7</th>\n",
       "      <td>7</td>\n",
       "      <td>39</td>\n",
       "      <td>Location2</td>\n",
       "      <td>Device1</td>\n",
       "      <td>Variant A</td>\n",
       "      <td>21.525217</td>\n",
       "      <td>0.149985</td>\n",
       "    </tr>\n",
       "    <tr>\n",
       "      <th>8</th>\n",
       "      <td>8</td>\n",
       "      <td>54</td>\n",
       "      <td>Location3</td>\n",
       "      <td>Device2</td>\n",
       "      <td>Control</td>\n",
       "      <td>21.910608</td>\n",
       "      <td>0.135535</td>\n",
       "    </tr>\n",
       "    <tr>\n",
       "      <th>9</th>\n",
       "      <td>9</td>\n",
       "      <td>41</td>\n",
       "      <td>Location1</td>\n",
       "      <td>Device2</td>\n",
       "      <td>Variant A</td>\n",
       "      <td>27.642788</td>\n",
       "      <td>0.137266</td>\n",
       "    </tr>\n",
       "  </tbody>\n",
       "</table>\n",
       "</div>"
      ],
      "text/plain": [
       "   Unnamed: 0  Age   Location   Device    Variant  Time Spent       CTR\n",
       "0           0   62  Location2  Device2    Control   13.928669  0.084776\n",
       "1           1   18  Location1  Device1  Variant B   11.310518  0.096859\n",
       "2           2   21  Location2  Device1  Variant B   24.842100  0.097630\n",
       "3           3   21  Location1  Device3  Variant B   20.061300  0.109783\n",
       "4           4   57  Location1  Device2  Variant B   34.495503  0.068579\n",
       "5           5   27  Location3  Device1  Variant B   26.129246  0.149341\n",
       "6           6   37  Location3  Device3  Variant B   20.525362  0.095788\n",
       "7           7   39  Location2  Device1  Variant A   21.525217  0.149985\n",
       "8           8   54  Location3  Device2    Control   21.910608  0.135535\n",
       "9           9   41  Location1  Device2  Variant A   27.642788  0.137266"
      ]
     },
     "execution_count": 4,
     "metadata": {},
     "output_type": "execute_result"
    }
   ],
   "source": [
    "experiment.head(10)"
   ]
  },
  {
   "cell_type": "code",
   "execution_count": 5,
   "metadata": {},
   "outputs": [],
   "source": [
    "experiment.drop('Unnamed: 0', axis=1, inplace = True)"
   ]
  },
  {
   "cell_type": "code",
   "execution_count": 6,
   "metadata": {},
   "outputs": [
    {
     "name": "stdout",
     "output_type": "stream",
     "text": [
      "<class 'pandas.core.frame.DataFrame'>\n",
      "RangeIndex: 1000 entries, 0 to 999\n",
      "Data columns (total 6 columns):\n",
      " #   Column      Non-Null Count  Dtype  \n",
      "---  ------      --------------  -----  \n",
      " 0   Age         1000 non-null   int64  \n",
      " 1   Location    1000 non-null   object \n",
      " 2   Device      1000 non-null   object \n",
      " 3   Variant     1000 non-null   object \n",
      " 4   Time Spent  1000 non-null   float64\n",
      " 5   CTR         1000 non-null   float64\n",
      "dtypes: float64(2), int64(1), object(3)\n",
      "memory usage: 47.0+ KB\n"
     ]
    }
   ],
   "source": [
    "experiment.info()"
   ]
  },
  {
   "attachments": {},
   "cell_type": "markdown",
   "metadata": {},
   "source": [
    "**Beginning of Question 1 - Analyze the results to determine which feature (if any) results in CTR or Time Spent lift.**"
   ]
  },
  {
   "cell_type": "code",
   "execution_count": 7,
   "metadata": {},
   "outputs": [],
   "source": [
    "variant_control = experiment[experiment[\"Variant\"] == \"Control\"]\n",
    "variant_A = experiment[experiment[\"Variant\"] == \"Variant A\"]\n",
    "variant_B = experiment[experiment[\"Variant\"] == \"Variant B\"]"
   ]
  },
  {
   "cell_type": "code",
   "execution_count": 8,
   "metadata": {},
   "outputs": [
    {
     "name": "stdout",
     "output_type": "stream",
     "text": [
      "Variant\n",
      "Control      0.098554\n",
      "Variant A    0.120269\n",
      "Variant B    0.108933\n",
      "Name: CTR, dtype: float64\n"
     ]
    }
   ],
   "source": [
    "CTR_average = experiment.groupby('Variant')['CTR'].mean()\n",
    "print(CTR_average)"
   ]
  },
  {
   "cell_type": "code",
   "execution_count": 9,
   "metadata": {},
   "outputs": [
    {
     "name": "stdout",
     "output_type": "stream",
     "text": [
      "Variant\n",
      "Control      20.070781\n",
      "Variant A    24.805547\n",
      "Variant B    23.343783\n",
      "Name: Time Spent, dtype: float64\n"
     ]
    }
   ],
   "source": [
    "time_spent = experiment.groupby('Variant')['Time Spent'].mean()\n",
    "print(time_spent)"
   ]
  },
  {
   "cell_type": "code",
   "execution_count": 10,
   "metadata": {},
   "outputs": [],
   "source": [
    "CTR_mean_control = variant_control['CTR'].mean()\n",
    "CTR_mean_variant_A = variant_A['CTR'].mean()\n",
    "CTR_mean_variant_B = variant_B['CTR'].mean()"
   ]
  },
  {
   "cell_type": "code",
   "execution_count": 11,
   "metadata": {},
   "outputs": [],
   "source": [
    "CTR_lift_variant_A = ((CTR_mean_variant_A - CTR_mean_control) / (CTR_mean_control) * 100)\n",
    "CTR_lift_variant_B = ((CTR_mean_variant_B - CTR_mean_control) / (CTR_mean_control) * 100)"
   ]
  },
  {
   "cell_type": "code",
   "execution_count": 12,
   "metadata": {},
   "outputs": [
    {
     "data": {
      "text/plain": [
       "22.033916894202765"
      ]
     },
     "execution_count": 12,
     "metadata": {},
     "output_type": "execute_result"
    }
   ],
   "source": [
    "CTR_lift_variant_A"
   ]
  },
  {
   "cell_type": "code",
   "execution_count": 13,
   "metadata": {},
   "outputs": [
    {
     "data": {
      "text/plain": [
       "10.531151439806932"
      ]
     },
     "execution_count": 13,
     "metadata": {},
     "output_type": "execute_result"
    }
   ],
   "source": [
    "CTR_lift_variant_B"
   ]
  },
  {
   "cell_type": "code",
   "execution_count": 14,
   "metadata": {},
   "outputs": [],
   "source": [
    "Timespent_mean_control = variant_control['Time Spent'].mean()\n",
    "Timespent_mean_variant_A = variant_A['Time Spent'].mean()\n",
    "Timespent_mean_variant_B = variant_B['Time Spent'].mean()"
   ]
  },
  {
   "cell_type": "code",
   "execution_count": 15,
   "metadata": {},
   "outputs": [],
   "source": [
    "timespent_lift_variant_A = ((Timespent_mean_variant_A - Timespent_mean_control) / (Timespent_mean_control)) * 100\n",
    "timespent_lift_variant_B = ((Timespent_mean_variant_B - Timespent_mean_control) / (Timespent_mean_control)) * 100"
   ]
  },
  {
   "cell_type": "code",
   "execution_count": 16,
   "metadata": {},
   "outputs": [
    {
     "data": {
      "text/plain": [
       "23.590344455268273"
      ]
     },
     "execution_count": 16,
     "metadata": {},
     "output_type": "execute_result"
    }
   ],
   "source": [
    "timespent_lift_variant_A"
   ]
  },
  {
   "cell_type": "code",
   "execution_count": 17,
   "metadata": {},
   "outputs": [
    {
     "data": {
      "text/plain": [
       "16.307297489993424"
      ]
     },
     "execution_count": 17,
     "metadata": {},
     "output_type": "execute_result"
    }
   ],
   "source": [
    "timespent_lift_variant_B"
   ]
  },
  {
   "attachments": {},
   "cell_type": "markdown",
   "metadata": {},
   "source": [
    "Based on the above results, it is clear that variant A has signficantly "
   ]
  },
  {
   "attachments": {},
   "cell_type": "markdown",
   "metadata": {},
   "source": [
    "**Beginning of Question 2 - Conduct statistical testing to determine if there is a statistically significant difference between the features and the control group.**"
   ]
  },
  {
   "cell_type": "code",
   "execution_count": 18,
   "metadata": {},
   "outputs": [],
   "source": [
    "from scipy import stats"
   ]
  },
  {
   "cell_type": "code",
   "execution_count": 23,
   "metadata": {},
   "outputs": [
    {
     "data": {
      "text/html": [
       "<div>\n",
       "<style scoped>\n",
       "    .dataframe tbody tr th:only-of-type {\n",
       "        vertical-align: middle;\n",
       "    }\n",
       "\n",
       "    .dataframe tbody tr th {\n",
       "        vertical-align: top;\n",
       "    }\n",
       "\n",
       "    .dataframe thead th {\n",
       "        text-align: right;\n",
       "    }\n",
       "</style>\n",
       "<table border=\"1\" class=\"dataframe\">\n",
       "  <thead>\n",
       "    <tr style=\"text-align: right;\">\n",
       "      <th></th>\n",
       "      <th>CTR</th>\n",
       "      <th>Time Spent</th>\n",
       "    </tr>\n",
       "    <tr>\n",
       "      <th>Age</th>\n",
       "      <th></th>\n",
       "      <th></th>\n",
       "    </tr>\n",
       "  </thead>\n",
       "  <tbody>\n",
       "    <tr>\n",
       "      <th>18</th>\n",
       "      <td>0.104431</td>\n",
       "      <td>21.805160</td>\n",
       "    </tr>\n",
       "    <tr>\n",
       "      <th>19</th>\n",
       "      <td>0.113928</td>\n",
       "      <td>24.301099</td>\n",
       "    </tr>\n",
       "    <tr>\n",
       "      <th>20</th>\n",
       "      <td>0.106769</td>\n",
       "      <td>22.658484</td>\n",
       "    </tr>\n",
       "    <tr>\n",
       "      <th>21</th>\n",
       "      <td>0.106317</td>\n",
       "      <td>23.174444</td>\n",
       "    </tr>\n",
       "    <tr>\n",
       "      <th>22</th>\n",
       "      <td>0.111566</td>\n",
       "      <td>23.339777</td>\n",
       "    </tr>\n",
       "    <tr>\n",
       "      <th>23</th>\n",
       "      <td>0.111024</td>\n",
       "      <td>21.203465</td>\n",
       "    </tr>\n",
       "    <tr>\n",
       "      <th>24</th>\n",
       "      <td>0.109765</td>\n",
       "      <td>21.505956</td>\n",
       "    </tr>\n",
       "    <tr>\n",
       "      <th>25</th>\n",
       "      <td>0.109907</td>\n",
       "      <td>23.541231</td>\n",
       "    </tr>\n",
       "    <tr>\n",
       "      <th>26</th>\n",
       "      <td>0.110061</td>\n",
       "      <td>22.598906</td>\n",
       "    </tr>\n",
       "    <tr>\n",
       "      <th>27</th>\n",
       "      <td>0.105247</td>\n",
       "      <td>21.729390</td>\n",
       "    </tr>\n",
       "    <tr>\n",
       "      <th>28</th>\n",
       "      <td>0.103960</td>\n",
       "      <td>21.807757</td>\n",
       "    </tr>\n",
       "    <tr>\n",
       "      <th>29</th>\n",
       "      <td>0.100519</td>\n",
       "      <td>24.299111</td>\n",
       "    </tr>\n",
       "    <tr>\n",
       "      <th>30</th>\n",
       "      <td>0.106659</td>\n",
       "      <td>23.432915</td>\n",
       "    </tr>\n",
       "    <tr>\n",
       "      <th>31</th>\n",
       "      <td>0.104464</td>\n",
       "      <td>21.989786</td>\n",
       "    </tr>\n",
       "    <tr>\n",
       "      <th>32</th>\n",
       "      <td>0.112993</td>\n",
       "      <td>22.346828</td>\n",
       "    </tr>\n",
       "    <tr>\n",
       "      <th>33</th>\n",
       "      <td>0.114898</td>\n",
       "      <td>24.616644</td>\n",
       "    </tr>\n",
       "    <tr>\n",
       "      <th>34</th>\n",
       "      <td>0.106876</td>\n",
       "      <td>22.385361</td>\n",
       "    </tr>\n",
       "    <tr>\n",
       "      <th>35</th>\n",
       "      <td>0.111845</td>\n",
       "      <td>21.581871</td>\n",
       "    </tr>\n",
       "    <tr>\n",
       "      <th>36</th>\n",
       "      <td>0.107217</td>\n",
       "      <td>22.879286</td>\n",
       "    </tr>\n",
       "    <tr>\n",
       "      <th>37</th>\n",
       "      <td>0.120952</td>\n",
       "      <td>20.809576</td>\n",
       "    </tr>\n",
       "    <tr>\n",
       "      <th>38</th>\n",
       "      <td>0.117152</td>\n",
       "      <td>25.301273</td>\n",
       "    </tr>\n",
       "    <tr>\n",
       "      <th>39</th>\n",
       "      <td>0.105070</td>\n",
       "      <td>22.893486</td>\n",
       "    </tr>\n",
       "    <tr>\n",
       "      <th>40</th>\n",
       "      <td>0.121210</td>\n",
       "      <td>21.684611</td>\n",
       "    </tr>\n",
       "    <tr>\n",
       "      <th>41</th>\n",
       "      <td>0.110276</td>\n",
       "      <td>24.134836</td>\n",
       "    </tr>\n",
       "    <tr>\n",
       "      <th>42</th>\n",
       "      <td>0.113295</td>\n",
       "      <td>24.833502</td>\n",
       "    </tr>\n",
       "    <tr>\n",
       "      <th>43</th>\n",
       "      <td>0.106507</td>\n",
       "      <td>21.289182</td>\n",
       "    </tr>\n",
       "    <tr>\n",
       "      <th>44</th>\n",
       "      <td>0.106827</td>\n",
       "      <td>23.023596</td>\n",
       "    </tr>\n",
       "    <tr>\n",
       "      <th>45</th>\n",
       "      <td>0.099483</td>\n",
       "      <td>22.468996</td>\n",
       "    </tr>\n",
       "    <tr>\n",
       "      <th>46</th>\n",
       "      <td>0.110406</td>\n",
       "      <td>22.938505</td>\n",
       "    </tr>\n",
       "    <tr>\n",
       "      <th>47</th>\n",
       "      <td>0.119617</td>\n",
       "      <td>21.702336</td>\n",
       "    </tr>\n",
       "    <tr>\n",
       "      <th>48</th>\n",
       "      <td>0.108007</td>\n",
       "      <td>22.503268</td>\n",
       "    </tr>\n",
       "    <tr>\n",
       "      <th>49</th>\n",
       "      <td>0.115586</td>\n",
       "      <td>25.031848</td>\n",
       "    </tr>\n",
       "    <tr>\n",
       "      <th>50</th>\n",
       "      <td>0.104252</td>\n",
       "      <td>24.264450</td>\n",
       "    </tr>\n",
       "    <tr>\n",
       "      <th>51</th>\n",
       "      <td>0.106918</td>\n",
       "      <td>22.599297</td>\n",
       "    </tr>\n",
       "    <tr>\n",
       "      <th>52</th>\n",
       "      <td>0.106556</td>\n",
       "      <td>21.631632</td>\n",
       "    </tr>\n",
       "    <tr>\n",
       "      <th>53</th>\n",
       "      <td>0.107413</td>\n",
       "      <td>20.838519</td>\n",
       "    </tr>\n",
       "    <tr>\n",
       "      <th>54</th>\n",
       "      <td>0.108838</td>\n",
       "      <td>23.340736</td>\n",
       "    </tr>\n",
       "    <tr>\n",
       "      <th>55</th>\n",
       "      <td>0.108426</td>\n",
       "      <td>23.145363</td>\n",
       "    </tr>\n",
       "    <tr>\n",
       "      <th>56</th>\n",
       "      <td>0.109381</td>\n",
       "      <td>21.172350</td>\n",
       "    </tr>\n",
       "    <tr>\n",
       "      <th>57</th>\n",
       "      <td>0.106884</td>\n",
       "      <td>23.608306</td>\n",
       "    </tr>\n",
       "    <tr>\n",
       "      <th>58</th>\n",
       "      <td>0.107542</td>\n",
       "      <td>21.206153</td>\n",
       "    </tr>\n",
       "    <tr>\n",
       "      <th>59</th>\n",
       "      <td>0.106319</td>\n",
       "      <td>20.797435</td>\n",
       "    </tr>\n",
       "    <tr>\n",
       "      <th>60</th>\n",
       "      <td>0.114229</td>\n",
       "      <td>21.909116</td>\n",
       "    </tr>\n",
       "    <tr>\n",
       "      <th>61</th>\n",
       "      <td>0.105097</td>\n",
       "      <td>24.839548</td>\n",
       "    </tr>\n",
       "    <tr>\n",
       "      <th>62</th>\n",
       "      <td>0.111154</td>\n",
       "      <td>23.215577</td>\n",
       "    </tr>\n",
       "    <tr>\n",
       "      <th>63</th>\n",
       "      <td>0.111595</td>\n",
       "      <td>23.439610</td>\n",
       "    </tr>\n",
       "    <tr>\n",
       "      <th>64</th>\n",
       "      <td>0.105848</td>\n",
       "      <td>23.264560</td>\n",
       "    </tr>\n",
       "  </tbody>\n",
       "</table>\n",
       "</div>"
      ],
      "text/plain": [
       "          CTR  Time Spent\n",
       "Age                      \n",
       "18   0.104431   21.805160\n",
       "19   0.113928   24.301099\n",
       "20   0.106769   22.658484\n",
       "21   0.106317   23.174444\n",
       "22   0.111566   23.339777\n",
       "23   0.111024   21.203465\n",
       "24   0.109765   21.505956\n",
       "25   0.109907   23.541231\n",
       "26   0.110061   22.598906\n",
       "27   0.105247   21.729390\n",
       "28   0.103960   21.807757\n",
       "29   0.100519   24.299111\n",
       "30   0.106659   23.432915\n",
       "31   0.104464   21.989786\n",
       "32   0.112993   22.346828\n",
       "33   0.114898   24.616644\n",
       "34   0.106876   22.385361\n",
       "35   0.111845   21.581871\n",
       "36   0.107217   22.879286\n",
       "37   0.120952   20.809576\n",
       "38   0.117152   25.301273\n",
       "39   0.105070   22.893486\n",
       "40   0.121210   21.684611\n",
       "41   0.110276   24.134836\n",
       "42   0.113295   24.833502\n",
       "43   0.106507   21.289182\n",
       "44   0.106827   23.023596\n",
       "45   0.099483   22.468996\n",
       "46   0.110406   22.938505\n",
       "47   0.119617   21.702336\n",
       "48   0.108007   22.503268\n",
       "49   0.115586   25.031848\n",
       "50   0.104252   24.264450\n",
       "51   0.106918   22.599297\n",
       "52   0.106556   21.631632\n",
       "53   0.107413   20.838519\n",
       "54   0.108838   23.340736\n",
       "55   0.108426   23.145363\n",
       "56   0.109381   21.172350\n",
       "57   0.106884   23.608306\n",
       "58   0.107542   21.206153\n",
       "59   0.106319   20.797435\n",
       "60   0.114229   21.909116\n",
       "61   0.105097   24.839548\n",
       "62   0.111154   23.215577\n",
       "63   0.111595   23.439610\n",
       "64   0.105848   23.264560"
      ]
     },
     "execution_count": 23,
     "metadata": {},
     "output_type": "execute_result"
    }
   ],
   "source": [
    "experiment.groupby('Age')[['CTR', 'Time Spent']].mean()"
   ]
  },
  {
   "cell_type": "code",
   "execution_count": 42,
   "metadata": {},
   "outputs": [],
   "source": [
    "bins = [18, 26, 35, 45, 57, 65] \n",
    "labels = ['18-25', '26-34', '35-44', '45-56', '57-64']\n",
    "experiment['Age Group'] = pd.cut(experiment['Age'], bins = bins, labels = labels, right = False)"
   ]
  },
  {
   "cell_type": "code",
   "execution_count": 43,
   "metadata": {},
   "outputs": [
    {
     "data": {
      "text/html": [
       "<div>\n",
       "<style scoped>\n",
       "    .dataframe tbody tr th:only-of-type {\n",
       "        vertical-align: middle;\n",
       "    }\n",
       "\n",
       "    .dataframe tbody tr th {\n",
       "        vertical-align: top;\n",
       "    }\n",
       "\n",
       "    .dataframe thead th {\n",
       "        text-align: right;\n",
       "    }\n",
       "</style>\n",
       "<table border=\"1\" class=\"dataframe\">\n",
       "  <thead>\n",
       "    <tr style=\"text-align: right;\">\n",
       "      <th></th>\n",
       "      <th>Age</th>\n",
       "      <th>Location</th>\n",
       "      <th>Device</th>\n",
       "      <th>Variant</th>\n",
       "      <th>Time Spent</th>\n",
       "      <th>CTR</th>\n",
       "      <th>Age Group</th>\n",
       "    </tr>\n",
       "  </thead>\n",
       "  <tbody>\n",
       "    <tr>\n",
       "      <th>0</th>\n",
       "      <td>62</td>\n",
       "      <td>Location2</td>\n",
       "      <td>Device2</td>\n",
       "      <td>Control</td>\n",
       "      <td>13.928669</td>\n",
       "      <td>0.084776</td>\n",
       "      <td>57-64</td>\n",
       "    </tr>\n",
       "    <tr>\n",
       "      <th>1</th>\n",
       "      <td>18</td>\n",
       "      <td>Location1</td>\n",
       "      <td>Device1</td>\n",
       "      <td>Variant B</td>\n",
       "      <td>11.310518</td>\n",
       "      <td>0.096859</td>\n",
       "      <td>18-25</td>\n",
       "    </tr>\n",
       "    <tr>\n",
       "      <th>2</th>\n",
       "      <td>21</td>\n",
       "      <td>Location2</td>\n",
       "      <td>Device1</td>\n",
       "      <td>Variant B</td>\n",
       "      <td>24.842100</td>\n",
       "      <td>0.097630</td>\n",
       "      <td>18-25</td>\n",
       "    </tr>\n",
       "    <tr>\n",
       "      <th>3</th>\n",
       "      <td>21</td>\n",
       "      <td>Location1</td>\n",
       "      <td>Device3</td>\n",
       "      <td>Variant B</td>\n",
       "      <td>20.061300</td>\n",
       "      <td>0.109783</td>\n",
       "      <td>18-25</td>\n",
       "    </tr>\n",
       "    <tr>\n",
       "      <th>4</th>\n",
       "      <td>57</td>\n",
       "      <td>Location1</td>\n",
       "      <td>Device2</td>\n",
       "      <td>Variant B</td>\n",
       "      <td>34.495503</td>\n",
       "      <td>0.068579</td>\n",
       "      <td>57-64</td>\n",
       "    </tr>\n",
       "    <tr>\n",
       "      <th>...</th>\n",
       "      <td>...</td>\n",
       "      <td>...</td>\n",
       "      <td>...</td>\n",
       "      <td>...</td>\n",
       "      <td>...</td>\n",
       "      <td>...</td>\n",
       "      <td>...</td>\n",
       "    </tr>\n",
       "    <tr>\n",
       "      <th>995</th>\n",
       "      <td>39</td>\n",
       "      <td>Location2</td>\n",
       "      <td>Device2</td>\n",
       "      <td>Variant B</td>\n",
       "      <td>17.252030</td>\n",
       "      <td>0.092211</td>\n",
       "      <td>35-44</td>\n",
       "    </tr>\n",
       "    <tr>\n",
       "      <th>996</th>\n",
       "      <td>38</td>\n",
       "      <td>Location3</td>\n",
       "      <td>Device2</td>\n",
       "      <td>Control</td>\n",
       "      <td>30.075898</td>\n",
       "      <td>0.078151</td>\n",
       "      <td>35-44</td>\n",
       "    </tr>\n",
       "    <tr>\n",
       "      <th>997</th>\n",
       "      <td>60</td>\n",
       "      <td>Location2</td>\n",
       "      <td>Device3</td>\n",
       "      <td>Control</td>\n",
       "      <td>31.929223</td>\n",
       "      <td>0.125213</td>\n",
       "      <td>57-64</td>\n",
       "    </tr>\n",
       "    <tr>\n",
       "      <th>998</th>\n",
       "      <td>35</td>\n",
       "      <td>Location2</td>\n",
       "      <td>Device2</td>\n",
       "      <td>Variant B</td>\n",
       "      <td>14.680299</td>\n",
       "      <td>0.095423</td>\n",
       "      <td>35-44</td>\n",
       "    </tr>\n",
       "    <tr>\n",
       "      <th>999</th>\n",
       "      <td>55</td>\n",
       "      <td>Location1</td>\n",
       "      <td>Device1</td>\n",
       "      <td>Variant B</td>\n",
       "      <td>25.803169</td>\n",
       "      <td>0.166688</td>\n",
       "      <td>45-56</td>\n",
       "    </tr>\n",
       "  </tbody>\n",
       "</table>\n",
       "<p>1000 rows × 7 columns</p>\n",
       "</div>"
      ],
      "text/plain": [
       "     Age   Location   Device    Variant  Time Spent       CTR Age Group\n",
       "0     62  Location2  Device2    Control   13.928669  0.084776     57-64\n",
       "1     18  Location1  Device1  Variant B   11.310518  0.096859     18-25\n",
       "2     21  Location2  Device1  Variant B   24.842100  0.097630     18-25\n",
       "3     21  Location1  Device3  Variant B   20.061300  0.109783     18-25\n",
       "4     57  Location1  Device2  Variant B   34.495503  0.068579     57-64\n",
       "..   ...        ...      ...        ...         ...       ...       ...\n",
       "995   39  Location2  Device2  Variant B   17.252030  0.092211     35-44\n",
       "996   38  Location3  Device2    Control   30.075898  0.078151     35-44\n",
       "997   60  Location2  Device3    Control   31.929223  0.125213     57-64\n",
       "998   35  Location2  Device2  Variant B   14.680299  0.095423     35-44\n",
       "999   55  Location1  Device1  Variant B   25.803169  0.166688     45-56\n",
       "\n",
       "[1000 rows x 7 columns]"
      ]
     },
     "execution_count": 43,
     "metadata": {},
     "output_type": "execute_result"
    }
   ],
   "source": [
    "experiment"
   ]
  },
  {
   "cell_type": "code",
   "execution_count": 45,
   "metadata": {},
   "outputs": [
    {
     "data": {
      "text/html": [
       "<div>\n",
       "<style scoped>\n",
       "    .dataframe tbody tr th:only-of-type {\n",
       "        vertical-align: middle;\n",
       "    }\n",
       "\n",
       "    .dataframe tbody tr th {\n",
       "        vertical-align: top;\n",
       "    }\n",
       "\n",
       "    .dataframe thead th {\n",
       "        text-align: right;\n",
       "    }\n",
       "</style>\n",
       "<table border=\"1\" class=\"dataframe\">\n",
       "  <thead>\n",
       "    <tr style=\"text-align: right;\">\n",
       "      <th></th>\n",
       "      <th>CTR</th>\n",
       "      <th>Time Spent</th>\n",
       "    </tr>\n",
       "    <tr>\n",
       "      <th>Age Group</th>\n",
       "      <th></th>\n",
       "      <th></th>\n",
       "    </tr>\n",
       "  </thead>\n",
       "  <tbody>\n",
       "    <tr>\n",
       "      <th>18-25</th>\n",
       "      <td>0.108994</td>\n",
       "      <td>22.609709</td>\n",
       "    </tr>\n",
       "    <tr>\n",
       "      <th>26-34</th>\n",
       "      <td>0.107126</td>\n",
       "      <td>22.795633</td>\n",
       "    </tr>\n",
       "    <tr>\n",
       "      <th>35-44</th>\n",
       "      <td>0.112198</td>\n",
       "      <td>22.936464</td>\n",
       "    </tr>\n",
       "    <tr>\n",
       "      <th>45-56</th>\n",
       "      <td>0.108586</td>\n",
       "      <td>22.514234</td>\n",
       "    </tr>\n",
       "    <tr>\n",
       "      <th>57-64</th>\n",
       "      <td>0.108329</td>\n",
       "      <td>22.770140</td>\n",
       "    </tr>\n",
       "  </tbody>\n",
       "</table>\n",
       "</div>"
      ],
      "text/plain": [
       "                CTR  Time Spent\n",
       "Age Group                      \n",
       "18-25      0.108994   22.609709\n",
       "26-34      0.107126   22.795633\n",
       "35-44      0.112198   22.936464\n",
       "45-56      0.108586   22.514234\n",
       "57-64      0.108329   22.770140"
      ]
     },
     "execution_count": 45,
     "metadata": {},
     "output_type": "execute_result"
    }
   ],
   "source": [
    "experiment.groupby('Age Group')[['CTR', 'Time Spent']].mean()"
   ]
  },
  {
   "cell_type": "code",
   "execution_count": 47,
   "metadata": {},
   "outputs": [
    {
     "name": "stdout",
     "output_type": "stream",
     "text": [
      "F_onewayResult(statistic=1.4631788497955092, pvalue=0.21130759745565295)\n"
     ]
    }
   ],
   "source": [
    "age_group_1_CTR = experiment[experiment['Age Group'] == '18-25']['CTR']\n",
    "age_group_2_CTR = experiment[experiment['Age Group'] == '26-34']['CTR']\n",
    "age_group_3_CTR = experiment[experiment['Age Group'] == '35-44']['CTR']\n",
    "age_group_4_CTR = experiment[experiment['Age Group'] == '45-56']['CTR']\n",
    "age_group_5_CTR = experiment[experiment['Age Group'] == '57-64']['CTR']\n",
    "\n",
    "p_val = stats.f_oneway(age_group_1_CTR, age_group_2_CTR, age_group_3_CTR, age_group_4_CTR, age_group_5_CTR)\n",
    "print(p_val)"
   ]
  },
  {
   "cell_type": "code",
   "execution_count": 48,
   "metadata": {},
   "outputs": [
    {
     "name": "stdout",
     "output_type": "stream",
     "text": [
      "F_onewayResult(statistic=0.20635718076383386, pvalue=0.934940379050327)\n"
     ]
    }
   ],
   "source": [
    "age_group_1_timespent = experiment[experiment['Age Group'] == '18-25']['Time Spent']\n",
    "age_group_2_timespent = experiment[experiment['Age Group'] == '26-34']['Time Spent']\n",
    "age_group_3_timespent = experiment[experiment['Age Group'] == '35-44']['Time Spent']\n",
    "age_group_4_timespent = experiment[experiment['Age Group'] == '45-56']['Time Spent']\n",
    "age_group_5_timespent = experiment[experiment['Age Group'] == '57-64']['Time Spent']\n",
    "\n",
    "p_val = stats.f_oneway(age_group_1_timespent, age_group_2_timespent, age_group_3_timespent, age_group_4_timespent, age_group_5_timespent)\n",
    "print(p_val)"
   ]
  },
  {
   "cell_type": "code",
   "execution_count": 24,
   "metadata": {},
   "outputs": [
    {
     "data": {
      "text/html": [
       "<div>\n",
       "<style scoped>\n",
       "    .dataframe tbody tr th:only-of-type {\n",
       "        vertical-align: middle;\n",
       "    }\n",
       "\n",
       "    .dataframe tbody tr th {\n",
       "        vertical-align: top;\n",
       "    }\n",
       "\n",
       "    .dataframe thead th {\n",
       "        text-align: right;\n",
       "    }\n",
       "</style>\n",
       "<table border=\"1\" class=\"dataframe\">\n",
       "  <thead>\n",
       "    <tr style=\"text-align: right;\">\n",
       "      <th></th>\n",
       "      <th>CTR</th>\n",
       "      <th>Time Spent</th>\n",
       "    </tr>\n",
       "    <tr>\n",
       "      <th>Location</th>\n",
       "      <th></th>\n",
       "      <th></th>\n",
       "    </tr>\n",
       "  </thead>\n",
       "  <tbody>\n",
       "    <tr>\n",
       "      <th>Location1</th>\n",
       "      <td>0.110217</td>\n",
       "      <td>22.707286</td>\n",
       "    </tr>\n",
       "    <tr>\n",
       "      <th>Location2</th>\n",
       "      <td>0.108517</td>\n",
       "      <td>22.648998</td>\n",
       "    </tr>\n",
       "    <tr>\n",
       "      <th>Location3</th>\n",
       "      <td>0.108708</td>\n",
       "      <td>22.787691</td>\n",
       "    </tr>\n",
       "  </tbody>\n",
       "</table>\n",
       "</div>"
      ],
      "text/plain": [
       "                CTR  Time Spent\n",
       "Location                       \n",
       "Location1  0.110217   22.707286\n",
       "Location2  0.108517   22.648998\n",
       "Location3  0.108708   22.787691"
      ]
     },
     "execution_count": 24,
     "metadata": {},
     "output_type": "execute_result"
    }
   ],
   "source": [
    "experiment.groupby('Location')[['CTR', 'Time Spent']].mean()"
   ]
  },
  {
   "cell_type": "code",
   "execution_count": 25,
   "metadata": {},
   "outputs": [
    {
     "name": "stdout",
     "output_type": "stream",
     "text": [
      "F_onewayResult(statistic=0.5792245145655729, pvalue=0.5605211716238133)\n"
     ]
    }
   ],
   "source": [
    "location_1_CTR = experiment[experiment['Location'] == 'Location1']['CTR']\n",
    "location_2_CTR = experiment[experiment['Location'] == 'Location2']['CTR']\n",
    "location_3_CTR = experiment[experiment['Location'] == 'Location3']['CTR']\n",
    "\n",
    "p_val = stats.f_oneway(location_1_CTR, location_2_CTR, location_3_CTR)\n",
    "print(p_val)"
   ]
  },
  {
   "cell_type": "code",
   "execution_count": 26,
   "metadata": {},
   "outputs": [
    {
     "name": "stdout",
     "output_type": "stream",
     "text": [
      "F_onewayResult(statistic=0.053578839670573676, pvalue=0.9478339402848069)\n"
     ]
    }
   ],
   "source": [
    "location_1_timespent = experiment[experiment['Location'] == 'Location1']['Time Spent']\n",
    "location_2_timespent = experiment[experiment['Location'] == 'Location2']['Time Spent']\n",
    "location_3_timespent = experiment[experiment['Location'] == 'Location3']['Time Spent']\n",
    "\n",
    "p_val = stats.f_oneway(location_1_timespent, location_2_timespent, location_3_timespent)\n",
    "print(p_val)"
   ]
  },
  {
   "cell_type": "code",
   "execution_count": 27,
   "metadata": {},
   "outputs": [
    {
     "data": {
      "text/html": [
       "<div>\n",
       "<style scoped>\n",
       "    .dataframe tbody tr th:only-of-type {\n",
       "        vertical-align: middle;\n",
       "    }\n",
       "\n",
       "    .dataframe tbody tr th {\n",
       "        vertical-align: top;\n",
       "    }\n",
       "\n",
       "    .dataframe thead th {\n",
       "        text-align: right;\n",
       "    }\n",
       "</style>\n",
       "<table border=\"1\" class=\"dataframe\">\n",
       "  <thead>\n",
       "    <tr style=\"text-align: right;\">\n",
       "      <th></th>\n",
       "      <th>CTR</th>\n",
       "      <th>Time Spent</th>\n",
       "    </tr>\n",
       "    <tr>\n",
       "      <th>Device</th>\n",
       "      <th></th>\n",
       "      <th></th>\n",
       "    </tr>\n",
       "  </thead>\n",
       "  <tbody>\n",
       "    <tr>\n",
       "      <th>Device1</th>\n",
       "      <td>0.109634</td>\n",
       "      <td>22.635032</td>\n",
       "    </tr>\n",
       "    <tr>\n",
       "      <th>Device2</th>\n",
       "      <td>0.109868</td>\n",
       "      <td>22.890021</td>\n",
       "    </tr>\n",
       "    <tr>\n",
       "      <th>Device3</th>\n",
       "      <td>0.107993</td>\n",
       "      <td>22.612276</td>\n",
       "    </tr>\n",
       "  </tbody>\n",
       "</table>\n",
       "</div>"
      ],
      "text/plain": [
       "              CTR  Time Spent\n",
       "Device                       \n",
       "Device1  0.109634   22.635032\n",
       "Device2  0.109868   22.890021\n",
       "Device3  0.107993   22.612276"
      ]
     },
     "execution_count": 27,
     "metadata": {},
     "output_type": "execute_result"
    }
   ],
   "source": [
    "experiment.groupby('Device')[['CTR', 'Time Spent']].mean()"
   ]
  },
  {
   "cell_type": "code",
   "execution_count": 28,
   "metadata": {},
   "outputs": [
    {
     "name": "stdout",
     "output_type": "stream",
     "text": [
      "F_onewayResult(statistic=0.7105872492654717, pvalue=0.4916042399968955)\n"
     ]
    }
   ],
   "source": [
    "device_1_CTR = experiment[experiment['Device'] == 'Device1']['CTR']\n",
    "device_2_CTR = experiment[experiment['Device'] == 'Device2']['CTR']\n",
    "device_3_CTR = experiment[experiment['Device'] == 'Device3']['CTR']\n",
    "\n",
    "p_val = stats.f_oneway(device_1_CTR, device_2_CTR, device_3_CTR)\n",
    "print(p_val)"
   ]
  },
  {
   "cell_type": "code",
   "execution_count": 29,
   "metadata": {},
   "outputs": [
    {
     "name": "stdout",
     "output_type": "stream",
     "text": [
      "F_onewayResult(statistic=0.26645371811833884, pvalue=0.7661459958744103)\n"
     ]
    }
   ],
   "source": [
    "device_1_timespent = experiment[experiment['Device'] == 'Device1']['Time Spent']\n",
    "device_2_timespent = experiment[experiment['Device'] == 'Device2']['Time Spent']\n",
    "device_3_timespent = experiment[experiment['Device'] == 'Device3']['Time Spent']\n",
    "\n",
    "p_val = stats.f_oneway(device_1_timespent, device_2_timespent, device_3_timespent)\n",
    "print(p_val)"
   ]
  },
  {
   "cell_type": "code",
   "execution_count": 30,
   "metadata": {},
   "outputs": [
    {
     "name": "stdout",
     "output_type": "stream",
     "text": [
      "F_onewayResult(statistic=93.58891593622702, pvalue=5.638952705781554e-38)\n"
     ]
    }
   ],
   "source": [
    "Control = experiment[experiment['Variant'] == 'Control']['CTR']\n",
    "Variant_A = experiment[experiment['Variant'] == 'Variant A']['CTR']\n",
    "Variant_B = experiment[experiment['Variant'] == 'Variant B']['CTR']\n",
    "\n",
    "p_val = stats.f_oneway(Variant_A, Variant_B, Control)\n",
    "print(p_val)"
   ]
  },
  {
   "cell_type": "code",
   "execution_count": 31,
   "metadata": {},
   "outputs": [
    {
     "name": "stdout",
     "output_type": "stream",
     "text": [
      "F_onewayResult(statistic=75.60840947416146, pvalue=2.676826588910432e-31)\n"
     ]
    }
   ],
   "source": [
    "Control = experiment[experiment['Variant'] == 'Control']['Time Spent']\n",
    "Variant_A = experiment[experiment['Variant'] == 'Variant A']['Time Spent']\n",
    "Variant_B = experiment[experiment['Variant'] == 'Variant B']['Time Spent']\n",
    "\n",
    "p_val = stats.f_oneway(Variant_A, Variant_B, Control)\n",
    "print(p_val)"
   ]
  },
  {
   "cell_type": "code",
   "execution_count": 32,
   "metadata": {},
   "outputs": [
    {
     "name": "stdout",
     "output_type": "stream",
     "text": [
      "Ttest_indResult(statistic=13.829424737499187, pvalue=1.9602781373243157e-38)\n",
      "Ttest_indResult(statistic=6.4718143491783255, pvalue=1.8743198199982106e-10)\n",
      "Ttest_indResult(statistic=7.08499696316128, pvalue=3.587180487986577e-12)\n"
     ]
    }
   ],
   "source": [
    "Control = experiment[experiment['Variant'] == 'Control']['CTR']\n",
    "Variant_A = experiment[experiment['Variant'] == 'Variant A']['CTR']\n",
    "Variant_B = experiment[experiment['Variant'] == 'Variant B']['CTR']\n",
    "\n",
    "p_val = stats.ttest_ind(Variant_A, Control)\n",
    "p_val_2 = stats.ttest_ind(Variant_B, Control)\n",
    "p_val_3 = stats.ttest_ind(Variant_A, Variant_B)\n",
    "print(p_val)\n",
    "print(p_val_2)\n",
    "print(p_val_3)"
   ]
  },
  {
   "cell_type": "code",
   "execution_count": 33,
   "metadata": {},
   "outputs": [
    {
     "name": "stdout",
     "output_type": "stream",
     "text": [
      "Ttest_indResult(statistic=12.142363487472364, pvalue=8.488565644996449e-31)\n",
      "Ttest_indResult(statistic=8.174237395991806, pvalue=1.496358076285182e-15)\n",
      "Ttest_indResult(statistic=3.6788175394209075, pvalue=0.0002534771014765265)\n"
     ]
    }
   ],
   "source": [
    "Control = experiment[experiment['Variant'] == 'Control']['Time Spent']\n",
    "Variant_A = experiment[experiment['Variant'] == 'Variant A']['Time Spent']\n",
    "Variant_B = experiment[experiment['Variant'] == 'Variant B']['Time Spent']\n",
    "\n",
    "p_val = stats.ttest_ind(Variant_A, Control)\n",
    "p_val_2 = stats.ttest_ind(Variant_B, Control)\n",
    "p_val_3 = stats.ttest_ind(Variant_A, Variant_B)\n",
    "print(p_val)\n",
    "print(p_val_2)\n",
    "print(p_val_3)"
   ]
  },
  {
   "attachments": {},
   "cell_type": "markdown",
   "metadata": {},
   "source": [
    "**Question 3: Summarize your results. Make a recommendation to the engineering team about which feature to deploy.**\n",
    "\n",
    "Crucial to understanding which variant performs better, I took a systematic and robust approach, such as conducting statistical tests, to determine the variant that would yield a higher click-through rate and increase users' time spent on the app, resulting in higher consumer spending. \n",
    "\n",
    "To assess whether user behaviour varies by demographics post-experimentation, we performed statistical tests to compare the behavioral variations by age, location and device. A high p-value (>0.05) reinforces our belief that user behaviour by demographics is similar and such demographical differences do not impact CTR and time spent on the application.\n",
    "\n",
    "To further evaluate the results, we conducted ANOVA and T-tests to determine that CTR and Time Spent have statistically significant values indicating that both variants and the control group have performed notably differently regarding click-through rate and time spent. \n",
    "To fortify our findings, we performed a t-test to compare the variants and the control group to each other individually.\n",
    "Since the CTR p-values and time spent p-values for all three variants are statistically different, it is evident that one variant performs better in inducing a higher click-through rate while using the feature and compelling users to spend more time on the application, respectively.\n",
    "\n",
    "To understand which variant is better, we grouped the dataset by variant and calculated the mean for CTR and time spent. On comparison of results, though both variants A and B have higher average CTR and time spent, variant A has slightly higher mean values. \n",
    "We also calculated the CTR and time spent lift for both variants to validate our results further. We found that the CTR lift for variants A and B is positive, indicating that both variants induce a higher click-through rate (CTR) than the control group. However, variant A is more effective in driving user engagement, resulting in higher user entrenchment towards the feature than variant B due to its higher CTR lift. Similarly, a positive time spent lift for both variants indicates better performance over the control variant. In contrast, a higher time spent lift of variant A over variant B suggests it's more engaging, resulting in consumers spending more time interacting with the feature.\n",
    "\n",
    "**_Based on the above analysis, I recommend that we deploy variant A to all users to compel higher user engagement and interaction with the feature._**"
   ]
  },
  {
   "attachments": {},
   "cell_type": "markdown",
   "metadata": {},
   "source": [
    "**Question 4: Create a roll-out plan. How quickly will you introduce the feature to your audience?**\n",
    "\n",
    "Now that we have decided which variant to deploy, we need to fulfil the following objectives before rolling out the feature to the audience - \n",
    "- **Test the feature internally** - Conduct rigorous internal tests to ensure the proper functioning of the feature to ensure no bugs and performance issues with the feature\n",
    "- **Devise a gradational approach** -  Rather than launching the feature to all users at once, follow a phased approach to assess customer perceptions, fix unforeseen bugs to optimize the feature and then roll out the feature to everyone—for example, Apple's beta version approach when launching a new iOS version.\n",
    "- **Plan a sound advertising strategy** - Identify the current unmet needs in the market and how the said feature will resolve these issues and add value for the users. Also, assess which segments, if any, would benefit significantly from the feature and prioritize them during the phased approach.\n",
    "- **Set up a user feedback and improvement team** - Assign a team that constantly monitors feedback and glitches in the feature, fixing them imperatively, ensuring a smooth user experience for all customers, potentially establishing a firm entrenchment towards the application.\n",
    "- **Performance Tracker** - Carry out wave-over-wave studies to keep track of the Key Performace Indicators (KPIs) to extrapolate strategies to ensure customer stickiness and induce high user engagement and satisfaction.\n",
    "\n",
    "After completing all the significant deliverables and work packages, the organization should introduce the feature to the audience at the earliest, providing enough availability of resources to carry out the launch. Launching the feature at the earliest would ensure the following.\n",
    "- **Innovation** - Users who already bought into the application would appreciate changes and new ideas, reinforcing their comfort with the application\n",
    "- **Solve for bugs** - In case any users are not satisfied with the application due to technical issues and plan to move away from it, new changes will ensure a smoother experience, thus retaining those consumers\n",
    "- **Attract new users** - Consumers not currently using the application might find the updated feature appealing and switch immediately."
   ]
  }
 ],
 "metadata": {
  "kernelspec": {
   "display_name": "Python 3",
   "language": "python",
   "name": "python3"
  },
  "language_info": {
   "codemirror_mode": {
    "name": "ipython",
    "version": 3
   },
   "file_extension": ".py",
   "mimetype": "text/x-python",
   "name": "python",
   "nbconvert_exporter": "python",
   "pygments_lexer": "ipython3",
   "version": "3.10.11"
  },
  "orig_nbformat": 4
 },
 "nbformat": 4,
 "nbformat_minor": 2
}
