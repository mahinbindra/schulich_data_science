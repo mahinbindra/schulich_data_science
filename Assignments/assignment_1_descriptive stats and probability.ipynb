{
 "cells": [
  {
   "cell_type": "code",
   "execution_count": 1,
   "metadata": {},
   "outputs": [],
   "source": [
    "import pandas as pd\n",
    "import numpy as np\n",
    "import matplotlib.pyplot as plt\n",
    "import seaborn as sns\n",
    "# Import all necessary libraries / modules that will be required for data cleaning and visualization purposes"
   ]
  },
  {
   "cell_type": "code",
   "execution_count": 3,
   "metadata": {},
   "outputs": [],
   "source": [
    "sales = pd.read_csv('/Users/mahinbindra/Downloads/sales_data.csv')\n",
    "# Create variable 'sales' and read the csv data file onto that variable using pandas object"
   ]
  },
  {
   "cell_type": "code",
   "execution_count": 4,
   "metadata": {},
   "outputs": [
    {
     "data": {
      "text/html": [
       "<div>\n",
       "<style scoped>\n",
       "    .dataframe tbody tr th:only-of-type {\n",
       "        vertical-align: middle;\n",
       "    }\n",
       "\n",
       "    .dataframe tbody tr th {\n",
       "        vertical-align: top;\n",
       "    }\n",
       "\n",
       "    .dataframe thead th {\n",
       "        text-align: right;\n",
       "    }\n",
       "</style>\n",
       "<table border=\"1\" class=\"dataframe\">\n",
       "  <thead>\n",
       "    <tr style=\"text-align: right;\">\n",
       "      <th></th>\n",
       "      <th>Product</th>\n",
       "      <th>Region</th>\n",
       "      <th>Price</th>\n",
       "      <th>Units Sold</th>\n",
       "      <th>Sale Date</th>\n",
       "    </tr>\n",
       "  </thead>\n",
       "  <tbody>\n",
       "    <tr>\n",
       "      <th>0</th>\n",
       "      <td>NaN</td>\n",
       "      <td>Region_6</td>\n",
       "      <td>75.96</td>\n",
       "      <td>10.0</td>\n",
       "      <td>2022-01-01</td>\n",
       "    </tr>\n",
       "    <tr>\n",
       "      <th>1</th>\n",
       "      <td>NaN</td>\n",
       "      <td>Region_1</td>\n",
       "      <td>175.78</td>\n",
       "      <td>8.0</td>\n",
       "      <td>2022-01-02</td>\n",
       "    </tr>\n",
       "    <tr>\n",
       "      <th>2</th>\n",
       "      <td>Product_46</td>\n",
       "      <td>Region_3</td>\n",
       "      <td>20.43</td>\n",
       "      <td>12.0</td>\n",
       "      <td>2022-01-03</td>\n",
       "    </tr>\n",
       "    <tr>\n",
       "      <th>3</th>\n",
       "      <td>Product_36</td>\n",
       "      <td>Region_1</td>\n",
       "      <td>12.77</td>\n",
       "      <td>10.0</td>\n",
       "      <td>2022-01-04</td>\n",
       "    </tr>\n",
       "    <tr>\n",
       "      <th>4</th>\n",
       "      <td>Product_17</td>\n",
       "      <td>Region_6</td>\n",
       "      <td>125.69</td>\n",
       "      <td>6.0</td>\n",
       "      <td>2022-01-05</td>\n",
       "    </tr>\n",
       "    <tr>\n",
       "      <th>...</th>\n",
       "      <td>...</td>\n",
       "      <td>...</td>\n",
       "      <td>...</td>\n",
       "      <td>...</td>\n",
       "      <td>...</td>\n",
       "    </tr>\n",
       "    <tr>\n",
       "      <th>1045</th>\n",
       "      <td>Product_45</td>\n",
       "      <td>Region_7</td>\n",
       "      <td>78.69</td>\n",
       "      <td>8.0</td>\n",
       "      <td>2022-07-28</td>\n",
       "    </tr>\n",
       "    <tr>\n",
       "      <th>1046</th>\n",
       "      <td>Product_1</td>\n",
       "      <td>Region_6</td>\n",
       "      <td>NaN</td>\n",
       "      <td>8.0</td>\n",
       "      <td>2022-08-02</td>\n",
       "    </tr>\n",
       "    <tr>\n",
       "      <th>1047</th>\n",
       "      <td>Product_17</td>\n",
       "      <td>Region_2</td>\n",
       "      <td>114.37</td>\n",
       "      <td>11.0</td>\n",
       "      <td>2023-12-18</td>\n",
       "    </tr>\n",
       "    <tr>\n",
       "      <th>1048</th>\n",
       "      <td>NaN</td>\n",
       "      <td>Region_8</td>\n",
       "      <td>NaN</td>\n",
       "      <td>5.0</td>\n",
       "      <td>2023-12-27</td>\n",
       "    </tr>\n",
       "    <tr>\n",
       "      <th>1049</th>\n",
       "      <td>Product_16</td>\n",
       "      <td>Region_2</td>\n",
       "      <td>69.30</td>\n",
       "      <td>8.0</td>\n",
       "      <td>2024-02-23</td>\n",
       "    </tr>\n",
       "  </tbody>\n",
       "</table>\n",
       "<p>1050 rows × 5 columns</p>\n",
       "</div>"
      ],
      "text/plain": [
       "         Product    Region   Price  Units Sold   Sale Date\n",
       "0            NaN  Region_6   75.96        10.0  2022-01-01\n",
       "1            NaN  Region_1  175.78         8.0  2022-01-02\n",
       "2     Product_46  Region_3   20.43        12.0  2022-01-03\n",
       "3     Product_36  Region_1   12.77        10.0  2022-01-04\n",
       "4     Product_17  Region_6  125.69         6.0  2022-01-05\n",
       "...          ...       ...     ...         ...         ...\n",
       "1045  Product_45  Region_7   78.69         8.0  2022-07-28\n",
       "1046   Product_1  Region_6     NaN         8.0  2022-08-02\n",
       "1047  Product_17  Region_2  114.37        11.0  2023-12-18\n",
       "1048         NaN  Region_8     NaN         5.0  2023-12-27\n",
       "1049  Product_16  Region_2   69.30         8.0  2024-02-23\n",
       "\n",
       "[1050 rows x 5 columns]"
      ]
     },
     "execution_count": 4,
     "metadata": {},
     "output_type": "execute_result"
    }
   ],
   "source": [
    "sales\n",
    "# Output the sales_data"
   ]
  },
  {
   "cell_type": "code",
   "execution_count": 10,
   "metadata": {},
   "outputs": [
    {
     "data": {
      "text/html": [
       "<div>\n",
       "<style scoped>\n",
       "    .dataframe tbody tr th:only-of-type {\n",
       "        vertical-align: middle;\n",
       "    }\n",
       "\n",
       "    .dataframe tbody tr th {\n",
       "        vertical-align: top;\n",
       "    }\n",
       "\n",
       "    .dataframe thead th {\n",
       "        text-align: right;\n",
       "    }\n",
       "</style>\n",
       "<table border=\"1\" class=\"dataframe\">\n",
       "  <thead>\n",
       "    <tr style=\"text-align: right;\">\n",
       "      <th></th>\n",
       "      <th>Product</th>\n",
       "      <th>Region</th>\n",
       "      <th>Price</th>\n",
       "      <th>Units Sold</th>\n",
       "      <th>Sale Date</th>\n",
       "    </tr>\n",
       "  </thead>\n",
       "  <tbody>\n",
       "    <tr>\n",
       "      <th>count</th>\n",
       "      <td>947</td>\n",
       "      <td>946</td>\n",
       "      <td>945.000000</td>\n",
       "      <td>946.000000</td>\n",
       "      <td>1050</td>\n",
       "    </tr>\n",
       "    <tr>\n",
       "      <th>unique</th>\n",
       "      <td>50</td>\n",
       "      <td>10</td>\n",
       "      <td>NaN</td>\n",
       "      <td>NaN</td>\n",
       "      <td>1000</td>\n",
       "    </tr>\n",
       "    <tr>\n",
       "      <th>top</th>\n",
       "      <td>Product_45</td>\n",
       "      <td>Region_9</td>\n",
       "      <td>NaN</td>\n",
       "      <td>NaN</td>\n",
       "      <td>2022-07-28</td>\n",
       "    </tr>\n",
       "    <tr>\n",
       "      <th>freq</th>\n",
       "      <td>28</td>\n",
       "      <td>109</td>\n",
       "      <td>NaN</td>\n",
       "      <td>NaN</td>\n",
       "      <td>2</td>\n",
       "    </tr>\n",
       "    <tr>\n",
       "      <th>mean</th>\n",
       "      <td>NaN</td>\n",
       "      <td>NaN</td>\n",
       "      <td>107.598688</td>\n",
       "      <td>10.048626</td>\n",
       "      <td>NaN</td>\n",
       "    </tr>\n",
       "    <tr>\n",
       "      <th>std</th>\n",
       "      <td>NaN</td>\n",
       "      <td>NaN</td>\n",
       "      <td>124.020322</td>\n",
       "      <td>3.172261</td>\n",
       "      <td>NaN</td>\n",
       "    </tr>\n",
       "    <tr>\n",
       "      <th>min</th>\n",
       "      <td>NaN</td>\n",
       "      <td>NaN</td>\n",
       "      <td>0.200000</td>\n",
       "      <td>2.000000</td>\n",
       "      <td>NaN</td>\n",
       "    </tr>\n",
       "    <tr>\n",
       "      <th>25%</th>\n",
       "      <td>NaN</td>\n",
       "      <td>NaN</td>\n",
       "      <td>29.430000</td>\n",
       "      <td>8.000000</td>\n",
       "      <td>NaN</td>\n",
       "    </tr>\n",
       "    <tr>\n",
       "      <th>50%</th>\n",
       "      <td>NaN</td>\n",
       "      <td>NaN</td>\n",
       "      <td>78.130000</td>\n",
       "      <td>10.000000</td>\n",
       "      <td>NaN</td>\n",
       "    </tr>\n",
       "    <tr>\n",
       "      <th>75%</th>\n",
       "      <td>NaN</td>\n",
       "      <td>NaN</td>\n",
       "      <td>142.570000</td>\n",
       "      <td>12.000000</td>\n",
       "      <td>NaN</td>\n",
       "    </tr>\n",
       "    <tr>\n",
       "      <th>max</th>\n",
       "      <td>NaN</td>\n",
       "      <td>NaN</td>\n",
       "      <td>2143.300000</td>\n",
       "      <td>22.000000</td>\n",
       "      <td>NaN</td>\n",
       "    </tr>\n",
       "  </tbody>\n",
       "</table>\n",
       "</div>"
      ],
      "text/plain": [
       "           Product    Region        Price  Units Sold   Sale Date\n",
       "count          947       946   945.000000  946.000000        1050\n",
       "unique          50        10          NaN         NaN        1000\n",
       "top     Product_45  Region_9          NaN         NaN  2022-07-28\n",
       "freq            28       109          NaN         NaN           2\n",
       "mean           NaN       NaN   107.598688   10.048626         NaN\n",
       "std            NaN       NaN   124.020322    3.172261         NaN\n",
       "min            NaN       NaN     0.200000    2.000000         NaN\n",
       "25%            NaN       NaN    29.430000    8.000000         NaN\n",
       "50%            NaN       NaN    78.130000   10.000000         NaN\n",
       "75%            NaN       NaN   142.570000   12.000000         NaN\n",
       "max            NaN       NaN  2143.300000   22.000000         NaN"
      ]
     },
     "execution_count": 10,
     "metadata": {},
     "output_type": "execute_result"
    }
   ],
   "source": [
    "sales.describe(include='all')\n",
    "# Calculate various parameters and statistical values about the data set"
   ]
  },
  {
   "cell_type": "code",
   "execution_count": 6,
   "metadata": {},
   "outputs": [
    {
     "name": "stdout",
     "output_type": "stream",
     "text": [
      "<class 'pandas.core.frame.DataFrame'>\n",
      "RangeIndex: 1050 entries, 0 to 1049\n",
      "Data columns (total 5 columns):\n",
      " #   Column      Non-Null Count  Dtype  \n",
      "---  ------      --------------  -----  \n",
      " 0   Product     947 non-null    object \n",
      " 1   Region      946 non-null    object \n",
      " 2   Price       945 non-null    float64\n",
      " 3   Units Sold  946 non-null    float64\n",
      " 4   Sale Date   1050 non-null   object \n",
      "dtypes: float64(2), object(3)\n",
      "memory usage: 41.1+ KB\n"
     ]
    }
   ],
   "source": [
    "sales.info()\n",
    "# Gather further information about data type of each attribute and null values"
   ]
  },
  {
   "cell_type": "code",
   "execution_count": 14,
   "metadata": {},
   "outputs": [
    {
     "data": {
      "text/html": [
       "<div>\n",
       "<style scoped>\n",
       "    .dataframe tbody tr th:only-of-type {\n",
       "        vertical-align: middle;\n",
       "    }\n",
       "\n",
       "    .dataframe tbody tr th {\n",
       "        vertical-align: top;\n",
       "    }\n",
       "\n",
       "    .dataframe thead th {\n",
       "        text-align: right;\n",
       "    }\n",
       "</style>\n",
       "<table border=\"1\" class=\"dataframe\">\n",
       "  <thead>\n",
       "    <tr style=\"text-align: right;\">\n",
       "      <th></th>\n",
       "      <th>Product</th>\n",
       "      <th>Region</th>\n",
       "      <th>Price</th>\n",
       "      <th>Units Sold</th>\n",
       "      <th>Sale Date</th>\n",
       "    </tr>\n",
       "  </thead>\n",
       "  <tbody>\n",
       "    <tr>\n",
       "      <th>0</th>\n",
       "      <td>NaN</td>\n",
       "      <td>Region_6</td>\n",
       "      <td>75.96</td>\n",
       "      <td>10.0</td>\n",
       "      <td>2022-01-01</td>\n",
       "    </tr>\n",
       "    <tr>\n",
       "      <th>1</th>\n",
       "      <td>NaN</td>\n",
       "      <td>Region_1</td>\n",
       "      <td>175.78</td>\n",
       "      <td>8.0</td>\n",
       "      <td>2022-01-02</td>\n",
       "    </tr>\n",
       "    <tr>\n",
       "      <th>2</th>\n",
       "      <td>Product_46</td>\n",
       "      <td>Region_3</td>\n",
       "      <td>20.43</td>\n",
       "      <td>12.0</td>\n",
       "      <td>2022-01-03</td>\n",
       "    </tr>\n",
       "    <tr>\n",
       "      <th>3</th>\n",
       "      <td>Product_36</td>\n",
       "      <td>Region_1</td>\n",
       "      <td>12.77</td>\n",
       "      <td>10.0</td>\n",
       "      <td>2022-01-04</td>\n",
       "    </tr>\n",
       "    <tr>\n",
       "      <th>4</th>\n",
       "      <td>Product_17</td>\n",
       "      <td>Region_6</td>\n",
       "      <td>125.69</td>\n",
       "      <td>6.0</td>\n",
       "      <td>2022-01-05</td>\n",
       "    </tr>\n",
       "  </tbody>\n",
       "</table>\n",
       "</div>"
      ],
      "text/plain": [
       "      Product    Region   Price  Units Sold   Sale Date\n",
       "0         NaN  Region_6   75.96        10.0  2022-01-01\n",
       "1         NaN  Region_1  175.78         8.0  2022-01-02\n",
       "2  Product_46  Region_3   20.43        12.0  2022-01-03\n",
       "3  Product_36  Region_1   12.77        10.0  2022-01-04\n",
       "4  Product_17  Region_6  125.69         6.0  2022-01-05"
      ]
     },
     "execution_count": 14,
     "metadata": {},
     "output_type": "execute_result"
    }
   ],
   "source": [
    "sales.head()\n",
    "# Getting the first 5 values of the data set using the head function"
   ]
  },
  {
   "cell_type": "code",
   "execution_count": 17,
   "metadata": {},
   "outputs": [
    {
     "data": {
      "text/plain": [
       "pandas.core.frame.DataFrame"
      ]
     },
     "execution_count": 17,
     "metadata": {},
     "output_type": "execute_result"
    }
   ],
   "source": [
    "type(sales)\n",
    "# Knowing the data type of the sales_data dataset"
   ]
  },
  {
   "cell_type": "code",
   "execution_count": 18,
   "metadata": {},
   "outputs": [
    {
     "data": {
      "text/plain": [
       "(1050, 5)"
      ]
     },
     "execution_count": 18,
     "metadata": {},
     "output_type": "execute_result"
    }
   ],
   "source": [
    "sales.shape\n",
    "# Total numbers of rows and columns in the given data set"
   ]
  },
  {
   "cell_type": "code",
   "execution_count": null,
   "metadata": {},
   "outputs": [],
   "source": [
    "Data Cleaning begins hereon"
   ]
  },
  {
   "cell_type": "code",
   "execution_count": 22,
   "metadata": {},
   "outputs": [
    {
     "data": {
      "text/html": [
       "<div>\n",
       "<style scoped>\n",
       "    .dataframe tbody tr th:only-of-type {\n",
       "        vertical-align: middle;\n",
       "    }\n",
       "\n",
       "    .dataframe tbody tr th {\n",
       "        vertical-align: top;\n",
       "    }\n",
       "\n",
       "    .dataframe thead th {\n",
       "        text-align: right;\n",
       "    }\n",
       "</style>\n",
       "<table border=\"1\" class=\"dataframe\">\n",
       "  <thead>\n",
       "    <tr style=\"text-align: right;\">\n",
       "      <th></th>\n",
       "      <th>Product</th>\n",
       "      <th>Region</th>\n",
       "      <th>Price</th>\n",
       "      <th>Units Sold</th>\n",
       "      <th>Sale Date</th>\n",
       "    </tr>\n",
       "  </thead>\n",
       "  <tbody>\n",
       "    <tr>\n",
       "      <th>0</th>\n",
       "      <td>NaN</td>\n",
       "      <td>Region_6</td>\n",
       "      <td>75.96</td>\n",
       "      <td>10.0</td>\n",
       "      <td>2022-01-01</td>\n",
       "    </tr>\n",
       "    <tr>\n",
       "      <th>1</th>\n",
       "      <td>NaN</td>\n",
       "      <td>Region_1</td>\n",
       "      <td>175.78</td>\n",
       "      <td>8.0</td>\n",
       "      <td>2022-01-02</td>\n",
       "    </tr>\n",
       "    <tr>\n",
       "      <th>18</th>\n",
       "      <td>NaN</td>\n",
       "      <td>NaN</td>\n",
       "      <td>276.27</td>\n",
       "      <td>9.0</td>\n",
       "      <td>2022-01-19</td>\n",
       "    </tr>\n",
       "    <tr>\n",
       "      <th>21</th>\n",
       "      <td>NaN</td>\n",
       "      <td>NaN</td>\n",
       "      <td>46.10</td>\n",
       "      <td>14.0</td>\n",
       "      <td>2022-01-22</td>\n",
       "    </tr>\n",
       "    <tr>\n",
       "      <th>27</th>\n",
       "      <td>NaN</td>\n",
       "      <td>Region_10</td>\n",
       "      <td>193.85</td>\n",
       "      <td>10.0</td>\n",
       "      <td>2022-01-28</td>\n",
       "    </tr>\n",
       "    <tr>\n",
       "      <th>...</th>\n",
       "      <td>...</td>\n",
       "      <td>...</td>\n",
       "      <td>...</td>\n",
       "      <td>...</td>\n",
       "      <td>...</td>\n",
       "    </tr>\n",
       "    <tr>\n",
       "      <th>995</th>\n",
       "      <td>NaN</td>\n",
       "      <td>Region_7</td>\n",
       "      <td>31.83</td>\n",
       "      <td>13.0</td>\n",
       "      <td>2024-09-22</td>\n",
       "    </tr>\n",
       "    <tr>\n",
       "      <th>997</th>\n",
       "      <td>NaN</td>\n",
       "      <td>Region_7</td>\n",
       "      <td>311.80</td>\n",
       "      <td>13.0</td>\n",
       "      <td>2024-09-24</td>\n",
       "    </tr>\n",
       "    <tr>\n",
       "      <th>1021</th>\n",
       "      <td>NaN</td>\n",
       "      <td>Region_2</td>\n",
       "      <td>108.89</td>\n",
       "      <td>7.0</td>\n",
       "      <td>2023-05-22</td>\n",
       "    </tr>\n",
       "    <tr>\n",
       "      <th>1024</th>\n",
       "      <td>NaN</td>\n",
       "      <td>Region_7</td>\n",
       "      <td>99.98</td>\n",
       "      <td>8.0</td>\n",
       "      <td>2023-07-21</td>\n",
       "    </tr>\n",
       "    <tr>\n",
       "      <th>1048</th>\n",
       "      <td>NaN</td>\n",
       "      <td>Region_8</td>\n",
       "      <td>NaN</td>\n",
       "      <td>5.0</td>\n",
       "      <td>2023-12-27</td>\n",
       "    </tr>\n",
       "  </tbody>\n",
       "</table>\n",
       "<p>103 rows × 5 columns</p>\n",
       "</div>"
      ],
      "text/plain": [
       "     Product     Region   Price  Units Sold   Sale Date\n",
       "0        NaN   Region_6   75.96        10.0  2022-01-01\n",
       "1        NaN   Region_1  175.78         8.0  2022-01-02\n",
       "18       NaN        NaN  276.27         9.0  2022-01-19\n",
       "21       NaN        NaN   46.10        14.0  2022-01-22\n",
       "27       NaN  Region_10  193.85        10.0  2022-01-28\n",
       "...      ...        ...     ...         ...         ...\n",
       "995      NaN   Region_7   31.83        13.0  2024-09-22\n",
       "997      NaN   Region_7  311.80        13.0  2024-09-24\n",
       "1021     NaN   Region_2  108.89         7.0  2023-05-22\n",
       "1024     NaN   Region_7   99.98         8.0  2023-07-21\n",
       "1048     NaN   Region_8     NaN         5.0  2023-12-27\n",
       "\n",
       "[103 rows x 5 columns]"
      ]
     },
     "execution_count": 22,
     "metadata": {},
     "output_type": "execute_result"
    }
   ],
   "source": [
    "sales.loc[sales['Product'].isnull()]\n",
    "# Identify any null values in the 'Product' column"
   ]
  },
  {
   "cell_type": "code",
   "execution_count": 34,
   "metadata": {},
   "outputs": [],
   "source": [
    "sales.drop_duplicates(inplace=True)\n",
    "# Drop all duplicate values from the data to avoid redundancy"
   ]
  },
  {
   "cell_type": "code",
   "execution_count": 134,
   "metadata": {},
   "outputs": [],
   "source": [
    "sales_update = sales.dropna(subset = ['Product', 'Region'])\n",
    "# Drop all null values from the Product and Region columns to avoid having any missing values in the dataset"
   ]
  },
  {
   "cell_type": "code",
   "execution_count": 135,
   "metadata": {},
   "outputs": [
    {
     "name": "stdout",
     "output_type": "stream",
     "text": [
      "<class 'pandas.core.frame.DataFrame'>\n",
      "Index: 810 entries, 2 to 999\n",
      "Data columns (total 5 columns):\n",
      " #   Column      Non-Null Count  Dtype  \n",
      "---  ------      --------------  -----  \n",
      " 0   Product     810 non-null    object \n",
      " 1   Region      810 non-null    object \n",
      " 2   Price       725 non-null    float64\n",
      " 3   Units Sold  731 non-null    float64\n",
      " 4   Sale Date   810 non-null    object \n",
      "dtypes: float64(2), object(3)\n",
      "memory usage: 38.0+ KB\n"
     ]
    }
   ],
   "source": [
    "sales_update.info()\n",
    "# Gather information about the updated dataset post removal of all duplicates and missing values from Product and Region column"
   ]
  },
  {
   "cell_type": "code",
   "execution_count": 136,
   "metadata": {},
   "outputs": [
    {
     "data": {
      "text/html": [
       "<div>\n",
       "<style scoped>\n",
       "    .dataframe tbody tr th:only-of-type {\n",
       "        vertical-align: middle;\n",
       "    }\n",
       "\n",
       "    .dataframe tbody tr th {\n",
       "        vertical-align: top;\n",
       "    }\n",
       "\n",
       "    .dataframe thead th {\n",
       "        text-align: right;\n",
       "    }\n",
       "</style>\n",
       "<table border=\"1\" class=\"dataframe\">\n",
       "  <thead>\n",
       "    <tr style=\"text-align: right;\">\n",
       "      <th></th>\n",
       "      <th>Product</th>\n",
       "      <th>Region</th>\n",
       "      <th>Price</th>\n",
       "      <th>Units Sold</th>\n",
       "      <th>Sale Date</th>\n",
       "    </tr>\n",
       "  </thead>\n",
       "  <tbody>\n",
       "    <tr>\n",
       "      <th>2</th>\n",
       "      <td>Product_46</td>\n",
       "      <td>Region_3</td>\n",
       "      <td>20.43</td>\n",
       "      <td>12.0</td>\n",
       "      <td>2022-01-03</td>\n",
       "    </tr>\n",
       "    <tr>\n",
       "      <th>3</th>\n",
       "      <td>Product_36</td>\n",
       "      <td>Region_1</td>\n",
       "      <td>12.77</td>\n",
       "      <td>10.0</td>\n",
       "      <td>2022-01-04</td>\n",
       "    </tr>\n",
       "    <tr>\n",
       "      <th>4</th>\n",
       "      <td>Product_17</td>\n",
       "      <td>Region_6</td>\n",
       "      <td>125.69</td>\n",
       "      <td>6.0</td>\n",
       "      <td>2022-01-05</td>\n",
       "    </tr>\n",
       "    <tr>\n",
       "      <th>5</th>\n",
       "      <td>Product_45</td>\n",
       "      <td>Region_1</td>\n",
       "      <td>8.63</td>\n",
       "      <td>11.0</td>\n",
       "      <td>2022-01-06</td>\n",
       "    </tr>\n",
       "    <tr>\n",
       "      <th>6</th>\n",
       "      <td>Product_31</td>\n",
       "      <td>Region_3</td>\n",
       "      <td>23.73</td>\n",
       "      <td>6.0</td>\n",
       "      <td>2022-01-07</td>\n",
       "    </tr>\n",
       "  </tbody>\n",
       "</table>\n",
       "</div>"
      ],
      "text/plain": [
       "      Product    Region   Price  Units Sold   Sale Date\n",
       "2  Product_46  Region_3   20.43        12.0  2022-01-03\n",
       "3  Product_36  Region_1   12.77        10.0  2022-01-04\n",
       "4  Product_17  Region_6  125.69         6.0  2022-01-05\n",
       "5  Product_45  Region_1    8.63        11.0  2022-01-06\n",
       "6  Product_31  Region_3   23.73         6.0  2022-01-07"
      ]
     },
     "execution_count": 136,
     "metadata": {},
     "output_type": "execute_result"
    }
   ],
   "source": [
    "sales_update.head()"
   ]
  },
  {
   "cell_type": "code",
   "execution_count": 138,
   "metadata": {},
   "outputs": [],
   "source": [
    "sorted = sales_update.groupby('Product')\n",
    "# Grouping the dataset by product to assess presence and sale of various products across regions"
   ]
  },
  {
   "cell_type": "code",
   "execution_count": 123,
   "metadata": {},
   "outputs": [
    {
     "data": {
      "text/plain": [
       "{'Product_1': [11, 13, 15, 34, 88, 140, 213, 265, 312, 393, 407, 467, 563, 609, 711, 848, 931, 964, 994], 'Product_10': [47, 84, 220, 253, 294, 375, 397, 449, 599, 643, 673, 754, 895, 934], 'Product_11': [26, 70, 256, 361, 371, 391, 455, 809, 868, 971], 'Product_12': [59, 172, 173, 245, 311, 521, 536, 576, 627, 801, 882], 'Product_13': [25, 35, 49, 94, 113, 156, 204, 237, 295, 326, 343, 364, 389, 403, 522, 621, 676, 720, 746, 752, 807, 892, 954, 962], 'Product_14': [22, 230, 232, 264, 351, 468, 473, 546, 574, 651, 672, 832, 845, 889, 978], 'Product_15': [92, 217, 286, 356, 510, 552, 588, 595, 667, 745, 780, 834, 849, 924, 958, 969, 980], 'Product_16': [8, 146, 153, 180, 275, 466, 491, 505, 547, 674, 721, 735, 783, 796, 819, 914, 916, 930], 'Product_17': [4, 17, 51, 71, 72, 122, 148, 192, 227, 267, 313, 533, 614, 624, 712, 716, 739, 741], 'Product_18': [7, 65, 67, 249, 252, 254, 316, 376, 383, 502, 523, 899, 942], 'Product_19': [212, 244, 258, 269, 352, 378, 433, 496, 512, 528, 589, 600, 607, 611, 641, 652, 742, 753, 767], 'Product_2': [12, 36, 80, 110, 162, 170, 289, 349, 359, 417, 488, 593, 618, 722, 730, 846, 926, 998], 'Product_20': [10, 89, 216, 278, 333, 515, 757, 763, 852, 922, 927, 967], 'Product_21': [147, 319, 332, 410, 477, 658, 768, 857, 864, 906, 909, 911, 963, 979], 'Product_22': [78, 145, 222, 247, 287, 293, 428, 443, 554, 636, 758, 874, 881, 885, 912], 'Product_23': [81, 129, 178, 205, 231, 324, 404, 423, 485, 638, 644, 694, 800, 803, 859, 948], 'Product_24': [37, 104, 111, 137, 169, 201, 342, 657, 761, 781, 836, 843, 873, 891], 'Product_25': [39, 95, 121, 257, 415, 426, 525, 553, 565, 613, 623, 692, 702, 705, 729, 794, 943], 'Product_26': [66, 240, 386, 437, 456, 457, 591, 610, 616, 775, 798, 814], 'Product_27': [28, 69, 75, 223, 290, 327, 354, 499, 504, 549, 559, 703, 718, 883, 903, 915], 'Product_28': [29, 44, 155, 166, 167, 441, 573, 601, 650, 779, 812, 869, 871], 'Product_29': [93, 200, 229, 323, 406, 564, 570, 605, 625, 697, 736, 749, 774, 827, 865, 921, 941, 953], 'Product_3': [14, 53, 131, 225, 243, 447, 640, 878], 'Product_30': [128, 280, 334, 338, 392, 462, 471, 527, 575, 579, 608, 685, 743, 802, 824, 898, 904, 939, 940], 'Product_31': [6, 48, 55, 152, 248, 262, 285, 419, 472, 526, 537, 596, 660, 728, 764, 787, 830, 905, 932, 946, 974], 'Product_32': [79, 163, 198, 300, 374, 452, 493, 548, 582, 617, 675, 770, 813, 823], 'Product_33': [19, 20, 41, 42, 56, 96, 112, 139, 143, 154, 266, 291, 355, 461, 540, 560, 597, 679, 901, 952, 981], 'Product_34': [38, 77, 186, 234, 372, 380, 431, 435, 544, 633, 669, 693, 762, 850, 886, 936, 977], 'Product_35': [87, 105, 114, 138, 189, 271, 279, 322, 337, 362, 430, 439, 444, 507, 535, 999], 'Product_36': [3, 32, 144, 174, 177, 250, 344, 367, 602, 731, 880, 923], 'Product_37': [73, 108, 124, 158, 239, 408, 411, 475, 518, 585, 606, 615, 691, 784, 838, 870, 960], 'Product_38': [171, 185, 194, 308, 314, 432, 479, 632, 646, 680, 707], 'Product_39': [126, 132, 151, 268, 320, 379, 497, 555, 628, 687, 699, 815, 818, 860], 'Product_4': [40, 116, 159, 190, 206, 207, 363, 418, 442, 454, 459, 470, 538, 612, 619, 682, 710, 792, 858, 877, 907, 965], 'Product_40': [133, 150, 182, 210, 348, 421, 451, 500, 501, 681, 733, 825, 829, 950, 956, 970, 985], 'Product_41': [103, 106, 191, 196, 226, 270, 341, 365, 390, 561, 659, 704, 782, 844, 853, 884], 'Product_42': [60, 157, 373, 396, 519, 568, 571, 620, 647, 655, 701, 748, 755, 777, 822, 988], 'Product_43': [16, 33, 175, 242, 273, 284, 296, 329, 416, 434, 450, 558, 580, 604, 689, 700, 766, 776, 793, 856, 867], 'Product_44': [97, 101, 236, 261, 263, 306, 370, 381, 401, 414, 440, 448, 556, 639, 686, 828, 972, 984], 'Product_45': [5, 30, 135, 188, 208, 259, 318, 321, 445, 469, 495, 514, 626, 684, 771, 847, 968, 976], 'Product_46': [2, 46, 179, 193, 385, 513, 529, 543, 545, 557, 594, 637, 714, 756, 835, 837, 887, 947, 957], 'Product_47': [102, 120, 123, 161, 251, 277, 330, 388, 578, 690, 695, 769, 929], 'Product_48': [45, 50, 58, 90, 160, 260, 274, 276, 328, 429, 511, 569, 577, 723, 788, 811, 888, 982], 'Product_49': [52, 107, 211, 297, 384, 420, 590, 635, 671, 737, 751, 938], 'Product_5': [62, 82, 86, 99, 197, 199, 221, 288, 315, 335, 368, 413, 427, 438, 458, 483, 487, 508, 509, 532, 550, 581, 649, 663, 713, 727, 772, 896], 'Product_50': [23, 31, 130, 218, 299, 325, 395, 530, 551, 683, 719, 738, 750, 778, 785, 797, 840, 862, 890, 893, 900], 'Product_6': [24, 100, 181, 209, 336, 339, 464, 541, 583, 592, 863, 876, 933, 944, 951, 955, 961], 'Product_7': [345, 360, 425, 446, 478, 480, 630, 665, 747, 795, 861, 925, 993], 'Product_8': [68, 142, 476, 489, 498, 531, 562, 670, 805, 810, 831, 841, 897], 'Product_9': [9, 164, 238, 283, 298, 347, 394, 405, 642, 678, 759, 760, 833, 839, 854]}"
      ]
     },
     "execution_count": 123,
     "metadata": {},
     "output_type": "execute_result"
    }
   ],
   "source": [
    "sorted.groups\n",
    "# Read created group by Product"
   ]
  },
  {
   "cell_type": "code",
   "execution_count": 124,
   "metadata": {},
   "outputs": [
    {
     "data": {
      "text/html": [
       "<div>\n",
       "<style scoped>\n",
       "    .dataframe tbody tr th:only-of-type {\n",
       "        vertical-align: middle;\n",
       "    }\n",
       "\n",
       "    .dataframe tbody tr th {\n",
       "        vertical-align: top;\n",
       "    }\n",
       "\n",
       "    .dataframe thead th {\n",
       "        text-align: right;\n",
       "    }\n",
       "</style>\n",
       "<table border=\"1\" class=\"dataframe\">\n",
       "  <thead>\n",
       "    <tr style=\"text-align: right;\">\n",
       "      <th></th>\n",
       "      <th>Product</th>\n",
       "      <th>Region</th>\n",
       "      <th>Price</th>\n",
       "      <th>Units Sold</th>\n",
       "      <th>Sale Date</th>\n",
       "    </tr>\n",
       "  </thead>\n",
       "  <tbody>\n",
       "    <tr>\n",
       "      <th>12</th>\n",
       "      <td>Product_2</td>\n",
       "      <td>Region_3</td>\n",
       "      <td>NaN</td>\n",
       "      <td>6.0</td>\n",
       "      <td>2022-01-13</td>\n",
       "    </tr>\n",
       "    <tr>\n",
       "      <th>36</th>\n",
       "      <td>Product_2</td>\n",
       "      <td>Region_9</td>\n",
       "      <td>296.03</td>\n",
       "      <td>13.0</td>\n",
       "      <td>2022-02-06</td>\n",
       "    </tr>\n",
       "    <tr>\n",
       "      <th>80</th>\n",
       "      <td>Product_2</td>\n",
       "      <td>Region_2</td>\n",
       "      <td>2.14</td>\n",
       "      <td>7.0</td>\n",
       "      <td>2022-03-22</td>\n",
       "    </tr>\n",
       "    <tr>\n",
       "      <th>110</th>\n",
       "      <td>Product_2</td>\n",
       "      <td>Region_1</td>\n",
       "      <td>29.39</td>\n",
       "      <td>16.0</td>\n",
       "      <td>2022-04-21</td>\n",
       "    </tr>\n",
       "    <tr>\n",
       "      <th>162</th>\n",
       "      <td>Product_2</td>\n",
       "      <td>Region_1</td>\n",
       "      <td>102.29</td>\n",
       "      <td>17.0</td>\n",
       "      <td>2022-06-12</td>\n",
       "    </tr>\n",
       "    <tr>\n",
       "      <th>170</th>\n",
       "      <td>Product_2</td>\n",
       "      <td>Region_8</td>\n",
       "      <td>26.56</td>\n",
       "      <td>13.0</td>\n",
       "      <td>2022-06-20</td>\n",
       "    </tr>\n",
       "    <tr>\n",
       "      <th>289</th>\n",
       "      <td>Product_2</td>\n",
       "      <td>Region_3</td>\n",
       "      <td>242.77</td>\n",
       "      <td>7.0</td>\n",
       "      <td>2022-10-17</td>\n",
       "    </tr>\n",
       "    <tr>\n",
       "      <th>349</th>\n",
       "      <td>Product_2</td>\n",
       "      <td>Region_3</td>\n",
       "      <td>99.02</td>\n",
       "      <td>4.0</td>\n",
       "      <td>2022-12-16</td>\n",
       "    </tr>\n",
       "    <tr>\n",
       "      <th>359</th>\n",
       "      <td>Product_2</td>\n",
       "      <td>Region_2</td>\n",
       "      <td>203.41</td>\n",
       "      <td>9.0</td>\n",
       "      <td>2022-12-26</td>\n",
       "    </tr>\n",
       "    <tr>\n",
       "      <th>417</th>\n",
       "      <td>Product_2</td>\n",
       "      <td>Region_9</td>\n",
       "      <td>96.34</td>\n",
       "      <td>14.0</td>\n",
       "      <td>2023-02-22</td>\n",
       "    </tr>\n",
       "    <tr>\n",
       "      <th>488</th>\n",
       "      <td>Product_2</td>\n",
       "      <td>Region_4</td>\n",
       "      <td>347.20</td>\n",
       "      <td>NaN</td>\n",
       "      <td>2023-05-04</td>\n",
       "    </tr>\n",
       "    <tr>\n",
       "      <th>593</th>\n",
       "      <td>Product_2</td>\n",
       "      <td>Region_4</td>\n",
       "      <td>NaN</td>\n",
       "      <td>9.0</td>\n",
       "      <td>2023-08-17</td>\n",
       "    </tr>\n",
       "    <tr>\n",
       "      <th>618</th>\n",
       "      <td>Product_2</td>\n",
       "      <td>Region_2</td>\n",
       "      <td>340.04</td>\n",
       "      <td>10.0</td>\n",
       "      <td>2023-09-11</td>\n",
       "    </tr>\n",
       "    <tr>\n",
       "      <th>722</th>\n",
       "      <td>Product_2</td>\n",
       "      <td>Region_7</td>\n",
       "      <td>NaN</td>\n",
       "      <td>7.0</td>\n",
       "      <td>2023-12-24</td>\n",
       "    </tr>\n",
       "    <tr>\n",
       "      <th>730</th>\n",
       "      <td>Product_2</td>\n",
       "      <td>Region_1</td>\n",
       "      <td>18.00</td>\n",
       "      <td>10.0</td>\n",
       "      <td>2024-01-01</td>\n",
       "    </tr>\n",
       "    <tr>\n",
       "      <th>846</th>\n",
       "      <td>Product_2</td>\n",
       "      <td>Region_10</td>\n",
       "      <td>93.40</td>\n",
       "      <td>NaN</td>\n",
       "      <td>2024-04-26</td>\n",
       "    </tr>\n",
       "    <tr>\n",
       "      <th>926</th>\n",
       "      <td>Product_2</td>\n",
       "      <td>Region_10</td>\n",
       "      <td>87.12</td>\n",
       "      <td>16.0</td>\n",
       "      <td>2024-07-15</td>\n",
       "    </tr>\n",
       "    <tr>\n",
       "      <th>998</th>\n",
       "      <td>Product_2</td>\n",
       "      <td>Region_10</td>\n",
       "      <td>43.44</td>\n",
       "      <td>15.0</td>\n",
       "      <td>2024-09-25</td>\n",
       "    </tr>\n",
       "  </tbody>\n",
       "</table>\n",
       "</div>"
      ],
      "text/plain": [
       "       Product     Region   Price  Units Sold   Sale Date\n",
       "12   Product_2   Region_3     NaN         6.0  2022-01-13\n",
       "36   Product_2   Region_9  296.03        13.0  2022-02-06\n",
       "80   Product_2   Region_2    2.14         7.0  2022-03-22\n",
       "110  Product_2   Region_1   29.39        16.0  2022-04-21\n",
       "162  Product_2   Region_1  102.29        17.0  2022-06-12\n",
       "170  Product_2   Region_8   26.56        13.0  2022-06-20\n",
       "289  Product_2   Region_3  242.77         7.0  2022-10-17\n",
       "349  Product_2   Region_3   99.02         4.0  2022-12-16\n",
       "359  Product_2   Region_2  203.41         9.0  2022-12-26\n",
       "417  Product_2   Region_9   96.34        14.0  2023-02-22\n",
       "488  Product_2   Region_4  347.20         NaN  2023-05-04\n",
       "593  Product_2   Region_4     NaN         9.0  2023-08-17\n",
       "618  Product_2   Region_2  340.04        10.0  2023-09-11\n",
       "722  Product_2   Region_7     NaN         7.0  2023-12-24\n",
       "730  Product_2   Region_1   18.00        10.0  2024-01-01\n",
       "846  Product_2  Region_10   93.40         NaN  2024-04-26\n",
       "926  Product_2  Region_10   87.12        16.0  2024-07-15\n",
       "998  Product_2  Region_10   43.44        15.0  2024-09-25"
      ]
     },
     "execution_count": 124,
     "metadata": {},
     "output_type": "execute_result"
    }
   ],
   "source": [
    "sorted.get_group('Product_2')\n",
    "# Read all values any particular product, in this case Product_2"
   ]
  },
  {
   "cell_type": "code",
   "execution_count": 139,
   "metadata": {},
   "outputs": [
    {
     "data": {
      "text/html": [
       "<div>\n",
       "<style scoped>\n",
       "    .dataframe tbody tr th:only-of-type {\n",
       "        vertical-align: middle;\n",
       "    }\n",
       "\n",
       "    .dataframe tbody tr th {\n",
       "        vertical-align: top;\n",
       "    }\n",
       "\n",
       "    .dataframe thead th {\n",
       "        text-align: right;\n",
       "    }\n",
       "</style>\n",
       "<table border=\"1\" class=\"dataframe\">\n",
       "  <thead>\n",
       "    <tr style=\"text-align: right;\">\n",
       "      <th></th>\n",
       "      <th>Product</th>\n",
       "      <th>Region</th>\n",
       "      <th>Price</th>\n",
       "      <th>Units Sold</th>\n",
       "      <th>Sale Date</th>\n",
       "    </tr>\n",
       "  </thead>\n",
       "  <tbody>\n",
       "    <tr>\n",
       "      <th>265</th>\n",
       "      <td>Product_1</td>\n",
       "      <td>Region_1</td>\n",
       "      <td>158.05</td>\n",
       "      <td>8.0</td>\n",
       "      <td>2022-09-23</td>\n",
       "    </tr>\n",
       "    <tr>\n",
       "      <th>563</th>\n",
       "      <td>Product_1</td>\n",
       "      <td>Region_1</td>\n",
       "      <td>51.91</td>\n",
       "      <td>16.0</td>\n",
       "      <td>2023-07-18</td>\n",
       "    </tr>\n",
       "    <tr>\n",
       "      <th>609</th>\n",
       "      <td>Product_1</td>\n",
       "      <td>Region_1</td>\n",
       "      <td>36.67</td>\n",
       "      <td>9.0</td>\n",
       "      <td>2023-09-02</td>\n",
       "    </tr>\n",
       "    <tr>\n",
       "      <th>964</th>\n",
       "      <td>Product_1</td>\n",
       "      <td>Region_1</td>\n",
       "      <td>71.79</td>\n",
       "      <td>9.0</td>\n",
       "      <td>2024-08-22</td>\n",
       "    </tr>\n",
       "  </tbody>\n",
       "</table>\n",
       "</div>"
      ],
      "text/plain": [
       "       Product    Region   Price  Units Sold   Sale Date\n",
       "265  Product_1  Region_1  158.05         8.0  2022-09-23\n",
       "563  Product_1  Region_1   51.91        16.0  2023-07-18\n",
       "609  Product_1  Region_1   36.67         9.0  2023-09-02\n",
       "964  Product_1  Region_1   71.79         9.0  2024-08-22"
      ]
     },
     "execution_count": 139,
     "metadata": {},
     "output_type": "execute_result"
    }
   ],
   "source": [
    "sales_update[(sales_update['Product']=='Product_1') & (sales_update['Region']=='Region_1')]\n",
    "# Assess information such as price, units sold and sale date of Product_1 in Region_1"
   ]
  },
  {
   "cell_type": "code",
   "execution_count": 140,
   "metadata": {},
   "outputs": [
    {
     "data": {
      "text/plain": [
       "<Axes: xlabel='Product', ylabel='Price'>"
      ]
     },
     "execution_count": 140,
     "metadata": {},
     "output_type": "execute_result"
    },
    {
     "data": {
      "image/png": "[encoded data removed]",
      "text/plain": [
       "<Figure size 640x480 with 1 Axes>"
      ]
     },
     "metadata": {},
     "output_type": "display_data"
    }
   ],
   "source": [
    "sns.scatterplot(x = 'Product', y = 'Price', data=sales_update)\n",
    "# Scatterplot between product and price to compare data and identify any outliers"
   ]
  },
  {
   "cell_type": "code",
   "execution_count": 141,
   "metadata": {},
   "outputs": [
    {
     "data": {
      "text/html": [
       "<div>\n",
       "<style scoped>\n",
       "    .dataframe tbody tr th:only-of-type {\n",
       "        vertical-align: middle;\n",
       "    }\n",
       "\n",
       "    .dataframe tbody tr th {\n",
       "        vertical-align: top;\n",
       "    }\n",
       "\n",
       "    .dataframe thead th {\n",
       "        text-align: right;\n",
       "    }\n",
       "</style>\n",
       "<table border=\"1\" class=\"dataframe\">\n",
       "  <thead>\n",
       "    <tr style=\"text-align: right;\">\n",
       "      <th></th>\n",
       "      <th>Product</th>\n",
       "      <th>Region</th>\n",
       "      <th>Price</th>\n",
       "      <th>Units Sold</th>\n",
       "      <th>Sale Date</th>\n",
       "    </tr>\n",
       "  </thead>\n",
       "  <tbody>\n",
       "    <tr>\n",
       "      <th>969</th>\n",
       "      <td>Product_15</td>\n",
       "      <td>Region_8</td>\n",
       "      <td>2143.3</td>\n",
       "      <td>5.0</td>\n",
       "      <td>2024-08-27</td>\n",
       "    </tr>\n",
       "  </tbody>\n",
       "</table>\n",
       "</div>"
      ],
      "text/plain": [
       "        Product    Region   Price  Units Sold   Sale Date\n",
       "969  Product_15  Region_8  2143.3         5.0  2024-08-27"
      ]
     },
     "execution_count": 141,
     "metadata": {},
     "output_type": "execute_result"
    }
   ],
   "source": [
    "sales_update[sales_update['Price']>2000]\n",
    "# Read index number of outlier from the scatterplot above"
   ]
  },
  {
   "cell_type": "code",
   "execution_count": 142,
   "metadata": {},
   "outputs": [
    {
     "name": "stderr",
     "output_type": "stream",
     "text": [
      "/var/folders/ht/6xpr92fx6hb_qsdf6ml3w35w0000gn/T/ipykernel_76773/3156360332.py:1: SettingWithCopyWarning: \n",
      "A value is trying to be set on a copy of a slice from a DataFrame\n",
      "\n",
      "See the caveats in the documentation: https://pandas.pydata.org/pandas-docs/stable/user_guide/indexing.html#returning-a-view-versus-a-copy\n",
      "  sales_update.drop(969, axis=0, inplace=True)\n"
     ]
    }
   ],
   "source": [
    "sales_update.drop(969, axis=0, inplace=True)\n",
    "# Drop the outlier, i.e. product_15 in region_8 with a price of $2143.3"
   ]
  },
  {
   "cell_type": "code",
   "execution_count": 143,
   "metadata": {},
   "outputs": [
    {
     "data": {
      "text/html": [
       "<div>\n",
       "<style scoped>\n",
       "    .dataframe tbody tr th:only-of-type {\n",
       "        vertical-align: middle;\n",
       "    }\n",
       "\n",
       "    .dataframe tbody tr th {\n",
       "        vertical-align: top;\n",
       "    }\n",
       "\n",
       "    .dataframe thead th {\n",
       "        text-align: right;\n",
       "    }\n",
       "</style>\n",
       "<table border=\"1\" class=\"dataframe\">\n",
       "  <thead>\n",
       "    <tr style=\"text-align: right;\">\n",
       "      <th></th>\n",
       "      <th>Product</th>\n",
       "      <th>Region</th>\n",
       "      <th>Price</th>\n",
       "      <th>Units Sold</th>\n",
       "      <th>Sale Date</th>\n",
       "    </tr>\n",
       "  </thead>\n",
       "  <tbody>\n",
       "  </tbody>\n",
       "</table>\n",
       "</div>"
      ],
      "text/plain": [
       "Empty DataFrame\n",
       "Columns: [Product, Region, Price, Units Sold, Sale Date]\n",
       "Index: []"
      ]
     },
     "execution_count": 143,
     "metadata": {},
     "output_type": "execute_result"
    }
   ],
   "source": [
    "sales_update[sales_update['Price']>2000]\n",
    "# Validate whether outlier has been dropped from the dataset"
   ]
  },
  {
   "cell_type": "code",
   "execution_count": 144,
   "metadata": {},
   "outputs": [
    {
     "data": {
      "text/html": [
       "<div>\n",
       "<style scoped>\n",
       "    .dataframe tbody tr th:only-of-type {\n",
       "        vertical-align: middle;\n",
       "    }\n",
       "\n",
       "    .dataframe tbody tr th {\n",
       "        vertical-align: top;\n",
       "    }\n",
       "\n",
       "    .dataframe thead th {\n",
       "        text-align: right;\n",
       "    }\n",
       "</style>\n",
       "<table border=\"1\" class=\"dataframe\">\n",
       "  <thead>\n",
       "    <tr style=\"text-align: right;\">\n",
       "      <th></th>\n",
       "      <th>Product</th>\n",
       "      <th>Region</th>\n",
       "      <th>Price</th>\n",
       "      <th>Units Sold</th>\n",
       "      <th>Sale Date</th>\n",
       "    </tr>\n",
       "  </thead>\n",
       "  <tbody>\n",
       "    <tr>\n",
       "      <th>92</th>\n",
       "      <td>Product_15</td>\n",
       "      <td>Region_6</td>\n",
       "      <td>NaN</td>\n",
       "      <td>11.0</td>\n",
       "      <td>2022-04-03</td>\n",
       "    </tr>\n",
       "    <tr>\n",
       "      <th>217</th>\n",
       "      <td>Product_15</td>\n",
       "      <td>Region_4</td>\n",
       "      <td>38.10</td>\n",
       "      <td>10.0</td>\n",
       "      <td>2022-08-06</td>\n",
       "    </tr>\n",
       "    <tr>\n",
       "      <th>286</th>\n",
       "      <td>Product_15</td>\n",
       "      <td>Region_8</td>\n",
       "      <td>103.63</td>\n",
       "      <td>10.0</td>\n",
       "      <td>2022-10-14</td>\n",
       "    </tr>\n",
       "    <tr>\n",
       "      <th>356</th>\n",
       "      <td>Product_15</td>\n",
       "      <td>Region_10</td>\n",
       "      <td>37.14</td>\n",
       "      <td>7.0</td>\n",
       "      <td>2022-12-23</td>\n",
       "    </tr>\n",
       "    <tr>\n",
       "      <th>510</th>\n",
       "      <td>Product_15</td>\n",
       "      <td>Region_5</td>\n",
       "      <td>NaN</td>\n",
       "      <td>12.0</td>\n",
       "      <td>2023-05-26</td>\n",
       "    </tr>\n",
       "    <tr>\n",
       "      <th>552</th>\n",
       "      <td>Product_15</td>\n",
       "      <td>Region_8</td>\n",
       "      <td>94.30</td>\n",
       "      <td>14.0</td>\n",
       "      <td>2023-07-07</td>\n",
       "    </tr>\n",
       "    <tr>\n",
       "      <th>588</th>\n",
       "      <td>Product_15</td>\n",
       "      <td>Region_7</td>\n",
       "      <td>NaN</td>\n",
       "      <td>14.0</td>\n",
       "      <td>2023-08-12</td>\n",
       "    </tr>\n",
       "    <tr>\n",
       "      <th>595</th>\n",
       "      <td>Product_15</td>\n",
       "      <td>Region_10</td>\n",
       "      <td>13.02</td>\n",
       "      <td>7.0</td>\n",
       "      <td>2023-08-19</td>\n",
       "    </tr>\n",
       "    <tr>\n",
       "      <th>667</th>\n",
       "      <td>Product_15</td>\n",
       "      <td>Region_5</td>\n",
       "      <td>68.61</td>\n",
       "      <td>12.0</td>\n",
       "      <td>2023-10-30</td>\n",
       "    </tr>\n",
       "    <tr>\n",
       "      <th>745</th>\n",
       "      <td>Product_15</td>\n",
       "      <td>Region_9</td>\n",
       "      <td>29.56</td>\n",
       "      <td>11.0</td>\n",
       "      <td>2024-01-16</td>\n",
       "    </tr>\n",
       "    <tr>\n",
       "      <th>780</th>\n",
       "      <td>Product_15</td>\n",
       "      <td>Region_1</td>\n",
       "      <td>38.21</td>\n",
       "      <td>13.0</td>\n",
       "      <td>2024-02-20</td>\n",
       "    </tr>\n",
       "    <tr>\n",
       "      <th>834</th>\n",
       "      <td>Product_15</td>\n",
       "      <td>Region_6</td>\n",
       "      <td>510.06</td>\n",
       "      <td>10.0</td>\n",
       "      <td>2024-04-14</td>\n",
       "    </tr>\n",
       "    <tr>\n",
       "      <th>849</th>\n",
       "      <td>Product_15</td>\n",
       "      <td>Region_4</td>\n",
       "      <td>156.26</td>\n",
       "      <td>NaN</td>\n",
       "      <td>2024-04-29</td>\n",
       "    </tr>\n",
       "    <tr>\n",
       "      <th>924</th>\n",
       "      <td>Product_15</td>\n",
       "      <td>Region_4</td>\n",
       "      <td>NaN</td>\n",
       "      <td>11.0</td>\n",
       "      <td>2024-07-13</td>\n",
       "    </tr>\n",
       "    <tr>\n",
       "      <th>958</th>\n",
       "      <td>Product_15</td>\n",
       "      <td>Region_8</td>\n",
       "      <td>33.87</td>\n",
       "      <td>11.0</td>\n",
       "      <td>2024-08-16</td>\n",
       "    </tr>\n",
       "    <tr>\n",
       "      <th>980</th>\n",
       "      <td>Product_15</td>\n",
       "      <td>Region_9</td>\n",
       "      <td>23.51</td>\n",
       "      <td>14.0</td>\n",
       "      <td>2024-09-07</td>\n",
       "    </tr>\n",
       "  </tbody>\n",
       "</table>\n",
       "</div>"
      ],
      "text/plain": [
       "        Product     Region   Price  Units Sold   Sale Date\n",
       "92   Product_15   Region_6     NaN        11.0  2022-04-03\n",
       "217  Product_15   Region_4   38.10        10.0  2022-08-06\n",
       "286  Product_15   Region_8  103.63        10.0  2022-10-14\n",
       "356  Product_15  Region_10   37.14         7.0  2022-12-23\n",
       "510  Product_15   Region_5     NaN        12.0  2023-05-26\n",
       "552  Product_15   Region_8   94.30        14.0  2023-07-07\n",
       "588  Product_15   Region_7     NaN        14.0  2023-08-12\n",
       "595  Product_15  Region_10   13.02         7.0  2023-08-19\n",
       "667  Product_15   Region_5   68.61        12.0  2023-10-30\n",
       "745  Product_15   Region_9   29.56        11.0  2024-01-16\n",
       "780  Product_15   Region_1   38.21        13.0  2024-02-20\n",
       "834  Product_15   Region_6  510.06        10.0  2024-04-14\n",
       "849  Product_15   Region_4  156.26         NaN  2024-04-29\n",
       "924  Product_15   Region_4     NaN        11.0  2024-07-13\n",
       "958  Product_15   Region_8   33.87        11.0  2024-08-16\n",
       "980  Product_15   Region_9   23.51        14.0  2024-09-07"
      ]
     },
     "execution_count": 144,
     "metadata": {},
     "output_type": "execute_result"
    }
   ],
   "source": [
    "sales_update[(sales_update['Product']=='Product_15')]\n",
    "# Validate whether outlier has been dropped from the dataset"
   ]
  },
  {
   "cell_type": "code",
   "execution_count": 145,
   "metadata": {},
   "outputs": [
    {
     "data": {
      "text/plain": [
       "<Axes: xlabel='Product', ylabel='Price'>"
      ]
     },
     "execution_count": 145,
     "metadata": {},
     "output_type": "execute_result"
    },
    {
     "data": {
      "image/png": "[encoded data removed]",
      "text/plain": [
       "<Figure size 640x480 with 1 Axes>"
      ]
     },
     "metadata": {},
     "output_type": "display_data"
    }
   ],
   "source": [
    "sns.scatterplot(x = 'Product', y = 'Price', data=sales_update)\n",
    "# Update scatterplot between Product and Price post removal of outlier"
   ]
  },
  {
   "cell_type": "code",
   "execution_count": 146,
   "metadata": {},
   "outputs": [
    {
     "data": {
      "text/plain": [
       "<Axes: xlabel='Region', ylabel='Price'>"
      ]
     },
     "execution_count": 146,
     "metadata": {},
     "output_type": "execute_result"
    },
    {
     "data": {
      "image/png": "[encoded data removed]",
      "text/plain": [
       "<Figure size 640x480 with 1 Axes>"
      ]
     },
     "metadata": {},
     "output_type": "display_data"
    }
   ],
   "source": [
    "sns.scatterplot(x = 'Region', y = 'Price', data=sales_update)\n",
    "# Scatterplot between region and price to identify any outliers across regions"
   ]
  },
  {
   "cell_type": "code",
   "execution_count": 153,
   "metadata": {},
   "outputs": [
    {
     "data": {
      "text/html": [
       "<div>\n",
       "<style scoped>\n",
       "    .dataframe tbody tr th:only-of-type {\n",
       "        vertical-align: middle;\n",
       "    }\n",
       "\n",
       "    .dataframe tbody tr th {\n",
       "        vertical-align: top;\n",
       "    }\n",
       "\n",
       "    .dataframe thead th {\n",
       "        text-align: right;\n",
       "    }\n",
       "</style>\n",
       "<table border=\"1\" class=\"dataframe\">\n",
       "  <thead>\n",
       "    <tr style=\"text-align: right;\">\n",
       "      <th></th>\n",
       "      <th>Product</th>\n",
       "      <th>Region</th>\n",
       "      <th>Price</th>\n",
       "      <th>Units Sold</th>\n",
       "      <th>Sale Date</th>\n",
       "    </tr>\n",
       "  </thead>\n",
       "  <tbody>\n",
       "    <tr>\n",
       "      <th>728</th>\n",
       "      <td>Product_31</td>\n",
       "      <td>Region_3</td>\n",
       "      <td>665.0</td>\n",
       "      <td>9.0</td>\n",
       "      <td>2023-12-30</td>\n",
       "    </tr>\n",
       "  </tbody>\n",
       "</table>\n",
       "</div>"
      ],
      "text/plain": [
       "        Product    Region  Price  Units Sold   Sale Date\n",
       "728  Product_31  Region_3  665.0         9.0  2023-12-30"
      ]
     },
     "execution_count": 153,
     "metadata": {},
     "output_type": "execute_result"
    }
   ],
   "source": [
    "sales_update[(sales_update['Region']=='Region_3') & (sales_update['Price']>600)]\n",
    "# Read index value of outlier in region 3, i.e, first data label on the x-axis"
   ]
  },
  {
   "cell_type": "code",
   "execution_count": 156,
   "metadata": {},
   "outputs": [],
   "source": [
    "sales_update.to_csv('halfway_analysis.csv')\n",
    "# Checkpoint 1"
   ]
  },
  {
   "cell_type": "code",
   "execution_count": 157,
   "metadata": {},
   "outputs": [],
   "source": [
    "df = pd.read_csv('halfway_analysis.csv')"
   ]
  },
  {
   "cell_type": "code",
   "execution_count": 160,
   "metadata": {},
   "outputs": [
    {
     "name": "stderr",
     "output_type": "stream",
     "text": [
      "/var/folders/ht/6xpr92fx6hb_qsdf6ml3w35w0000gn/T/ipykernel_76773/3222158675.py:1: SettingWithCopyWarning: \n",
      "A value is trying to be set on a copy of a slice from a DataFrame\n",
      "\n",
      "See the caveats in the documentation: https://pandas.pydata.org/pandas-docs/stable/user_guide/indexing.html#returning-a-view-versus-a-copy\n",
      "  sales_update.drop(728, axis=0, inplace=True)\n"
     ]
    }
   ],
   "source": [
    "sales_update.drop(728, axis=0, inplace=True)\n",
    "# Drop the outlier from region_3"
   ]
  },
  {
   "cell_type": "code",
   "execution_count": 161,
   "metadata": {},
   "outputs": [
    {
     "data": {
      "text/plain": [
       "<Axes: xlabel='Region', ylabel='Price'>"
      ]
     },
     "execution_count": 161,
     "metadata": {},
     "output_type": "execute_result"
    },
    {
     "data": {
      "image/png": "[encoded data removed]",
      "text/plain": [
       "<Figure size 640x480 with 1 Axes>"
      ]
     },
     "metadata": {},
     "output_type": "display_data"
    }
   ],
   "source": [
    "sns.scatterplot(x = 'Region', y = 'Price', data=sales_update)\n",
    "# Updated scatterplot between Region and Price post removal of outlier from region_3"
   ]
  },
  {
   "cell_type": "code",
   "execution_count": 162,
   "metadata": {},
   "outputs": [
    {
     "data": {
      "text/html": [
       "<div>\n",
       "<style scoped>\n",
       "    .dataframe tbody tr th:only-of-type {\n",
       "        vertical-align: middle;\n",
       "    }\n",
       "\n",
       "    .dataframe tbody tr th {\n",
       "        vertical-align: top;\n",
       "    }\n",
       "\n",
       "    .dataframe thead th {\n",
       "        text-align: right;\n",
       "    }\n",
       "</style>\n",
       "<table border=\"1\" class=\"dataframe\">\n",
       "  <thead>\n",
       "    <tr style=\"text-align: right;\">\n",
       "      <th></th>\n",
       "      <th>Product</th>\n",
       "      <th>Region</th>\n",
       "      <th>Price</th>\n",
       "      <th>Units Sold</th>\n",
       "      <th>Sale Date</th>\n",
       "    </tr>\n",
       "  </thead>\n",
       "  <tbody>\n",
       "    <tr>\n",
       "      <th>189</th>\n",
       "      <td>Product_35</td>\n",
       "      <td>Region_1</td>\n",
       "      <td>511.74</td>\n",
       "      <td>10.0</td>\n",
       "      <td>2022-07-09</td>\n",
       "    </tr>\n",
       "    <tr>\n",
       "      <th>853</th>\n",
       "      <td>Product_41</td>\n",
       "      <td>Region_1</td>\n",
       "      <td>713.29</td>\n",
       "      <td>10.0</td>\n",
       "      <td>2024-05-03</td>\n",
       "    </tr>\n",
       "  </tbody>\n",
       "</table>\n",
       "</div>"
      ],
      "text/plain": [
       "        Product    Region   Price  Units Sold   Sale Date\n",
       "189  Product_35  Region_1  511.74        10.0  2022-07-09\n",
       "853  Product_41  Region_1  713.29        10.0  2024-05-03"
      ]
     },
     "execution_count": 162,
     "metadata": {},
     "output_type": "execute_result"
    }
   ],
   "source": [
    "sales_update[(sales_update['Region']=='Region_1') & (sales_update['Price']>475)]\n",
    "# Read index value of outlier in region 1, i.e, second data label on the x-axis"
   ]
  },
  {
   "cell_type": "code",
   "execution_count": 166,
   "metadata": {},
   "outputs": [
    {
     "name": "stderr",
     "output_type": "stream",
     "text": [
      "/var/folders/ht/6xpr92fx6hb_qsdf6ml3w35w0000gn/T/ipykernel_76773/2021448631.py:1: SettingWithCopyWarning: \n",
      "A value is trying to be set on a copy of a slice from a DataFrame\n",
      "\n",
      "See the caveats in the documentation: https://pandas.pydata.org/pandas-docs/stable/user_guide/indexing.html#returning-a-view-versus-a-copy\n",
      "  sales_update.drop(189, axis=0, inplace=True)\n",
      "/var/folders/ht/6xpr92fx6hb_qsdf6ml3w35w0000gn/T/ipykernel_76773/2021448631.py:2: SettingWithCopyWarning: \n",
      "A value is trying to be set on a copy of a slice from a DataFrame\n",
      "\n",
      "See the caveats in the documentation: https://pandas.pydata.org/pandas-docs/stable/user_guide/indexing.html#returning-a-view-versus-a-copy\n",
      "  sales_update.drop(853, axis=0, inplace=True)\n"
     ]
    }
   ],
   "source": [
    "sales_update.drop(189, axis=0, inplace=True)\n",
    "sales_update.drop(853, axis=0, inplace=True)\n",
    "# Drop the outliers"
   ]
  },
  {
   "cell_type": "code",
   "execution_count": 165,
   "metadata": {},
   "outputs": [
    {
     "ename": "ValueError",
     "evalue": "No axis named 853 for object type DataFrame",
     "output_type": "error",
     "traceback": [
      "\u001b[0;31m---------------------------------------------------------------------------\u001b[0m",
      "\u001b[0;31mKeyError\u001b[0m                                  Traceback (most recent call last)",
      "\u001b[0;32m/Library/Frameworks/Python.framework/Versions/3.10/lib/python3.10/site-packages/pandas/core/generic.py\u001b[0m in \u001b[0;36m?\u001b[0;34m(cls, axis)\u001b[0m\n\u001b[1;32m    513\u001b[0m             \u001b[0;32mreturn\u001b[0m \u001b[0mcls\u001b[0m\u001b[0;34m.\u001b[0m\u001b[0m_AXIS_TO_AXIS_NUMBER\u001b[0m\u001b[0;34m[\u001b[0m\u001b[0maxis\u001b[0m\u001b[0;34m]\u001b[0m\u001b[0;34m\u001b[0m\u001b[0;34m\u001b[0m\u001b[0m\n\u001b[1;32m    514\u001b[0m         \u001b[0;32mexcept\u001b[0m \u001b[0mKeyError\u001b[0m\u001b[0;34m:\u001b[0m\u001b[0;34m\u001b[0m\u001b[0;34m\u001b[0m\u001b[0m\n\u001b[0;32m--> 515\u001b[0;31m             \u001b[0;32mraise\u001b[0m \u001b[0mValueError\u001b[0m\u001b[0;34m(\u001b[0m\u001b[0;34mf\"No axis named {axis} for object type {cls.__name__}\"\u001b[0m\u001b[0;34m)\u001b[0m\u001b[0;34m\u001b[0m\u001b[0;34m\u001b[0m\u001b[0m\n\u001b[0m",
      "\u001b[0;31mKeyError\u001b[0m: 853",
      "\nDuring handling of the above exception, another exception occurred:\n",
      "\u001b[0;31mValueError\u001b[0m                                Traceback (most recent call last)",
      "\u001b[0;32m/var/folders/ht/6xpr92fx6hb_qsdf6ml3w35w0000gn/T/ipykernel_76773/840103146.py\u001b[0m in \u001b[0;36m?\u001b[0;34m()\u001b[0m\n\u001b[0;32m----> 1\u001b[0;31m \u001b[0msales_update\u001b[0m\u001b[0;34m.\u001b[0m\u001b[0miloc\u001b[0m\u001b[0;34m(\u001b[0m\u001b[0;36m853\u001b[0m\u001b[0;34m)\u001b[0m\u001b[0;34m\u001b[0m\u001b[0;34m\u001b[0m\u001b[0m\n\u001b[0m",
      "\u001b[0;32m/Library/Frameworks/Python.framework/Versions/3.10/lib/python3.10/site-packages/pandas/core/indexing.py\u001b[0m in \u001b[0;36m?\u001b[0;34m(self, axis)\u001b[0m\n\u001b[1;32m    675\u001b[0m         \u001b[0;31m# we need to return a copy of ourselves\u001b[0m\u001b[0;34m\u001b[0m\u001b[0;34m\u001b[0m\u001b[0m\n\u001b[1;32m    676\u001b[0m         \u001b[0mnew_self\u001b[0m \u001b[0;34m=\u001b[0m \u001b[0mtype\u001b[0m\u001b[0;34m(\u001b[0m\u001b[0mself\u001b[0m\u001b[0;34m)\u001b[0m\u001b[0;34m(\u001b[0m\u001b[0mself\u001b[0m\u001b[0;34m.\u001b[0m\u001b[0mname\u001b[0m\u001b[0;34m,\u001b[0m \u001b[0mself\u001b[0m\u001b[0;34m.\u001b[0m\u001b[0mobj\u001b[0m\u001b[0;34m)\u001b[0m\u001b[0;34m\u001b[0m\u001b[0;34m\u001b[0m\u001b[0m\n\u001b[1;32m    677\u001b[0m \u001b[0;34m\u001b[0m\u001b[0m\n\u001b[1;32m    678\u001b[0m         \u001b[0;32mif\u001b[0m \u001b[0maxis\u001b[0m \u001b[0;32mis\u001b[0m \u001b[0;32mnot\u001b[0m \u001b[0;32mNone\u001b[0m\u001b[0;34m:\u001b[0m\u001b[0;34m\u001b[0m\u001b[0;34m\u001b[0m\u001b[0m\n\u001b[0;32m--> 679\u001b[0;31m             \u001b[0maxis_int_none\u001b[0m \u001b[0;34m=\u001b[0m \u001b[0mself\u001b[0m\u001b[0;34m.\u001b[0m\u001b[0mobj\u001b[0m\u001b[0;34m.\u001b[0m\u001b[0m_get_axis_number\u001b[0m\u001b[0;34m(\u001b[0m\u001b[0maxis\u001b[0m\u001b[0;34m)\u001b[0m\u001b[0;34m\u001b[0m\u001b[0;34m\u001b[0m\u001b[0m\n\u001b[0m\u001b[1;32m    680\u001b[0m         \u001b[0;32melse\u001b[0m\u001b[0;34m:\u001b[0m\u001b[0;34m\u001b[0m\u001b[0;34m\u001b[0m\u001b[0m\n\u001b[1;32m    681\u001b[0m             \u001b[0maxis_int_none\u001b[0m \u001b[0;34m=\u001b[0m \u001b[0maxis\u001b[0m\u001b[0;34m\u001b[0m\u001b[0;34m\u001b[0m\u001b[0m\n\u001b[1;32m    682\u001b[0m         \u001b[0mnew_self\u001b[0m\u001b[0;34m.\u001b[0m\u001b[0maxis\u001b[0m \u001b[0;34m=\u001b[0m \u001b[0maxis_int_none\u001b[0m\u001b[0;34m\u001b[0m\u001b[0;34m\u001b[0m\u001b[0m\n",
      "\u001b[0;32m/Library/Frameworks/Python.framework/Versions/3.10/lib/python3.10/site-packages/pandas/core/generic.py\u001b[0m in \u001b[0;36m?\u001b[0;34m(cls, axis)\u001b[0m\n\u001b[1;32m    511\u001b[0m     \u001b[0;32mdef\u001b[0m \u001b[0m_get_axis_number\u001b[0m\u001b[0;34m(\u001b[0m\u001b[0mcls\u001b[0m\u001b[0;34m,\u001b[0m \u001b[0maxis\u001b[0m\u001b[0;34m:\u001b[0m \u001b[0mAxis\u001b[0m\u001b[0;34m)\u001b[0m \u001b[0;34m->\u001b[0m \u001b[0mAxisInt\u001b[0m\u001b[0;34m:\u001b[0m\u001b[0;34m\u001b[0m\u001b[0;34m\u001b[0m\u001b[0m\n\u001b[1;32m    512\u001b[0m         \u001b[0;32mtry\u001b[0m\u001b[0;34m:\u001b[0m\u001b[0;34m\u001b[0m\u001b[0;34m\u001b[0m\u001b[0m\n\u001b[1;32m    513\u001b[0m             \u001b[0;32mreturn\u001b[0m \u001b[0mcls\u001b[0m\u001b[0;34m.\u001b[0m\u001b[0m_AXIS_TO_AXIS_NUMBER\u001b[0m\u001b[0;34m[\u001b[0m\u001b[0maxis\u001b[0m\u001b[0;34m]\u001b[0m\u001b[0;34m\u001b[0m\u001b[0;34m\u001b[0m\u001b[0m\n\u001b[1;32m    514\u001b[0m         \u001b[0;32mexcept\u001b[0m \u001b[0mKeyError\u001b[0m\u001b[0;34m:\u001b[0m\u001b[0;34m\u001b[0m\u001b[0;34m\u001b[0m\u001b[0m\n\u001b[0;32m--> 515\u001b[0;31m             \u001b[0;32mraise\u001b[0m \u001b[0mValueError\u001b[0m\u001b[0;34m(\u001b[0m\u001b[0;34mf\"No axis named {axis} for object type {cls.__name__}\"\u001b[0m\u001b[0;34m)\u001b[0m\u001b[0;34m\u001b[0m\u001b[0;34m\u001b[0m\u001b[0m\n\u001b[0m",
      "\u001b[0;31mValueError\u001b[0m: No axis named 853 for object type DataFrame"
     ]
    }
   ],
   "source": [
    "sales_update.iloc(853)\n",
    "# Validate whether outlier has been dropped, error message shows the outlier does not exist in the dataset anymore"
   ]
  },
  {
   "cell_type": "code",
   "execution_count": 167,
   "metadata": {},
   "outputs": [
    {
     "data": {
      "text/html": [
       "<div>\n",
       "<style scoped>\n",
       "    .dataframe tbody tr th:only-of-type {\n",
       "        vertical-align: middle;\n",
       "    }\n",
       "\n",
       "    .dataframe tbody tr th {\n",
       "        vertical-align: top;\n",
       "    }\n",
       "\n",
       "    .dataframe thead th {\n",
       "        text-align: right;\n",
       "    }\n",
       "</style>\n",
       "<table border=\"1\" class=\"dataframe\">\n",
       "  <thead>\n",
       "    <tr style=\"text-align: right;\">\n",
       "      <th></th>\n",
       "      <th>Product</th>\n",
       "      <th>Region</th>\n",
       "      <th>Price</th>\n",
       "      <th>Units Sold</th>\n",
       "      <th>Sale Date</th>\n",
       "    </tr>\n",
       "  </thead>\n",
       "  <tbody>\n",
       "    <tr>\n",
       "      <th>834</th>\n",
       "      <td>Product_15</td>\n",
       "      <td>Region_6</td>\n",
       "      <td>510.06</td>\n",
       "      <td>10.0</td>\n",
       "      <td>2024-04-14</td>\n",
       "    </tr>\n",
       "  </tbody>\n",
       "</table>\n",
       "</div>"
      ],
      "text/plain": [
       "        Product    Region   Price  Units Sold   Sale Date\n",
       "834  Product_15  Region_6  510.06        10.0  2024-04-14"
      ]
     },
     "execution_count": 167,
     "metadata": {},
     "output_type": "execute_result"
    }
   ],
   "source": [
    "sales_update[(sales_update['Region']=='Region_6') & (sales_update['Price']>450)]\n",
    "# Read index value of outlier in region 6, i.e, third data label on the x-axis"
   ]
  },
  {
   "cell_type": "code",
   "execution_count": 168,
   "metadata": {},
   "outputs": [
    {
     "name": "stderr",
     "output_type": "stream",
     "text": [
      "/var/folders/ht/6xpr92fx6hb_qsdf6ml3w35w0000gn/T/ipykernel_76773/1456582645.py:1: SettingWithCopyWarning: \n",
      "A value is trying to be set on a copy of a slice from a DataFrame\n",
      "\n",
      "See the caveats in the documentation: https://pandas.pydata.org/pandas-docs/stable/user_guide/indexing.html#returning-a-view-versus-a-copy\n",
      "  sales_update.drop(834, inplace=True)\n"
     ]
    }
   ],
   "source": [
    "sales_update.drop(834, inplace=True)\n",
    "# Drop the outlier"
   ]
  },
  {
   "cell_type": "code",
   "execution_count": 169,
   "metadata": {},
   "outputs": [
    {
     "ename": "ValueError",
     "evalue": "No axis named 834 for object type DataFrame",
     "output_type": "error",
     "traceback": [
      "\u001b[0;31m---------------------------------------------------------------------------\u001b[0m",
      "\u001b[0;31mKeyError\u001b[0m                                  Traceback (most recent call last)",
      "\u001b[0;32m/Library/Frameworks/Python.framework/Versions/3.10/lib/python3.10/site-packages/pandas/core/generic.py\u001b[0m in \u001b[0;36m?\u001b[0;34m(cls, axis)\u001b[0m\n\u001b[1;32m    513\u001b[0m             \u001b[0;32mreturn\u001b[0m \u001b[0mcls\u001b[0m\u001b[0;34m.\u001b[0m\u001b[0m_AXIS_TO_AXIS_NUMBER\u001b[0m\u001b[0;34m[\u001b[0m\u001b[0maxis\u001b[0m\u001b[0;34m]\u001b[0m\u001b[0;34m\u001b[0m\u001b[0;34m\u001b[0m\u001b[0m\n\u001b[1;32m    514\u001b[0m         \u001b[0;32mexcept\u001b[0m \u001b[0mKeyError\u001b[0m\u001b[0;34m:\u001b[0m\u001b[0;34m\u001b[0m\u001b[0;34m\u001b[0m\u001b[0m\n\u001b[0;32m--> 515\u001b[0;31m             \u001b[0;32mraise\u001b[0m \u001b[0mValueError\u001b[0m\u001b[0;34m(\u001b[0m\u001b[0;34mf\"No axis named {axis} for object type {cls.__name__}\"\u001b[0m\u001b[0;34m)\u001b[0m\u001b[0;34m\u001b[0m\u001b[0;34m\u001b[0m\u001b[0m\n\u001b[0m",
      "\u001b[0;31mKeyError\u001b[0m: 834",
      "\nDuring handling of the above exception, another exception occurred:\n",
      "\u001b[0;31mValueError\u001b[0m                                Traceback (most recent call last)",
      "\u001b[0;32m/var/folders/ht/6xpr92fx6hb_qsdf6ml3w35w0000gn/T/ipykernel_76773/2338642605.py\u001b[0m in \u001b[0;36m?\u001b[0;34m()\u001b[0m\n\u001b[0;32m----> 1\u001b[0;31m \u001b[0msales_update\u001b[0m\u001b[0;34m.\u001b[0m\u001b[0miloc\u001b[0m\u001b[0;34m(\u001b[0m\u001b[0;36m834\u001b[0m\u001b[0;34m)\u001b[0m\u001b[0;34m\u001b[0m\u001b[0;34m\u001b[0m\u001b[0m\n\u001b[0m",
      "\u001b[0;32m/Library/Frameworks/Python.framework/Versions/3.10/lib/python3.10/site-packages/pandas/core/indexing.py\u001b[0m in \u001b[0;36m?\u001b[0;34m(self, axis)\u001b[0m\n\u001b[1;32m    675\u001b[0m         \u001b[0;31m# we need to return a copy of ourselves\u001b[0m\u001b[0;34m\u001b[0m\u001b[0;34m\u001b[0m\u001b[0m\n\u001b[1;32m    676\u001b[0m         \u001b[0mnew_self\u001b[0m \u001b[0;34m=\u001b[0m \u001b[0mtype\u001b[0m\u001b[0;34m(\u001b[0m\u001b[0mself\u001b[0m\u001b[0;34m)\u001b[0m\u001b[0;34m(\u001b[0m\u001b[0mself\u001b[0m\u001b[0;34m.\u001b[0m\u001b[0mname\u001b[0m\u001b[0;34m,\u001b[0m \u001b[0mself\u001b[0m\u001b[0;34m.\u001b[0m\u001b[0mobj\u001b[0m\u001b[0;34m)\u001b[0m\u001b[0;34m\u001b[0m\u001b[0;34m\u001b[0m\u001b[0m\n\u001b[1;32m    677\u001b[0m \u001b[0;34m\u001b[0m\u001b[0m\n\u001b[1;32m    678\u001b[0m         \u001b[0;32mif\u001b[0m \u001b[0maxis\u001b[0m \u001b[0;32mis\u001b[0m \u001b[0;32mnot\u001b[0m \u001b[0;32mNone\u001b[0m\u001b[0;34m:\u001b[0m\u001b[0;34m\u001b[0m\u001b[0;34m\u001b[0m\u001b[0m\n\u001b[0;32m--> 679\u001b[0;31m             \u001b[0maxis_int_none\u001b[0m \u001b[0;34m=\u001b[0m \u001b[0mself\u001b[0m\u001b[0;34m.\u001b[0m\u001b[0mobj\u001b[0m\u001b[0;34m.\u001b[0m\u001b[0m_get_axis_number\u001b[0m\u001b[0;34m(\u001b[0m\u001b[0maxis\u001b[0m\u001b[0;34m)\u001b[0m\u001b[0;34m\u001b[0m\u001b[0;34m\u001b[0m\u001b[0m\n\u001b[0m\u001b[1;32m    680\u001b[0m         \u001b[0;32melse\u001b[0m\u001b[0;34m:\u001b[0m\u001b[0;34m\u001b[0m\u001b[0;34m\u001b[0m\u001b[0m\n\u001b[1;32m    681\u001b[0m             \u001b[0maxis_int_none\u001b[0m \u001b[0;34m=\u001b[0m \u001b[0maxis\u001b[0m\u001b[0;34m\u001b[0m\u001b[0;34m\u001b[0m\u001b[0m\n\u001b[1;32m    682\u001b[0m         \u001b[0mnew_self\u001b[0m\u001b[0;34m.\u001b[0m\u001b[0maxis\u001b[0m \u001b[0;34m=\u001b[0m \u001b[0maxis_int_none\u001b[0m\u001b[0;34m\u001b[0m\u001b[0;34m\u001b[0m\u001b[0m\n",
      "\u001b[0;32m/Library/Frameworks/Python.framework/Versions/3.10/lib/python3.10/site-packages/pandas/core/generic.py\u001b[0m in \u001b[0;36m?\u001b[0;34m(cls, axis)\u001b[0m\n\u001b[1;32m    511\u001b[0m     \u001b[0;32mdef\u001b[0m \u001b[0m_get_axis_number\u001b[0m\u001b[0;34m(\u001b[0m\u001b[0mcls\u001b[0m\u001b[0;34m,\u001b[0m \u001b[0maxis\u001b[0m\u001b[0;34m:\u001b[0m \u001b[0mAxis\u001b[0m\u001b[0;34m)\u001b[0m \u001b[0;34m->\u001b[0m \u001b[0mAxisInt\u001b[0m\u001b[0;34m:\u001b[0m\u001b[0;34m\u001b[0m\u001b[0;34m\u001b[0m\u001b[0m\n\u001b[1;32m    512\u001b[0m         \u001b[0;32mtry\u001b[0m\u001b[0;34m:\u001b[0m\u001b[0;34m\u001b[0m\u001b[0;34m\u001b[0m\u001b[0m\n\u001b[1;32m    513\u001b[0m             \u001b[0;32mreturn\u001b[0m \u001b[0mcls\u001b[0m\u001b[0;34m.\u001b[0m\u001b[0m_AXIS_TO_AXIS_NUMBER\u001b[0m\u001b[0;34m[\u001b[0m\u001b[0maxis\u001b[0m\u001b[0;34m]\u001b[0m\u001b[0;34m\u001b[0m\u001b[0;34m\u001b[0m\u001b[0m\n\u001b[1;32m    514\u001b[0m         \u001b[0;32mexcept\u001b[0m \u001b[0mKeyError\u001b[0m\u001b[0;34m:\u001b[0m\u001b[0;34m\u001b[0m\u001b[0;34m\u001b[0m\u001b[0m\n\u001b[0;32m--> 515\u001b[0;31m             \u001b[0;32mraise\u001b[0m \u001b[0mValueError\u001b[0m\u001b[0;34m(\u001b[0m\u001b[0;34mf\"No axis named {axis} for object type {cls.__name__}\"\u001b[0m\u001b[0;34m)\u001b[0m\u001b[0;34m\u001b[0m\u001b[0;34m\u001b[0m\u001b[0m\n\u001b[0m",
      "\u001b[0;31mValueError\u001b[0m: No axis named 834 for object type DataFrame"
     ]
    }
   ],
   "source": [
    "sales_update.iloc(834)\n",
    "# Validate whether outlier has been dropped, error message shows the outlier does not exist in the dataset anymore"
   ]
  },
  {
   "cell_type": "code",
   "execution_count": 170,
   "metadata": {},
   "outputs": [
    {
     "data": {
      "text/html": [
       "<div>\n",
       "<style scoped>\n",
       "    .dataframe tbody tr th:only-of-type {\n",
       "        vertical-align: middle;\n",
       "    }\n",
       "\n",
       "    .dataframe tbody tr th {\n",
       "        vertical-align: top;\n",
       "    }\n",
       "\n",
       "    .dataframe thead th {\n",
       "        text-align: right;\n",
       "    }\n",
       "</style>\n",
       "<table border=\"1\" class=\"dataframe\">\n",
       "  <thead>\n",
       "    <tr style=\"text-align: right;\">\n",
       "      <th></th>\n",
       "      <th>Product</th>\n",
       "      <th>Region</th>\n",
       "      <th>Price</th>\n",
       "      <th>Units Sold</th>\n",
       "      <th>Sale Date</th>\n",
       "    </tr>\n",
       "  </thead>\n",
       "  <tbody>\n",
       "    <tr>\n",
       "      <th>264</th>\n",
       "      <td>Product_14</td>\n",
       "      <td>Region_7</td>\n",
       "      <td>517.29</td>\n",
       "      <td>10.0</td>\n",
       "      <td>2022-09-22</td>\n",
       "    </tr>\n",
       "  </tbody>\n",
       "</table>\n",
       "</div>"
      ],
      "text/plain": [
       "        Product    Region   Price  Units Sold   Sale Date\n",
       "264  Product_14  Region_7  517.29        10.0  2022-09-22"
      ]
     },
     "execution_count": 170,
     "metadata": {},
     "output_type": "execute_result"
    }
   ],
   "source": [
    "sales_update[(sales_update['Region']=='Region_7') & (sales_update['Price']>500)]\n",
    "# # Read index value of outlier in region 7, i.e, fourth data label on the x-axis"
   ]
  },
  {
   "cell_type": "code",
   "execution_count": 171,
   "metadata": {},
   "outputs": [
    {
     "name": "stderr",
     "output_type": "stream",
     "text": [
      "/var/folders/ht/6xpr92fx6hb_qsdf6ml3w35w0000gn/T/ipykernel_76773/375789478.py:1: SettingWithCopyWarning: \n",
      "A value is trying to be set on a copy of a slice from a DataFrame\n",
      "\n",
      "See the caveats in the documentation: https://pandas.pydata.org/pandas-docs/stable/user_guide/indexing.html#returning-a-view-versus-a-copy\n",
      "  sales_update.drop(264, inplace=True)\n"
     ]
    }
   ],
   "source": [
    "sales_update.drop(264, inplace=True)\n",
    "# Drop the outlier"
   ]
  },
  {
   "cell_type": "code",
   "execution_count": 172,
   "metadata": {},
   "outputs": [
    {
     "ename": "ValueError",
     "evalue": "No axis named 264 for object type DataFrame",
     "output_type": "error",
     "traceback": [
      "\u001b[0;31m---------------------------------------------------------------------------\u001b[0m",
      "\u001b[0;31mKeyError\u001b[0m                                  Traceback (most recent call last)",
      "\u001b[0;32m/Library/Frameworks/Python.framework/Versions/3.10/lib/python3.10/site-packages/pandas/core/generic.py\u001b[0m in \u001b[0;36m?\u001b[0;34m(cls, axis)\u001b[0m\n\u001b[1;32m    513\u001b[0m             \u001b[0;32mreturn\u001b[0m \u001b[0mcls\u001b[0m\u001b[0;34m.\u001b[0m\u001b[0m_AXIS_TO_AXIS_NUMBER\u001b[0m\u001b[0;34m[\u001b[0m\u001b[0maxis\u001b[0m\u001b[0;34m]\u001b[0m\u001b[0;34m\u001b[0m\u001b[0;34m\u001b[0m\u001b[0m\n\u001b[1;32m    514\u001b[0m         \u001b[0;32mexcept\u001b[0m \u001b[0mKeyError\u001b[0m\u001b[0;34m:\u001b[0m\u001b[0;34m\u001b[0m\u001b[0;34m\u001b[0m\u001b[0m\n\u001b[0;32m--> 515\u001b[0;31m             \u001b[0;32mraise\u001b[0m \u001b[0mValueError\u001b[0m\u001b[0;34m(\u001b[0m\u001b[0;34mf\"No axis named {axis} for object type {cls.__name__}\"\u001b[0m\u001b[0;34m)\u001b[0m\u001b[0;34m\u001b[0m\u001b[0;34m\u001b[0m\u001b[0m\n\u001b[0m",
      "\u001b[0;31mKeyError\u001b[0m: 264",
      "\nDuring handling of the above exception, another exception occurred:\n",
      "\u001b[0;31mValueError\u001b[0m                                Traceback (most recent call last)",
      "\u001b[0;32m/var/folders/ht/6xpr92fx6hb_qsdf6ml3w35w0000gn/T/ipykernel_76773/3343331995.py\u001b[0m in \u001b[0;36m?\u001b[0;34m()\u001b[0m\n\u001b[0;32m----> 1\u001b[0;31m \u001b[0msales_update\u001b[0m\u001b[0;34m.\u001b[0m\u001b[0miloc\u001b[0m\u001b[0;34m(\u001b[0m\u001b[0;36m264\u001b[0m\u001b[0;34m)\u001b[0m\u001b[0;34m\u001b[0m\u001b[0;34m\u001b[0m\u001b[0m\n\u001b[0m",
      "\u001b[0;32m/Library/Frameworks/Python.framework/Versions/3.10/lib/python3.10/site-packages/pandas/core/indexing.py\u001b[0m in \u001b[0;36m?\u001b[0;34m(self, axis)\u001b[0m\n\u001b[1;32m    675\u001b[0m         \u001b[0;31m# we need to return a copy of ourselves\u001b[0m\u001b[0;34m\u001b[0m\u001b[0;34m\u001b[0m\u001b[0m\n\u001b[1;32m    676\u001b[0m         \u001b[0mnew_self\u001b[0m \u001b[0;34m=\u001b[0m \u001b[0mtype\u001b[0m\u001b[0;34m(\u001b[0m\u001b[0mself\u001b[0m\u001b[0;34m)\u001b[0m\u001b[0;34m(\u001b[0m\u001b[0mself\u001b[0m\u001b[0;34m.\u001b[0m\u001b[0mname\u001b[0m\u001b[0;34m,\u001b[0m \u001b[0mself\u001b[0m\u001b[0;34m.\u001b[0m\u001b[0mobj\u001b[0m\u001b[0;34m)\u001b[0m\u001b[0;34m\u001b[0m\u001b[0;34m\u001b[0m\u001b[0m\n\u001b[1;32m    677\u001b[0m \u001b[0;34m\u001b[0m\u001b[0m\n\u001b[1;32m    678\u001b[0m         \u001b[0;32mif\u001b[0m \u001b[0maxis\u001b[0m \u001b[0;32mis\u001b[0m \u001b[0;32mnot\u001b[0m \u001b[0;32mNone\u001b[0m\u001b[0;34m:\u001b[0m\u001b[0;34m\u001b[0m\u001b[0;34m\u001b[0m\u001b[0m\n\u001b[0;32m--> 679\u001b[0;31m             \u001b[0maxis_int_none\u001b[0m \u001b[0;34m=\u001b[0m \u001b[0mself\u001b[0m\u001b[0;34m.\u001b[0m\u001b[0mobj\u001b[0m\u001b[0;34m.\u001b[0m\u001b[0m_get_axis_number\u001b[0m\u001b[0;34m(\u001b[0m\u001b[0maxis\u001b[0m\u001b[0;34m)\u001b[0m\u001b[0;34m\u001b[0m\u001b[0;34m\u001b[0m\u001b[0m\n\u001b[0m\u001b[1;32m    680\u001b[0m         \u001b[0;32melse\u001b[0m\u001b[0;34m:\u001b[0m\u001b[0;34m\u001b[0m\u001b[0;34m\u001b[0m\u001b[0m\n\u001b[1;32m    681\u001b[0m             \u001b[0maxis_int_none\u001b[0m \u001b[0;34m=\u001b[0m \u001b[0maxis\u001b[0m\u001b[0;34m\u001b[0m\u001b[0;34m\u001b[0m\u001b[0m\n\u001b[1;32m    682\u001b[0m         \u001b[0mnew_self\u001b[0m\u001b[0;34m.\u001b[0m\u001b[0maxis\u001b[0m \u001b[0;34m=\u001b[0m \u001b[0maxis_int_none\u001b[0m\u001b[0;34m\u001b[0m\u001b[0;34m\u001b[0m\u001b[0m\n",
      "\u001b[0;32m/Library/Frameworks/Python.framework/Versions/3.10/lib/python3.10/site-packages/pandas/core/generic.py\u001b[0m in \u001b[0;36m?\u001b[0;34m(cls, axis)\u001b[0m\n\u001b[1;32m    511\u001b[0m     \u001b[0;32mdef\u001b[0m \u001b[0m_get_axis_number\u001b[0m\u001b[0;34m(\u001b[0m\u001b[0mcls\u001b[0m\u001b[0;34m,\u001b[0m \u001b[0maxis\u001b[0m\u001b[0;34m:\u001b[0m \u001b[0mAxis\u001b[0m\u001b[0;34m)\u001b[0m \u001b[0;34m->\u001b[0m \u001b[0mAxisInt\u001b[0m\u001b[0;34m:\u001b[0m\u001b[0;34m\u001b[0m\u001b[0;34m\u001b[0m\u001b[0m\n\u001b[1;32m    512\u001b[0m         \u001b[0;32mtry\u001b[0m\u001b[0;34m:\u001b[0m\u001b[0;34m\u001b[0m\u001b[0;34m\u001b[0m\u001b[0m\n\u001b[1;32m    513\u001b[0m             \u001b[0;32mreturn\u001b[0m \u001b[0mcls\u001b[0m\u001b[0;34m.\u001b[0m\u001b[0m_AXIS_TO_AXIS_NUMBER\u001b[0m\u001b[0;34m[\u001b[0m\u001b[0maxis\u001b[0m\u001b[0;34m]\u001b[0m\u001b[0;34m\u001b[0m\u001b[0;34m\u001b[0m\u001b[0m\n\u001b[1;32m    514\u001b[0m         \u001b[0;32mexcept\u001b[0m \u001b[0mKeyError\u001b[0m\u001b[0;34m:\u001b[0m\u001b[0;34m\u001b[0m\u001b[0;34m\u001b[0m\u001b[0m\n\u001b[0;32m--> 515\u001b[0;31m             \u001b[0;32mraise\u001b[0m \u001b[0mValueError\u001b[0m\u001b[0;34m(\u001b[0m\u001b[0;34mf\"No axis named {axis} for object type {cls.__name__}\"\u001b[0m\u001b[0;34m)\u001b[0m\u001b[0;34m\u001b[0m\u001b[0;34m\u001b[0m\u001b[0m\n\u001b[0m",
      "\u001b[0;31mValueError\u001b[0m: No axis named 264 for object type DataFrame"
     ]
    }
   ],
   "source": [
    "sales_update.iloc(264)\n",
    "# Validate whether outlier has been dropped, error message shows the outlier does not exist in the dataset anymore"
   ]
  },
  {
   "cell_type": "code",
   "execution_count": 173,
   "metadata": {},
   "outputs": [
    {
     "data": {
      "text/html": [
       "<div>\n",
       "<style scoped>\n",
       "    .dataframe tbody tr th:only-of-type {\n",
       "        vertical-align: middle;\n",
       "    }\n",
       "\n",
       "    .dataframe tbody tr th {\n",
       "        vertical-align: top;\n",
       "    }\n",
       "\n",
       "    .dataframe thead th {\n",
       "        text-align: right;\n",
       "    }\n",
       "</style>\n",
       "<table border=\"1\" class=\"dataframe\">\n",
       "  <thead>\n",
       "    <tr style=\"text-align: right;\">\n",
       "      <th></th>\n",
       "      <th>Product</th>\n",
       "      <th>Region</th>\n",
       "      <th>Price</th>\n",
       "      <th>Units Sold</th>\n",
       "      <th>Sale Date</th>\n",
       "    </tr>\n",
       "  </thead>\n",
       "  <tbody>\n",
       "    <tr>\n",
       "      <th>234</th>\n",
       "      <td>Product_34</td>\n",
       "      <td>Region_9</td>\n",
       "      <td>496.61</td>\n",
       "      <td>8.0</td>\n",
       "      <td>2022-08-23</td>\n",
       "    </tr>\n",
       "  </tbody>\n",
       "</table>\n",
       "</div>"
      ],
      "text/plain": [
       "        Product    Region   Price  Units Sold   Sale Date\n",
       "234  Product_34  Region_9  496.61         8.0  2022-08-23"
      ]
     },
     "execution_count": 173,
     "metadata": {},
     "output_type": "execute_result"
    }
   ],
   "source": [
    "sales_update[(sales_update['Region']=='Region_9') & (sales_update['Price']>475)]\n",
    "# Read index value of outlier in region 9, i.e, fifth data label on the x-axis"
   ]
  },
  {
   "cell_type": "code",
   "execution_count": 174,
   "metadata": {},
   "outputs": [
    {
     "name": "stderr",
     "output_type": "stream",
     "text": [
      "/var/folders/ht/6xpr92fx6hb_qsdf6ml3w35w0000gn/T/ipykernel_76773/3016538705.py:1: SettingWithCopyWarning: \n",
      "A value is trying to be set on a copy of a slice from a DataFrame\n",
      "\n",
      "See the caveats in the documentation: https://pandas.pydata.org/pandas-docs/stable/user_guide/indexing.html#returning-a-view-versus-a-copy\n",
      "  sales_update.drop(234, inplace=True)\n"
     ]
    }
   ],
   "source": [
    "sales_update.drop(234, inplace=True)\n",
    "# Drop the outlier"
   ]
  },
  {
   "cell_type": "code",
   "execution_count": 175,
   "metadata": {},
   "outputs": [
    {
     "data": {
      "text/html": [
       "<div>\n",
       "<style scoped>\n",
       "    .dataframe tbody tr th:only-of-type {\n",
       "        vertical-align: middle;\n",
       "    }\n",
       "\n",
       "    .dataframe tbody tr th {\n",
       "        vertical-align: top;\n",
       "    }\n",
       "\n",
       "    .dataframe thead th {\n",
       "        text-align: right;\n",
       "    }\n",
       "</style>\n",
       "<table border=\"1\" class=\"dataframe\">\n",
       "  <thead>\n",
       "    <tr style=\"text-align: right;\">\n",
       "      <th></th>\n",
       "      <th>Product</th>\n",
       "      <th>Region</th>\n",
       "      <th>Price</th>\n",
       "      <th>Units Sold</th>\n",
       "      <th>Sale Date</th>\n",
       "    </tr>\n",
       "  </thead>\n",
       "  <tbody>\n",
       "    <tr>\n",
       "      <th>437</th>\n",
       "      <td>Product_26</td>\n",
       "      <td>Region_8</td>\n",
       "      <td>585.17</td>\n",
       "      <td>13.0</td>\n",
       "      <td>2023-03-14</td>\n",
       "    </tr>\n",
       "    <tr>\n",
       "      <th>684</th>\n",
       "      <td>Product_45</td>\n",
       "      <td>Region_8</td>\n",
       "      <td>580.60</td>\n",
       "      <td>NaN</td>\n",
       "      <td>2023-11-16</td>\n",
       "    </tr>\n",
       "  </tbody>\n",
       "</table>\n",
       "</div>"
      ],
      "text/plain": [
       "        Product    Region   Price  Units Sold   Sale Date\n",
       "437  Product_26  Region_8  585.17        13.0  2023-03-14\n",
       "684  Product_45  Region_8  580.60         NaN  2023-11-16"
      ]
     },
     "execution_count": 175,
     "metadata": {},
     "output_type": "execute_result"
    }
   ],
   "source": [
    "sales_update[(sales_update['Region']=='Region_8') & (sales_update['Price']>550)]\n",
    "# Read index value of outlier in region 8, i.e, sixth data label on the x-axis"
   ]
  },
  {
   "cell_type": "code",
   "execution_count": 176,
   "metadata": {},
   "outputs": [
    {
     "name": "stderr",
     "output_type": "stream",
     "text": [
      "/var/folders/ht/6xpr92fx6hb_qsdf6ml3w35w0000gn/T/ipykernel_76773/3779959958.py:1: SettingWithCopyWarning: \n",
      "A value is trying to be set on a copy of a slice from a DataFrame\n",
      "\n",
      "See the caveats in the documentation: https://pandas.pydata.org/pandas-docs/stable/user_guide/indexing.html#returning-a-view-versus-a-copy\n",
      "  sales_update.drop(437, inplace=True)\n",
      "/var/folders/ht/6xpr92fx6hb_qsdf6ml3w35w0000gn/T/ipykernel_76773/3779959958.py:2: SettingWithCopyWarning: \n",
      "A value is trying to be set on a copy of a slice from a DataFrame\n",
      "\n",
      "See the caveats in the documentation: https://pandas.pydata.org/pandas-docs/stable/user_guide/indexing.html#returning-a-view-versus-a-copy\n",
      "  sales_update.drop(684, inplace=True)\n"
     ]
    }
   ],
   "source": [
    "sales_update.drop(437, inplace=True)\n",
    "sales_update.drop(684, inplace=True)\n",
    "# Drop the outliers"
   ]
  },
  {
   "cell_type": "code",
   "execution_count": 177,
   "metadata": {},
   "outputs": [
    {
     "data": {
      "text/html": [
       "<div>\n",
       "<style scoped>\n",
       "    .dataframe tbody tr th:only-of-type {\n",
       "        vertical-align: middle;\n",
       "    }\n",
       "\n",
       "    .dataframe tbody tr th {\n",
       "        vertical-align: top;\n",
       "    }\n",
       "\n",
       "    .dataframe thead th {\n",
       "        text-align: right;\n",
       "    }\n",
       "</style>\n",
       "<table border=\"1\" class=\"dataframe\">\n",
       "  <thead>\n",
       "    <tr style=\"text-align: right;\">\n",
       "      <th></th>\n",
       "      <th>Product</th>\n",
       "      <th>Region</th>\n",
       "      <th>Price</th>\n",
       "      <th>Units Sold</th>\n",
       "      <th>Sale Date</th>\n",
       "    </tr>\n",
       "  </thead>\n",
       "  <tbody>\n",
       "    <tr>\n",
       "      <th>526</th>\n",
       "      <td>Product_31</td>\n",
       "      <td>Region_4</td>\n",
       "      <td>505.01</td>\n",
       "      <td>11.0</td>\n",
       "      <td>2023-06-11</td>\n",
       "    </tr>\n",
       "  </tbody>\n",
       "</table>\n",
       "</div>"
      ],
      "text/plain": [
       "        Product    Region   Price  Units Sold   Sale Date\n",
       "526  Product_31  Region_4  505.01        11.0  2023-06-11"
      ]
     },
     "execution_count": 177,
     "metadata": {},
     "output_type": "execute_result"
    }
   ],
   "source": [
    "sales_update[(sales_update['Region']=='Region_4') & (sales_update['Price']>500)]\n",
    "# Read index value of outlier in region 4, i.e, seventh data label on the x-axis"
   ]
  },
  {
   "cell_type": "code",
   "execution_count": 178,
   "metadata": {},
   "outputs": [
    {
     "name": "stderr",
     "output_type": "stream",
     "text": [
      "/var/folders/ht/6xpr92fx6hb_qsdf6ml3w35w0000gn/T/ipykernel_76773/1506388208.py:1: SettingWithCopyWarning: \n",
      "A value is trying to be set on a copy of a slice from a DataFrame\n",
      "\n",
      "See the caveats in the documentation: https://pandas.pydata.org/pandas-docs/stable/user_guide/indexing.html#returning-a-view-versus-a-copy\n",
      "  sales_update.drop(526, inplace=True)\n"
     ]
    }
   ],
   "source": [
    "sales_update.drop(526, inplace=True)\n",
    "# Drop the outlier"
   ]
  },
  {
   "cell_type": "code",
   "execution_count": 180,
   "metadata": {},
   "outputs": [
    {
     "data": {
      "text/html": [
       "<div>\n",
       "<style scoped>\n",
       "    .dataframe tbody tr th:only-of-type {\n",
       "        vertical-align: middle;\n",
       "    }\n",
       "\n",
       "    .dataframe tbody tr th {\n",
       "        vertical-align: top;\n",
       "    }\n",
       "\n",
       "    .dataframe thead th {\n",
       "        text-align: right;\n",
       "    }\n",
       "</style>\n",
       "<table border=\"1\" class=\"dataframe\">\n",
       "  <thead>\n",
       "    <tr style=\"text-align: right;\">\n",
       "      <th></th>\n",
       "      <th>Product</th>\n",
       "      <th>Region</th>\n",
       "      <th>Price</th>\n",
       "      <th>Units Sold</th>\n",
       "      <th>Sale Date</th>\n",
       "    </tr>\n",
       "  </thead>\n",
       "  <tbody>\n",
       "    <tr>\n",
       "      <th>293</th>\n",
       "      <td>Product_22</td>\n",
       "      <td>Region_2</td>\n",
       "      <td>493.2</td>\n",
       "      <td>NaN</td>\n",
       "      <td>2022-10-21</td>\n",
       "    </tr>\n",
       "    <tr>\n",
       "      <th>814</th>\n",
       "      <td>Product_26</td>\n",
       "      <td>Region_2</td>\n",
       "      <td>623.6</td>\n",
       "      <td>12.0</td>\n",
       "      <td>2024-03-25</td>\n",
       "    </tr>\n",
       "  </tbody>\n",
       "</table>\n",
       "</div>"
      ],
      "text/plain": [
       "        Product    Region  Price  Units Sold   Sale Date\n",
       "293  Product_22  Region_2  493.2         NaN  2022-10-21\n",
       "814  Product_26  Region_2  623.6        12.0  2024-03-25"
      ]
     },
     "execution_count": 180,
     "metadata": {},
     "output_type": "execute_result"
    }
   ],
   "source": [
    "sales_update[(sales_update['Region']=='Region_2') & (sales_update['Price']>480)]\n",
    "# Read index value of outlier in region 2, i.e, eighth data label on the x-axis"
   ]
  },
  {
   "cell_type": "code",
   "execution_count": 181,
   "metadata": {},
   "outputs": [
    {
     "name": "stderr",
     "output_type": "stream",
     "text": [
      "/var/folders/ht/6xpr92fx6hb_qsdf6ml3w35w0000gn/T/ipykernel_76773/1188361708.py:1: SettingWithCopyWarning: \n",
      "A value is trying to be set on a copy of a slice from a DataFrame\n",
      "\n",
      "See the caveats in the documentation: https://pandas.pydata.org/pandas-docs/stable/user_guide/indexing.html#returning-a-view-versus-a-copy\n",
      "  sales_update.drop(293, inplace=True)\n",
      "/var/folders/ht/6xpr92fx6hb_qsdf6ml3w35w0000gn/T/ipykernel_76773/1188361708.py:2: SettingWithCopyWarning: \n",
      "A value is trying to be set on a copy of a slice from a DataFrame\n",
      "\n",
      "See the caveats in the documentation: https://pandas.pydata.org/pandas-docs/stable/user_guide/indexing.html#returning-a-view-versus-a-copy\n",
      "  sales_update.drop(814, inplace=True)\n"
     ]
    }
   ],
   "source": [
    "sales_update.drop(293, inplace=True)\n",
    "sales_update.drop(814, inplace=True)\n",
    "# Drop the outliers"
   ]
  },
  {
   "cell_type": "code",
   "execution_count": 182,
   "metadata": {},
   "outputs": [
    {
     "data": {
      "text/plain": [
       "<Axes: xlabel='Region', ylabel='Price'>"
      ]
     },
     "execution_count": 182,
     "metadata": {},
     "output_type": "execute_result"
    },
    {
     "data": {
      "image/png": "[encoded data removed]",
      "text/plain": [
       "<Figure size 640x480 with 1 Axes>"
      ]
     },
     "metadata": {},
     "output_type": "display_data"
    }
   ],
   "source": [
    "sns.scatterplot(x = 'Region', y = 'Price', data=sales_update)\n",
    "# Updated scatterplot between region and price post removal of outliers"
   ]
  },
  {
   "cell_type": "code",
   "execution_count": 183,
   "metadata": {},
   "outputs": [
    {
     "data": {
      "text/html": [
       "<div>\n",
       "<style scoped>\n",
       "    .dataframe tbody tr th:only-of-type {\n",
       "        vertical-align: middle;\n",
       "    }\n",
       "\n",
       "    .dataframe tbody tr th {\n",
       "        vertical-align: top;\n",
       "    }\n",
       "\n",
       "    .dataframe thead th {\n",
       "        text-align: right;\n",
       "    }\n",
       "</style>\n",
       "<table border=\"1\" class=\"dataframe\">\n",
       "  <thead>\n",
       "    <tr style=\"text-align: right;\">\n",
       "      <th></th>\n",
       "      <th>Product</th>\n",
       "      <th>Region</th>\n",
       "      <th>Price</th>\n",
       "      <th>Units Sold</th>\n",
       "      <th>Sale Date</th>\n",
       "    </tr>\n",
       "  </thead>\n",
       "  <tbody>\n",
       "    <tr>\n",
       "      <th>500</th>\n",
       "      <td>Product_40</td>\n",
       "      <td>Region_6</td>\n",
       "      <td>426.02</td>\n",
       "      <td>NaN</td>\n",
       "      <td>2023-05-16</td>\n",
       "    </tr>\n",
       "  </tbody>\n",
       "</table>\n",
       "</div>"
      ],
      "text/plain": [
       "        Product    Region   Price  Units Sold   Sale Date\n",
       "500  Product_40  Region_6  426.02         NaN  2023-05-16"
      ]
     },
     "execution_count": 183,
     "metadata": {},
     "output_type": "execute_result"
    }
   ],
   "source": [
    "sales_update[(sales_update['Region']=='Region_6') & (sales_update['Price']>400)]\n",
    "# Read index value of outlier in region 6, to further clean the data"
   ]
  },
  {
   "cell_type": "code",
   "execution_count": 184,
   "metadata": {},
   "outputs": [
    {
     "name": "stderr",
     "output_type": "stream",
     "text": [
      "/var/folders/ht/6xpr92fx6hb_qsdf6ml3w35w0000gn/T/ipykernel_76773/1198129220.py:1: SettingWithCopyWarning: \n",
      "A value is trying to be set on a copy of a slice from a DataFrame\n",
      "\n",
      "See the caveats in the documentation: https://pandas.pydata.org/pandas-docs/stable/user_guide/indexing.html#returning-a-view-versus-a-copy\n",
      "  sales_update.drop(500, inplace=True)\n"
     ]
    }
   ],
   "source": [
    "sales_update.drop(500, inplace=True)\n",
    "# Drop the outlier"
   ]
  },
  {
   "cell_type": "code",
   "execution_count": 185,
   "metadata": {},
   "outputs": [
    {
     "data": {
      "text/plain": [
       "<Axes: xlabel='Region', ylabel='Price'>"
      ]
     },
     "execution_count": 185,
     "metadata": {},
     "output_type": "execute_result"
    },
    {
     "data": {
      "image/png": "[encoded data removed]",
      "text/plain": [
       "<Figure size 640x480 with 1 Axes>"
      ]
     },
     "metadata": {},
     "output_type": "display_data"
    }
   ],
   "source": [
    "sns.scatterplot(x = 'Region', y = 'Price', data=sales_update)\n",
    "# Updated scatterplot between Region and Price post removal of outlier"
   ]
  },
  {
   "cell_type": "code",
   "execution_count": 187,
   "metadata": {},
   "outputs": [
    {
     "data": {
      "text/html": [
       "<div>\n",
       "<style scoped>\n",
       "    .dataframe tbody tr th:only-of-type {\n",
       "        vertical-align: middle;\n",
       "    }\n",
       "\n",
       "    .dataframe tbody tr th {\n",
       "        vertical-align: top;\n",
       "    }\n",
       "\n",
       "    .dataframe thead th {\n",
       "        text-align: right;\n",
       "    }\n",
       "</style>\n",
       "<table border=\"1\" class=\"dataframe\">\n",
       "  <thead>\n",
       "    <tr style=\"text-align: right;\">\n",
       "      <th></th>\n",
       "      <th>Product</th>\n",
       "      <th>Region</th>\n",
       "      <th>Price</th>\n",
       "      <th>Units Sold</th>\n",
       "      <th>Sale Date</th>\n",
       "    </tr>\n",
       "  </thead>\n",
       "  <tbody>\n",
       "    <tr>\n",
       "      <th>2</th>\n",
       "      <td>Product_46</td>\n",
       "      <td>Region_3</td>\n",
       "      <td>20.43</td>\n",
       "      <td>12.0</td>\n",
       "      <td>2022-01-03</td>\n",
       "    </tr>\n",
       "    <tr>\n",
       "      <th>3</th>\n",
       "      <td>Product_36</td>\n",
       "      <td>Region_1</td>\n",
       "      <td>12.77</td>\n",
       "      <td>10.0</td>\n",
       "      <td>2022-01-04</td>\n",
       "    </tr>\n",
       "    <tr>\n",
       "      <th>4</th>\n",
       "      <td>Product_17</td>\n",
       "      <td>Region_6</td>\n",
       "      <td>125.69</td>\n",
       "      <td>6.0</td>\n",
       "      <td>2022-01-05</td>\n",
       "    </tr>\n",
       "    <tr>\n",
       "      <th>5</th>\n",
       "      <td>Product_45</td>\n",
       "      <td>Region_1</td>\n",
       "      <td>8.63</td>\n",
       "      <td>11.0</td>\n",
       "      <td>2022-01-06</td>\n",
       "    </tr>\n",
       "    <tr>\n",
       "      <th>6</th>\n",
       "      <td>Product_31</td>\n",
       "      <td>Region_3</td>\n",
       "      <td>23.73</td>\n",
       "      <td>6.0</td>\n",
       "      <td>2022-01-07</td>\n",
       "    </tr>\n",
       "    <tr>\n",
       "      <th>7</th>\n",
       "      <td>Product_18</td>\n",
       "      <td>Region_7</td>\n",
       "      <td>19.27</td>\n",
       "      <td>9.0</td>\n",
       "      <td>2022-01-08</td>\n",
       "    </tr>\n",
       "    <tr>\n",
       "      <th>8</th>\n",
       "      <td>Product_16</td>\n",
       "      <td>Region_9</td>\n",
       "      <td>30.70</td>\n",
       "      <td>14.0</td>\n",
       "      <td>2022-01-09</td>\n",
       "    </tr>\n",
       "    <tr>\n",
       "      <th>9</th>\n",
       "      <td>Product_9</td>\n",
       "      <td>Region_2</td>\n",
       "      <td>264.05</td>\n",
       "      <td>7.0</td>\n",
       "      <td>2022-01-10</td>\n",
       "    </tr>\n",
       "    <tr>\n",
       "      <th>10</th>\n",
       "      <td>Product_20</td>\n",
       "      <td>Region_3</td>\n",
       "      <td>NaN</td>\n",
       "      <td>8.0</td>\n",
       "      <td>2022-01-11</td>\n",
       "    </tr>\n",
       "    <tr>\n",
       "      <th>11</th>\n",
       "      <td>Product_1</td>\n",
       "      <td>Region_4</td>\n",
       "      <td>63.04</td>\n",
       "      <td>9.0</td>\n",
       "      <td>2022-01-12</td>\n",
       "    </tr>\n",
       "    <tr>\n",
       "      <th>12</th>\n",
       "      <td>Product_2</td>\n",
       "      <td>Region_3</td>\n",
       "      <td>NaN</td>\n",
       "      <td>6.0</td>\n",
       "      <td>2022-01-13</td>\n",
       "    </tr>\n",
       "    <tr>\n",
       "      <th>13</th>\n",
       "      <td>Product_1</td>\n",
       "      <td>Region_4</td>\n",
       "      <td>10.15</td>\n",
       "      <td>8.0</td>\n",
       "      <td>2022-01-14</td>\n",
       "    </tr>\n",
       "    <tr>\n",
       "      <th>14</th>\n",
       "      <td>Product_3</td>\n",
       "      <td>Region_2</td>\n",
       "      <td>13.77</td>\n",
       "      <td>17.0</td>\n",
       "      <td>2022-01-15</td>\n",
       "    </tr>\n",
       "    <tr>\n",
       "      <th>15</th>\n",
       "      <td>Product_1</td>\n",
       "      <td>Region_2</td>\n",
       "      <td>46.23</td>\n",
       "      <td>11.0</td>\n",
       "      <td>2022-01-16</td>\n",
       "    </tr>\n",
       "    <tr>\n",
       "      <th>16</th>\n",
       "      <td>Product_43</td>\n",
       "      <td>Region_6</td>\n",
       "      <td>68.53</td>\n",
       "      <td>NaN</td>\n",
       "      <td>2022-01-17</td>\n",
       "    </tr>\n",
       "    <tr>\n",
       "      <th>17</th>\n",
       "      <td>Product_17</td>\n",
       "      <td>Region_4</td>\n",
       "      <td>95.78</td>\n",
       "      <td>15.0</td>\n",
       "      <td>2022-01-18</td>\n",
       "    </tr>\n",
       "    <tr>\n",
       "      <th>19</th>\n",
       "      <td>Product_33</td>\n",
       "      <td>Region_5</td>\n",
       "      <td>8.17</td>\n",
       "      <td>9.0</td>\n",
       "      <td>2022-01-20</td>\n",
       "    </tr>\n",
       "    <tr>\n",
       "      <th>20</th>\n",
       "      <td>Product_33</td>\n",
       "      <td>Region_6</td>\n",
       "      <td>92.93</td>\n",
       "      <td>10.0</td>\n",
       "      <td>2022-01-21</td>\n",
       "    </tr>\n",
       "    <tr>\n",
       "      <th>22</th>\n",
       "      <td>Product_14</td>\n",
       "      <td>Region_8</td>\n",
       "      <td>119.10</td>\n",
       "      <td>11.0</td>\n",
       "      <td>2022-01-23</td>\n",
       "    </tr>\n",
       "    <tr>\n",
       "      <th>23</th>\n",
       "      <td>Product_50</td>\n",
       "      <td>Region_2</td>\n",
       "      <td>249.30</td>\n",
       "      <td>16.0</td>\n",
       "      <td>2022-01-24</td>\n",
       "    </tr>\n",
       "    <tr>\n",
       "      <th>24</th>\n",
       "      <td>Product_6</td>\n",
       "      <td>Region_2</td>\n",
       "      <td>60.41</td>\n",
       "      <td>5.0</td>\n",
       "      <td>2022-01-25</td>\n",
       "    </tr>\n",
       "    <tr>\n",
       "      <th>25</th>\n",
       "      <td>Product_13</td>\n",
       "      <td>Region_9</td>\n",
       "      <td>52.22</td>\n",
       "      <td>9.0</td>\n",
       "      <td>2022-01-26</td>\n",
       "    </tr>\n",
       "    <tr>\n",
       "      <th>26</th>\n",
       "      <td>Product_11</td>\n",
       "      <td>Region_7</td>\n",
       "      <td>41.78</td>\n",
       "      <td>14.0</td>\n",
       "      <td>2022-01-27</td>\n",
       "    </tr>\n",
       "    <tr>\n",
       "      <th>28</th>\n",
       "      <td>Product_27</td>\n",
       "      <td>Region_8</td>\n",
       "      <td>32.03</td>\n",
       "      <td>10.0</td>\n",
       "      <td>2022-01-29</td>\n",
       "    </tr>\n",
       "    <tr>\n",
       "      <th>29</th>\n",
       "      <td>Product_28</td>\n",
       "      <td>Region_8</td>\n",
       "      <td>217.65</td>\n",
       "      <td>9.0</td>\n",
       "      <td>2022-01-30</td>\n",
       "    </tr>\n",
       "    <tr>\n",
       "      <th>30</th>\n",
       "      <td>Product_45</td>\n",
       "      <td>Region_1</td>\n",
       "      <td>106.77</td>\n",
       "      <td>4.0</td>\n",
       "      <td>2022-01-31</td>\n",
       "    </tr>\n",
       "    <tr>\n",
       "      <th>31</th>\n",
       "      <td>Product_50</td>\n",
       "      <td>Region_4</td>\n",
       "      <td>71.66</td>\n",
       "      <td>7.0</td>\n",
       "      <td>2022-02-01</td>\n",
       "    </tr>\n",
       "    <tr>\n",
       "      <th>32</th>\n",
       "      <td>Product_36</td>\n",
       "      <td>Region_3</td>\n",
       "      <td>120.87</td>\n",
       "      <td>12.0</td>\n",
       "      <td>2022-02-02</td>\n",
       "    </tr>\n",
       "    <tr>\n",
       "      <th>33</th>\n",
       "      <td>Product_43</td>\n",
       "      <td>Region_9</td>\n",
       "      <td>38.19</td>\n",
       "      <td>10.0</td>\n",
       "      <td>2022-02-03</td>\n",
       "    </tr>\n",
       "    <tr>\n",
       "      <th>34</th>\n",
       "      <td>Product_1</td>\n",
       "      <td>Region_9</td>\n",
       "      <td>47.90</td>\n",
       "      <td>11.0</td>\n",
       "      <td>2022-02-04</td>\n",
       "    </tr>\n",
       "    <tr>\n",
       "      <th>35</th>\n",
       "      <td>Product_13</td>\n",
       "      <td>Region_5</td>\n",
       "      <td>145.06</td>\n",
       "      <td>5.0</td>\n",
       "      <td>2022-02-05</td>\n",
       "    </tr>\n",
       "    <tr>\n",
       "      <th>36</th>\n",
       "      <td>Product_2</td>\n",
       "      <td>Region_9</td>\n",
       "      <td>296.03</td>\n",
       "      <td>13.0</td>\n",
       "      <td>2022-02-06</td>\n",
       "    </tr>\n",
       "    <tr>\n",
       "      <th>37</th>\n",
       "      <td>Product_24</td>\n",
       "      <td>Region_8</td>\n",
       "      <td>49.10</td>\n",
       "      <td>5.0</td>\n",
       "      <td>2022-02-07</td>\n",
       "    </tr>\n",
       "    <tr>\n",
       "      <th>38</th>\n",
       "      <td>Product_34</td>\n",
       "      <td>Region_2</td>\n",
       "      <td>70.62</td>\n",
       "      <td>13.0</td>\n",
       "      <td>2022-02-08</td>\n",
       "    </tr>\n",
       "    <tr>\n",
       "      <th>39</th>\n",
       "      <td>Product_25</td>\n",
       "      <td>Region_10</td>\n",
       "      <td>77.82</td>\n",
       "      <td>10.0</td>\n",
       "      <td>2022-02-09</td>\n",
       "    </tr>\n",
       "    <tr>\n",
       "      <th>40</th>\n",
       "      <td>Product_4</td>\n",
       "      <td>Region_8</td>\n",
       "      <td>86.58</td>\n",
       "      <td>11.0</td>\n",
       "      <td>2022-02-10</td>\n",
       "    </tr>\n",
       "    <tr>\n",
       "      <th>41</th>\n",
       "      <td>Product_33</td>\n",
       "      <td>Region_9</td>\n",
       "      <td>129.81</td>\n",
       "      <td>7.0</td>\n",
       "      <td>2022-02-11</td>\n",
       "    </tr>\n",
       "    <tr>\n",
       "      <th>42</th>\n",
       "      <td>Product_33</td>\n",
       "      <td>Region_1</td>\n",
       "      <td>49.31</td>\n",
       "      <td>9.0</td>\n",
       "      <td>2022-02-12</td>\n",
       "    </tr>\n",
       "    <tr>\n",
       "      <th>44</th>\n",
       "      <td>Product_28</td>\n",
       "      <td>Region_6</td>\n",
       "      <td>28.67</td>\n",
       "      <td>8.0</td>\n",
       "      <td>2022-02-14</td>\n",
       "    </tr>\n",
       "    <tr>\n",
       "      <th>45</th>\n",
       "      <td>Product_48</td>\n",
       "      <td>Region_5</td>\n",
       "      <td>82.07</td>\n",
       "      <td>8.0</td>\n",
       "      <td>2022-02-15</td>\n",
       "    </tr>\n",
       "    <tr>\n",
       "      <th>46</th>\n",
       "      <td>Product_46</td>\n",
       "      <td>Region_6</td>\n",
       "      <td>37.44</td>\n",
       "      <td>10.0</td>\n",
       "      <td>2022-02-16</td>\n",
       "    </tr>\n",
       "    <tr>\n",
       "      <th>47</th>\n",
       "      <td>Product_10</td>\n",
       "      <td>Region_2</td>\n",
       "      <td>58.50</td>\n",
       "      <td>16.0</td>\n",
       "      <td>2022-02-17</td>\n",
       "    </tr>\n",
       "    <tr>\n",
       "      <th>48</th>\n",
       "      <td>Product_31</td>\n",
       "      <td>Region_4</td>\n",
       "      <td>43.65</td>\n",
       "      <td>8.0</td>\n",
       "      <td>2022-02-18</td>\n",
       "    </tr>\n",
       "    <tr>\n",
       "      <th>49</th>\n",
       "      <td>Product_13</td>\n",
       "      <td>Region_1</td>\n",
       "      <td>101.83</td>\n",
       "      <td>6.0</td>\n",
       "      <td>2022-02-19</td>\n",
       "    </tr>\n",
       "    <tr>\n",
       "      <th>50</th>\n",
       "      <td>Product_48</td>\n",
       "      <td>Region_4</td>\n",
       "      <td>57.35</td>\n",
       "      <td>13.0</td>\n",
       "      <td>2022-02-20</td>\n",
       "    </tr>\n",
       "    <tr>\n",
       "      <th>51</th>\n",
       "      <td>Product_17</td>\n",
       "      <td>Region_5</td>\n",
       "      <td>NaN</td>\n",
       "      <td>12.0</td>\n",
       "      <td>2022-02-21</td>\n",
       "    </tr>\n",
       "    <tr>\n",
       "      <th>52</th>\n",
       "      <td>Product_49</td>\n",
       "      <td>Region_6</td>\n",
       "      <td>292.09</td>\n",
       "      <td>10.0</td>\n",
       "      <td>2022-02-22</td>\n",
       "    </tr>\n",
       "    <tr>\n",
       "      <th>53</th>\n",
       "      <td>Product_3</td>\n",
       "      <td>Region_6</td>\n",
       "      <td>0.54</td>\n",
       "      <td>14.0</td>\n",
       "      <td>2022-02-23</td>\n",
       "    </tr>\n",
       "    <tr>\n",
       "      <th>55</th>\n",
       "      <td>Product_31</td>\n",
       "      <td>Region_3</td>\n",
       "      <td>5.29</td>\n",
       "      <td>13.0</td>\n",
       "      <td>2022-02-25</td>\n",
       "    </tr>\n",
       "    <tr>\n",
       "      <th>56</th>\n",
       "      <td>Product_33</td>\n",
       "      <td>Region_9</td>\n",
       "      <td>134.35</td>\n",
       "      <td>15.0</td>\n",
       "      <td>2022-02-26</td>\n",
       "    </tr>\n",
       "  </tbody>\n",
       "</table>\n",
       "</div>"
      ],
      "text/plain": [
       "       Product     Region   Price  Units Sold   Sale Date\n",
       "2   Product_46   Region_3   20.43        12.0  2022-01-03\n",
       "3   Product_36   Region_1   12.77        10.0  2022-01-04\n",
       "4   Product_17   Region_6  125.69         6.0  2022-01-05\n",
       "5   Product_45   Region_1    8.63        11.0  2022-01-06\n",
       "6   Product_31   Region_3   23.73         6.0  2022-01-07\n",
       "7   Product_18   Region_7   19.27         9.0  2022-01-08\n",
       "8   Product_16   Region_9   30.70        14.0  2022-01-09\n",
       "9    Product_9   Region_2  264.05         7.0  2022-01-10\n",
       "10  Product_20   Region_3     NaN         8.0  2022-01-11\n",
       "11   Product_1   Region_4   63.04         9.0  2022-01-12\n",
       "12   Product_2   Region_3     NaN         6.0  2022-01-13\n",
       "13   Product_1   Region_4   10.15         8.0  2022-01-14\n",
       "14   Product_3   Region_2   13.77        17.0  2022-01-15\n",
       "15   Product_1   Region_2   46.23        11.0  2022-01-16\n",
       "16  Product_43   Region_6   68.53         NaN  2022-01-17\n",
       "17  Product_17   Region_4   95.78        15.0  2022-01-18\n",
       "19  Product_33   Region_5    8.17         9.0  2022-01-20\n",
       "20  Product_33   Region_6   92.93        10.0  2022-01-21\n",
       "22  Product_14   Region_8  119.10        11.0  2022-01-23\n",
       "23  Product_50   Region_2  249.30        16.0  2022-01-24\n",
       "24   Product_6   Region_2   60.41         5.0  2022-01-25\n",
       "25  Product_13   Region_9   52.22         9.0  2022-01-26\n",
       "26  Product_11   Region_7   41.78        14.0  2022-01-27\n",
       "28  Product_27   Region_8   32.03        10.0  2022-01-29\n",
       "29  Product_28   Region_8  217.65         9.0  2022-01-30\n",
       "30  Product_45   Region_1  106.77         4.0  2022-01-31\n",
       "31  Product_50   Region_4   71.66         7.0  2022-02-01\n",
       "32  Product_36   Region_3  120.87        12.0  2022-02-02\n",
       "33  Product_43   Region_9   38.19        10.0  2022-02-03\n",
       "34   Product_1   Region_9   47.90        11.0  2022-02-04\n",
       "35  Product_13   Region_5  145.06         5.0  2022-02-05\n",
       "36   Product_2   Region_9  296.03        13.0  2022-02-06\n",
       "37  Product_24   Region_8   49.10         5.0  2022-02-07\n",
       "38  Product_34   Region_2   70.62        13.0  2022-02-08\n",
       "39  Product_25  Region_10   77.82        10.0  2022-02-09\n",
       "40   Product_4   Region_8   86.58        11.0  2022-02-10\n",
       "41  Product_33   Region_9  129.81         7.0  2022-02-11\n",
       "42  Product_33   Region_1   49.31         9.0  2022-02-12\n",
       "44  Product_28   Region_6   28.67         8.0  2022-02-14\n",
       "45  Product_48   Region_5   82.07         8.0  2022-02-15\n",
       "46  Product_46   Region_6   37.44        10.0  2022-02-16\n",
       "47  Product_10   Region_2   58.50        16.0  2022-02-17\n",
       "48  Product_31   Region_4   43.65         8.0  2022-02-18\n",
       "49  Product_13   Region_1  101.83         6.0  2022-02-19\n",
       "50  Product_48   Region_4   57.35        13.0  2022-02-20\n",
       "51  Product_17   Region_5     NaN        12.0  2022-02-21\n",
       "52  Product_49   Region_6  292.09        10.0  2022-02-22\n",
       "53   Product_3   Region_6    0.54        14.0  2022-02-23\n",
       "55  Product_31   Region_3    5.29        13.0  2022-02-25\n",
       "56  Product_33   Region_9  134.35        15.0  2022-02-26"
      ]
     },
     "execution_count": 187,
     "metadata": {},
     "output_type": "execute_result"
    }
   ],
   "source": [
    "sales_update.head(50)\n",
    "# Read first 50 values of the data"
   ]
  },
  {
   "cell_type": "code",
   "execution_count": 188,
   "metadata": {},
   "outputs": [],
   "source": [
    "group = sales_update.groupby('Product')\n",
    "# Group the data by product post removal of outliers"
   ]
  },
  {
   "cell_type": "code",
   "execution_count": 189,
   "metadata": {},
   "outputs": [
    {
     "data": {
      "text/plain": [
       "{'Product_1': [11, 13, 15, 34, 88, 140, 213, 265, 312, 393, 407, 467, 563, 609, 711, 848, 931, 964, 994], 'Product_10': [47, 84, 220, 253, 294, 375, 397, 449, 599, 643, 673, 754, 895, 934], 'Product_11': [26, 70, 256, 361, 371, 391, 455, 809, 868, 971], 'Product_12': [59, 172, 173, 245, 311, 521, 536, 576, 627, 801, 882], 'Product_13': [25, 35, 49, 94, 113, 156, 204, 237, 295, 326, 343, 364, 389, 403, 522, 621, 676, 720, 746, 752, 807, 892, 954, 962], 'Product_14': [22, 230, 232, 351, 468, 473, 546, 574, 651, 672, 832, 845, 889, 978], 'Product_15': [92, 217, 286, 356, 510, 552, 588, 595, 667, 745, 780, 849, 924, 958, 980], 'Product_16': [8, 146, 153, 180, 275, 466, 491, 505, 547, 674, 721, 735, 783, 796, 819, 914, 916, 930], 'Product_17': [4, 17, 51, 71, 72, 122, 148, 192, 227, 267, 313, 533, 614, 624, 712, 716, 739, 741], 'Product_18': [7, 65, 67, 249, 252, 254, 316, 376, 383, 502, 523, 899, 942], 'Product_19': [212, 244, 258, 269, 352, 378, 433, 496, 512, 528, 589, 600, 607, 611, 641, 652, 742, 753, 767], 'Product_2': [12, 36, 80, 110, 162, 170, 289, 349, 359, 417, 488, 593, 618, 722, 730, 846, 926, 998], 'Product_20': [10, 89, 216, 278, 333, 515, 757, 763, 852, 922, 927, 967], 'Product_21': [147, 319, 332, 410, 477, 658, 768, 857, 864, 906, 909, 911, 963, 979], 'Product_22': [78, 145, 222, 247, 287, 428, 443, 554, 636, 758, 874, 881, 885, 912], 'Product_23': [81, 129, 178, 205, 231, 324, 404, 423, 485, 638, 644, 694, 800, 803, 859, 948], 'Product_24': [37, 104, 111, 137, 169, 201, 342, 657, 761, 781, 836, 843, 873, 891], 'Product_25': [39, 95, 121, 257, 415, 426, 525, 553, 565, 613, 623, 692, 702, 705, 729, 794, 943], 'Product_26': [66, 240, 386, 456, 457, 591, 610, 616, 775, 798], 'Product_27': [28, 69, 75, 223, 290, 327, 354, 499, 504, 549, 559, 703, 718, 883, 903, 915], 'Product_28': [29, 44, 155, 166, 167, 441, 573, 601, 650, 779, 812, 869, 871], 'Product_29': [93, 200, 229, 323, 406, 564, 570, 605, 625, 697, 736, 749, 774, 827, 865, 921, 941, 953], 'Product_3': [14, 53, 131, 225, 243, 447, 640, 878], 'Product_30': [128, 280, 334, 338, 392, 462, 471, 527, 575, 579, 608, 685, 743, 802, 824, 898, 904, 939, 940], 'Product_31': [6, 48, 55, 152, 248, 262, 285, 419, 472, 537, 596, 660, 764, 787, 830, 905, 932, 946, 974], 'Product_32': [79, 163, 198, 300, 374, 452, 493, 548, 582, 617, 675, 770, 813, 823], 'Product_33': [19, 20, 41, 42, 56, 96, 112, 139, 143, 154, 266, 291, 355, 461, 540, 560, 597, 679, 901, 952, 981], 'Product_34': [38, 77, 186, 372, 380, 431, 435, 544, 633, 669, 693, 762, 850, 886, 936, 977], 'Product_35': [87, 105, 114, 138, 271, 279, 322, 337, 362, 430, 439, 444, 507, 535, 999], 'Product_36': [3, 32, 144, 174, 177, 250, 344, 367, 602, 731, 880, 923], 'Product_37': [73, 108, 124, 158, 239, 408, 411, 475, 518, 585, 606, 615, 691, 784, 838, 870, 960], 'Product_38': [171, 185, 194, 308, 314, 432, 479, 632, 646, 680, 707], 'Product_39': [126, 132, 151, 268, 320, 379, 497, 555, 628, 687, 699, 815, 818, 860], 'Product_4': [40, 116, 159, 190, 206, 207, 363, 418, 442, 454, 459, 470, 538, 612, 619, 682, 710, 792, 858, 877, 907, 965], 'Product_40': [133, 150, 182, 210, 348, 421, 451, 501, 681, 733, 825, 829, 950, 956, 970, 985], 'Product_41': [103, 106, 191, 196, 226, 270, 341, 365, 390, 561, 659, 704, 782, 844, 884], 'Product_42': [60, 157, 373, 396, 519, 568, 571, 620, 647, 655, 701, 748, 755, 777, 822, 988], 'Product_43': [16, 33, 175, 242, 273, 284, 296, 329, 416, 434, 450, 558, 580, 604, 689, 700, 766, 776, 793, 856, 867], 'Product_44': [97, 101, 236, 261, 263, 306, 370, 381, 401, 414, 440, 448, 556, 639, 686, 828, 972, 984], 'Product_45': [5, 30, 135, 188, 208, 259, 318, 321, 445, 469, 495, 514, 626, 771, 847, 968, 976], 'Product_46': [2, 46, 179, 193, 385, 513, 529, 543, 545, 557, 594, 637, 714, 756, 835, 837, 887, 947, 957], 'Product_47': [102, 120, 123, 161, 251, 277, 330, 388, 578, 690, 695, 769, 929], 'Product_48': [45, 50, 58, 90, 160, 260, 274, 276, 328, 429, 511, 569, 577, 723, 788, 811, 888, 982], 'Product_49': [52, 107, 211, 297, 384, 420, 590, 635, 671, 737, 751, 938], 'Product_5': [62, 82, 86, 99, 197, 199, 221, 288, 315, 335, 368, 413, 427, 438, 458, 483, 487, 508, 509, 532, 550, 581, 649, 663, 713, 727, 772, 896], 'Product_50': [23, 31, 130, 218, 299, 325, 395, 530, 551, 683, 719, 738, 750, 778, 785, 797, 840, 862, 890, 893, 900], 'Product_6': [24, 100, 181, 209, 336, 339, 464, 541, 583, 592, 863, 876, 933, 944, 951, 955, 961], 'Product_7': [345, 360, 425, 446, 478, 480, 630, 665, 747, 795, 861, 925, 993], 'Product_8': [68, 142, 476, 489, 498, 531, 562, 670, 805, 810, 831, 841, 897], 'Product_9': [9, 164, 238, 283, 298, 347, 394, 405, 642, 678, 759, 760, 833, 839, 854]}"
      ]
     },
     "execution_count": 189,
     "metadata": {},
     "output_type": "execute_result"
    }
   ],
   "source": [
    "group.groups\n",
    "# Read created group values by Product"
   ]
  },
  {
   "cell_type": "code",
   "execution_count": 199,
   "metadata": {},
   "outputs": [
    {
     "data": {
      "text/html": [
       "<div>\n",
       "<style scoped>\n",
       "    .dataframe tbody tr th:only-of-type {\n",
       "        vertical-align: middle;\n",
       "    }\n",
       "\n",
       "    .dataframe tbody tr th {\n",
       "        vertical-align: top;\n",
       "    }\n",
       "\n",
       "    .dataframe thead th {\n",
       "        text-align: right;\n",
       "    }\n",
       "</style>\n",
       "<table border=\"1\" class=\"dataframe\">\n",
       "  <thead>\n",
       "    <tr style=\"text-align: right;\">\n",
       "      <th></th>\n",
       "      <th>Product</th>\n",
       "      <th>Region</th>\n",
       "      <th>Price</th>\n",
       "      <th>Units Sold</th>\n",
       "      <th>Sale Date</th>\n",
       "    </tr>\n",
       "  </thead>\n",
       "  <tbody>\n",
       "    <tr>\n",
       "      <th>11</th>\n",
       "      <td>Product_1</td>\n",
       "      <td>Region_4</td>\n",
       "      <td>63.04</td>\n",
       "      <td>9.0</td>\n",
       "      <td>2022-01-12</td>\n",
       "    </tr>\n",
       "    <tr>\n",
       "      <th>13</th>\n",
       "      <td>Product_1</td>\n",
       "      <td>Region_4</td>\n",
       "      <td>10.15</td>\n",
       "      <td>8.0</td>\n",
       "      <td>2022-01-14</td>\n",
       "    </tr>\n",
       "    <tr>\n",
       "      <th>15</th>\n",
       "      <td>Product_1</td>\n",
       "      <td>Region_2</td>\n",
       "      <td>46.23</td>\n",
       "      <td>11.0</td>\n",
       "      <td>2022-01-16</td>\n",
       "    </tr>\n",
       "    <tr>\n",
       "      <th>34</th>\n",
       "      <td>Product_1</td>\n",
       "      <td>Region_9</td>\n",
       "      <td>47.90</td>\n",
       "      <td>11.0</td>\n",
       "      <td>2022-02-04</td>\n",
       "    </tr>\n",
       "    <tr>\n",
       "      <th>88</th>\n",
       "      <td>Product_1</td>\n",
       "      <td>Region_2</td>\n",
       "      <td>85.46</td>\n",
       "      <td>10.0</td>\n",
       "      <td>2022-03-30</td>\n",
       "    </tr>\n",
       "    <tr>\n",
       "      <th>140</th>\n",
       "      <td>Product_1</td>\n",
       "      <td>Region_4</td>\n",
       "      <td>28.61</td>\n",
       "      <td>9.0</td>\n",
       "      <td>2022-05-21</td>\n",
       "    </tr>\n",
       "    <tr>\n",
       "      <th>213</th>\n",
       "      <td>Product_1</td>\n",
       "      <td>Region_6</td>\n",
       "      <td>NaN</td>\n",
       "      <td>8.0</td>\n",
       "      <td>2022-08-02</td>\n",
       "    </tr>\n",
       "    <tr>\n",
       "      <th>265</th>\n",
       "      <td>Product_1</td>\n",
       "      <td>Region_1</td>\n",
       "      <td>158.05</td>\n",
       "      <td>8.0</td>\n",
       "      <td>2022-09-23</td>\n",
       "    </tr>\n",
       "    <tr>\n",
       "      <th>312</th>\n",
       "      <td>Product_1</td>\n",
       "      <td>Region_3</td>\n",
       "      <td>NaN</td>\n",
       "      <td>10.0</td>\n",
       "      <td>2022-11-09</td>\n",
       "    </tr>\n",
       "    <tr>\n",
       "      <th>393</th>\n",
       "      <td>Product_1</td>\n",
       "      <td>Region_6</td>\n",
       "      <td>64.53</td>\n",
       "      <td>10.0</td>\n",
       "      <td>2023-01-29</td>\n",
       "    </tr>\n",
       "    <tr>\n",
       "      <th>407</th>\n",
       "      <td>Product_1</td>\n",
       "      <td>Region_5</td>\n",
       "      <td>78.94</td>\n",
       "      <td>16.0</td>\n",
       "      <td>2023-02-12</td>\n",
       "    </tr>\n",
       "    <tr>\n",
       "      <th>467</th>\n",
       "      <td>Product_1</td>\n",
       "      <td>Region_10</td>\n",
       "      <td>88.44</td>\n",
       "      <td>8.0</td>\n",
       "      <td>2023-04-13</td>\n",
       "    </tr>\n",
       "    <tr>\n",
       "      <th>563</th>\n",
       "      <td>Product_1</td>\n",
       "      <td>Region_1</td>\n",
       "      <td>51.91</td>\n",
       "      <td>16.0</td>\n",
       "      <td>2023-07-18</td>\n",
       "    </tr>\n",
       "    <tr>\n",
       "      <th>609</th>\n",
       "      <td>Product_1</td>\n",
       "      <td>Region_1</td>\n",
       "      <td>36.67</td>\n",
       "      <td>9.0</td>\n",
       "      <td>2023-09-02</td>\n",
       "    </tr>\n",
       "    <tr>\n",
       "      <th>711</th>\n",
       "      <td>Product_1</td>\n",
       "      <td>Region_3</td>\n",
       "      <td>268.73</td>\n",
       "      <td>8.0</td>\n",
       "      <td>2023-12-13</td>\n",
       "    </tr>\n",
       "    <tr>\n",
       "      <th>848</th>\n",
       "      <td>Product_1</td>\n",
       "      <td>Region_8</td>\n",
       "      <td>26.44</td>\n",
       "      <td>11.0</td>\n",
       "      <td>2024-04-28</td>\n",
       "    </tr>\n",
       "    <tr>\n",
       "      <th>931</th>\n",
       "      <td>Product_1</td>\n",
       "      <td>Region_2</td>\n",
       "      <td>NaN</td>\n",
       "      <td>9.0</td>\n",
       "      <td>2024-07-20</td>\n",
       "    </tr>\n",
       "    <tr>\n",
       "      <th>964</th>\n",
       "      <td>Product_1</td>\n",
       "      <td>Region_1</td>\n",
       "      <td>71.79</td>\n",
       "      <td>9.0</td>\n",
       "      <td>2024-08-22</td>\n",
       "    </tr>\n",
       "    <tr>\n",
       "      <th>994</th>\n",
       "      <td>Product_1</td>\n",
       "      <td>Region_4</td>\n",
       "      <td>95.24</td>\n",
       "      <td>7.0</td>\n",
       "      <td>2024-09-21</td>\n",
       "    </tr>\n",
       "  </tbody>\n",
       "</table>\n",
       "</div>"
      ],
      "text/plain": [
       "       Product     Region   Price  Units Sold   Sale Date\n",
       "11   Product_1   Region_4   63.04         9.0  2022-01-12\n",
       "13   Product_1   Region_4   10.15         8.0  2022-01-14\n",
       "15   Product_1   Region_2   46.23        11.0  2022-01-16\n",
       "34   Product_1   Region_9   47.90        11.0  2022-02-04\n",
       "88   Product_1   Region_2   85.46        10.0  2022-03-30\n",
       "140  Product_1   Region_4   28.61         9.0  2022-05-21\n",
       "213  Product_1   Region_6     NaN         8.0  2022-08-02\n",
       "265  Product_1   Region_1  158.05         8.0  2022-09-23\n",
       "312  Product_1   Region_3     NaN        10.0  2022-11-09\n",
       "393  Product_1   Region_6   64.53        10.0  2023-01-29\n",
       "407  Product_1   Region_5   78.94        16.0  2023-02-12\n",
       "467  Product_1  Region_10   88.44         8.0  2023-04-13\n",
       "563  Product_1   Region_1   51.91        16.0  2023-07-18\n",
       "609  Product_1   Region_1   36.67         9.0  2023-09-02\n",
       "711  Product_1   Region_3  268.73         8.0  2023-12-13\n",
       "848  Product_1   Region_8   26.44        11.0  2024-04-28\n",
       "931  Product_1   Region_2     NaN         9.0  2024-07-20\n",
       "964  Product_1   Region_1   71.79         9.0  2024-08-22\n",
       "994  Product_1   Region_4   95.24         7.0  2024-09-21"
      ]
     },
     "execution_count": 199,
     "metadata": {},
     "output_type": "execute_result"
    }
   ],
   "source": [
    "group.get_group('Product_1')\n",
    "# Read all values any particular product, in this case Product_1"
   ]
  },
  {
   "cell_type": "code",
   "execution_count": 203,
   "metadata": {},
   "outputs": [
    {
     "data": {
      "text/plain": [
       "Product\n",
       "Product_1      76.383125\n",
       "Product_10     61.070833\n",
       "Product_11     73.550000\n",
       "Product_12     93.483333\n",
       "Product_13     88.530000\n",
       "Product_14    102.279231\n",
       "Product_15     57.837273\n",
       "Product_16    104.196471\n",
       "Product_17     96.859412\n",
       "Product_18     63.447500\n",
       "Product_19    126.922941\n",
       "Product_2     135.143333\n",
       "Product_20    143.653333\n",
       "Product_21     95.285714\n",
       "Product_22     79.967273\n",
       "Product_23    113.052667\n",
       "Product_24    118.157500\n",
       "Product_25    110.250000\n",
       "Product_26    100.463333\n",
       "Product_27     78.409286\n",
       "Product_28     95.639167\n",
       "Product_29    125.308824\n",
       "Product_3      52.188571\n",
       "Product_30    120.916316\n",
       "Product_31     98.815789\n",
       "Product_32     63.106000\n",
       "Product_33     86.831053\n",
       "Product_34    105.961538\n",
       "Product_35     83.065833\n",
       "Product_36     83.146364\n",
       "Product_37     91.135625\n",
       "Product_38     73.716364\n",
       "Product_39    113.652143\n",
       "Product_4      85.001111\n",
       "Product_40    128.303750\n",
       "Product_41    122.766154\n",
       "Product_42     83.197692\n",
       "Product_43     64.982778\n",
       "Product_44     96.577857\n",
       "Product_45     92.305294\n",
       "Product_46     91.196250\n",
       "Product_47    112.509167\n",
       "Product_48    112.101667\n",
       "Product_49    155.974167\n",
       "Product_5      72.829630\n",
       "Product_50    113.543333\n",
       "Product_6      74.118000\n",
       "Product_7     110.933000\n",
       "Product_8      91.167692\n",
       "Product_9      79.339286\n",
       "Name: Price, dtype: float64"
      ]
     },
     "execution_count": 203,
     "metadata": {},
     "output_type": "execute_result"
    }
   ],
   "source": [
    "sales_update.groupby('Product')['Price'].mean()\n",
    "# Group all values by Product and calculate their average price"
   ]
  },
  {
   "cell_type": "code",
   "execution_count": 204,
   "metadata": {},
   "outputs": [
    {
     "name": "stderr",
     "output_type": "stream",
     "text": [
      "/var/folders/ht/6xpr92fx6hb_qsdf6ml3w35w0000gn/T/ipykernel_76773/602060751.py:1: SettingWithCopyWarning: \n",
      "A value is trying to be set on a copy of a slice from a DataFrame.\n",
      "Try using .loc[row_indexer,col_indexer] = value instead\n",
      "\n",
      "See the caveats in the documentation: https://pandas.pydata.org/pandas-docs/stable/user_guide/indexing.html#returning-a-view-versus-a-copy\n",
      "  sales_update['Price'] = sales_update['Price'].fillna(sales_update.groupby('Product')['Price'].transform('mean'))\n"
     ]
    }
   ],
   "source": [
    "sales_update['Price'] = sales_update['Price'].fillna(sales_update.groupby('Product')['Price'].transform('mean'))\n",
    "# Fill all null price values for each product with the respective means"
   ]
  },
  {
   "cell_type": "code",
   "execution_count": 210,
   "metadata": {},
   "outputs": [
    {
     "data": {
      "text/plain": [
       "False"
      ]
     },
     "execution_count": 210,
     "metadata": {},
     "output_type": "execute_result"
    }
   ],
   "source": [
    "sales_update['Price'].isnull().values.any()\n",
    "# Validate if above command was successful by calling any null price values, a false result shows that all null values have been filled"
   ]
  },
  {
   "cell_type": "code",
   "execution_count": 222,
   "metadata": {},
   "outputs": [
    {
     "data": {
      "text/html": [
       "<div>\n",
       "<style scoped>\n",
       "    .dataframe tbody tr th:only-of-type {\n",
       "        vertical-align: middle;\n",
       "    }\n",
       "\n",
       "    .dataframe tbody tr th {\n",
       "        vertical-align: top;\n",
       "    }\n",
       "\n",
       "    .dataframe thead th {\n",
       "        text-align: right;\n",
       "    }\n",
       "</style>\n",
       "<table border=\"1\" class=\"dataframe\">\n",
       "  <thead>\n",
       "    <tr style=\"text-align: right;\">\n",
       "      <th></th>\n",
       "      <th>Product</th>\n",
       "      <th>Region</th>\n",
       "      <th>Price</th>\n",
       "      <th>Units Sold</th>\n",
       "      <th>Sale Date</th>\n",
       "    </tr>\n",
       "  </thead>\n",
       "  <tbody>\n",
       "    <tr>\n",
       "      <th>11</th>\n",
       "      <td>Product_1</td>\n",
       "      <td>Region_4</td>\n",
       "      <td>63.040000</td>\n",
       "      <td>9.0</td>\n",
       "      <td>2022-01-12</td>\n",
       "    </tr>\n",
       "    <tr>\n",
       "      <th>13</th>\n",
       "      <td>Product_1</td>\n",
       "      <td>Region_4</td>\n",
       "      <td>10.150000</td>\n",
       "      <td>8.0</td>\n",
       "      <td>2022-01-14</td>\n",
       "    </tr>\n",
       "    <tr>\n",
       "      <th>15</th>\n",
       "      <td>Product_1</td>\n",
       "      <td>Region_2</td>\n",
       "      <td>46.230000</td>\n",
       "      <td>11.0</td>\n",
       "      <td>2022-01-16</td>\n",
       "    </tr>\n",
       "    <tr>\n",
       "      <th>34</th>\n",
       "      <td>Product_1</td>\n",
       "      <td>Region_9</td>\n",
       "      <td>47.900000</td>\n",
       "      <td>11.0</td>\n",
       "      <td>2022-02-04</td>\n",
       "    </tr>\n",
       "    <tr>\n",
       "      <th>88</th>\n",
       "      <td>Product_1</td>\n",
       "      <td>Region_2</td>\n",
       "      <td>85.460000</td>\n",
       "      <td>10.0</td>\n",
       "      <td>2022-03-30</td>\n",
       "    </tr>\n",
       "    <tr>\n",
       "      <th>140</th>\n",
       "      <td>Product_1</td>\n",
       "      <td>Region_4</td>\n",
       "      <td>28.610000</td>\n",
       "      <td>9.0</td>\n",
       "      <td>2022-05-21</td>\n",
       "    </tr>\n",
       "    <tr>\n",
       "      <th>213</th>\n",
       "      <td>Product_1</td>\n",
       "      <td>Region_6</td>\n",
       "      <td>76.383125</td>\n",
       "      <td>8.0</td>\n",
       "      <td>2022-08-02</td>\n",
       "    </tr>\n",
       "    <tr>\n",
       "      <th>265</th>\n",
       "      <td>Product_1</td>\n",
       "      <td>Region_1</td>\n",
       "      <td>158.050000</td>\n",
       "      <td>8.0</td>\n",
       "      <td>2022-09-23</td>\n",
       "    </tr>\n",
       "    <tr>\n",
       "      <th>312</th>\n",
       "      <td>Product_1</td>\n",
       "      <td>Region_3</td>\n",
       "      <td>76.383125</td>\n",
       "      <td>10.0</td>\n",
       "      <td>2022-11-09</td>\n",
       "    </tr>\n",
       "    <tr>\n",
       "      <th>393</th>\n",
       "      <td>Product_1</td>\n",
       "      <td>Region_6</td>\n",
       "      <td>64.530000</td>\n",
       "      <td>10.0</td>\n",
       "      <td>2023-01-29</td>\n",
       "    </tr>\n",
       "    <tr>\n",
       "      <th>407</th>\n",
       "      <td>Product_1</td>\n",
       "      <td>Region_5</td>\n",
       "      <td>78.940000</td>\n",
       "      <td>16.0</td>\n",
       "      <td>2023-02-12</td>\n",
       "    </tr>\n",
       "    <tr>\n",
       "      <th>467</th>\n",
       "      <td>Product_1</td>\n",
       "      <td>Region_10</td>\n",
       "      <td>88.440000</td>\n",
       "      <td>8.0</td>\n",
       "      <td>2023-04-13</td>\n",
       "    </tr>\n",
       "    <tr>\n",
       "      <th>563</th>\n",
       "      <td>Product_1</td>\n",
       "      <td>Region_1</td>\n",
       "      <td>51.910000</td>\n",
       "      <td>16.0</td>\n",
       "      <td>2023-07-18</td>\n",
       "    </tr>\n",
       "    <tr>\n",
       "      <th>609</th>\n",
       "      <td>Product_1</td>\n",
       "      <td>Region_1</td>\n",
       "      <td>36.670000</td>\n",
       "      <td>9.0</td>\n",
       "      <td>2023-09-02</td>\n",
       "    </tr>\n",
       "    <tr>\n",
       "      <th>711</th>\n",
       "      <td>Product_1</td>\n",
       "      <td>Region_3</td>\n",
       "      <td>268.730000</td>\n",
       "      <td>8.0</td>\n",
       "      <td>2023-12-13</td>\n",
       "    </tr>\n",
       "    <tr>\n",
       "      <th>848</th>\n",
       "      <td>Product_1</td>\n",
       "      <td>Region_8</td>\n",
       "      <td>26.440000</td>\n",
       "      <td>11.0</td>\n",
       "      <td>2024-04-28</td>\n",
       "    </tr>\n",
       "    <tr>\n",
       "      <th>931</th>\n",
       "      <td>Product_1</td>\n",
       "      <td>Region_2</td>\n",
       "      <td>76.383125</td>\n",
       "      <td>9.0</td>\n",
       "      <td>2024-07-20</td>\n",
       "    </tr>\n",
       "    <tr>\n",
       "      <th>964</th>\n",
       "      <td>Product_1</td>\n",
       "      <td>Region_1</td>\n",
       "      <td>71.790000</td>\n",
       "      <td>9.0</td>\n",
       "      <td>2024-08-22</td>\n",
       "    </tr>\n",
       "    <tr>\n",
       "      <th>994</th>\n",
       "      <td>Product_1</td>\n",
       "      <td>Region_4</td>\n",
       "      <td>95.240000</td>\n",
       "      <td>7.0</td>\n",
       "      <td>2024-09-21</td>\n",
       "    </tr>\n",
       "  </tbody>\n",
       "</table>\n",
       "</div>"
      ],
      "text/plain": [
       "       Product     Region       Price  Units Sold   Sale Date\n",
       "11   Product_1   Region_4   63.040000         9.0  2022-01-12\n",
       "13   Product_1   Region_4   10.150000         8.0  2022-01-14\n",
       "15   Product_1   Region_2   46.230000        11.0  2022-01-16\n",
       "34   Product_1   Region_9   47.900000        11.0  2022-02-04\n",
       "88   Product_1   Region_2   85.460000        10.0  2022-03-30\n",
       "140  Product_1   Region_4   28.610000         9.0  2022-05-21\n",
       "213  Product_1   Region_6   76.383125         8.0  2022-08-02\n",
       "265  Product_1   Region_1  158.050000         8.0  2022-09-23\n",
       "312  Product_1   Region_3   76.383125        10.0  2022-11-09\n",
       "393  Product_1   Region_6   64.530000        10.0  2023-01-29\n",
       "407  Product_1   Region_5   78.940000        16.0  2023-02-12\n",
       "467  Product_1  Region_10   88.440000         8.0  2023-04-13\n",
       "563  Product_1   Region_1   51.910000        16.0  2023-07-18\n",
       "609  Product_1   Region_1   36.670000         9.0  2023-09-02\n",
       "711  Product_1   Region_3  268.730000         8.0  2023-12-13\n",
       "848  Product_1   Region_8   26.440000        11.0  2024-04-28\n",
       "931  Product_1   Region_2   76.383125         9.0  2024-07-20\n",
       "964  Product_1   Region_1   71.790000         9.0  2024-08-22\n",
       "994  Product_1   Region_4   95.240000         7.0  2024-09-21"
      ]
     },
     "execution_count": 222,
     "metadata": {},
     "output_type": "execute_result"
    }
   ],
   "source": [
    "group.get_group('Product_1')\n",
    "# Check if all missing price values for Product_1 have been filled with the average price of all Product_1 price values\n",
    "# Price values of indexes 213, 312 and 931 were missing initially and have been filled with mean[76.383125] of Product_1 price values now"
   ]
  },
  {
   "cell_type": "code",
   "execution_count": 257,
   "metadata": {},
   "outputs": [
    {
     "data": {
      "text/plain": [
       "<Axes: xlabel='Product', ylabel='Price'>"
      ]
     },
     "execution_count": 257,
     "metadata": {},
     "output_type": "execute_result"
    },
    {
     "data": {
      "image/png": "[encoded data removed]",
      "text/plain": [
       "<Figure size 640x480 with 1 Axes>"
      ]
     },
     "metadata": {},
     "output_type": "display_data"
    }
   ],
   "source": [
    "sns.boxplot(data = sales_update, x = 'Product', y = 'Price')\n",
    "# Boxplot between product and price to idenitfy any remaining outliers"
   ]
  },
  {
   "cell_type": "code",
   "execution_count": 258,
   "metadata": {},
   "outputs": [
    {
     "name": "stdout",
     "output_type": "stream",
     "text": [
      "<class 'pandas.core.frame.DataFrame'>\n",
      "Index: 797 entries, 2 to 999\n",
      "Data columns (total 5 columns):\n",
      " #   Column      Non-Null Count  Dtype  \n",
      "---  ------      --------------  -----  \n",
      " 0   Product     797 non-null    object \n",
      " 1   Region      797 non-null    object \n",
      " 2   Price       797 non-null    float64\n",
      " 3   Units Sold  721 non-null    float64\n",
      " 4   Sale Date   797 non-null    object \n",
      "dtypes: float64(2), object(3)\n",
      "memory usage: 69.6+ KB\n"
     ]
    }
   ],
   "source": [
    "sales_update.info()\n",
    "# Gather information about updated dataset post removal of outliers"
   ]
  },
  {
   "cell_type": "code",
   "execution_count": 261,
   "metadata": {},
   "outputs": [
    {
     "data": {
      "text/plain": [
       "96.1084377392872"
      ]
     },
     "execution_count": 261,
     "metadata": {},
     "output_type": "execute_result"
    }
   ],
   "source": [
    "sales_update['Price'].mean()\n",
    "# Calculate updated mean of the update dataset"
   ]
  },
  {
   "cell_type": "code",
   "execution_count": 262,
   "metadata": {},
   "outputs": [],
   "source": [
    "sales1 = sales_update[sales_update['Price']<375]\n",
    "# Create a new variable 'sales 1' with price values < $375 to further clean the data and remove outliers"
   ]
  },
  {
   "cell_type": "code",
   "execution_count": 264,
   "metadata": {},
   "outputs": [
    {
     "name": "stdout",
     "output_type": "stream",
     "text": [
      "<class 'pandas.core.frame.DataFrame'>\n",
      "Index: 791 entries, 2 to 999\n",
      "Data columns (total 5 columns):\n",
      " #   Column      Non-Null Count  Dtype  \n",
      "---  ------      --------------  -----  \n",
      " 0   Product     791 non-null    object \n",
      " 1   Region      791 non-null    object \n",
      " 2   Price       791 non-null    float64\n",
      " 3   Units Sold  715 non-null    float64\n",
      " 4   Sale Date   791 non-null    object \n",
      "dtypes: float64(2), object(3)\n",
      "memory usage: 37.1+ KB\n"
     ]
    }
   ],
   "source": [
    "sales1.info()\n",
    "# Gather information about updated dataset post removal of outliers"
   ]
  },
  {
   "cell_type": "code",
   "execution_count": 265,
   "metadata": {},
   "outputs": [
    {
     "data": {
      "text/plain": [
       "<Axes: xlabel='Product', ylabel='Price'>"
      ]
     },
     "execution_count": 265,
     "metadata": {},
     "output_type": "execute_result"
    },
    {
     "data": {
      "image/png": "[encoded data removed]",
      "text/plain": [
       "<Figure size 640x480 with 1 Axes>"
      ]
     },
     "metadata": {},
     "output_type": "display_data"
    }
   ],
   "source": [
    "sns.boxplot(data = sales1, x = 'Product', y = 'Price')\n",
    "# Create a boxplot between Product and Price values to visualize the data"
   ]
  },
  {
   "cell_type": "code",
   "execution_count": 303,
   "metadata": {},
   "outputs": [
    {
     "name": "stderr",
     "output_type": "stream",
     "text": [
      "/var/folders/ht/6xpr92fx6hb_qsdf6ml3w35w0000gn/T/ipykernel_76773/3646985870.py:1: SettingWithCopyWarning: \n",
      "A value is trying to be set on a copy of a slice from a DataFrame.\n",
      "Try using .loc[row_indexer,col_indexer] = value instead\n",
      "\n",
      "See the caveats in the documentation: https://pandas.pydata.org/pandas-docs/stable/user_guide/indexing.html#returning-a-view-versus-a-copy\n",
      "  sales1['Sales'] = sales1['Price']*sales['Units Sold']\n"
     ]
    }
   ],
   "source": [
    "sales1['Sales'] = sales1['Price']*sales['Units Sold']\n",
    "# Creat a new variable and calculating the sales for each entry by multiplying product price and number of units sold "
   ]
  },
  {
   "cell_type": "code",
   "execution_count": 337,
   "metadata": {},
   "outputs": [
    {
     "data": {
      "image/png": "[encoded data removed]",
      "text/plain": [
       "<Figure size 640x480 with 1 Axes>"
      ]
     },
     "metadata": {},
     "output_type": "display_data"
    }
   ],
   "source": [
    "sns.barplot(data = sales1, x = 'Product_ID', y = 'Sales')\n",
    "plt.xticks(rotation=90)\n",
    "plt.tight_layout()\n",
    "# Create a barplot between Product_ID and Sales to assess the correlation between the two parameters and note the products with the highest and lowest sales\n",
    "# and to analyse the sales performance by product"
   ]
  },
  {
   "cell_type": "code",
   "execution_count": 271,
   "metadata": {},
   "outputs": [
    {
     "name": "stderr",
     "output_type": "stream",
     "text": [
      "/var/folders/ht/6xpr92fx6hb_qsdf6ml3w35w0000gn/T/ipykernel_76773/2570005307.py:1: SettingWithCopyWarning: \n",
      "A value is trying to be set on a copy of a slice from a DataFrame.\n",
      "Try using .loc[row_indexer,col_indexer] = value instead\n",
      "\n",
      "See the caveats in the documentation: https://pandas.pydata.org/pandas-docs/stable/user_guide/indexing.html#returning-a-view-versus-a-copy\n",
      "  sales1['Product_ID'] = sales1['Product'].str[8:10]\n"
     ]
    }
   ],
   "source": [
    "sales1['Product_ID'] = sales1['Product'].str[8:10]\n",
    "# Create a new column named Product_ID and store the product numbers to increase readability"
   ]
  },
  {
   "cell_type": "code",
   "execution_count": 302,
   "metadata": {},
   "outputs": [],
   "source": [
    "df_product10 = sales1[(sales1['Product_ID']=='1')|(sales1['Product_ID']=='2')|(sales1['Product_ID']=='3')|(sales1['Product_ID']=='4')|(sales1['Product_ID']=='5')|(sales1['Product_ID']=='6')|(sales1['Product_ID']=='7')|(sales1['Product_ID']=='8')|(sales1['Product_ID']=='9')|(sales1['Product_ID']=='10')]\n",
    "# Create new variable df_product10 and store the sales value of first 10 products of the dataset"
   ]
  },
  {
   "cell_type": "code",
   "execution_count": 338,
   "metadata": {},
   "outputs": [
    {
     "data": {
      "text/plain": [
       "<Axes: xlabel='Product_ID', ylabel='Sales'>"
      ]
     },
     "execution_count": 338,
     "metadata": {},
     "output_type": "execute_result"
    },
    {
     "data": {
      "image/png": "[encoded data removed]",
      "text/plain": [
       "<Figure size 640x480 with 1 Axes>"
      ]
     },
     "metadata": {},
     "output_type": "display_data"
    }
   ],
   "source": [
    "sns.barplot(data = df_product10, x = 'Product_ID', y = 'Sales')\n",
    "# Create barplot between the first 10 products and sales to better understand the data"
   ]
  },
  {
   "cell_type": "code",
   "execution_count": 314,
   "metadata": {},
   "outputs": [
    {
     "data": {
      "text/plain": [
       "<Axes: xlabel='Region', ylabel='Sales'>"
      ]
     },
     "execution_count": 314,
     "metadata": {},
     "output_type": "execute_result"
    },
    {
     "data": {
      "image/png": "[encoded data removed]",
      "text/plain": [
       "<Figure size 640x480 with 1 Axes>"
      ]
     },
     "metadata": {},
     "output_type": "display_data"
    }
   ],
   "source": [
    "sns.barplot(data = sales1, x = 'Region', y = 'Sales')\n",
    "# Create barplot between Region and Sales post removal of outliers to analyse the sales performance by region"
   ]
  },
  {
   "cell_type": "code",
   "execution_count": 315,
   "metadata": {},
   "outputs": [
    {
     "name": "stderr",
     "output_type": "stream",
     "text": [
      "/var/folders/ht/6xpr92fx6hb_qsdf6ml3w35w0000gn/T/ipykernel_76773/4040351046.py:1: SettingWithCopyWarning: \n",
      "A value is trying to be set on a copy of a slice from a DataFrame.\n",
      "Try using .loc[row_indexer,col_indexer] = value instead\n",
      "\n",
      "See the caveats in the documentation: https://pandas.pydata.org/pandas-docs/stable/user_guide/indexing.html#returning-a-view-versus-a-copy\n",
      "  sales1['Region_ID'] = sales1['Region'].str[7:9]\n"
     ]
    }
   ],
   "source": [
    "sales1['Region_ID'] = sales1['Region'].str[7:9]\n",
    "# Command to create a new column named Region_ID and store the region numbers to increase readability"
   ]
  },
  {
   "cell_type": "code",
   "execution_count": 316,
   "metadata": {},
   "outputs": [
    {
     "data": {
      "text/html": [
       "<div>\n",
       "<style scoped>\n",
       "    .dataframe tbody tr th:only-of-type {\n",
       "        vertical-align: middle;\n",
       "    }\n",
       "\n",
       "    .dataframe tbody tr th {\n",
       "        vertical-align: top;\n",
       "    }\n",
       "\n",
       "    .dataframe thead th {\n",
       "        text-align: right;\n",
       "    }\n",
       "</style>\n",
       "<table border=\"1\" class=\"dataframe\">\n",
       "  <thead>\n",
       "    <tr style=\"text-align: right;\">\n",
       "      <th></th>\n",
       "      <th>Product</th>\n",
       "      <th>Region</th>\n",
       "      <th>Price</th>\n",
       "      <th>Units Sold</th>\n",
       "      <th>Sale Date</th>\n",
       "      <th>Product_ID</th>\n",
       "      <th>Sales</th>\n",
       "      <th>Region_ID</th>\n",
       "    </tr>\n",
       "  </thead>\n",
       "  <tbody>\n",
       "    <tr>\n",
       "      <th>2</th>\n",
       "      <td>Product_46</td>\n",
       "      <td>Region_3</td>\n",
       "      <td>20.43</td>\n",
       "      <td>12.0</td>\n",
       "      <td>2022-01-03</td>\n",
       "      <td>46</td>\n",
       "      <td>245.16</td>\n",
       "      <td>3</td>\n",
       "    </tr>\n",
       "    <tr>\n",
       "      <th>3</th>\n",
       "      <td>Product_36</td>\n",
       "      <td>Region_1</td>\n",
       "      <td>12.77</td>\n",
       "      <td>10.0</td>\n",
       "      <td>2022-01-04</td>\n",
       "      <td>36</td>\n",
       "      <td>127.70</td>\n",
       "      <td>1</td>\n",
       "    </tr>\n",
       "    <tr>\n",
       "      <th>4</th>\n",
       "      <td>Product_17</td>\n",
       "      <td>Region_6</td>\n",
       "      <td>125.69</td>\n",
       "      <td>6.0</td>\n",
       "      <td>2022-01-05</td>\n",
       "      <td>17</td>\n",
       "      <td>754.14</td>\n",
       "      <td>6</td>\n",
       "    </tr>\n",
       "    <tr>\n",
       "      <th>5</th>\n",
       "      <td>Product_45</td>\n",
       "      <td>Region_1</td>\n",
       "      <td>8.63</td>\n",
       "      <td>11.0</td>\n",
       "      <td>2022-01-06</td>\n",
       "      <td>45</td>\n",
       "      <td>94.93</td>\n",
       "      <td>1</td>\n",
       "    </tr>\n",
       "    <tr>\n",
       "      <th>6</th>\n",
       "      <td>Product_31</td>\n",
       "      <td>Region_3</td>\n",
       "      <td>23.73</td>\n",
       "      <td>6.0</td>\n",
       "      <td>2022-01-07</td>\n",
       "      <td>31</td>\n",
       "      <td>142.38</td>\n",
       "      <td>3</td>\n",
       "    </tr>\n",
       "    <tr>\n",
       "      <th>...</th>\n",
       "      <td>...</td>\n",
       "      <td>...</td>\n",
       "      <td>...</td>\n",
       "      <td>...</td>\n",
       "      <td>...</td>\n",
       "      <td>...</td>\n",
       "      <td>...</td>\n",
       "      <td>...</td>\n",
       "    </tr>\n",
       "    <tr>\n",
       "      <th>988</th>\n",
       "      <td>Product_42</td>\n",
       "      <td>Region_9</td>\n",
       "      <td>240.97</td>\n",
       "      <td>NaN</td>\n",
       "      <td>2024-09-15</td>\n",
       "      <td>42</td>\n",
       "      <td>NaN</td>\n",
       "      <td>9</td>\n",
       "    </tr>\n",
       "    <tr>\n",
       "      <th>993</th>\n",
       "      <td>Product_7</td>\n",
       "      <td>Region_9</td>\n",
       "      <td>128.51</td>\n",
       "      <td>17.0</td>\n",
       "      <td>2024-09-20</td>\n",
       "      <td>7</td>\n",
       "      <td>2184.67</td>\n",
       "      <td>9</td>\n",
       "    </tr>\n",
       "    <tr>\n",
       "      <th>994</th>\n",
       "      <td>Product_1</td>\n",
       "      <td>Region_4</td>\n",
       "      <td>95.24</td>\n",
       "      <td>7.0</td>\n",
       "      <td>2024-09-21</td>\n",
       "      <td>1</td>\n",
       "      <td>666.68</td>\n",
       "      <td>4</td>\n",
       "    </tr>\n",
       "    <tr>\n",
       "      <th>998</th>\n",
       "      <td>Product_2</td>\n",
       "      <td>Region_10</td>\n",
       "      <td>43.44</td>\n",
       "      <td>15.0</td>\n",
       "      <td>2024-09-25</td>\n",
       "      <td>2</td>\n",
       "      <td>651.60</td>\n",
       "      <td>10</td>\n",
       "    </tr>\n",
       "    <tr>\n",
       "      <th>999</th>\n",
       "      <td>Product_35</td>\n",
       "      <td>Region_8</td>\n",
       "      <td>56.95</td>\n",
       "      <td>6.0</td>\n",
       "      <td>2024-09-26</td>\n",
       "      <td>35</td>\n",
       "      <td>341.70</td>\n",
       "      <td>8</td>\n",
       "    </tr>\n",
       "  </tbody>\n",
       "</table>\n",
       "<p>791 rows × 8 columns</p>\n",
       "</div>"
      ],
      "text/plain": [
       "        Product     Region   Price  Units Sold   Sale Date Product_ID   \n",
       "2    Product_46   Region_3   20.43        12.0  2022-01-03         46  \\\n",
       "3    Product_36   Region_1   12.77        10.0  2022-01-04         36   \n",
       "4    Product_17   Region_6  125.69         6.0  2022-01-05         17   \n",
       "5    Product_45   Region_1    8.63        11.0  2022-01-06         45   \n",
       "6    Product_31   Region_3   23.73         6.0  2022-01-07         31   \n",
       "..          ...        ...     ...         ...         ...        ...   \n",
       "988  Product_42   Region_9  240.97         NaN  2024-09-15         42   \n",
       "993   Product_7   Region_9  128.51        17.0  2024-09-20          7   \n",
       "994   Product_1   Region_4   95.24         7.0  2024-09-21          1   \n",
       "998   Product_2  Region_10   43.44        15.0  2024-09-25          2   \n",
       "999  Product_35   Region_8   56.95         6.0  2024-09-26         35   \n",
       "\n",
       "       Sales Region_ID  \n",
       "2     245.16         3  \n",
       "3     127.70         1  \n",
       "4     754.14         6  \n",
       "5      94.93         1  \n",
       "6     142.38         3  \n",
       "..       ...       ...  \n",
       "988      NaN         9  \n",
       "993  2184.67         9  \n",
       "994   666.68         4  \n",
       "998   651.60        10  \n",
       "999   341.70         8  \n",
       "\n",
       "[791 rows x 8 columns]"
      ]
     },
     "execution_count": 316,
     "metadata": {},
     "output_type": "execute_result"
    }
   ],
   "source": [
    "sales1"
   ]
  },
  {
   "cell_type": "code",
   "execution_count": 317,
   "metadata": {},
   "outputs": [
    {
     "data": {
      "text/plain": [
       "<Axes: xlabel='Region_ID', ylabel='Sales'>"
      ]
     },
     "execution_count": 317,
     "metadata": {},
     "output_type": "execute_result"
    },
    {
     "data": {
      "image/png": "[encoded data removed]",
      "text/plain": [
       "<Figure size 640x480 with 1 Axes>"
      ]
     },
     "metadata": {},
     "output_type": "display_data"
    }
   ],
   "source": [
    "sns.barplot(data = sales1, x = 'Region_ID', y = 'Sales')\n",
    "# Create barplot between Region and Sales post removal of outliers to analyse the sales performance by region"
   ]
  },
  {
   "cell_type": "code",
   "execution_count": 328,
   "metadata": {},
   "outputs": [
    {
     "name": "stderr",
     "output_type": "stream",
     "text": [
      "/var/folders/ht/6xpr92fx6hb_qsdf6ml3w35w0000gn/T/ipykernel_76773/2791032414.py:1: SettingWithCopyWarning: \n",
      "A value is trying to be set on a copy of a slice from a DataFrame.\n",
      "Try using .loc[row_indexer,col_indexer] = value instead\n",
      "\n",
      "See the caveats in the documentation: https://pandas.pydata.org/pandas-docs/stable/user_guide/indexing.html#returning-a-view-versus-a-copy\n",
      "  sales1['Sale_Month'] = sales1['Sale Date'].str[5:7]\n"
     ]
    }
   ],
   "source": [
    "sales1['Sale_Month'] = sales1['Sale Date'].str[5:7]\n",
    "# Create a new column named Sale_Month and store the months to potentially assess monthly sales"
   ]
  },
  {
   "cell_type": "code",
   "execution_count": 339,
   "metadata": {},
   "outputs": [
    {
     "name": "stderr",
     "output_type": "stream",
     "text": [
      "/var/folders/ht/6xpr92fx6hb_qsdf6ml3w35w0000gn/T/ipykernel_76773/4282201095.py:1: SettingWithCopyWarning: \n",
      "A value is trying to be set on a copy of a slice from a DataFrame.\n",
      "Try using .loc[row_indexer,col_indexer] = value instead\n",
      "\n",
      "See the caveats in the documentation: https://pandas.pydata.org/pandas-docs/stable/user_guide/indexing.html#returning-a-view-versus-a-copy\n",
      "  sales1['Sale_Year'] = sales1['Sale Date'].str[0:4]\n"
     ]
    }
   ],
   "source": [
    "sales1['Sale_Year'] = sales1['Sale Date'].str[0:4]\n",
    "# Create a new column named Sale_Year and store the year to potentially assess yearly sales"
   ]
  },
  {
   "cell_type": "code",
   "execution_count": 340,
   "metadata": {},
   "outputs": [
    {
     "data": {
      "text/html": [
       "<div>\n",
       "<style scoped>\n",
       "    .dataframe tbody tr th:only-of-type {\n",
       "        vertical-align: middle;\n",
       "    }\n",
       "\n",
       "    .dataframe tbody tr th {\n",
       "        vertical-align: top;\n",
       "    }\n",
       "\n",
       "    .dataframe thead th {\n",
       "        text-align: right;\n",
       "    }\n",
       "</style>\n",
       "<table border=\"1\" class=\"dataframe\">\n",
       "  <thead>\n",
       "    <tr style=\"text-align: right;\">\n",
       "      <th></th>\n",
       "      <th>Product</th>\n",
       "      <th>Region</th>\n",
       "      <th>Price</th>\n",
       "      <th>Units Sold</th>\n",
       "      <th>Sale Date</th>\n",
       "      <th>Product_ID</th>\n",
       "      <th>Sales</th>\n",
       "      <th>Region_ID</th>\n",
       "      <th>Sale_Month</th>\n",
       "      <th>Sale_Year</th>\n",
       "    </tr>\n",
       "  </thead>\n",
       "  <tbody>\n",
       "    <tr>\n",
       "      <th>2</th>\n",
       "      <td>Product_46</td>\n",
       "      <td>Region_3</td>\n",
       "      <td>20.43</td>\n",
       "      <td>12.0</td>\n",
       "      <td>2022-01-03</td>\n",
       "      <td>46</td>\n",
       "      <td>245.16</td>\n",
       "      <td>3</td>\n",
       "      <td>01</td>\n",
       "      <td>2022</td>\n",
       "    </tr>\n",
       "    <tr>\n",
       "      <th>3</th>\n",
       "      <td>Product_36</td>\n",
       "      <td>Region_1</td>\n",
       "      <td>12.77</td>\n",
       "      <td>10.0</td>\n",
       "      <td>2022-01-04</td>\n",
       "      <td>36</td>\n",
       "      <td>127.70</td>\n",
       "      <td>1</td>\n",
       "      <td>01</td>\n",
       "      <td>2022</td>\n",
       "    </tr>\n",
       "    <tr>\n",
       "      <th>4</th>\n",
       "      <td>Product_17</td>\n",
       "      <td>Region_6</td>\n",
       "      <td>125.69</td>\n",
       "      <td>6.0</td>\n",
       "      <td>2022-01-05</td>\n",
       "      <td>17</td>\n",
       "      <td>754.14</td>\n",
       "      <td>6</td>\n",
       "      <td>01</td>\n",
       "      <td>2022</td>\n",
       "    </tr>\n",
       "    <tr>\n",
       "      <th>5</th>\n",
       "      <td>Product_45</td>\n",
       "      <td>Region_1</td>\n",
       "      <td>8.63</td>\n",
       "      <td>11.0</td>\n",
       "      <td>2022-01-06</td>\n",
       "      <td>45</td>\n",
       "      <td>94.93</td>\n",
       "      <td>1</td>\n",
       "      <td>01</td>\n",
       "      <td>2022</td>\n",
       "    </tr>\n",
       "    <tr>\n",
       "      <th>6</th>\n",
       "      <td>Product_31</td>\n",
       "      <td>Region_3</td>\n",
       "      <td>23.73</td>\n",
       "      <td>6.0</td>\n",
       "      <td>2022-01-07</td>\n",
       "      <td>31</td>\n",
       "      <td>142.38</td>\n",
       "      <td>3</td>\n",
       "      <td>01</td>\n",
       "      <td>2022</td>\n",
       "    </tr>\n",
       "    <tr>\n",
       "      <th>...</th>\n",
       "      <td>...</td>\n",
       "      <td>...</td>\n",
       "      <td>...</td>\n",
       "      <td>...</td>\n",
       "      <td>...</td>\n",
       "      <td>...</td>\n",
       "      <td>...</td>\n",
       "      <td>...</td>\n",
       "      <td>...</td>\n",
       "      <td>...</td>\n",
       "    </tr>\n",
       "    <tr>\n",
       "      <th>988</th>\n",
       "      <td>Product_42</td>\n",
       "      <td>Region_9</td>\n",
       "      <td>240.97</td>\n",
       "      <td>NaN</td>\n",
       "      <td>2024-09-15</td>\n",
       "      <td>42</td>\n",
       "      <td>NaN</td>\n",
       "      <td>9</td>\n",
       "      <td>09</td>\n",
       "      <td>2024</td>\n",
       "    </tr>\n",
       "    <tr>\n",
       "      <th>993</th>\n",
       "      <td>Product_7</td>\n",
       "      <td>Region_9</td>\n",
       "      <td>128.51</td>\n",
       "      <td>17.0</td>\n",
       "      <td>2024-09-20</td>\n",
       "      <td>7</td>\n",
       "      <td>2184.67</td>\n",
       "      <td>9</td>\n",
       "      <td>09</td>\n",
       "      <td>2024</td>\n",
       "    </tr>\n",
       "    <tr>\n",
       "      <th>994</th>\n",
       "      <td>Product_1</td>\n",
       "      <td>Region_4</td>\n",
       "      <td>95.24</td>\n",
       "      <td>7.0</td>\n",
       "      <td>2024-09-21</td>\n",
       "      <td>1</td>\n",
       "      <td>666.68</td>\n",
       "      <td>4</td>\n",
       "      <td>09</td>\n",
       "      <td>2024</td>\n",
       "    </tr>\n",
       "    <tr>\n",
       "      <th>998</th>\n",
       "      <td>Product_2</td>\n",
       "      <td>Region_10</td>\n",
       "      <td>43.44</td>\n",
       "      <td>15.0</td>\n",
       "      <td>2024-09-25</td>\n",
       "      <td>2</td>\n",
       "      <td>651.60</td>\n",
       "      <td>10</td>\n",
       "      <td>09</td>\n",
       "      <td>2024</td>\n",
       "    </tr>\n",
       "    <tr>\n",
       "      <th>999</th>\n",
       "      <td>Product_35</td>\n",
       "      <td>Region_8</td>\n",
       "      <td>56.95</td>\n",
       "      <td>6.0</td>\n",
       "      <td>2024-09-26</td>\n",
       "      <td>35</td>\n",
       "      <td>341.70</td>\n",
       "      <td>8</td>\n",
       "      <td>09</td>\n",
       "      <td>2024</td>\n",
       "    </tr>\n",
       "  </tbody>\n",
       "</table>\n",
       "<p>791 rows × 10 columns</p>\n",
       "</div>"
      ],
      "text/plain": [
       "        Product     Region   Price  Units Sold   Sale Date Product_ID   \n",
       "2    Product_46   Region_3   20.43        12.0  2022-01-03         46  \\\n",
       "3    Product_36   Region_1   12.77        10.0  2022-01-04         36   \n",
       "4    Product_17   Region_6  125.69         6.0  2022-01-05         17   \n",
       "5    Product_45   Region_1    8.63        11.0  2022-01-06         45   \n",
       "6    Product_31   Region_3   23.73         6.0  2022-01-07         31   \n",
       "..          ...        ...     ...         ...         ...        ...   \n",
       "988  Product_42   Region_9  240.97         NaN  2024-09-15         42   \n",
       "993   Product_7   Region_9  128.51        17.0  2024-09-20          7   \n",
       "994   Product_1   Region_4   95.24         7.0  2024-09-21          1   \n",
       "998   Product_2  Region_10   43.44        15.0  2024-09-25          2   \n",
       "999  Product_35   Region_8   56.95         6.0  2024-09-26         35   \n",
       "\n",
       "       Sales Region_ID Sale_Month Sale_Year  \n",
       "2     245.16         3         01      2022  \n",
       "3     127.70         1         01      2022  \n",
       "4     754.14         6         01      2022  \n",
       "5      94.93         1         01      2022  \n",
       "6     142.38         3         01      2022  \n",
       "..       ...       ...        ...       ...  \n",
       "988      NaN         9         09      2024  \n",
       "993  2184.67         9         09      2024  \n",
       "994   666.68         4         09      2024  \n",
       "998   651.60        10         09      2024  \n",
       "999   341.70         8         09      2024  \n",
       "\n",
       "[791 rows x 10 columns]"
      ]
     },
     "execution_count": 340,
     "metadata": {},
     "output_type": "execute_result"
    }
   ],
   "source": [
    "sales1\n",
    "# Read updated dataset post transformation "
   ]
  },
  {
   "cell_type": "code",
   "execution_count": 330,
   "metadata": {},
   "outputs": [
    {
     "data": {
      "text/plain": [
       "<Axes: xlabel='Sale_Month', ylabel='Sales'>"
      ]
     },
     "execution_count": 330,
     "metadata": {},
     "output_type": "execute_result"
    },
    {
     "data": {
      "image/png": "[encoded data removed]",
      "text/plain": [
       "<Figure size 640x480 with 1 Axes>"
      ]
     },
     "metadata": {},
     "output_type": "display_data"
    }
   ],
   "source": [
    "sns.barplot(data = sales1, x = 'Sale_Month', y = 'Sales')\n",
    "# Create a bar plot between Sale_Month and Sales to assess the correlation between the two parameters and to analyse the sales performance by month"
   ]
  },
  {
   "cell_type": "code",
   "execution_count": 341,
   "metadata": {},
   "outputs": [
    {
     "data": {
      "text/plain": [
       "<Axes: xlabel='Sale_Year', ylabel='Sales'>"
      ]
     },
     "execution_count": 341,
     "metadata": {},
     "output_type": "execute_result"
    },
    {
     "data": {
      "image/png": "[encoded data removed]",
      "text/plain": [
       "<Figure size 640x480 with 1 Axes>"
      ]
     },
     "metadata": {},
     "output_type": "display_data"
    }
   ],
   "source": [
    "sns.barplot(data = sales1, x = 'Sale_Year', y = 'Sales')\n",
    "# Creating a bar plot between Sale_Year and Sales to assess the correlation between the two parameters and to analyse the yearly sales performance "
   ]
  },
  {
   "cell_type": "code",
   "execution_count": 348,
   "metadata": {},
   "outputs": [
    {
     "data": {
      "text/plain": [
       "<matplotlib.legend.Legend at 0x28d12cc40>"
      ]
     },
     "execution_count": 348,
     "metadata": {},
     "output_type": "execute_result"
    },
    {
     "data": {
      "image/png": "[encoded data removed]",
      "text/plain": [
       "<Figure size 640x480 with 1 Axes>"
      ]
     },
     "metadata": {},
     "output_type": "display_data"
    }
   ],
   "source": [
    "sns.barplot( data=sales1, x = 'Sale_Year', y = 'Sales', hue = 'Sale_Month')\n",
    "plt.legend(loc = 'upper right', title = 'months')\n",
    "# Create a bar plot between Sale_Year, color encoded by Sale_Month and Sales to assess the variation in yearly sales by months"
   ]
  },
  {
   "cell_type": "code",
   "execution_count": null,
   "metadata": {},
   "outputs": [],
   "source": [
    "Question: What conclusions can you draw about sales performance of various products and regions?\n",
    "\n",
    "Answer: Using the bar plot between Product ID and Sales, we can gather that though nearly all products have average sales higher than $500 \n",
    "across the three years (2022-2024), only select products have an average sale higher than $1000 for the same period. Based on the same plot, we can \n",
    "identify that Product_49 has the highest average sale of approximately $1490 across the three years. Product_20 and Product_23 compete for 2nd place \n",
    "with an approximate average sale of $1470 to $1480 across the three years. Out of all the 50 products, product #3 has the lowest average three-year sales \n",
    "of over $500.\n",
    "From the Region vs. Sales bar plot it is evident that Region_2 has the highest average sale over the years 2022 through 2024 and Region_7 \n",
    "has the lowest average sales of approximately $800, across all the ten regions.\n",
    "To further assess the variation in Sales by months and years, I created the following bar plots. Through the bar plot between month and sales, we can \n",
    "effectively communicate that sales in December and July are the highest, almost $1200 and average sales across products and \n",
    "regions were lowest, less than $800, in May. If we look at the quarterly sales data, an interesting point is a surge in sales in the last \n",
    "month of every quarter except the third, where we see an opposite trend, where the last month has the lowest and the first month had the highest sales.\n",
    "Looking at the yearly sales data for 2022 through 2024, it is clear that 2024 will have the highest sales crossing the average of $1000. \n",
    "Though we only have the sales data for September 2024, there is a possibility the average sales might be even higher than anticipated due to trends in \n",
    "previous years (2022 and 2023), i.e., relatively high sales in November and December across years. Also, sales within July and December are \n",
    "relatively high compared to other months, and a hypothesis could be that it’s because of Canada’s national holiday, Christmas and New Year discounts\n"
   ]
  },
  {
   "cell_type": "code",
   "execution_count": null,
   "metadata": {},
   "outputs": [],
   "source": [
    "Question: What recommendations do you have for the business?\n",
    "\n",
    "Answer: Based on the data given I would make the following recommendations to my company’s strategy insights and planning team.\n",
    "\n",
    "The company should first identify the problem areas\n",
    "\n",
    "Firstly, identify the drivers and barriers for all products with the lowest sales, in this case, products 3,5,15, 32 and 42, to assess the rationale \n",
    "and factors contributing to such low sales over three years. \n",
    "•\tTo understand the drivers and barriers to using these products, the company can survey consumers about product satisfaction and attributes leading to \n",
    "high and low usage of each product among these numbers. \n",
    "•\tTo effectively and accurately assess the rationale behind the low sales of these products, the company should plan to launch the survey to quality \n",
    "respondents, i.e., a mix of users and non-users and within users – high, low and medium users – to get a complete perspective from each class of consumers.\n",
    "\n",
    "Secondly, assess the reasons for low sales in regions 1, 6 and 7 by extracting consumer needs and product availability differences. \n",
    "•\tFor example, suppose there is a higher need for Product_1 in an area, but the availability and sales of Product_3 are relatively higher. \n",
    "In that case, it can lead to a discrepancy and ultimately lower regional market presence.\n",
    "\n",
    "Thirdly, identify trends within low periods of success and attributes that contribute to these low sales and devise strategies to avoid those low periods. \n",
    "•\tFor example, an evident trend from the bar plot between year, color encoded by Month, and Sales is every year, the sales in July and December are \n",
    "relatively higher, which could be because of Canada’s national holiday, Christmas and New Year discount offers. \n",
    "\n",
    "Lastly, the company should devise a correlation between Product, Region, Time and Sales to effectively evaluate any gaps or trends in sales and develop \n",
    "strategies to resolve any identified barriers or reinforce the use of certain products.\n",
    "\n",
    "\n",
    "\n",
    "Recommendations to mitigate the gaps in sales by Product, Region and Time\n",
    "\n",
    "Post-identifying drivers and barriers of products with the lowest sales, the company should implement a robust advertising approach to market the key \n",
    "strengths of their products and look for resolutions to obstacles for each products.\n",
    "•\tAnother way to increase the sales of these products is to assess the customer segments that prefer these items and devise tailored promotional strategies and marketing campaigns to create a niche for the product, potentially eliminating all competitors within that segment.\n",
    "\n",
    "Understanding consumer preferences, purchase history and demographic differences is essential when looking at the region-wise data. \n",
    "•\tThe company should alter their product range based on the insights extrapolated from the above analysis strategy, diversifying its product offerings \n",
    "and reducing reliance on products that experience significant fluctuations in sales and on products that do not meet the needs of the consumers within a \n",
    "particular region.\n",
    "\n",
    "Create targeted marketing campaigns and promotions that mirror high sales months. \n",
    "•\tOffer discounts, deals and exclusive offers across seasons and significant festivals to appeal to a more diversified population and culture and \n",
    "capitalize on the increased demand and interest towards various products. Consequently, offer incentives or reward points for customer referrals to \n",
    "boost sales and intrigue interest in the brand during low periods. \n"
   ]
  },
  {
   "cell_type": "code",
   "execution_count": null,
   "metadata": {},
   "outputs": [],
   "source": [
    "Question: Describe your data cleaning approach. How and why did you decide on which cleaning techniques to use?\n",
    "\n",
    "Cleaning the data is an essential step before processing and analysing the data as it not only helps to enhance the data quality but also ensure that’s the data being analysed is consistent and reliable, thus yielding accurate results.\n",
    "I took the following approach to clean the data at hand, in the mentioned order:-\n",
    "\n",
    "Removed duplicate entries  - Identified and dropped all duplicate records from the dataset to avoid redundancy that may skew the analysis and ensure data integrity.\n",
    "\n",
    "Identified and removed null values from ‘Product’ and ‘Region’ columns – Dropped all NaN values from the mentioned columns to avoid any missing values due to difficulty in interpreting the product and region from numerical values\n",
    "\n",
    "Handled Outliers – Detecting and removing outliers from the dataset as they can significantly deviate the data and potentially the analyses\n",
    "•\tUsed scatterplots (Product vs. Price and Region vs. Price) through the seaborn library to identify the outliers and dropped all extreme and erroneous values \n",
    "\n",
    "Handled missing values – Imputed all missing values in the ‘Price’ column by grouping all values by ‘Product’ and calculating the mean ‘Price’ for each product across regions. Consequently substituted all missing values by the mean of their respective product price.\n",
    "\n",
    "Data Transformation – Split certain columns such as ‘Sale Date’ into ‘Sale_Month’ and ‘Sale_Year’, and ‘Product’ and ‘Region’ into ‘Product_ID’ and ‘Region_ID’ respectively to ease data readability and data visualization, thus producing cleaner graphs.\n"
   ]
  }
 ],
 "metadata": {
  "kernelspec": {
   "display_name": "Python 3",
   "language": "python",
   "name": "python3"
  },
  "language_info": {
   "codemirror_mode": {
    "name": "ipython",
    "version": 3
   },
   "file_extension": ".py",
   "mimetype": "text/x-python",
   "name": "python",
   "nbconvert_exporter": "python",
   "pygments_lexer": "ipython3",
   "version": "3.10.11"
  },
  "orig_nbformat": 4
 },
 "nbformat": 4,
 "nbformat_minor": 2
}
