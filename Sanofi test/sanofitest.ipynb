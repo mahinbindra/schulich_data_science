{
 "cells": [
  {
   "cell_type": "code",
   "execution_count": 1,
   "metadata": {},
   "outputs": [],
   "source": [
    "import pandas as pd"
   ]
  },
  {
   "cell_type": "code",
   "execution_count": 2,
   "metadata": {},
   "outputs": [],
   "source": [
    "df = pd.read_csv('/Users/mahinbindra/Downloads/data1.csv')"
   ]
  },
  {
   "cell_type": "code",
   "execution_count": 3,
   "metadata": {},
   "outputs": [
    {
     "name": "stdout",
     "output_type": "stream",
     "text": [
      "<class 'pandas.core.frame.DataFrame'>\n",
      "RangeIndex: 300 entries, 0 to 299\n",
      "Data columns (total 9 columns):\n",
      " #   Column                    Non-Null Count  Dtype \n",
      "---  ------                    --------------  ----- \n",
      " 0   id                        300 non-null    int64 \n",
      " 1   instance_name             300 non-null    object\n",
      " 2   active_time_sec           300 non-null    int64 \n",
      " 3   boot_time_sec             300 non-null    int64 \n",
      " 4   get_requests              300 non-null    int64 \n",
      " 5   post_requests             300 non-null    int64 \n",
      " 6   traffic_in_mb             300 non-null    int64 \n",
      " 7   traffic_out_mb            300 non-null    int64 \n",
      " 8   average_response_time_ms  300 non-null    int64 \n",
      "dtypes: int64(8), object(1)\n",
      "memory usage: 21.2+ KB\n"
     ]
    }
   ],
   "source": [
    "df.info()"
   ]
  },
  {
   "cell_type": "code",
   "execution_count": 4,
   "metadata": {},
   "outputs": [
    {
     "data": {
      "text/html": [
       "<div>\n",
       "<style scoped>\n",
       "    .dataframe tbody tr th:only-of-type {\n",
       "        vertical-align: middle;\n",
       "    }\n",
       "\n",
       "    .dataframe tbody tr th {\n",
       "        vertical-align: top;\n",
       "    }\n",
       "\n",
       "    .dataframe thead th {\n",
       "        text-align: right;\n",
       "    }\n",
       "</style>\n",
       "<table border=\"1\" class=\"dataframe\">\n",
       "  <thead>\n",
       "    <tr style=\"text-align: right;\">\n",
       "      <th></th>\n",
       "      <th>id</th>\n",
       "      <th>instance_name</th>\n",
       "      <th>active_time_sec</th>\n",
       "      <th>boot_time_sec</th>\n",
       "      <th>get_requests</th>\n",
       "      <th>post_requests</th>\n",
       "      <th>traffic_in_mb</th>\n",
       "      <th>traffic_out_mb</th>\n",
       "      <th>average_response_time_ms</th>\n",
       "    </tr>\n",
       "  </thead>\n",
       "  <tbody>\n",
       "    <tr>\n",
       "      <th>0</th>\n",
       "      <td>0</td>\n",
       "      <td>inst-000</td>\n",
       "      <td>85382</td>\n",
       "      <td>91</td>\n",
       "      <td>2596</td>\n",
       "      <td>12431</td>\n",
       "      <td>8739</td>\n",
       "      <td>54658</td>\n",
       "      <td>101</td>\n",
       "    </tr>\n",
       "    <tr>\n",
       "      <th>1</th>\n",
       "      <td>1</td>\n",
       "      <td>inst-001</td>\n",
       "      <td>75502</td>\n",
       "      <td>76</td>\n",
       "      <td>9511</td>\n",
       "      <td>11057</td>\n",
       "      <td>18263</td>\n",
       "      <td>100585</td>\n",
       "      <td>86</td>\n",
       "    </tr>\n",
       "    <tr>\n",
       "      <th>2</th>\n",
       "      <td>2</td>\n",
       "      <td>inst-002</td>\n",
       "      <td>47851</td>\n",
       "      <td>69</td>\n",
       "      <td>4423</td>\n",
       "      <td>4673</td>\n",
       "      <td>6787</td>\n",
       "      <td>81552</td>\n",
       "      <td>198</td>\n",
       "    </tr>\n",
       "    <tr>\n",
       "      <th>3</th>\n",
       "      <td>3</td>\n",
       "      <td>inst-003</td>\n",
       "      <td>75185</td>\n",
       "      <td>208</td>\n",
       "      <td>11309</td>\n",
       "      <td>9557</td>\n",
       "      <td>18647</td>\n",
       "      <td>65882</td>\n",
       "      <td>223</td>\n",
       "    </tr>\n",
       "    <tr>\n",
       "      <th>4</th>\n",
       "      <td>4</td>\n",
       "      <td>inst-004</td>\n",
       "      <td>78584</td>\n",
       "      <td>110</td>\n",
       "      <td>17087</td>\n",
       "      <td>9492</td>\n",
       "      <td>10922</td>\n",
       "      <td>154076</td>\n",
       "      <td>60</td>\n",
       "    </tr>\n",
       "  </tbody>\n",
       "</table>\n",
       "</div>"
      ],
      "text/plain": [
       "   id instance_name  active_time_sec  boot_time_sec  get_requests   \n",
       "0   0      inst-000            85382             91          2596  \\\n",
       "1   1      inst-001            75502             76          9511   \n",
       "2   2      inst-002            47851             69          4423   \n",
       "3   3      inst-003            75185            208         11309   \n",
       "4   4      inst-004            78584            110         17087   \n",
       "\n",
       "   post_requests  traffic_in_mb  traffic_out_mb  average_response_time_ms  \n",
       "0          12431           8739           54658                       101  \n",
       "1          11057          18263          100585                        86  \n",
       "2           4673           6787           81552                       198  \n",
       "3           9557          18647           65882                       223  \n",
       "4           9492          10922          154076                        60  "
      ]
     },
     "execution_count": 4,
     "metadata": {},
     "output_type": "execute_result"
    }
   ],
   "source": [
    "df.head()"
   ]
  },
  {
   "cell_type": "markdown",
   "metadata": {},
   "source": [
    "high efficient if average response time < 150ms\n",
    "processed 22000 total requests and boot time percentage <1%"
   ]
  },
  {
   "cell_type": "code",
   "execution_count": 5,
   "metadata": {},
   "outputs": [],
   "source": [
    "df['total_requests'] = df['get_requests'] + df['post_requests']"
   ]
  },
  {
   "cell_type": "code",
   "execution_count": 6,
   "metadata": {},
   "outputs": [
    {
     "name": "stdout",
     "output_type": "stream",
     "text": [
      "<class 'pandas.core.frame.DataFrame'>\n",
      "RangeIndex: 300 entries, 0 to 299\n",
      "Data columns (total 10 columns):\n",
      " #   Column                    Non-Null Count  Dtype \n",
      "---  ------                    --------------  ----- \n",
      " 0   id                        300 non-null    int64 \n",
      " 1   instance_name             300 non-null    object\n",
      " 2   active_time_sec           300 non-null    int64 \n",
      " 3   boot_time_sec             300 non-null    int64 \n",
      " 4   get_requests              300 non-null    int64 \n",
      " 5   post_requests             300 non-null    int64 \n",
      " 6   traffic_in_mb             300 non-null    int64 \n",
      " 7   traffic_out_mb            300 non-null    int64 \n",
      " 8   average_response_time_ms  300 non-null    int64 \n",
      " 9   total_requests            300 non-null    int64 \n",
      "dtypes: int64(9), object(1)\n",
      "memory usage: 23.6+ KB\n"
     ]
    }
   ],
   "source": [
    "df.info()"
   ]
  },
  {
   "cell_type": "code",
   "execution_count": 10,
   "metadata": {},
   "outputs": [
    {
     "ename": "KeyError",
     "evalue": "22000",
     "output_type": "error",
     "traceback": [
      "\u001b[0;31m---------------------------------------------------------------------------\u001b[0m",
      "\u001b[0;31mKeyError\u001b[0m                                  Traceback (most recent call last)",
      "File \u001b[0;32m/Library/Frameworks/Python.framework/Versions/3.10/lib/python3.10/site-packages/pandas/core/indexes/base.py:3652\u001b[0m, in \u001b[0;36mIndex.get_loc\u001b[0;34m(self, key)\u001b[0m\n\u001b[1;32m   3651\u001b[0m \u001b[39mtry\u001b[39;00m:\n\u001b[0;32m-> 3652\u001b[0m     \u001b[39mreturn\u001b[39;00m \u001b[39mself\u001b[39;49m\u001b[39m.\u001b[39;49m_engine\u001b[39m.\u001b[39;49mget_loc(casted_key)\n\u001b[1;32m   3653\u001b[0m \u001b[39mexcept\u001b[39;00m \u001b[39mKeyError\u001b[39;00m \u001b[39mas\u001b[39;00m err:\n",
      "File \u001b[0;32m/Library/Frameworks/Python.framework/Versions/3.10/lib/python3.10/site-packages/pandas/_libs/index.pyx:147\u001b[0m, in \u001b[0;36mpandas._libs.index.IndexEngine.get_loc\u001b[0;34m()\u001b[0m\n",
      "File \u001b[0;32m/Library/Frameworks/Python.framework/Versions/3.10/lib/python3.10/site-packages/pandas/_libs/index.pyx:176\u001b[0m, in \u001b[0;36mpandas._libs.index.IndexEngine.get_loc\u001b[0;34m()\u001b[0m\n",
      "File \u001b[0;32mpandas/_libs/hashtable_class_helper.pxi:2606\u001b[0m, in \u001b[0;36mpandas._libs.hashtable.Int64HashTable.get_item\u001b[0;34m()\u001b[0m\n",
      "File \u001b[0;32mpandas/_libs/hashtable_class_helper.pxi:2630\u001b[0m, in \u001b[0;36mpandas._libs.hashtable.Int64HashTable.get_item\u001b[0;34m()\u001b[0m\n",
      "\u001b[0;31mKeyError\u001b[0m: 22000",
      "\nThe above exception was the direct cause of the following exception:\n",
      "\u001b[0;31mKeyError\u001b[0m                                  Traceback (most recent call last)",
      "\u001b[1;32m/mahinbindra/schulich_data_science/Sanofi test/sanofitest.ipynb Cell 8\u001b[0m line \u001b[0;36m1\n\u001b[0;32m----> <a href='vscode-notebook-cell://github/mahinbindra/schulich_data_science/Sanofi%20test/sanofitest.ipynb#X12sdnNjb2RlLXZmcw%3D%3D?line=0'>1</a>\u001b[0m count_requests \u001b[39m=\u001b[39m df[\u001b[39m'\u001b[39;49m\u001b[39mtotal_requests\u001b[39;49m\u001b[39m'\u001b[39;49m]\u001b[39m.\u001b[39;49mvalue_counts()[\u001b[39m22000\u001b[39;49m]\n",
      "File \u001b[0;32m/Library/Frameworks/Python.framework/Versions/3.10/lib/python3.10/site-packages/pandas/core/series.py:1007\u001b[0m, in \u001b[0;36mSeries.__getitem__\u001b[0;34m(self, key)\u001b[0m\n\u001b[1;32m   1004\u001b[0m     \u001b[39mreturn\u001b[39;00m \u001b[39mself\u001b[39m\u001b[39m.\u001b[39m_values[key]\n\u001b[1;32m   1006\u001b[0m \u001b[39melif\u001b[39;00m key_is_scalar:\n\u001b[0;32m-> 1007\u001b[0m     \u001b[39mreturn\u001b[39;00m \u001b[39mself\u001b[39;49m\u001b[39m.\u001b[39;49m_get_value(key)\n\u001b[1;32m   1009\u001b[0m \u001b[39mif\u001b[39;00m is_hashable(key):\n\u001b[1;32m   1010\u001b[0m     \u001b[39m# Otherwise index.get_value will raise InvalidIndexError\u001b[39;00m\n\u001b[1;32m   1011\u001b[0m     \u001b[39mtry\u001b[39;00m:\n\u001b[1;32m   1012\u001b[0m         \u001b[39m# For labels that don't resolve as scalars like tuples and frozensets\u001b[39;00m\n",
      "File \u001b[0;32m/Library/Frameworks/Python.framework/Versions/3.10/lib/python3.10/site-packages/pandas/core/series.py:1116\u001b[0m, in \u001b[0;36mSeries._get_value\u001b[0;34m(self, label, takeable)\u001b[0m\n\u001b[1;32m   1113\u001b[0m     \u001b[39mreturn\u001b[39;00m \u001b[39mself\u001b[39m\u001b[39m.\u001b[39m_values[label]\n\u001b[1;32m   1115\u001b[0m \u001b[39m# Similar to Index.get_value, but we do not fall back to positional\u001b[39;00m\n\u001b[0;32m-> 1116\u001b[0m loc \u001b[39m=\u001b[39m \u001b[39mself\u001b[39;49m\u001b[39m.\u001b[39;49mindex\u001b[39m.\u001b[39;49mget_loc(label)\n\u001b[1;32m   1118\u001b[0m \u001b[39mif\u001b[39;00m is_integer(loc):\n\u001b[1;32m   1119\u001b[0m     \u001b[39mreturn\u001b[39;00m \u001b[39mself\u001b[39m\u001b[39m.\u001b[39m_values[loc]\n",
      "File \u001b[0;32m/Library/Frameworks/Python.framework/Versions/3.10/lib/python3.10/site-packages/pandas/core/indexes/base.py:3654\u001b[0m, in \u001b[0;36mIndex.get_loc\u001b[0;34m(self, key)\u001b[0m\n\u001b[1;32m   3652\u001b[0m     \u001b[39mreturn\u001b[39;00m \u001b[39mself\u001b[39m\u001b[39m.\u001b[39m_engine\u001b[39m.\u001b[39mget_loc(casted_key)\n\u001b[1;32m   3653\u001b[0m \u001b[39mexcept\u001b[39;00m \u001b[39mKeyError\u001b[39;00m \u001b[39mas\u001b[39;00m err:\n\u001b[0;32m-> 3654\u001b[0m     \u001b[39mraise\u001b[39;00m \u001b[39mKeyError\u001b[39;00m(key) \u001b[39mfrom\u001b[39;00m \u001b[39merr\u001b[39;00m\n\u001b[1;32m   3655\u001b[0m \u001b[39mexcept\u001b[39;00m \u001b[39mTypeError\u001b[39;00m:\n\u001b[1;32m   3656\u001b[0m     \u001b[39m# If we have a listlike key, _check_indexing_error will raise\u001b[39;00m\n\u001b[1;32m   3657\u001b[0m     \u001b[39m#  InvalidIndexError. Otherwise we fall through and re-raise\u001b[39;00m\n\u001b[1;32m   3658\u001b[0m     \u001b[39m#  the TypeError.\u001b[39;00m\n\u001b[1;32m   3659\u001b[0m     \u001b[39mself\u001b[39m\u001b[39m.\u001b[39m_check_indexing_error(key)\n",
      "\u001b[0;31mKeyError\u001b[0m: 22000"
     ]
    }
   ],
   "source": [
    "count_requests = df['total_requests'].value_counts()[22000]"
   ]
  },
  {
   "cell_type": "code",
   "execution_count": 7,
   "metadata": {},
   "outputs": [
    {
     "ename": "TypeError",
     "evalue": "unhashable type: 'Series'",
     "output_type": "error",
     "traceback": [
      "\u001b[0;31m---------------------------------------------------------------------------\u001b[0m",
      "\u001b[0;31mTypeError\u001b[0m                                 Traceback (most recent call last)",
      "\u001b[0;32m/var/folders/ht/6xpr92fx6hb_qsdf6ml3w35w0000gn/T/ipykernel_21348/958689786.py\u001b[0m in \u001b[0;36m?\u001b[0;34m()\u001b[0m\n\u001b[0;32m----> 1\u001b[0;31m \u001b[0mdf\u001b[0m\u001b[0;34m.\u001b[0m\u001b[0mcount\u001b[0m\u001b[0;34m(\u001b[0m\u001b[0;34m(\u001b[0m\u001b[0mdf\u001b[0m\u001b[0;34m[\u001b[0m\u001b[0;34m'total_requests'\u001b[0m\u001b[0;34m]\u001b[0m\u001b[0;34m>\u001b[0m\u001b[0;36m22000\u001b[0m\u001b[0;34m)\u001b[0m\u001b[0;34m)\u001b[0m\u001b[0;34m\u001b[0m\u001b[0;34m\u001b[0m\u001b[0m\n\u001b[0m",
      "\u001b[0;32m/Library/Frameworks/Python.framework/Versions/3.10/lib/python3.10/site-packages/pandas/core/frame.py\u001b[0m in \u001b[0;36m?\u001b[0;34m(self, axis, numeric_only)\u001b[0m\n\u001b[1;32m  10429\u001b[0m         \u001b[0;36m3\u001b[0m    \u001b[0;36m3\u001b[0m\u001b[0;34m\u001b[0m\u001b[0;34m\u001b[0m\u001b[0m\n\u001b[1;32m  10430\u001b[0m         \u001b[0;36m4\u001b[0m    \u001b[0;36m3\u001b[0m\u001b[0;34m\u001b[0m\u001b[0;34m\u001b[0m\u001b[0m\n\u001b[1;32m  10431\u001b[0m         \u001b[0mdtype\u001b[0m\u001b[0;34m:\u001b[0m \u001b[0mint64\u001b[0m\u001b[0;34m\u001b[0m\u001b[0;34m\u001b[0m\u001b[0m\n\u001b[1;32m  10432\u001b[0m         \"\"\"\n\u001b[0;32m> 10433\u001b[0;31m         \u001b[0maxis\u001b[0m \u001b[0;34m=\u001b[0m \u001b[0mself\u001b[0m\u001b[0;34m.\u001b[0m\u001b[0m_get_axis_number\u001b[0m\u001b[0;34m(\u001b[0m\u001b[0maxis\u001b[0m\u001b[0;34m)\u001b[0m\u001b[0;34m\u001b[0m\u001b[0;34m\u001b[0m\u001b[0m\n\u001b[0m\u001b[1;32m  10434\u001b[0m \u001b[0;34m\u001b[0m\u001b[0m\n\u001b[1;32m  10435\u001b[0m         \u001b[0;32mif\u001b[0m \u001b[0mnumeric_only\u001b[0m\u001b[0;34m:\u001b[0m\u001b[0;34m\u001b[0m\u001b[0;34m\u001b[0m\u001b[0m\n\u001b[1;32m  10436\u001b[0m             \u001b[0mframe\u001b[0m \u001b[0;34m=\u001b[0m \u001b[0mself\u001b[0m\u001b[0;34m.\u001b[0m\u001b[0m_get_numeric_data\u001b[0m\u001b[0;34m(\u001b[0m\u001b[0;34m)\u001b[0m\u001b[0;34m\u001b[0m\u001b[0;34m\u001b[0m\u001b[0m\n",
      "\u001b[0;32m/Library/Frameworks/Python.framework/Versions/3.10/lib/python3.10/site-packages/pandas/core/generic.py\u001b[0m in \u001b[0;36m?\u001b[0;34m(cls, axis)\u001b[0m\n\u001b[1;32m    510\u001b[0m     \u001b[0;34m@\u001b[0m\u001b[0mclassmethod\u001b[0m\u001b[0;34m\u001b[0m\u001b[0;34m\u001b[0m\u001b[0m\n\u001b[1;32m    511\u001b[0m     \u001b[0;32mdef\u001b[0m \u001b[0m_get_axis_number\u001b[0m\u001b[0;34m(\u001b[0m\u001b[0mcls\u001b[0m\u001b[0;34m,\u001b[0m \u001b[0maxis\u001b[0m\u001b[0;34m:\u001b[0m \u001b[0mAxis\u001b[0m\u001b[0;34m)\u001b[0m \u001b[0;34m->\u001b[0m \u001b[0mAxisInt\u001b[0m\u001b[0;34m:\u001b[0m\u001b[0;34m\u001b[0m\u001b[0;34m\u001b[0m\u001b[0m\n\u001b[1;32m    512\u001b[0m         \u001b[0;32mtry\u001b[0m\u001b[0;34m:\u001b[0m\u001b[0;34m\u001b[0m\u001b[0;34m\u001b[0m\u001b[0m\n\u001b[1;32m    513\u001b[0m             \u001b[0;32mreturn\u001b[0m \u001b[0mcls\u001b[0m\u001b[0;34m.\u001b[0m\u001b[0m_AXIS_TO_AXIS_NUMBER\u001b[0m\u001b[0;34m[\u001b[0m\u001b[0maxis\u001b[0m\u001b[0;34m]\u001b[0m\u001b[0;34m\u001b[0m\u001b[0;34m\u001b[0m\u001b[0m\n\u001b[0;32m--> 514\u001b[0;31m         \u001b[0;32mexcept\u001b[0m \u001b[0mKeyError\u001b[0m\u001b[0;34m:\u001b[0m\u001b[0;34m\u001b[0m\u001b[0;34m\u001b[0m\u001b[0m\n\u001b[0m\u001b[1;32m    515\u001b[0m             \u001b[0;32mraise\u001b[0m \u001b[0mValueError\u001b[0m\u001b[0;34m(\u001b[0m\u001b[0;34mf\"No axis named {axis} for object type {cls.__name__}\"\u001b[0m\u001b[0;34m)\u001b[0m\u001b[0;34m\u001b[0m\u001b[0;34m\u001b[0m\u001b[0m\n",
      "\u001b[0;31mTypeError\u001b[0m: unhashable type: 'Series'"
     ]
    }
   ],
   "source": [
    "df.count((df['total_requests']>22000))"
   ]
  },
  {
   "cell_type": "code",
   "execution_count": 13,
   "metadata": {},
   "outputs": [
    {
     "data": {
      "text/plain": [
       "<bound method IndexOpsMixin.value_counts of 0      12431\n",
       "1      11057\n",
       "2       4673\n",
       "3       9557\n",
       "4       9492\n",
       "       ...  \n",
       "295     5794\n",
       "296     9734\n",
       "297     8657\n",
       "298    13744\n",
       "299    13893\n",
       "Name: post_requests, Length: 300, dtype: int64>"
      ]
     },
     "execution_count": 13,
     "metadata": {},
     "output_type": "execute_result"
    }
   ],
   "source": [
    "df['post_requests'].value_counts"
   ]
  },
  {
   "cell_type": "code",
   "execution_count": 17,
   "metadata": {},
   "outputs": [
    {
     "data": {
      "text/html": [
       "<div>\n",
       "<style scoped>\n",
       "    .dataframe tbody tr th:only-of-type {\n",
       "        vertical-align: middle;\n",
       "    }\n",
       "\n",
       "    .dataframe tbody tr th {\n",
       "        vertical-align: top;\n",
       "    }\n",
       "\n",
       "    .dataframe thead th {\n",
       "        text-align: right;\n",
       "    }\n",
       "</style>\n",
       "<table border=\"1\" class=\"dataframe\">\n",
       "  <thead>\n",
       "    <tr style=\"text-align: right;\">\n",
       "      <th></th>\n",
       "      <th>id</th>\n",
       "      <th>instance_name</th>\n",
       "      <th>active_time_sec</th>\n",
       "      <th>boot_time_sec</th>\n",
       "      <th>get_requests</th>\n",
       "      <th>post_requests</th>\n",
       "      <th>traffic_in_mb</th>\n",
       "      <th>traffic_out_mb</th>\n",
       "      <th>average_response_time_ms</th>\n",
       "      <th>total_requests</th>\n",
       "    </tr>\n",
       "  </thead>\n",
       "  <tbody>\n",
       "    <tr>\n",
       "      <th>70</th>\n",
       "      <td>70</td>\n",
       "      <td>inst-070</td>\n",
       "      <td>84572</td>\n",
       "      <td>306</td>\n",
       "      <td>16257</td>\n",
       "      <td>10960</td>\n",
       "      <td>5068</td>\n",
       "      <td>2303</td>\n",
       "      <td>159</td>\n",
       "      <td>27217</td>\n",
       "    </tr>\n",
       "    <tr>\n",
       "      <th>71</th>\n",
       "      <td>71</td>\n",
       "      <td>inst-071</td>\n",
       "      <td>26137</td>\n",
       "      <td>174</td>\n",
       "      <td>7500</td>\n",
       "      <td>7888</td>\n",
       "      <td>9203</td>\n",
       "      <td>0</td>\n",
       "      <td>223</td>\n",
       "      <td>15388</td>\n",
       "    </tr>\n",
       "    <tr>\n",
       "      <th>137</th>\n",
       "      <td>137</td>\n",
       "      <td>inst-137</td>\n",
       "      <td>71088</td>\n",
       "      <td>351</td>\n",
       "      <td>14590</td>\n",
       "      <td>16458</td>\n",
       "      <td>16776</td>\n",
       "      <td>0</td>\n",
       "      <td>98</td>\n",
       "      <td>31048</td>\n",
       "    </tr>\n",
       "    <tr>\n",
       "      <th>169</th>\n",
       "      <td>169</td>\n",
       "      <td>inst-169</td>\n",
       "      <td>84544</td>\n",
       "      <td>34</td>\n",
       "      <td>9918</td>\n",
       "      <td>1400</td>\n",
       "      <td>3770</td>\n",
       "      <td>0</td>\n",
       "      <td>120</td>\n",
       "      <td>11318</td>\n",
       "    </tr>\n",
       "    <tr>\n",
       "      <th>194</th>\n",
       "      <td>194</td>\n",
       "      <td>inst-194</td>\n",
       "      <td>2935</td>\n",
       "      <td>242</td>\n",
       "      <td>4772</td>\n",
       "      <td>6979</td>\n",
       "      <td>9086</td>\n",
       "      <td>0</td>\n",
       "      <td>126</td>\n",
       "      <td>11751</td>\n",
       "    </tr>\n",
       "    <tr>\n",
       "      <th>201</th>\n",
       "      <td>201</td>\n",
       "      <td>inst-201</td>\n",
       "      <td>47943</td>\n",
       "      <td>264</td>\n",
       "      <td>14323</td>\n",
       "      <td>9937</td>\n",
       "      <td>14031</td>\n",
       "      <td>0</td>\n",
       "      <td>96</td>\n",
       "      <td>24260</td>\n",
       "    </tr>\n",
       "    <tr>\n",
       "      <th>224</th>\n",
       "      <td>224</td>\n",
       "      <td>inst-224</td>\n",
       "      <td>84385</td>\n",
       "      <td>282</td>\n",
       "      <td>11516</td>\n",
       "      <td>14337</td>\n",
       "      <td>8209</td>\n",
       "      <td>0</td>\n",
       "      <td>127</td>\n",
       "      <td>25853</td>\n",
       "    </tr>\n",
       "    <tr>\n",
       "      <th>249</th>\n",
       "      <td>249</td>\n",
       "      <td>inst-249</td>\n",
       "      <td>83528</td>\n",
       "      <td>117</td>\n",
       "      <td>9718</td>\n",
       "      <td>4701</td>\n",
       "      <td>10488</td>\n",
       "      <td>0</td>\n",
       "      <td>119</td>\n",
       "      <td>14419</td>\n",
       "    </tr>\n",
       "    <tr>\n",
       "      <th>279</th>\n",
       "      <td>279</td>\n",
       "      <td>inst-279</td>\n",
       "      <td>74781</td>\n",
       "      <td>240</td>\n",
       "      <td>14294</td>\n",
       "      <td>15861</td>\n",
       "      <td>20628</td>\n",
       "      <td>0</td>\n",
       "      <td>116</td>\n",
       "      <td>30155</td>\n",
       "    </tr>\n",
       "    <tr>\n",
       "      <th>296</th>\n",
       "      <td>296</td>\n",
       "      <td>inst-296</td>\n",
       "      <td>55029</td>\n",
       "      <td>167</td>\n",
       "      <td>0</td>\n",
       "      <td>9734</td>\n",
       "      <td>8644</td>\n",
       "      <td>0</td>\n",
       "      <td>144</td>\n",
       "      <td>9734</td>\n",
       "    </tr>\n",
       "  </tbody>\n",
       "</table>\n",
       "</div>"
      ],
      "text/plain": [
       "      id instance_name  active_time_sec  boot_time_sec  get_requests   \n",
       "70    70      inst-070            84572            306         16257  \\\n",
       "71    71      inst-071            26137            174          7500   \n",
       "137  137      inst-137            71088            351         14590   \n",
       "169  169      inst-169            84544             34          9918   \n",
       "194  194      inst-194             2935            242          4772   \n",
       "201  201      inst-201            47943            264         14323   \n",
       "224  224      inst-224            84385            282         11516   \n",
       "249  249      inst-249            83528            117          9718   \n",
       "279  279      inst-279            74781            240         14294   \n",
       "296  296      inst-296            55029            167             0   \n",
       "\n",
       "     post_requests  traffic_in_mb  traffic_out_mb  average_response_time_ms   \n",
       "70           10960           5068            2303                       159  \\\n",
       "71            7888           9203               0                       223   \n",
       "137          16458          16776               0                        98   \n",
       "169           1400           3770               0                       120   \n",
       "194           6979           9086               0                       126   \n",
       "201           9937          14031               0                        96   \n",
       "224          14337           8209               0                       127   \n",
       "249           4701          10488               0                       119   \n",
       "279          15861          20628               0                       116   \n",
       "296           9734           8644               0                       144   \n",
       "\n",
       "     total_requests  \n",
       "70            27217  \n",
       "71            15388  \n",
       "137           31048  \n",
       "169           11318  \n",
       "194           11751  \n",
       "201           24260  \n",
       "224           25853  \n",
       "249           14419  \n",
       "279           30155  \n",
       "296            9734  "
      ]
     },
     "execution_count": 17,
     "metadata": {},
     "output_type": "execute_result"
    }
   ],
   "source": [
    "df[(df['post_requests']>1000) & (df['traffic_in_mb'] > df['traffic_out_mb'])]"
   ]
  },
  {
   "cell_type": "code",
   "execution_count": 20,
   "metadata": {},
   "outputs": [
    {
     "data": {
      "text/html": [
       "<div>\n",
       "<style scoped>\n",
       "    .dataframe tbody tr th:only-of-type {\n",
       "        vertical-align: middle;\n",
       "    }\n",
       "\n",
       "    .dataframe tbody tr th {\n",
       "        vertical-align: top;\n",
       "    }\n",
       "\n",
       "    .dataframe thead th {\n",
       "        text-align: right;\n",
       "    }\n",
       "</style>\n",
       "<table border=\"1\" class=\"dataframe\">\n",
       "  <thead>\n",
       "    <tr style=\"text-align: right;\">\n",
       "      <th></th>\n",
       "      <th>id</th>\n",
       "      <th>instance_name</th>\n",
       "      <th>active_time_sec</th>\n",
       "      <th>boot_time_sec</th>\n",
       "      <th>get_requests</th>\n",
       "      <th>post_requests</th>\n",
       "      <th>traffic_in_mb</th>\n",
       "      <th>traffic_out_mb</th>\n",
       "      <th>average_response_time_ms</th>\n",
       "      <th>total_requests</th>\n",
       "    </tr>\n",
       "  </thead>\n",
       "  <tbody>\n",
       "  </tbody>\n",
       "</table>\n",
       "</div>"
      ],
      "text/plain": [
       "Empty DataFrame\n",
       "Columns: [id, instance_name, active_time_sec, boot_time_sec, get_requests, post_requests, traffic_in_mb, traffic_out_mb, average_response_time_ms, total_requests]\n",
       "Index: []"
      ]
     },
     "execution_count": 20,
     "metadata": {},
     "output_type": "execute_result"
    }
   ],
   "source": [
    "df[(df['total_requests']>22000) & (df['average_response_time_ms']<150) & (df['boot_time_sec']<df['boot_time_sec'])]"
   ]
  },
  {
   "cell_type": "code",
   "execution_count": null,
   "metadata": {},
   "outputs": [],
   "source": []
  }
 ],
 "metadata": {
  "kernelspec": {
   "display_name": "Python 3",
   "language": "python",
   "name": "python3"
  },
  "language_info": {
   "codemirror_mode": {
    "name": "ipython",
    "version": 3
   },
   "file_extension": ".py",
   "mimetype": "text/x-python",
   "name": "python",
   "nbconvert_exporter": "python",
   "pygments_lexer": "ipython3",
   "version": "3.10.11"
  },
  "orig_nbformat": 4
 },
 "nbformat": 4,
 "nbformat_minor": 2
}
