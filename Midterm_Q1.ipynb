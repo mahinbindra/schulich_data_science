{
 "cells": [
  {
   "cell_type": "code",
   "execution_count": 15,
   "metadata": {},
   "outputs": [],
   "source": [
    "import pandas as pd\n",
    "from gurobipy import Model, GRB, quicksum"
   ]
  },
  {
   "cell_type": "code",
   "execution_count": 16,
   "metadata": {},
   "outputs": [],
   "source": [
    "# Assuming the datasets have been loaded into pandas DataFrames\n",
    "# Read the datasets into pandas DataFrames (you should have these from earlier steps)\n",
    "food_categories_df = pd.read_csv('/Users/mahinbindra/Downloads/food_categories.csv')\n",
    "food_preferences_df = pd.read_csv('/Users/mahinbindra/Downloads/food_preferences.csv')\n",
    "nutrient_content_df = pd.read_csv('/Users/mahinbindra/Downloads/nutrient_content.csv')\n",
    "nutrient_requirements_df = pd.read_csv('/Users/mahinbindra/Downloads/nutrient_requirements.csv')"
   ]
  },
  {
   "cell_type": "code",
   "execution_count": 17,
   "metadata": {},
   "outputs": [],
   "source": [
    "# Create a new model\n",
    "m = Model(\"OptiDiet\")"
   ]
  },
  {
   "cell_type": "code",
   "execution_count": 18,
   "metadata": {},
   "outputs": [],
   "source": [
    "# Decision Variables\n",
    "foods = food_categories_df['Food_Item']\n",
    "food_vars = m.addVars(foods, name=\"Food\", lb=0)"
   ]
  },
  {
   "cell_type": "code",
   "execution_count": 19,
   "metadata": {},
   "outputs": [],
   "source": [
    "# Objective Function: Minimize the total cost of the food items\n",
    "m.setObjective(quicksum(food_vars[f] * food_categories_df.loc[food_categories_df.Food_Item == f, 'Cost_per_gram'].values[0] for f in foods), GRB.MINIMIZE)"
   ]
  },
  {
   "cell_type": "code",
   "execution_count": 20,
   "metadata": {},
   "outputs": [],
   "source": [
    "# Nutritional Balance Constraints\n",
    "nutrients = nutrient_requirements_df['Nutrient']\n",
    "for nutrient in nutrients:\n",
    "    min_intake = nutrient_requirements_df.loc[nutrient_requirements_df.Nutrient == nutrient, 'Min_Requirement'].values[0]\n",
    "    max_intake = nutrient_requirements_df.loc[nutrient_requirements_df.Nutrient == nutrient, 'Max_Requirement'].values[0]\n",
    "    \n",
    "    m.addConstr(\n",
    "        quicksum(food_vars[f] * nutrient_content_df.loc[nutrient_content_df['Unnamed: 0'] == f, nutrient].values[0] for f in foods) >= min_intake,\n",
    "        f\"min_{nutrient}\"\n",
    "    )\n",
    "    \n",
    "    m.addConstr(\n",
    "        quicksum(food_vars[f] * nutrient_content_df.loc[nutrient_content_df['Unnamed: 0'] == f, nutrient].values[0] for f in foods) <= max_intake,\n",
    "        f\"max_{nutrient}\"\n",
    "    )"
   ]
  },
  {
   "cell_type": "code",
   "execution_count": 21,
   "metadata": {},
   "outputs": [
    {
     "data": {
      "text/plain": [
       "<gurobi.Constr *Awaiting Model Update*>"
      ]
     },
     "execution_count": 21,
     "metadata": {},
     "output_type": "execute_result"
    }
   ],
   "source": [
    "# Dietary Preferences Constraints\n",
    "preferences = {\n",
    "    'Veggie': 'Is_Vegetarian',\n",
    "    'Vegan': 'Is_Vegan',\n",
    "    'Kosher': 'Is_Kosher',\n",
    "    'Halal': 'Is_Halal'\n",
    "}\n",
    "\n",
    "# Read the preference grams from the food_preferences_df DataFrame\n",
    "preference_grams = food_preferences_df.iloc[0]\n",
    "\n",
    "for pref, column in preferences.items():\n",
    "    # Get the required grams for the current preference\n",
    "    pref_grams = preference_grams[pref+'_grams']\n",
    "    \n",
    "    # Get the subset of food items that satisfy the current preference\n",
    "    food_subset = food_categories_df[food_categories_df[column] == 1]['Food_Item']\n",
    "    \n",
    "    # Add the constraint for the current preference\n",
    "    m.addConstr(quicksum(food_vars[food] for food in food_subset) == pref_grams, f\"DietPref_{pref}\")\n",
    "\n",
    "# Add the 'All' preference separately, which includes all foods\n",
    "all_grams = preference_grams['All_grams']\n",
    "m.addConstr(quicksum(food_vars[f] for f in foods) == all_grams, \"DietPref_All\")\n"
   ]
  },
  {
   "cell_type": "code",
   "execution_count": 22,
   "metadata": {},
   "outputs": [],
   "source": [
    "# Variety Constraint\n",
    "for f in foods:\n",
    "    m.addConstr(food_vars[f] <= 0.03 * all_grams, f\"Variety_{f}\")"
   ]
  },
  {
   "cell_type": "code",
   "execution_count": 23,
   "metadata": {},
   "outputs": [
    {
     "name": "stdout",
     "output_type": "stream",
     "text": [
      "Gurobi Optimizer version 11.0.0 build v11.0.0rc2 (mac64[arm] - Darwin 23.0.0 23A344)\n",
      "\n",
      "CPU model: Apple M1\n",
      "Thread count: 8 physical cores, 8 logical processors, using up to 8 threads\n",
      "\n",
      "Optimize a model with 245 rows, 120 columns and 14808 nonzeros\n",
      "Model fingerprint: 0xcff14110\n",
      "Coefficient statistics:\n",
      "  Matrix range     [1e-03, 1e+00]\n",
      "  Objective range  [5e-02, 2e-01]\n",
      "  Bounds range     [0e+00, 0e+00]\n",
      "  RHS range        [2e+03, 6e+05]\n",
      "Presolve removed 125 rows and 0 columns\n",
      "Presolve time: 0.01s\n",
      "\n",
      "Solved in 0 iterations and 0.01 seconds (0.00 work units)\n",
      "Infeasible model\n"
     ]
    }
   ],
   "source": [
    "# Optimize the model\n",
    "m.optimize()"
   ]
  },
  {
   "cell_type": "code",
   "execution_count": 24,
   "metadata": {},
   "outputs": [
    {
     "name": "stdout",
     "output_type": "stream",
     "text": [
      "No optimal solution found\n"
     ]
    }
   ],
   "source": [
    "# Print the solution\n",
    "if m.status == GRB.Status.OPTIMAL:\n",
    "    solution = m.getAttr('x', food_vars)\n",
    "    for f in foods:\n",
    "        print(f\"{f}: {solution[f]} grams\")\n",
    "else:\n",
    "    print(\"No optimal solution found\")"
   ]
  },
  {
   "cell_type": "code",
   "execution_count": null,
   "metadata": {},
   "outputs": [],
   "source": []
  }
 ],
 "metadata": {
  "kernelspec": {
   "display_name": "Python 3",
   "language": "python",
   "name": "python3"
  },
  "language_info": {
   "codemirror_mode": {
    "name": "ipython",
    "version": 3
   },
   "file_extension": ".py",
   "mimetype": "text/x-python",
   "name": "python",
   "nbconvert_exporter": "python",
   "pygments_lexer": "ipython3",
   "version": "3.10.11"
  }
 },
 "nbformat": 4,
 "nbformat_minor": 2
}
