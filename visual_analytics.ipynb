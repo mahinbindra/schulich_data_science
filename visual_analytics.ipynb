{
 "cells": [
  {
   "cell_type": "code",
   "execution_count": 1,
   "metadata": {},
   "outputs": [],
   "source": [
    "import pandas as pd"
   ]
  },
  {
   "cell_type": "code",
   "execution_count": 2,
   "metadata": {},
   "outputs": [],
   "source": [
    "df = pd.read_csv('/Users/mahinbindra/Downloads/Business Improvement Areas Data - 4326.csv')"
   ]
  },
  {
   "cell_type": "code",
   "execution_count": 3,
   "metadata": {},
   "outputs": [
    {
     "name": "stdout",
     "output_type": "stream",
     "text": [
      "<class 'pandas.core.frame.DataFrame'>\n",
      "RangeIndex: 85 entries, 0 to 84\n",
      "Data columns (total 11 columns):\n",
      " #   Column           Non-Null Count  Dtype  \n",
      "---  ------           --------------  -----  \n",
      " 0   _id              85 non-null     int64  \n",
      " 1   AREA_ID          85 non-null     int64  \n",
      " 2   DATE_EFFECTIVE   0 non-null      float64\n",
      " 3   AREA_ATTR_ID     85 non-null     int64  \n",
      " 4   PARENT_AREA_ID   0 non-null      float64\n",
      " 5   AREA_SHORT_CODE  85 non-null     object \n",
      " 6   AREA_LONG_CODE   85 non-null     object \n",
      " 7   AREA_NAME        85 non-null     object \n",
      " 8   AREA_DESC        85 non-null     object \n",
      " 9   OBJECTID         85 non-null     int64  \n",
      " 10  geometry         85 non-null     object \n",
      "dtypes: float64(2), int64(4), object(5)\n",
      "memory usage: 7.4+ KB\n"
     ]
    }
   ],
   "source": [
    "df.info()"
   ]
  },
  {
   "cell_type": "code",
   "execution_count": null,
   "metadata": {},
   "outputs": [],
   "source": []
  }
 ],
 "metadata": {
  "kernelspec": {
   "display_name": "Python 3",
   "language": "python",
   "name": "python3"
  },
  "language_info": {
   "codemirror_mode": {
    "name": "ipython",
    "version": 3
   },
   "file_extension": ".py",
   "mimetype": "text/x-python",
   "name": "python",
   "nbconvert_exporter": "python",
   "pygments_lexer": "ipython3",
   "version": "3.10.11"
  }
 },
 "nbformat": 4,
 "nbformat_minor": 2
}
