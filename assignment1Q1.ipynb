{
 "cells": [
  {
   "cell_type": "code",
   "execution_count": 28,
   "metadata": {},
   "outputs": [],
   "source": [
    "from gurobipy import Model, GRB\n",
    "import pandas as pd"
   ]
  },
  {
   "cell_type": "code",
   "execution_count": 29,
   "metadata": {},
   "outputs": [],
   "source": [
    "# Load the datasets\n",
    "# Note: Replace the paths with the actual paths where you have saved your datasets\n",
    "capacity_direct_prod_facilities = pd.read_csv('/Users/mahinbindra/Downloads/Capacity_for_Direct_Production_Facilities (1).csv')\n",
    "capacity_transship_dist_centers = pd.read_csv('/Users/mahinbindra/Downloads/Capacity_for_Transship_Distribution_Centers (1).csv')\n",
    "capacity_transship_prod_facilities = pd.read_csv('/Users/mahinbindra/Downloads/Capacity_for_Transship_Production_Facilities (1).csv')\n",
    "cost_prod_to_refinement = pd.read_csv('/Users/mahinbindra/Downloads/Cost_Production_to_Refinement (1).csv')\n",
    "cost_prod_to_transshipment = pd.read_csv('/Users/mahinbindra/Downloads/Cost_Production_to_Transshipment (1).csv')\n",
    "cost_transshipment_to_refinement = pd.read_csv('/Users/mahinbindra/Downloads/Cost_Transshipment_to_Refinement (1).csv')\n",
    "refinement_demand = pd.read_csv('/Users/mahinbindra/Downloads/Refinement_Demand (2).csv')"
   ]
  },
  {
   "cell_type": "code",
   "execution_count": 30,
   "metadata": {},
   "outputs": [],
   "source": [
    "# Initialize the model\n",
    "m = Model(\"Can2Oil_Optimization\")"
   ]
  },
  {
   "cell_type": "code",
   "execution_count": 31,
   "metadata": {},
   "outputs": [],
   "source": [
    "# Decision Variables\n",
    "x = m.addVars(cost_prod_to_refinement.ProductionFacility.unique(), cost_prod_to_refinement.RefinementCenter.unique(), name=\"x\", lb=0)\n",
    "y = m.addVars(cost_prod_to_transshipment.ProductionFacility.unique(), cost_prod_to_transshipment.TransshipmentHub.unique(), name=\"y\", lb=0)\n",
    "z = m.addVars(cost_transshipment_to_refinement.TransshipmentHub.unique(), cost_transshipment_to_refinement.RefinementCenter.unique(), name=\"z\", lb=0)"
   ]
  },
  {
   "cell_type": "code",
   "execution_count": 32,
   "metadata": {},
   "outputs": [],
   "source": [
    "# Corrected Objective Function\n",
    "m.setObjective(\n",
    "    sum(x[i,j] * cost_prod_to_refinement.loc[(cost_prod_to_refinement['ProductionFacility'] == i) & (cost_prod_to_refinement['RefinementCenter'] == j), 'Cost'].values[0]\n",
    "        for i in cost_prod_to_refinement['ProductionFacility'].unique()\n",
    "        for j in cost_prod_to_refinement['RefinementCenter'].unique()) +\n",
    "    sum(y[i,k] * cost_prod_to_transshipment.loc[(cost_prod_to_transshipment['ProductionFacility'] == i) & (cost_prod_to_transshipment['TransshipmentHub'] == k), 'Cost'].values[0]\n",
    "        for i in cost_prod_to_transshipment['ProductionFacility'].unique()\n",
    "        for k in cost_prod_to_transshipment['TransshipmentHub'].unique()) +\n",
    "    sum(z[k,j] * cost_transshipment_to_refinement.loc[(cost_transshipment_to_refinement['TransshipmentHub'] == k) & (cost_transshipment_to_refinement['RefinementCenter'] == j), 'Cost'].values[0]\n",
    "        for k in cost_transshipment_to_refinement['TransshipmentHub'].unique()\n",
    "        for j in cost_transshipment_to_refinement['RefinementCenter'].unique()),\n",
    "    GRB.MINIMIZE\n",
    ")\n"
   ]
  },
  {
   "cell_type": "code",
   "execution_count": 33,
   "metadata": {},
   "outputs": [],
   "source": [
    "# Constraints\n",
    "\n",
    "# Production Capacity Constraints\n",
    "for i in capacity_direct_prod_facilities.ProductionFacility:\n",
    "    m.addConstr(sum(x[i,j] for j in cost_prod_to_refinement.RefinementCenter.unique()) <= capacity_direct_prod_facilities.loc[capacity_direct_prod_facilities.ProductionFacility==i, 'Capacity'].values[0])\n",
    "\n",
    "for i in capacity_transship_prod_facilities.ProductionFacility:\n",
    "    m.addConstr(sum(y[i,k] for k in cost_prod_to_transshipment.TransshipmentHub.unique()) <= capacity_transship_prod_facilities.loc[capacity_transship_prod_facilities.ProductionFacility==i, 'Capacity'].values[0])\n",
    "\n",
    "# Distribution Center Capacity Constraints\n",
    "for k in capacity_transship_dist_centers.TransshipmentHub:\n",
    "    m.addConstr(sum(y[i,k] for i in cost_prod_to_transshipment.ProductionFacility.unique()) == sum(z[k,j] for j in cost_transshipment_to_refinement.RefinementCenter.unique()))\n",
    "    m.addConstr(sum(z[k,j] for j in cost_transshipment_to_refinement.RefinementCenter.unique()) <= capacity_transship_dist_centers.loc[capacity_transship_dist_centers.TransshipmentHub==k, 'Capacity'].values[0])\n",
    "\n",
    "# Demand Constraints\n",
    "for j in refinement_demand.RefinementCenter:\n",
    "    m.addConstr(sum(x[i,j] for i in cost_prod_to_refinement.ProductionFacility.unique()) + sum(z[k,j] for k in cost_transshipment_to_refinement.TransshipmentHub.unique()) == refinement_demand.loc[refinement_demand.RefinementCenter==j, 'Demand'].values[0])"
   ]
  },
  {
   "cell_type": "code",
   "execution_count": 34,
   "metadata": {},
   "outputs": [
    {
     "name": "stdout",
     "output_type": "stream",
     "text": [
      "Gurobi Optimizer version 11.0.0 build v11.0.0rc2 (mac64[arm] - Darwin 23.0.0 23A344)\n",
      "\n",
      "CPU model: Apple M1\n",
      "Thread count: 8 physical cores, 8 logical processors, using up to 8 threads\n",
      "\n",
      "Optimize a model with 49 rows, 165 columns and 340 nonzeros\n",
      "Model fingerprint: 0x5f5fd4bd\n",
      "Coefficient statistics:\n",
      "  Matrix range     [1e+00, 1e+00]\n",
      "  Objective range  [6e-01, 6e+00]\n",
      "  Bounds range     [0e+00, 0e+00]\n",
      "  RHS range        [1e+02, 2e+03]\n",
      "Presolve time: 0.00s\n",
      "Presolved: 49 rows, 165 columns, 340 nonzeros\n",
      "\n",
      "Iteration    Objective       Primal Inf.    Dual Inf.      Time\n",
      "       0    1.7230583e+04   1.238600e+04   0.000000e+00      0s\n",
      "      36    2.4188585e+04   0.000000e+00   0.000000e+00      0s\n",
      "\n",
      "Solved in 36 iterations and 0.00 seconds (0.00 work units)\n",
      "Optimal objective  2.418858517e+04\n"
     ]
    }
   ],
   "source": [
    "# Optimize the model\n",
    "m.optimize()"
   ]
  },
  {
   "cell_type": "code",
   "execution_count": 35,
   "metadata": {},
   "outputs": [
    {
     "name": "stdout",
     "output_type": "stream",
     "text": [
      "Optimal solution found:\n",
      "Direct shipments (Production to Refinement): {(1, 1): 0.0, (1, 2): 0.0, (1, 3): 0.0, (1, 4): 462.0, (1, 5): 0.0, (2, 1): 0.0, (2, 2): 103.0, (2, 3): 0.0, (2, 4): 0.0, (2, 5): 0.0, (3, 1): 0.0, (3, 2): 0.0, (3, 3): 460.0, (3, 4): 0.0, (3, 5): 0.0, (4, 1): 0.0, (4, 2): 0.0, (4, 3): 0.0, (4, 4): 0.0, (4, 5): 0.0, (5, 1): 0.0, (5, 2): 0.0, (5, 3): 0.0, (5, 4): 86.0, (5, 5): 0.0, (6, 1): 0.0, (6, 2): 217.0, (6, 3): 0.0, (6, 4): 0.0, (6, 5): 0.0, (7, 1): 0.0, (7, 2): 0.0, (7, 3): 0.0, (7, 4): 0.0, (7, 5): 0.0, (8, 1): 0.0, (8, 2): 0.0, (8, 3): 0.0, (8, 4): 0.0, (8, 5): 521.0, (9, 1): 0.0, (9, 2): 0.0, (9, 3): 0.0, (9, 4): 0.0, (9, 5): 548.0, (10, 1): 0.0, (10, 2): 0.0, (10, 3): 0.0, (10, 4): 0.0, (10, 5): 0.0, (11, 1): 0.0, (11, 2): 0.0, (11, 3): 0.0, (11, 4): 0.0, (11, 5): 354.0, (12, 1): 7.0, (12, 2): 0.0, (12, 3): 404.0, (12, 4): 0.0, (12, 5): 0.0, (13, 1): 104.0, (13, 2): 0.0, (13, 3): 0.0, (13, 4): 0.0, (13, 5): 0.0, (14, 1): 0.0, (14, 2): 0.0, (14, 3): 0.0, (14, 4): 0.0, (14, 5): 155.0, (15, 1): 0.0, (15, 2): 0.0, (15, 3): 0.0, (15, 4): 285.0, (15, 5): 0.0, (16, 1): 109.0, (16, 2): 0.0, (16, 3): 0.0, (16, 4): 0.0, (16, 5): 0.0, (17, 1): 0.0, (17, 2): 0.0, (17, 3): 0.0, (17, 4): 0.0, (17, 5): 0.0, (18, 1): 0.0, (18, 2): 351.0, (18, 3): 0.0, (18, 4): 0.0, (18, 5): 87.0, (19, 1): 0.0, (19, 2): 0.0, (19, 3): 0.0, (19, 4): 501.0, (19, 5): 0.0, (20, 1): 0.0, (20, 2): 0.0, (20, 3): 0.0, (20, 4): 0.0, (20, 5): 0.0, (21, 1): 0.0, (21, 2): 0.0, (21, 3): 462.0, (21, 4): 0.0, (21, 5): 0.0, (22, 1): 0.0, (22, 2): 0.0, (22, 3): 0.0, (22, 4): 504.0, (22, 5): 0.0, (23, 1): 0.0, (23, 2): 106.0, (23, 3): 0.0, (23, 4): 0.0, (23, 5): 0.0, (24, 1): 0.0, (24, 2): 0.0, (24, 3): 132.0, (24, 4): 0.0, (24, 5): 0.0, (25, 1): 0.0, (25, 2): 0.0, (25, 3): 0.0, (25, 4): 0.0, (25, 5): 0.0}\n",
      "Transshipment (Production to Distribution Centers): {(1, 1): 0.0, (1, 2): 374.0, (2, 1): 0.0, (2, 2): 0.0, (3, 1): 0.0, (3, 2): 395.0, (4, 1): 0.0, (4, 2): 245.0, (5, 1): 0.0, (5, 2): 0.0, (6, 1): 0.0, (6, 2): 0.0, (7, 1): 152.0, (7, 2): 0.0, (8, 1): 0.0, (8, 2): 24.0, (9, 1): 0.0, (9, 2): 415.0, (10, 1): 503.0, (10, 2): 0.0, (11, 1): 0.0, (11, 2): 0.0, (12, 1): 297.0, (12, 2): 0.0, (13, 1): 0.0, (13, 2): 0.0, (14, 1): 0.0, (14, 2): 0.0, (15, 1): 365.0, (15, 2): 0.0}\n",
      "Distribution to Refinement: {(1, 1): 1317.0, (1, 2): 0.0, (1, 3): 0.0, (1, 4): 0.0, (1, 5): 0.0, (2, 1): 0.0, (2, 2): 971.0, (2, 3): 482.0, (2, 4): 0.0, (2, 5): 0.0}\n"
     ]
    }
   ],
   "source": [
    "# Display the results\n",
    "if m.status == GRB.OPTIMAL:\n",
    "    solution_x = m.getAttr('x', x)\n",
    "    solution_y = m.getAttr('x', y)\n",
    "    solution_z = m.getAttr('x', z)\n",
    "    print(\"Optimal solution found:\")\n",
    "    print(\"Direct shipments (Production to Refinement):\", solution_x)\n",
    "    print(\"Transshipment (Production to Distribution Centers):\", solution_y)\n",
    "    print(\"Distribution to Refinement:\", solution_z)\n",
    "else:\n",
    "    print(\"Optimal solution was not found.\")"
   ]
  },
  {
   "cell_type": "code",
   "execution_count": 36,
   "metadata": {},
   "outputs": [
    {
     "name": "stdout",
     "output_type": "stream",
     "text": [
      "Proportion of canola oil transshipped: 0.31736938588450964\n"
     ]
    }
   ],
   "source": [
    "# Calculate total transshipped\n",
    "total_transshipped = sum(y[i,k].X for i in cost_prod_to_transshipment['ProductionFacility'].unique() for k in cost_prod_to_transshipment['TransshipmentHub'].unique())\n",
    "\n",
    "# Calculate total shipped directly and through transshipment\n",
    "total_shipped = sum(x[i,j].X for i in cost_prod_to_refinement['ProductionFacility'].unique() for j in cost_prod_to_refinement['RefinementCenter'].unique()) + sum(z[k,j].X for k in cost_transshipment_to_refinement['TransshipmentHub'].unique() for j in cost_transshipment_to_refinement['RefinementCenter'].unique())\n",
    "\n",
    "# Calculate the proportion of canola oil that is transshipped\n",
    "proportion_transshipped = total_transshipped / total_shipped if total_shipped > 0 else 0\n",
    "\n",
    "print(\"Proportion of canola oil transshipped:\", proportion_transshipped)"
   ]
  },
  {
   "cell_type": "code",
   "execution_count": 37,
   "metadata": {},
   "outputs": [
    {
     "name": "stdout",
     "output_type": "stream",
     "text": [
      "Gurobi Optimizer version 11.0.0 build v11.0.0rc2 (mac64[arm] - Darwin 23.0.0 23A344)\n",
      "\n",
      "CPU model: Apple M1\n",
      "Thread count: 8 physical cores, 8 logical processors, using up to 8 threads\n",
      "\n",
      "Optimize a model with 49 rows, 165 columns and 340 nonzeros\n",
      "Coefficient statistics:\n",
      "  Matrix range     [1e+00, 1e+00]\n",
      "  Objective range  [2e+00, 6e+00]\n",
      "  Bounds range     [0e+00, 0e+00]\n",
      "  RHS range        [1e+02, 2e+03]\n",
      "LP warm-start: use basis\n",
      "Iteration    Objective       Primal Inf.    Dual Inf.      Time\n",
      "       0   -6.6737895e+29   1.000000e+31   6.673789e-01      0s\n",
      "       5    2.6862012e+04   0.000000e+00   0.000000e+00      0s\n",
      "\n",
      "Solved in 5 iterations and 0.00 seconds (0.00 work units)\n",
      "Optimal objective  2.686201173e+04\n",
      "Total amount transshipped: 2618.0\n"
     ]
    }
   ],
   "source": [
    "P = 1  # Example penalty cost per million pounds transshipped. Adjust this value based on the desired penalty.\n",
    "\n",
    "# Modified Objective Function with Transshipment Penalty\n",
    "m.setObjective(\n",
    "    sum(x[i,j] * cost_prod_to_refinement.loc[(cost_prod_to_refinement['ProductionFacility'] == i) & (cost_prod_to_refinement['RefinementCenter'] == j), 'Cost'].values[0]\n",
    "        for i in cost_prod_to_refinement['ProductionFacility'].unique()\n",
    "        for j in cost_prod_to_refinement['RefinementCenter'].unique()) +\n",
    "    sum(y[i,k] * (cost_prod_to_transshipment.loc[(cost_prod_to_transshipment['ProductionFacility'] == i) & (cost_prod_to_transshipment['TransshipmentHub'] == k), 'Cost'].values[0] + P)\n",
    "        for i in cost_prod_to_transshipment['ProductionFacility'].unique()\n",
    "        for k in cost_prod_to_transshipment['TransshipmentHub'].unique()) +\n",
    "    sum(z[k,j] * cost_transshipment_to_refinement.loc[(cost_transshipment_to_refinement['TransshipmentHub'] == k) & (cost_transshipment_to_refinement['RefinementCenter'] == j), 'Cost'].values[0]\n",
    "        for k in cost_transshipment_to_refinement['TransshipmentHub'].unique()\n",
    "        for j in cost_transshipment_to_refinement['RefinementCenter'].unique()),\n",
    "    GRB.MINIMIZE\n",
    ")\n",
    "\n",
    "# Optimize the model\n",
    "m.optimize()\n",
    "\n",
    "# After optimization, extract and analyze the solution as needed\n",
    "if m.status == GRB.OPTIMAL:\n",
    "    # Example: Print the total amount transshipped\n",
    "    total_transshipped = sum(y[i,k].X for i in cost_prod_to_transshipment['ProductionFacility'].unique() for k in cost_prod_to_transshipment['TransshipmentHub'].unique())\n",
    "    print(\"Total amount transshipped:\", total_transshipped)\n",
    "    # Further analysis as required"
   ]
  },
  {
   "cell_type": "code",
   "execution_count": 38,
   "metadata": {},
   "outputs": [
    {
     "name": "stdout",
     "output_type": "stream",
     "text": [
      "Gurobi Optimizer version 11.0.0 build v11.0.0rc2 (mac64[arm] - Darwin 23.0.0 23A344)\n",
      "\n",
      "CPU model: Apple M1\n",
      "Thread count: 8 physical cores, 8 logical processors, using up to 8 threads\n",
      "\n",
      "Optimize a model with 50 rows, 165 columns and 370 nonzeros\n",
      "Coefficient statistics:\n",
      "  Matrix range     [1e+00, 1e+00]\n",
      "  Objective range  [2e+00, 6e+00]\n",
      "  Bounds range     [0e+00, 0e+00]\n",
      "  RHS range        [1e+02, 5e+03]\n",
      "LP warm-start: use basis\n",
      "Iteration    Objective       Primal Inf.    Dual Inf.      Time\n",
      "       0    2.6862012e+04   0.000000e+00   0.000000e+00      0s\n",
      "\n",
      "Solved in 0 iterations and 0.00 seconds (0.00 work units)\n",
      "Optimal objective  2.686201173e+04\n",
      "Total amount transshipped: 2618.0, within the limit of 5000\n"
     ]
    }
   ],
   "source": [
    "# New constraint to limit the total amount of canola oil that is transshipped\n",
    "# Define the maximum allowed transshipment volume\n",
    "max_transshipment_volume = 5000  # Adjust this value as needed\n",
    "\n",
    "# Constraint to limit the total transshipment volume\n",
    "transshipment_volume_constraint = m.addConstr(sum(y[i,k] for i in cost_prod_to_transshipment['ProductionFacility'].unique() for k in cost_prod_to_transshipment['TransshipmentHub'].unique()) <= max_transshipment_volume, \"Max_Transshipment_Volume\")\n",
    "\n",
    "# Solve the model\n",
    "m.optimize()\n",
    "\n",
    "# Extract and display the solution\n",
    "if m.status == GRB.OPTIMAL:\n",
    "    # Print the total amount transshipped and check it against the limit\n",
    "    total_transshipped = sum(y[i,k].X for i in cost_prod_to_transshipment['ProductionFacility'].unique() for k in cost_prod_to_transshipment['TransshipmentHub'].unique())\n",
    "    print(f\"Total amount transshipped: {total_transshipped}, within the limit of {max_transshipment_volume}\")\n",
    "    # Additional analysis as required\n",
    "else:\n",
    "    print(\"Optimal solution was not found.\")\n",
    "\n",
    "# if m.status == GRB.Status.OPTIMAL:\n",
    "#     print('Optimal solution found with total cost:', m.objVal)\n",
    "#     for v in m.getVars():\n",
    "#         if v.x > 0:\n",
    "#             print(f'{v.varName} = {v.x}')\n",
    "# else:\n",
    "#     print('No optimal solution found')\n"
   ]
  },
  {
   "cell_type": "code",
   "execution_count": 40,
   "metadata": {},
   "outputs": [
    {
     "name": "stdout",
     "output_type": "stream",
     "text": [
      "Gurobi Optimizer version 11.0.0 build v11.0.0rc2 (mac64[arm] - Darwin 23.0.0 23A344)\n",
      "\n",
      "CPU model: Apple M1\n",
      "Thread count: 8 physical cores, 8 logical processors, using up to 8 threads\n",
      "\n",
      "Optimize a model with 50 rows, 165 columns and 370 nonzeros\n",
      "Coefficient statistics:\n",
      "  Matrix range     [1e+00, 1e+00]\n",
      "  Objective range  [6e-01, 6e+00]\n",
      "  Bounds range     [0e+00, 0e+00]\n",
      "  RHS range        [1e+02, 5e+03]\n",
      "LP warm-start: use basis\n",
      "Iteration    Objective       Primal Inf.    Dual Inf.      Time\n",
      "       0   -3.1281398e+28   5.000000e+30   3.128140e-02      0s\n",
      "       3    2.3049655e+04   0.000000e+00   0.000000e+00      0s\n",
      "\n",
      "Solved in 3 iterations and 0.00 seconds (0.00 work units)\n",
      "Optimal objective  2.304965494e+04\n",
      "Optimal solution found:\n",
      "Facility 1 to Refinement 4: 462.0 millions of pounds\n",
      "Facility 2 to Refinement 2: 103.0 millions of pounds\n",
      "Facility 3 to Refinement 3: 460.0 millions of pounds\n",
      "Facility 5 to Refinement 4: 86.0 millions of pounds\n",
      "Facility 6 to Refinement 2: 217.0 millions of pounds\n",
      "Facility 8 to Refinement 5: 521.0 millions of pounds\n",
      "Facility 9 to Refinement 5: 548.0 millions of pounds\n",
      "Facility 11 to Refinement 5: 354.0 millions of pounds\n",
      "Facility 12 to Refinement 1: 7.0 millions of pounds\n",
      "Facility 12 to Refinement 3: 404.0 millions of pounds\n",
      "Facility 13 to Refinement 1: 104.0 millions of pounds\n",
      "Facility 14 to Refinement 5: 155.0 millions of pounds\n",
      "Facility 15 to Refinement 4: 285.0 millions of pounds\n",
      "Facility 16 to Refinement 1: 109.0 millions of pounds\n",
      "Facility 18 to Refinement 2: 351.0 millions of pounds\n",
      "Facility 18 to Refinement 5: 87.0 millions of pounds\n",
      "Facility 19 to Refinement 4: 501.0 millions of pounds\n",
      "Facility 21 to Refinement 3: 462.0 millions of pounds\n",
      "Facility 22 to Refinement 4: 504.0 millions of pounds\n",
      "Facility 23 to Refinement 2: 106.0 millions of pounds\n",
      "Facility 24 to Refinement 3: 132.0 millions of pounds\n"
     ]
    }
   ],
   "source": [
    "# Define a discount for producers closer to North America (Canada, US, Mexico)\n",
    "discount_factor = 0.9  # For example, a 10% discount on transportation costs\n",
    "\n",
    "# Apply the discount to the costs from production facilities in Canada, US, and Mexico\n",
    "for index, row in cost_prod_to_refinement.iterrows():\n",
    "    if row['ProductionFacility'] <= 15:  # Assuming facilities 1-15 are in Canada, US, and Mexico\n",
    "        cost_prod_to_refinement.at[index, 'Cost'] *= discount_factor\n",
    "\n",
    "# Objective Function - Assuming it's defined similarly, but now with possibly adjusted costs\n",
    "m.setObjective(\n",
    "    sum(x[i,j] * cost_prod_to_refinement.loc[(cost_prod_to_refinement['ProductionFacility'] == i) & (cost_prod_to_refinement['RefinementCenter'] == j), 'Cost'].values[0]\n",
    "        for i in cost_prod_to_refinement['ProductionFacility'].unique()\n",
    "        for j in cost_prod_to_refinement['RefinementCenter'].unique()) +\n",
    "    sum(y[i,k] * cost_prod_to_transshipment.loc[(cost_prod_to_transshipment['ProductionFacility'] == i) & (cost_prod_to_transshipment['TransshipmentHub'] == k), 'Cost'].values[0]\n",
    "        for i in cost_prod_to_transshipment['ProductionFacility'].unique()\n",
    "        for k in cost_prod_to_transshipment['TransshipmentHub'].unique()) +\n",
    "    sum(z[k,j] * cost_transshipment_to_refinement.loc[(cost_transshipment_to_refinement['TransshipmentHub'] == k) & (cost_transshipment_to_refinement['RefinementCenter'] == j), 'Cost'].values[0]\n",
    "        for k in cost_transshipment_to_refinement['TransshipmentHub'].unique()\n",
    "        for j in cost_transshipment_to_refinement['RefinementCenter'].unique()),\n",
    "    GRB.MINIMIZE\n",
    ")\n",
    "\n",
    "# Optimize the model\n",
    "m.optimize()\n",
    "\n",
    "# Display the results\n",
    "if m.status == GRB.OPTIMAL:\n",
    "    solution_x = m.getAttr('x', x)\n",
    "    solution_y = m.getAttr('x', y)\n",
    "    solution_z = m.getAttr('x', z)\n",
    "    print(\"Optimal solution found:\")\n",
    "    # Example of how to print some results\n",
    "    for i, j in solution_x.keys():\n",
    "        if solution_x[i, j] > 0:\n",
    "            print(f\"Facility {i} to Refinement {j}: {solution_x[i,j]} millions of pounds\")\n",
    "else:\n",
    "    print(\"Optimal solution was not found.\")"
   ]
  },
  {
   "cell_type": "code",
   "execution_count": null,
   "metadata": {},
   "outputs": [],
   "source": []
  }
 ],
 "metadata": {
  "kernelspec": {
   "display_name": "Python 3",
   "language": "python",
   "name": "python3"
  },
  "language_info": {
   "codemirror_mode": {
    "name": "ipython",
    "version": 3
   },
   "file_extension": ".py",
   "mimetype": "text/x-python",
   "name": "python",
   "nbconvert_exporter": "python",
   "pygments_lexer": "ipython3",
   "version": "3.10.11"
  }
 },
 "nbformat": 4,
 "nbformat_minor": 2
}
