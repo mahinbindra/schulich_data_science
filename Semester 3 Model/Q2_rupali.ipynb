{
 "cells": [
  {
   "cell_type": "code",
   "execution_count": 2,
   "metadata": {},
   "outputs": [],
   "source": [
    "import pandas as pd\n",
    "from gurobipy import Model, GRB\n",
    "import numpy as np"
   ]
  },
  {
   "cell_type": "code",
   "execution_count": 3,
   "metadata": {},
   "outputs": [],
   "source": [
    "# Read the cost matrix and demand distributions\n",
    "cost_matrix = pd.read_csv('/Users/mahinbindra/Downloads/cost_matrix.csv')\n",
    "distributions = pd.read_csv('/Users/mahinbindra/Downloads/distributions.csv')"
   ]
  },
  {
   "cell_type": "code",
   "execution_count": 4,
   "metadata": {},
   "outputs": [],
   "source": [
    "# Number of scenarios to generate\n",
    "num_scenarios = 1000"
   ]
  },
  {
   "cell_type": "code",
   "execution_count": 5,
   "metadata": {},
   "outputs": [],
   "source": [
    "# Initialize a dictionary to store the demand scenarios\n",
    "demand_scenarios = {}"
   ]
  },
  {
   "cell_type": "code",
   "execution_count": 6,
   "metadata": {},
   "outputs": [],
   "source": [
    "# Generate demand scenarios using Monte Carlo simulation for all retailers\n",
    "for index, row in distributions.iterrows():\n",
    "    retailer = index + 1  # Assuming retailers are 1-indexed\n",
    "    n, p = int(row['n']), row['p']\n",
    "    \n",
    "    # Generate random demand values from a binomial distribution\n",
    "    demand_scenarios[retailer] = np.random.binomial(n, p, num_scenarios)"
   ]
  },
  {
   "cell_type": "code",
   "execution_count": 7,
   "metadata": {},
   "outputs": [],
   "source": [
    "# Check the output for all retailers by showing the first 5 demand scenarios for each\n",
    "demand_scenario = {retailer: scenarios[:5] for retailer, scenarios in demand_scenarios.items()}"
   ]
  },
  {
   "cell_type": "code",
   "execution_count": 8,
   "metadata": {},
   "outputs": [],
   "source": [
    "trans_cost = {(i, j): cost_matrix.iat[i, j] for i in range(len(cost_matrix)) \n",
    "              for j in range(len(cost_matrix.columns)) if i != j}"
   ]
  },
  {
   "cell_type": "code",
   "execution_count": 9,
   "metadata": {},
   "outputs": [],
   "source": [
    "def setup_gurobi_model(demand_scenarios, trans_cost):\n",
    "    # Initialize the Gurobi model\n",
    "    model = gp.Model('BaffinBayInventoryOptimization')\n",
    "\n",
    "    # Parameters\n",
    "    C = 24.44  # unit ordering cost\n",
    "    P = 49.99  # unit selling price\n",
    "    retailers = range(1, len(demand_scenarios) + 1)  # Retailers numbered from 1 to n\n",
    "    num_scenarios = len(next(iter(demand_scenarios.values())))  # Number of scenarios\n",
    "\n",
    "    # First-stage decision variables: Order quantities for each retailer\n",
    "    y = model.addVars(retailers, name=\"y\", lb=0)\n",
    "\n",
    "    # Second-stage decision variables: Transshipment quantities from retailer j to retailer i under scenario k\n",
    "    x = model.addVars(retailers, retailers, range(num_scenarios), name=\"x\", lb=0)\n",
    "\n",
    "    # Objective function: Minimize the expected total cost\n",
    "    model.setObjective(\n",
    "        C * gp.quicksum(y[i] for i in retailers) +\n",
    "        gp.quicksum(gp.quicksum(trans_cost.get((i-1, j-1), 0) * x[i, j, k]\n",
    "                                for i in retailers for j in retailers if i != j)\n",
    "                    for k in range(num_scenarios)) / num_scenarios,\n",
    "        GRB.MINIMIZE\n",
    "    )"
   ]
  },
  {
   "cell_type": "code",
   "execution_count": 19,
   "metadata": {},
   "outputs": [
    {
     "ename": "NameError",
     "evalue": "name 'gp' is not defined",
     "output_type": "error",
     "traceback": [
      "\u001b[0;31m---------------------------------------------------------------------------\u001b[0m",
      "\u001b[0;31mNameError\u001b[0m                                 Traceback (most recent call last)",
      "Cell \u001b[0;32mIn[19], line 63\u001b[0m\n\u001b[1;32m     60\u001b[0m         \u001b[38;5;28mprint\u001b[39m(\u001b[38;5;124m'\u001b[39m\u001b[38;5;124mNo optimal solution found\u001b[39m\u001b[38;5;124m'\u001b[39m)\n\u001b[1;32m     62\u001b[0m \u001b[38;5;66;03m# Call the function with the actual demand scenarios and trans_cost dictionary\u001b[39;00m\n\u001b[0;32m---> 63\u001b[0m \u001b[43msetup_gurobi_model\u001b[49m\u001b[43m(\u001b[49m\u001b[43mdemand_scenario\u001b[49m\u001b[43m,\u001b[49m\u001b[43m \u001b[49m\u001b[43mtrans_cost\u001b[49m\u001b[43m)\u001b[49m\n",
      "Cell \u001b[0;32mIn[19], line 3\u001b[0m, in \u001b[0;36msetup_gurobi_model\u001b[0;34m(demand_scenarios, trans_cost)\u001b[0m\n\u001b[1;32m      1\u001b[0m \u001b[38;5;28;01mdef\u001b[39;00m \u001b[38;5;21msetup_gurobi_model\u001b[39m(demand_scenarios, trans_cost):\n\u001b[1;32m      2\u001b[0m     \u001b[38;5;66;03m# Initialize the Gurobi model\u001b[39;00m\n\u001b[0;32m----> 3\u001b[0m     model \u001b[38;5;241m=\u001b[39m \u001b[43mgp\u001b[49m\u001b[38;5;241m.\u001b[39mModel(\u001b[38;5;124m'\u001b[39m\u001b[38;5;124mBaffinBayInventoryOptimization\u001b[39m\u001b[38;5;124m'\u001b[39m)\n\u001b[1;32m      5\u001b[0m     \u001b[38;5;66;03m# Parameters\u001b[39;00m\n\u001b[1;32m      6\u001b[0m     C \u001b[38;5;241m=\u001b[39m \u001b[38;5;241m24.44\u001b[39m  \u001b[38;5;66;03m# unit ordering cost\u001b[39;00m\n",
      "\u001b[0;31mNameError\u001b[0m: name 'gp' is not defined"
     ]
    }
   ],
   "source": [
    "def setup_gurobi_model(demand_scenarios, trans_cost):\n",
    "    # Initialize the Gurobi model\n",
    "    model = gp.Model('BaffinBayInventoryOptimization')\n",
    "\n",
    "    # Parameters\n",
    "    C = 24.44  # unit ordering cost\n",
    "    P = 49.99  # unit selling price\n",
    "    retailers = range(1, len(demand_scenarios) + 1)  # Retailers numbered from 1 to n\n",
    "    num_scenarios = len(next(iter(demand_scenarios.values())))  # Number of scenarios\n",
    "\n",
    "    # First-stage decision variables: Order quantities for each retailer\n",
    "    y = model.addVars(retailers, name=\"y\", lb=0)\n",
    "\n",
    "    # Second-stage decision variables: Transshipment quantities from retailer j to retailer i under scenario k\n",
    "    x = model.addVars(retailers, retailers, range(num_scenarios), name=\"x\", lb=0)\n",
    "\n",
    "    # Objective function: Minimize the expected total cost\n",
    "    model.setObjective(\n",
    "        C * gp.quicksum(y[i] for i in retailers) +\n",
    "        gp.quicksum(gp.quicksum(trans_cost.get((i-1, j-1), 0) * x[i, j, k]\n",
    "                                for i in retailers for j in retailers if i != j)\n",
    "                    for k in range(num_scenarios)) / num_scenarios,\n",
    "        GRB.MINIMIZE\n",
    "    )\n",
    "\n",
    "    # Constraints\n",
    "    # Demand fulfillment constraints\n",
    "    for k in range(num_scenarios):\n",
    "        for i in retailers:\n",
    "            model.addConstr(\n",
    "                y[i] + gp.quicksum(x[j, i, k] for j in retailers if j != i) -\n",
    "                gp.quicksum(x[i, j, k] for j in retailers if j != i) >= demand_scenarios[i][k],\n",
    "                name=f\"demand_fulfillment_{i}_{k}\"\n",
    "            )\n",
    "\n",
    "    # Transshipment constraints\n",
    "    for k in range(num_scenarios):\n",
    "        for i in retailers:\n",
    "            for j in retailers:\n",
    "                if i != j:\n",
    "                    model.addConstr(\n",
    "                        x[i, j, k] <= y[j] - demand_scenarios[j][k],\n",
    "                        name=f\"transshipment_{j}_{i}_{k}\"\n",
    "                    )\n",
    "\n",
    "    # Solve the model\n",
    "    model.optimize()\n",
    "\n",
    "    # Output the solution\n",
    "    if model.status == GRB.OPTIMAL:\n",
    "        print('The optimal solution:')\n",
    "        for i in retailers:\n",
    "            print(f'Order quantity for retailer {i}: {y[i].X}')\n",
    "        for k in range(num_scenarios):\n",
    "            for i in retailers:\n",
    "                for j in retailers:\n",
    "                    if i != j and x[i, j, k].X > 0:\n",
    "                        print(f'Scenario {k}: Transship from retailer {j} to retailer {i}: {x[i, j, k].X}')\n",
    "    else:\n",
    "        print('No optimal solution found')\n",
    "\n",
    "# Call the function with the actual demand scenarios and trans_cost dictionary\n",
    "setup_gurobi_model(demand_scenario, trans_cost)"
   ]
  },
  {
   "cell_type": "code",
   "execution_count": null,
   "metadata": {},
   "outputs": [],
   "source": []
  }
 ],
 "metadata": {
  "kernelspec": {
   "display_name": "Python 3",
   "language": "python",
   "name": "python3"
  },
  "language_info": {
   "codemirror_mode": {
    "name": "ipython",
    "version": 3
   },
   "file_extension": ".py",
   "mimetype": "text/x-python",
   "name": "python",
   "nbconvert_exporter": "python",
   "pygments_lexer": "ipython3",
   "version": "3.10.11"
  }
 },
 "nbformat": 4,
 "nbformat_minor": 2
}
