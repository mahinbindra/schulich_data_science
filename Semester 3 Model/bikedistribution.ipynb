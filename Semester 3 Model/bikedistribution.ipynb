{
 "cells": [
  {
   "cell_type": "code",
   "execution_count": 71,
   "metadata": {},
   "outputs": [],
   "source": [
    "from gurobipy import Model, GRB"
   ]
  },
  {
   "cell_type": "code",
   "execution_count": 72,
   "metadata": {},
   "outputs": [],
   "source": [
    "# Create a new model\n",
    "m = Model(\"bike_redistribution\")"
   ]
  },
  {
   "cell_type": "code",
   "execution_count": 73,
   "metadata": {},
   "outputs": [],
   "source": [
    "# Define the sets for hubs and edges including costs\n",
    "edges_with_costs = {\n",
    "    (1, 2): 20, (1, 5): 25,\n",
    "    (2, 5): 30, (2, 7): 45,\n",
    "    (3, 1): 20, (3, 6): 35,\n",
    "    (4, 2): 30,\n",
    "    (5, 3): 25, (5, 4): 15, (5, 6): 28,\n",
    "    (6, 7): 12,\n",
    "    (7, 4): 27\n",
    "}"
   ]
  },
  {
   "cell_type": "code",
   "execution_count": 74,
   "metadata": {},
   "outputs": [],
   "source": [
    "# Create variables for each edge\n",
    "x = {}\n",
    "for i, j in edges_with_costs.keys():\n",
    "    x[i, j] = m.addVar(vtype=GRB.INTEGER, name=f\"x_{i}_{j}\")"
   ]
  },
  {
   "cell_type": "code",
   "execution_count": 75,
   "metadata": {},
   "outputs": [
    {
     "data": {
      "text/plain": [
       "<gurobi.Constr *Awaiting Model Update*>"
      ]
     },
     "execution_count": 75,
     "metadata": {},
     "output_type": "execute_result"
    }
   ],
   "source": [
    "# Add hub imbalance constraints\n",
    "m.addConstr(x[1, 2] + x[1, 5] - x[3, 1] == -112, \"Hub1_Balance\")\n",
    "m.addConstr(x[2, 5] + x[2, 7] - x[1, 2] - x[4, 2] == 70, \"Hub2_Balance\")\n",
    "m.addConstr(x[3, 1] + x[3, 6] - x[5, 3] == 42, \"Hub3_Balance\")\n",
    "m.addConstr(x[4, 2] - x[5, 4] - x[7, 4] == -42, \"Hub4_Balance\")\n",
    "m.addConstr(x[5, 3] + x[5, 4] + x[5, 6] - x[1, 5] - x[2, 5] == 28, \"Hub5_Balance\")\n",
    "m.addConstr(x[6, 7] - x[3, 6] - x[5, 6] == -70, \"Hub6_Balance\")\n",
    "m.addConstr(x[7, 4] - x[2, 7] - x[6, 7] == 84, \"Hub7_Balance\")"
   ]
  },
  {
   "cell_type": "code",
   "execution_count": 76,
   "metadata": {},
   "outputs": [
    {
     "data": {
      "text/plain": [
       "<gurobi.Constr *Awaiting Model Update*>"
      ]
     },
     "execution_count": 76,
     "metadata": {},
     "output_type": "execute_result"
    }
   ],
   "source": [
    "# Add transfer limit constraint\n",
    "m.addConstr(x[2, 5] + x[2, 7] + x[3, 1] + x[3, 6] <= 2 * (x[4, 2] + x[5, 3] + x[5, 4] + x[5, 6]), \"Transfer_Limit\")"
   ]
  },
  {
   "cell_type": "code",
   "execution_count": 77,
   "metadata": {},
   "outputs": [
    {
     "data": {
      "text/plain": [
       "<gurobi.Constr *Awaiting Model Update*>"
      ]
     },
     "execution_count": 77,
     "metadata": {},
     "output_type": "execute_result"
    }
   ],
   "source": [
    "# Constraints for transfers between hubs 1-5\n",
    "m.addConstr(\n",
    "    sum(x[i, j] for i in range(1, 6) for j in range(1, 6) if (i, j) in edges_with_costs) >= 0.05 * 1400\n",
    ")\n",
    "m.addConstr(\n",
    "    sum(x[i, j] for i in range(1, 6) for j in range(1, 6) if (i, j) in edges_with_costs) <= 0.50 * 1400\n",
    ")"
   ]
  },
  {
   "cell_type": "code",
   "execution_count": 78,
   "metadata": {},
   "outputs": [],
   "source": [
    "# Add non-negativity constraints for all decision variables\n",
    "for i, j in edges_with_costs.keys():\n",
    "    m.addConstr(x[i, j] >= 0, f\"Non-negativity_{i}_{j}\")"
   ]
  },
  {
   "cell_type": "code",
   "execution_count": 79,
   "metadata": {},
   "outputs": [],
   "source": [
    "# Explicit Objective Function\n",
    "m.setObjective(sum(edges_with_costs[i, j] * x[i, j] for i, j in edges_with_costs), GRB.MINIMIZE)"
   ]
  },
  {
   "cell_type": "code",
   "execution_count": 80,
   "metadata": {},
   "outputs": [
    {
     "name": "stdout",
     "output_type": "stream",
     "text": [
      "Gurobi Optimizer version 11.0.0 build v11.0.0rc2 (mac64[arm] - Darwin 23.0.0 23A344)\n",
      "\n",
      "CPU model: Apple M1\n",
      "Thread count: 8 physical cores, 8 logical processors, using up to 8 threads\n",
      "\n",
      "Optimize a model with 22 rows, 12 columns and 58 nonzeros\n",
      "Model fingerprint: 0x5d08e1fb\n",
      "Variable types: 0 continuous, 12 integer (0 binary)\n",
      "Coefficient statistics:\n",
      "  Matrix range     [1e+00, 2e+00]\n",
      "  Objective range  [1e+01, 4e+01]\n",
      "  Bounds range     [0e+00, 0e+00]\n",
      "  RHS range        [3e+01, 7e+02]\n",
      "Found heuristic solution: objective 15988.000000\n",
      "Presolve removed 15 rows and 2 columns\n",
      "Presolve time: 0.00s\n",
      "Presolved: 7 rows, 10 columns, 32 nonzeros\n",
      "Variable types: 0 continuous, 10 integer (0 binary)\n",
      "\n",
      "Root relaxation: objective 1.283800e+04, 2 iterations, 0.00 seconds (0.00 work units)\n",
      "\n",
      "    Nodes    |    Current Node    |     Objective Bounds      |     Work\n",
      " Expl Unexpl |  Obj  Depth IntInf | Incumbent    BestBd   Gap | It/Node Time\n",
      "\n",
      "*    0     0               0    12838.000000 12838.0000  0.00%     -    0s\n",
      "\n",
      "Explored 1 nodes (2 simplex iterations) in 0.01 seconds (0.00 work units)\n",
      "Thread count was 8 (of 8 available processors)\n",
      "\n",
      "Solution count 2: 12838 15988 \n",
      "\n",
      "Optimal solution found (tolerance 1.00e-04)\n",
      "Best objective 1.283800000000e+04, best bound 1.283800000000e+04, gap 0.0000%\n"
     ]
    }
   ],
   "source": [
    "# Optimize the model\n",
    "m.optimize()"
   ]
  },
  {
   "cell_type": "code",
   "execution_count": 81,
   "metadata": {},
   "outputs": [
    {
     "name": "stdout",
     "output_type": "stream",
     "text": [
      "Transfer 112.0 bikes from hub 2 to hub 5\n",
      "Transfer 112.0 bikes from hub 3 to hub 1\n",
      "Transfer 42.0 bikes from hub 4 to hub 2\n",
      "Transfer 70.0 bikes from hub 5 to hub 3\n",
      "Transfer 70.0 bikes from hub 5 to hub 6\n",
      "Transfer 84.0 bikes from hub 7 to hub 4\n"
     ]
    }
   ],
   "source": [
    "# Output the solution\n",
    "if m.status == GRB.Status.OPTIMAL:\n",
    "    solution = m.getAttr('x', x)\n",
    "    for i, j in edges_with_costs.keys():\n",
    "        if solution[i, j] > 0:\n",
    "            print(f\"Transfer {solution[i, j]} bikes from hub {i} to hub {j}\")"
   ]
  },
  {
   "cell_type": "code",
   "execution_count": 82,
   "metadata": {},
   "outputs": [
    {
     "name": "stdout",
     "output_type": "stream",
     "text": [
      "Transfer 112.0 bikes from hub 2 to hub 5\n",
      "Transfer 112.0 bikes from hub 3 to hub 1\n",
      "Transfer 42.0 bikes from hub 4 to hub 2\n",
      "Transfer 70.0 bikes from hub 5 to hub 3\n",
      "Transfer 70.0 bikes from hub 5 to hub 6\n",
      "Transfer 84.0 bikes from hub 7 to hub 4\n"
     ]
    }
   ],
   "source": [
    "# Output the solution\n",
    "if m.status == GRB.Status.OPTIMAL:\n",
    "    solution = m.getAttr('x', x)\n",
    "    for (i, j) in edges_with_costs:\n",
    "        if solution[i, j] > 0:\n",
    "            print(f\"Transfer {solution[i, j]} bikes from hub {i} to hub {j}\")\n",
    "else:\n",
    "    print('No optimal solution found')"
   ]
  },
  {
   "cell_type": "code",
   "execution_count": null,
   "metadata": {},
   "outputs": [],
   "source": []
  }
 ],
 "metadata": {
  "kernelspec": {
   "display_name": "Python 3",
   "language": "python",
   "name": "python3"
  },
  "language_info": {
   "codemirror_mode": {
    "name": "ipython",
    "version": 3
   },
   "file_extension": ".py",
   "mimetype": "text/x-python",
   "name": "python",
   "nbconvert_exporter": "python",
   "pygments_lexer": "ipython3",
   "version": "3.10.11"
  }
 },
 "nbformat": 4,
 "nbformat_minor": 2
}
