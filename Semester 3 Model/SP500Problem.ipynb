{
 "cells": [
  {
   "cell_type": "code",
   "execution_count": 1,
   "metadata": {},
   "outputs": [],
   "source": [
    "import gurobipy as gp\n",
    "from gurobipy import GRB\n",
    "import pandas as pd"
   ]
  },
  {
   "cell_type": "code",
   "execution_count": 2,
   "metadata": {},
   "outputs": [],
   "source": [
    "# Load the dataset\n",
    "file_path = '/Users/mahinbindra/Downloads/sp500_data.csv'\n",
    "sp500_data = pd.read_csv(file_path)"
   ]
  },
  {
   "cell_type": "code",
   "execution_count": 3,
   "metadata": {},
   "outputs": [],
   "source": [
    "# Preprocessing to identify sectors and locations\n",
    "sectors = sp500_data['GICS Sector'].unique()\n",
    "companies = sp500_data['Ticker symbol'].tolist()\n",
    "returns = sp500_data.set_index('Ticker symbol')['PercentReturn'].to_dict()\n",
    "sector_companies = {sector: sp500_data['Ticker symbol'][sp500_data['GICS Sector'] == sector].tolist() for sector in sectors}\n",
    "ny_companies = sp500_data['Ticker symbol'][sp500_data['Location of Headquarters'].str.contains('New York, New York')].tolist()"
   ]
  },
  {
   "cell_type": "code",
   "execution_count": 4,
   "metadata": {},
   "outputs": [
    {
     "name": "stdout",
     "output_type": "stream",
     "text": [
      "Set parameter Username\n",
      "Academic license - for non-commercial use only - expires 2025-01-15\n"
     ]
    }
   ],
   "source": [
    "# Initialize the model\n",
    "m = gp.Model(\"investment_portfolio\")"
   ]
  },
  {
   "cell_type": "code",
   "execution_count": 5,
   "metadata": {},
   "outputs": [],
   "source": [
    "# Decision Variables\n",
    "invest = m.addVars(companies, name=\"invest\")"
   ]
  },
  {
   "cell_type": "code",
   "execution_count": 6,
   "metadata": {},
   "outputs": [],
   "source": [
    "# Objective Function\n",
    "m.setObjective(gp.quicksum(invest[c] * returns[c] for c in companies), GRB.MAXIMIZE)"
   ]
  },
  {
   "cell_type": "code",
   "execution_count": 7,
   "metadata": {},
   "outputs": [
    {
     "data": {
      "text/plain": [
       "<gurobi.Constr *Awaiting Model Update*>"
      ]
     },
     "execution_count": 7,
     "metadata": {},
     "output_type": "execute_result"
    }
   ],
   "source": [
    "# Constraints\n",
    "# Total investment of $10 million\n",
    "m.addConstr(gp.quicksum(invest[c] for c in companies) == 10e6, \"total_investment\")\n",
    "\n",
    "# At most $600,000 can be invested in any individual stock\n",
    "m.addConstrs((invest[c] <= 600000 for c in companies), \"max_invest_individual\")\n",
    "\n",
    "# No more than $500,000 can be invested in the Telecommunications sector\n",
    "telecom_sector = \"Telecommunications Services\"\n",
    "m.addConstr(gp.quicksum(invest[c] for c in sector_companies[telecom_sector]) <= 500000, \"max_invest_telecom\")\n",
    "\n",
    "# At least 75% in IT compared to Telecommunications\n",
    "it_sector = \"Information Technology\"\n",
    "m.addConstr(gp.quicksum(invest[c] for c in sector_companies[it_sector]) >= 0.75 * gp.quicksum(invest[c] for c in sector_companies[telecom_sector]), \"min_invest_it\")\n",
    "\n",
    "# Difference between Consumer Discretionary and Consumer Staples\n",
    "consumer_discretionary = \"Consumer Discretionary\"\n",
    "consumer_staples = \"Consumer Staples\"\n",
    "m.addConstr(gp.quicksum(invest[c] for c in sector_companies[consumer_discretionary]) - gp.quicksum(invest[c] for c in sector_companies[consumer_staples]) <= 200000, \"consumer_difference_pos\")\n",
    "m.addConstr(gp.quicksum(invest[c] for c in sector_companies[consumer_staples]) - gp.quicksum(invest[c] for c in sector_companies[consumer_discretionary]) <= 200000, \"consumer_difference_neg\")\n",
    "\n",
    "# At least $1 million must be invested in the Energy sector\n",
    "energy_sector = \"Energy\"\n",
    "m.addConstr(gp.quicksum(invest[c] for c in sector_companies[energy_sector]) >= 1e6, \"min_invest_energy\")\n",
    "\n",
    "# At least $300,000 must be invested in companies headquartered in New York, New York\n",
    "m.addConstr(gp.quicksum(invest[c] for c in ny_companies) >= 300000, \"min_invest_ny\")"
   ]
  },
  {
   "cell_type": "code",
   "execution_count": 8,
   "metadata": {},
   "outputs": [
    {
     "name": "stdout",
     "output_type": "stream",
     "text": [
      "Gurobi Optimizer version 11.0.0 build v11.0.0rc2 (mac64[arm] - Darwin 23.0.0 23A344)\n",
      "\n",
      "CPU model: Apple M1\n",
      "Thread count: 8 physical cores, 8 logical processors, using up to 8 threads\n",
      "\n",
      "Optimize a model with 74 rows, 67 columns and 196 nonzeros\n",
      "Model fingerprint: 0xae85b2df\n",
      "Coefficient statistics:\n",
      "  Matrix range     [8e-01, 1e+00]\n",
      "  Objective range  [1e-01, 1e+01]\n",
      "  Bounds range     [0e+00, 0e+00]\n",
      "  RHS range        [2e+05, 1e+07]\n",
      "Presolve removed 68 rows and 16 columns\n",
      "Presolve time: 0.00s\n",
      "Presolved: 6 rows, 52 columns, 92 nonzeros\n",
      "\n",
      "Iteration    Objective       Primal Inf.    Dual Inf.      Time\n",
      "       0    1.4560000e+08   3.474937e+06   0.000000e+00      0s\n",
      "       6    5.1346000e+07   0.000000e+00   0.000000e+00      0s\n",
      "\n",
      "Solved in 6 iterations and 0.01 seconds (0.00 work units)\n",
      "Optimal objective  5.134600000e+07\n"
     ]
    }
   ],
   "source": [
    "# Solve the model\n",
    "m.optimize()"
   ]
  },
  {
   "cell_type": "code",
   "execution_count": 9,
   "metadata": {},
   "outputs": [
    {
     "name": "stdout",
     "output_type": "stream",
     "text": [
      "Invest $600,000.00 in AEE (Ameren Corp)\n",
      "Invest $600,000.00 in AVP (Avon Products)\n",
      "Invest $400,000.00 in CVC (Cablevision Systems Corp.)\n",
      "Invest $600,000.00 in COP (ConocoPhillips)\n",
      "Invest $600,000.00 in RRD (Donnelley (R.R.) & Sons)\n",
      "Invest $600,000.00 in DUK (Duke Energy)\n",
      "Invest $400,000.00 in XOM (Exxon Mobil Corp.)\n",
      "Invest $500,000.00 in FTR (Frontier Communications)\n",
      "Invest $600,000.00 in HCP (HCP Inc.)\n",
      "Invest $600,000.00 in KIM (Kimco Realty)\n",
      "Invest $600,000.00 in MRK (Merck & Co.)\n",
      "Invest $375,000.00 in MCHP (Microchip Technology)\n",
      "Invest $600,000.00 in PBCT (People's United Bank)\n",
      "Invest $600,000.00 in POM (Pepco Holdings Inc.)\n",
      "Invest $600,000.00 in PCG (PG&E Corp.)\n",
      "Invest $525,000.00 in PNW (Pinnacle West Capital)\n",
      "Invest $600,000.00 in PCL (Plum Creek Timber Co.)\n",
      "Invest $600,000.00 in TE (TECO Energy)\n"
     ]
    }
   ],
   "source": [
    "# Display the solution\n",
    "if m.status == GRB.OPTIMAL:\n",
    "    solution = m.getAttr('x', invest)\n",
    "    for c in companies:\n",
    "        if solution[c] > 0:\n",
    "            print(f\"Invest ${solution[c]:,.2f} in {c} ({sp500_data.loc[sp500_data['Ticker symbol'] == c, 'Company'].iloc[0]})\")"
   ]
  },
  {
   "cell_type": "code",
   "execution_count": 10,
   "metadata": {},
   "outputs": [
    {
     "name": "stdout",
     "output_type": "stream",
     "text": [
      "Number of companies headquartered in 'New York, New York': 6\n"
     ]
    }
   ],
   "source": [
    "# Count the number of companies headquartered in \"New York, New York\"\n",
    "ny_ny_companies_count = sp500_data['Location of Headquarters'].str.contains('New York, New York').sum()\n",
    "print(f\"Number of companies headquartered in 'New York, New York': {ny_ny_companies_count}\")"
   ]
  },
  {
   "cell_type": "code",
   "execution_count": 11,
   "metadata": {},
   "outputs": [
    {
     "name": "stdout",
     "output_type": "stream",
     "text": [
      "Total amount invested in companies headquartered in 'New York, New York': $600,000.00\n"
     ]
    }
   ],
   "source": [
    "# Filter companies headquartered in \"New York, New York\"\n",
    "ny_ny_companies = sp500_data[sp500_data['Location of Headquarters'].str.contains('New York, New York')]['Ticker symbol']\n",
    "# Sum the investment in these companies\n",
    "total_invested_in_ny_ny = sum(solution[c] for c in ny_ny_companies if c in solution)\n",
    "print(f\"Total amount invested in companies headquartered in 'New York, New York': ${total_invested_in_ny_ny:,.2f}\")"
   ]
  },
  {
   "cell_type": "code",
   "execution_count": 12,
   "metadata": {},
   "outputs": [
    {
     "name": "stdout",
     "output_type": "stream",
     "text": [
      "Shadow price for the Energy sector investment constraint: -2.14%\n",
      "Reducing the minimum investment in the Energy sector will increase the portfolio's expected return.\n"
     ]
    }
   ],
   "source": [
    "# Accessing the shadow price (dual value) of the Energy sector investment constraint\n",
    "energy_sector_shadow_price = m.getConstrByName(\"min_invest_energy\").Pi\n",
    "print(f\"Shadow price for the Energy sector investment constraint: {energy_sector_shadow_price}%\")\n",
    "\n",
    "# Decision advice based on the shadow price\n",
    "if energy_sector_shadow_price < 0:\n",
    "    print(\"Reducing the minimum investment in the Energy sector will increase the portfolio's expected return.\")\n",
    "else:\n",
    "    print(\"Increasing the minimum investment in the Energy sector could potentially reduce the portfolio's expected return.\")"
   ]
  },
  {
   "cell_type": "code",
   "execution_count": 13,
   "metadata": {},
   "outputs": [
    {
     "name": "stdout",
     "output_type": "stream",
     "text": [
      "No need to change the portfolio based on the new return information.\n"
     ]
    }
   ],
   "source": [
    "# Find the original return rate for Coca-Cola Enterprises\n",
    "# Assuming 'Company' column contains the company names and 'PercentReturn' the return rates\n",
    "coca_cola_return = sp500_data.loc[sp500_data['Company'] == 'Coca-Cola Enterprises', 'PercentReturn'].iloc[0]\n",
    "\n",
    "# New information\n",
    "new_return = 3.00  # New return rate for Coca-Cola Enterprises is 3.00%\n",
    "allowable_increase = 2.4  # 2.4%\n",
    "\n",
    "# Convert the allowable increase to a proportion for comparison\n",
    "allowable_increase_proportion = allowable_increase \n",
    "\n",
    "# Original return rate for comparison (assumed to be in percent in the dataset)\n",
    "original_return = coca_cola_return  # Convert to a proportion if needed\n",
    "\n",
    "# Check if the new return is within the allowable change range\n",
    "if original_return <= new_return <= original_return + allowable_increase_proportion:\n",
    "    print(\"No need to change the portfolio based on the new return information.\")\n",
    "else:\n",
    "    print(\"Consider re-evaluating the portfolio allocation.\")"
   ]
  },
  {
   "cell_type": "code",
   "execution_count": 14,
   "metadata": {},
   "outputs": [
    {
     "name": "stdout",
     "output_type": "stream",
     "text": [
      "Shadow price for the Telecommunications sector constraint: 9.78%\n",
      "The proposed increase exceeds the allowable increase. This requires reevaluation of the portfolio.\n"
     ]
    }
   ],
   "source": [
    "# Assuming 'm' is your Gurobi model object and it has been optimized\n",
    "telecom_constraint = m.getConstrByName(\"max_invest_telecom\")\n",
    "telecom_sector_shadow_price = telecom_constraint.Pi\n",
    "\n",
    "print(f\"Shadow price for the Telecommunications sector constraint: {telecom_sector_shadow_price}%\")\n",
    "\n",
    "proposed_increase = 125000  # From $500,000 to $625,000 is a $125,000 increase\n",
    "allowable_increase = 100000  # Given as part of the problem statement\n",
    "\n",
    "# Evaluate the decision\n",
    "if proposed_increase <= allowable_increase:\n",
    "    print(\"The proposed increase is within the allowable range. It could be a good decision based on the positive shadow price.\")\n",
    "else:\n",
    "    print(\"The proposed increase exceeds the allowable increase. This requires reevaluation of the portfolio.\")"
   ]
  },
  {
   "cell_type": "code",
   "execution_count": 15,
   "metadata": {},
   "outputs": [
    {
     "name": "stdout",
     "output_type": "stream",
     "text": [
      "Shadow price for the total investment constraint: 4.36\n",
      "It's beneficial to borrow up to $50000.00 because the potential return (218000.00) exceeds the cost of borrowing (125000.00).\n",
      "Amount willing to borrow based on the analysis: $50000.00\n"
     ]
    }
   ],
   "source": [
    "# Retrieve the shadow price for the total investment constraint\n",
    "total_investment_constraint = m.getConstrByName(\"total_investment\")\n",
    "shadow_price_total_investment = total_investment_constraint.Pi\n",
    "print(f\"Shadow price for the total investment constraint: {shadow_price_total_investment}\")\n",
    "\n",
    "# Given borrowing terms\n",
    "loan_amount = 50000  # Maximum loan amount you can borrow\n",
    "interest_rate = 1.5  # 1.5% interest rate for borrowing\n",
    "allowable_increase = 75000  # Allowable increase in the total investment from the sensitivity analysis\n",
    "\n",
    "# Calculate the cost of borrowing\n",
    "total_repayment = loan_amount * (1 + interest_rate)\n",
    "\n",
    "# Calculate the potential return on the borrowed amount using the shadow price\n",
    "# Convert the shadow price to a percentage form if it's not already\n",
    "shadow_price_percentage = shadow_price_total_investment\n",
    "potential_return = loan_amount * shadow_price_percentage\n",
    "\n",
    "# Determine if borrowing is beneficial\n",
    "if potential_return > total_repayment:\n",
    "    # Determine the beneficial amount to borrow, considering the allowable increase\n",
    "    max_borrowing = min(allowable_increase, loan_amount)\n",
    "    print(f\"It's beneficial to borrow up to ${max_borrowing:.2f} because the potential return ({potential_return:.2f}) exceeds the cost of borrowing ({total_repayment:.2f}).\")\n",
    "    amount_to_borrow = max_borrowing\n",
    "else:\n",
    "    print(\"Borrowing is not beneficial because the potential return does not exceed the cost of borrowing.\")\n",
    "    amount_to_borrow = 0\n",
    "\n",
    "# Output the decision\n",
    "print(f\"Amount willing to borrow based on the analysis: ${amount_to_borrow:.2f}\")"
   ]
  },
  {
   "cell_type": "code",
   "execution_count": null,
   "metadata": {},
   "outputs": [],
   "source": []
  }
 ],
 "metadata": {
  "kernelspec": {
   "display_name": "Python 3",
   "language": "python",
   "name": "python3"
  },
  "language_info": {
   "codemirror_mode": {
    "name": "ipython",
    "version": 3
   },
   "file_extension": ".py",
   "mimetype": "text/x-python",
   "name": "python",
   "nbconvert_exporter": "python",
   "pygments_lexer": "ipython3",
   "version": "3.10.11"
  }
 },
 "nbformat": 4,
 "nbformat_minor": 2
}
