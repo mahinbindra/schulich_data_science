{
 "cells": [
  {
   "cell_type": "code",
   "execution_count": 1,
   "metadata": {},
   "outputs": [],
   "source": [
    "from gurobipy import Model, GRB"
   ]
  },
  {
   "cell_type": "code",
   "execution_count": 2,
   "metadata": {},
   "outputs": [],
   "source": [
    "# Assuming hypothetical costs for demonstration purposes\n",
    "# c[i-1][j-1] represents the cost c(i,j) for company i to provide service to route j\n",
    "costs = [\n",
    "    [10, 15, 20, 25, 30, 35],  # Costs for company A\n",
    "    [12, 18, 24, 30, 36, 42],  # Costs for company B\n",
    "    [14, 21, 28, 35, 42, 49],  # Costs for company C\n",
    "    [16, 24, 32, 40, 48, 56]   # Costs for company D\n",
    "]"
   ]
  },
  {
   "cell_type": "code",
   "execution_count": 3,
   "metadata": {},
   "outputs": [
    {
     "name": "stdout",
     "output_type": "stream",
     "text": [
      "Set parameter Username\n",
      "Academic license - for non-commercial use only - expires 2025-01-15\n"
     ]
    }
   ],
   "source": [
    "# Initialize the model\n",
    "m = Model(\"MoosoneeBusRoutes\")"
   ]
  },
  {
   "cell_type": "code",
   "execution_count": 4,
   "metadata": {},
   "outputs": [],
   "source": [
    "# Decision variables\n",
    "x = m.addVars(4, 6, vtype=GRB.BINARY, name=\"x\")  # x(i,j) variable\n",
    "y = m.addVars(6, vtype=GRB.BINARY, name=\"y\")    # y(j) variable"
   ]
  },
  {
   "cell_type": "code",
   "execution_count": 5,
   "metadata": {},
   "outputs": [],
   "source": [
    "# Objective Function: Minimize the total cost\n",
    "m.setObjective(sum(costs[i][j] * x[i,j] for i in range(4) for j in range(6)), GRB.MINIMIZE)"
   ]
  },
  {
   "cell_type": "code",
   "execution_count": 7,
   "metadata": {},
   "outputs": [
    {
     "data": {
      "text/plain": [
       "<gurobi.Constr *Awaiting Model Update*>"
      ]
     },
     "execution_count": 7,
     "metadata": {},
     "output_type": "execute_result"
    }
   ],
   "source": [
    "# Constraints\n",
    "# 1. Only one company per route if opened\n",
    "for j in range(6):\n",
    "    m.addConstr(sum(x[i,j] for i in range(4)) == y[j], name=f\"company_per_route_{j+1}\")\n",
    "\n",
    "# 2. Each company to at most two routes\n",
    "for i in range(4):\n",
    "    m.addConstr(sum(x[i,j] for j in range(6)) <= 2, name=f\"max_routes_for_company_{i+1}\")\n",
    "\n",
    "# 3. At least three routes must be opened\n",
    "m.addConstr(sum(y[j] for j in range(6)) >= 3, name=\"min_routes\")\n",
    "\n",
    "# 4. Route 2 and 5 both opened or not\n",
    "m.addConstr(y[1] == y[4], name=\"route_2_and_5\")\n",
    "\n",
    "# 5. Either route 3 is opened or route 4 but not both\n",
    "m.addConstr(y[2] + y[3] == 1, name=\"route_3_or_4\")\n",
    "\n",
    "# 6. Company B (2) constraint with route 1 and 4\n",
    "m.addConstr(x[1,0] + x[1,3] <= 1, name=\"companyB_constraint\")\n",
    "\n",
    "# 7. Company A (1) assigned to route 3 implies it to route 5\n",
    "m.addConstr(x[0,2] <= x[0,4], name=\"companyA_constraint\")\n",
    "\n",
    "# 8. Company D (4) must be assigned to at least one route\n",
    "m.addConstr(sum(x[3,j] for j in range(6)) >= 1, name=\"companyD_min_route\")"
   ]
  },
  {
   "cell_type": "code",
   "execution_count": 8,
   "metadata": {},
   "outputs": [
    {
     "name": "stdout",
     "output_type": "stream",
     "text": [
      "Gurobi Optimizer version 11.0.0 build v11.0.0rc2 (mac64[arm] - Darwin 23.0.0 23A344)\n",
      "\n",
      "CPU model: Apple M1\n",
      "Thread count: 8 physical cores, 8 logical processors, using up to 8 threads\n",
      "\n",
      "Optimize a model with 22 rows, 30 columns and 104 nonzeros\n",
      "Model fingerprint: 0xa595cd3c\n",
      "Variable types: 0 continuous, 30 integer (30 binary)\n",
      "Coefficient statistics:\n",
      "  Matrix range     [1e+00, 1e+00]\n",
      "  Objective range  [1e+01, 6e+01]\n",
      "  Bounds range     [1e+00, 1e+00]\n",
      "  RHS range        [1e+00, 3e+00]\n",
      "Found heuristic solution: objective 95.0000000\n",
      "Presolve removed 10 rows and 6 columns\n",
      "Presolve time: 0.00s\n",
      "Presolved: 12 rows, 24 columns, 56 nonzeros\n",
      "Variable types: 0 continuous, 24 integer (24 binary)\n",
      "Found heuristic solution: objective 77.0000000\n",
      "\n",
      "Root relaxation: objective 6.050000e+01, 10 iterations, 0.00 seconds (0.00 work units)\n",
      "\n",
      "    Nodes    |    Current Node    |     Objective Bounds      |     Work\n",
      " Expl Unexpl |  Obj  Depth IntInf | Incumbent    BestBd   Gap | It/Node Time\n",
      "\n",
      "     0     0   60.50000    0    5   77.00000   60.50000  21.4%     -    0s\n",
      "H    0     0                      75.0000000   60.50000  19.3%     -    0s\n",
      "H    0     0                      74.0000000   60.50000  18.2%     -    0s\n",
      "\n",
      "Explored 1 nodes (10 simplex iterations) in 0.01 seconds (0.00 work units)\n",
      "Thread count was 8 (of 8 available processors)\n",
      "\n",
      "Solution count 4: 74 75 77 95 \n",
      "\n",
      "Optimal solution found (tolerance 1.00e-04)\n",
      "Best objective 7.400000000000e+01, best bound 7.400000000000e+01, gap 0.0000%\n"
     ]
    }
   ],
   "source": [
    "# Optimize the model\n",
    "m.optimize()"
   ]
  },
  {
   "cell_type": "code",
   "execution_count": 9,
   "metadata": {},
   "outputs": [
    {
     "name": "stdout",
     "output_type": "stream",
     "text": [
      "Optimal total cost: 74.0\n",
      "Company 1 is assigned to Route 3\n",
      "Company 1 is assigned to Route 5\n",
      "Company 4 is assigned to Route 2\n"
     ]
    }
   ],
   "source": [
    "# Display the solution\n",
    "if m.status == GRB.OPTIMAL:\n",
    "    print(f\"Optimal total cost: {m.ObjVal}\")\n",
    "    for i in range(4):\n",
    "        for j in range(6):\n",
    "            if x[i,j].X > 0.5:  # If company i is assigned to route j\n",
    "                print(f\"Company {i+1} is assigned to Route {j+1}\")\n",
    "else:\n",
    "    print(\"No optimal solution found.\")"
   ]
  },
  {
   "cell_type": "code",
   "execution_count": null,
   "metadata": {},
   "outputs": [],
   "source": []
  }
 ],
 "metadata": {
  "kernelspec": {
   "display_name": "Python 3",
   "language": "python",
   "name": "python3"
  },
  "language_info": {
   "codemirror_mode": {
    "name": "ipython",
    "version": 3
   },
   "file_extension": ".py",
   "mimetype": "text/x-python",
   "name": "python",
   "nbconvert_exporter": "python",
   "pygments_lexer": "ipython3",
   "version": "3.10.11"
  }
 },
 "nbformat": 4,
 "nbformat_minor": 2
}
