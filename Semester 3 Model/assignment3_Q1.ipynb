{
 "cells": [
  {
   "cell_type": "code",
   "execution_count": 10,
   "metadata": {},
   "outputs": [],
   "source": [
    "import pandas as pd\n",
    "from gurobipy import Model, GRB"
   ]
  },
  {
   "cell_type": "code",
   "execution_count": 11,
   "metadata": {},
   "outputs": [],
   "source": [
    "# Load the data from the CSV file\n",
    "costs_df = pd.read_csv('/Users/mahinbindra/Downloads/costs.csv')"
   ]
  },
  {
   "cell_type": "code",
   "execution_count": 12,
   "metadata": {},
   "outputs": [],
   "source": [
    "# Initialize the model\n",
    "model = Model(\"HealthLink Supplies Distribution\")"
   ]
  },
  {
   "cell_type": "code",
   "execution_count": 13,
   "metadata": {},
   "outputs": [],
   "source": [
    "# Define the decision variables\n",
    "x = model.addVars(costs_df['Entry'], vtype=GRB.BINARY, name=\"x\")  # Binary decision variable for site selection\n",
    "s = model.addVars(costs_df['Entry'], vtype=GRB.CONTINUOUS, lb=0, name=\"s\")  # Continuous decision variable for units stored"
   ]
  },
  {
   "cell_type": "code",
   "execution_count": 14,
   "metadata": {},
   "outputs": [],
   "source": [
    "# Objective function: Minimize total cost\n",
    "model.setObjective(sum(costs_df['Fixed'][i-1] * x[i] + costs_df['Variable'][i-1] * s[i] for i in costs_df['Entry']), GRB.MINIMIZE)"
   ]
  },
  {
   "cell_type": "code",
   "execution_count": 15,
   "metadata": {},
   "outputs": [
    {
     "data": {
      "text/plain": [
       "<gurobi.Constr *Awaiting Model Update*>"
      ]
     },
     "execution_count": 15,
     "metadata": {},
     "output_type": "execute_result"
    }
   ],
   "source": [
    "# Constraints\n",
    "# 1. Capacity constraints\n",
    "for i in costs_df['Entry']:\n",
    "    model.addConstr(s[i] >= 175000 * x[i], name=f\"min_capacity_{i}\")\n",
    "    model.addConstr(s[i] <= 375000 * x[i], name=f\"max_capacity_{i}\")\n",
    "\n",
    "# 2. At least four locations among sites 6-16\n",
    "model.addConstr(sum(x[i] for i in range(6, 17)) >= 4, name=\"location_requirement_6_16\")\n",
    "\n",
    "# 3. No more than 6 locations among the even-numbered sites\n",
    "model.addConstr(sum(x[i] for i in costs_df['Entry'] if i % 2 == 0) <= 6, name=\"even_location_limit\")\n",
    "\n",
    "# 4. Conditional constraints for site selection\n",
    "for j in [5, 6, 7]:\n",
    "    model.addConstr(x[1] + x[2] <= 1 - x[j], name=f\"conditional_sites_1_2_{j}\")\n",
    "\n",
    "# 5. Conditional constraints for location 19-22 affecting 24, 26, and 27\n",
    "for j in [24, 26, 27]:\n",
    "    model.addConstr(sum(x[i] for i in range(19, 23)) <= 1 - x[j], name=f\"conditional_sites_19_22_{j}\")\n",
    "\n",
    "# 6. If any location from 1-5 is chosen, at least one odd site from 21-27 must be chosen\n",
    "model.addConstr(sum(x[i] for i in range(1, 6)) <= sum(x[i] for i in costs_df['Entry'] if i >= 21 and i % 2 == 1), name=\"odd_sites_selection\")\n",
    "\n",
    "# 7. Equal number of locations in 1-14 and 15-27\n",
    "model.addConstr(sum(x[i] for i in range(1, 15)) == sum(x[i] for i in range(15, 28)), name=\"equal_distribution_sites\")\n",
    "\n",
    "# 8. Equal sum of units in 1-9 and 19-27\n",
    "model.addConstr(sum(s[i] for i in range(1, 10)) == sum(s[i] for i in range(19, 28)), name=\"equal_units_distribution\")"
   ]
  },
  {
   "cell_type": "code",
   "execution_count": 16,
   "metadata": {},
   "outputs": [
    {
     "name": "stdout",
     "output_type": "stream",
     "text": [
      "Gurobi Optimizer version 11.0.0 build v11.0.0rc2 (mac64[arm] - Darwin 23.0.0 23A344)\n",
      "\n",
      "CPU model: Apple M1\n",
      "Thread count: 8 physical cores, 8 logical processors, using up to 8 threads\n",
      "\n",
      "Optimize a model with 65 rows, 54 columns and 210 nonzeros\n",
      "Model fingerprint: 0x5f766475\n",
      "Variable types: 27 continuous, 27 integer (27 binary)\n",
      "Coefficient statistics:\n",
      "  Matrix range     [1e+00, 4e+05]\n",
      "  Objective range  [2e-01, 3e+06]\n",
      "  Bounds range     [1e+00, 1e+00]\n",
      "  RHS range        [1e+00, 6e+00]\n",
      "Presolve removed 18 rows and 9 columns\n",
      "Presolve time: 0.00s\n",
      "Presolved: 47 rows, 45 columns, 174 nonzeros\n",
      "Variable types: 18 continuous, 27 integer (27 binary)\n",
      "Found heuristic solution: objective 1.086250e+07\n",
      "\n",
      "Root relaxation: objective 6.765500e+06, 14 iterations, 0.00 seconds (0.00 work units)\n",
      "\n",
      "    Nodes    |    Current Node    |     Objective Bounds      |     Work\n",
      " Expl Unexpl |  Obj  Depth IntInf | Incumbent    BestBd   Gap | It/Node Time\n",
      "\n",
      "*    0     0               0    6765500.0000 6765500.00  0.00%     -    0s\n",
      "\n",
      "Explored 1 nodes (14 simplex iterations) in 0.01 seconds (0.00 work units)\n",
      "Thread count was 8 (of 8 available processors)\n",
      "\n",
      "Solution count 2: 6.7655e+06 1.08625e+07 \n",
      "\n",
      "Optimal solution found (tolerance 1.00e-04)\n",
      "Best objective 6.765500000000e+06, best bound 6.765500000000e+06, gap 0.0000%\n"
     ]
    }
   ],
   "source": [
    "# Optimize the model\n",
    "model.optimize()"
   ]
  },
  {
   "cell_type": "code",
   "execution_count": 17,
   "metadata": {},
   "outputs": [
    {
     "name": "stdout",
     "output_type": "stream",
     "text": [
      "Optimal solution found.\n",
      "Total Cost: 6765500.0\n",
      "Location 11 selected with 175000.0 units.\n",
      "Location 13 selected with 175000.0 units.\n",
      "Location 15 selected with 175000.0 units.\n",
      "Location 16 selected with 175000.0 units.\n"
     ]
    }
   ],
   "source": [
    "# Display the results\n",
    "if model.status == GRB.OPTIMAL:\n",
    "    print(\"Optimal solution found.\")\n",
    "    print(f\"Total Cost: {model.objVal}\")\n",
    "    for i in costs_df['Entry']:\n",
    "        if x[i].X > 0.5:  # Only print chosen locations\n",
    "            print(f\"Location {i} selected with {s[i].X} units.\")\n",
    "else:\n",
    "    print(\"Optimal solution not found.\")"
   ]
  },
  {
   "cell_type": "code",
   "execution_count": null,
   "metadata": {},
   "outputs": [],
   "source": []
  }
 ],
 "metadata": {
  "kernelspec": {
   "display_name": "Python 3",
   "language": "python",
   "name": "python3"
  },
  "language_info": {
   "codemirror_mode": {
    "name": "ipython",
    "version": 3
   },
   "file_extension": ".py",
   "mimetype": "text/x-python",
   "name": "python",
   "nbconvert_exporter": "python",
   "pygments_lexer": "ipython3",
   "version": "3.10.11"
  }
 },
 "nbformat": 4,
 "nbformat_minor": 2
}
