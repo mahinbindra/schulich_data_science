{
 "cells": [
  {
   "cell_type": "code",
   "execution_count": 29,
   "metadata": {},
   "outputs": [],
   "source": [
    "from gurobipy import Model, GRB, quicksum"
   ]
  },
  {
   "cell_type": "code",
   "execution_count": 30,
   "metadata": {},
   "outputs": [],
   "source": [
    "# Create a new model\n",
    "m = Model(\"SunnyshoreBay\")"
   ]
  },
  {
   "cell_type": "code",
   "execution_count": 31,
   "metadata": {},
   "outputs": [],
   "source": [
    "# Initial data from the problem\n",
    "initial_cash = 140000\n",
    "revenues = [180000, 260000, 420000, 580000]  # Revenues for May, June, July, August\n",
    "expenses = [300000, 400000, 350000, 200000]  # Expenses for May, June, July, August\n",
    "interest_rates = [0.0175, 0.0225, 0.0275]    # Interest rates for 1-month, 2-months, 3-months\n",
    "borrow_limits = [250000, 150000, 350000]      # Borrowing limits for May, June, July"
   ]
  },
  {
   "cell_type": "code",
   "execution_count": 32,
   "metadata": {},
   "outputs": [],
   "source": [
    "# Decision variables\n",
    "# B[i,j] for borrowing amount in month i to be repaid in month j\n",
    "B = {(i, j): m.addVar(name=f\"B_{i+1},{j+1}\") for i in range(4) for j in range(i, 4)}"
   ]
  },
  {
   "cell_type": "code",
   "execution_count": 33,
   "metadata": {},
   "outputs": [],
   "source": [
    "# w[i] for cash balance at the end of each month i\n",
    "w = {i: m.addVar(name=f\"w_{i+1}\") for i in range(4)}"
   ]
  },
  {
   "cell_type": "code",
   "execution_count": 34,
   "metadata": {},
   "outputs": [],
   "source": [
    "# Objective function: Minimize the total amount repaid to the bank over the summer months\n",
    "m.setObjective(\n",
    "    (B[0, 0] * (1 + interest_rates[0])) + \n",
    "    (B[0, 1] * (1 + interest_rates[1])) + \n",
    "    (B[0, 2] * (1 + interest_rates[2])) + \n",
    "    (B[1, 1] * (1 + interest_rates[0])) + \n",
    "    (B[1, 2] * (1 + interest_rates[1])) + \n",
    "    (B[2, 2] * (1 + interest_rates[0])),\n",
    "    GRB.MINIMIZE\n",
    ")\n"
   ]
  },
  {
   "cell_type": "code",
   "execution_count": 35,
   "metadata": {},
   "outputs": [],
   "source": [
    "# Constraints\n",
    "\n",
    "# Cash balance constraints\n",
    "cash_balance_constraints = [25000, 20000, 35000, 18000]\n",
    "for i in range(4):\n",
    "    m.addConstr(w[i] >= cash_balance_constraints[i], name=f\"cash_balance_{i+1}\")"
   ]
  },
  {
   "cell_type": "code",
   "execution_count": 36,
   "metadata": {},
   "outputs": [
    {
     "data": {
      "text/plain": [
       "<gurobi.Constr *Awaiting Model Update*>"
      ]
     },
     "execution_count": 36,
     "metadata": {},
     "output_type": "execute_result"
    }
   ],
   "source": [
    "# Cash balance at the end of July must be at least 65% of the combined total cash balances from May and June\n",
    "m.addConstr(w[2] >= 0.65 * (w[0] + w[1]), name=\"July_cash_balance\")"
   ]
  },
  {
   "cell_type": "code",
   "execution_count": 37,
   "metadata": {},
   "outputs": [
    {
     "data": {
      "text/plain": [
       "{0: <gurobi.Constr *Awaiting Model Update*>,\n",
       " 1: <gurobi.Constr *Awaiting Model Update*>,\n",
       " 2: <gurobi.Constr *Awaiting Model Update*>}"
      ]
     },
     "execution_count": 37,
     "metadata": {},
     "output_type": "execute_result"
    }
   ],
   "source": [
    "# Borrowing limits\n",
    "m.addConstrs((quicksum(B[i, j] for j in range(i, 4)) <= borrow_limits[i] for i in range(3)), name=\"borrowing_limits\")"
   ]
  },
  {
   "cell_type": "code",
   "execution_count": 38,
   "metadata": {},
   "outputs": [
    {
     "data": {
      "text/plain": [
       "<gurobi.Constr *Awaiting Model Update*>"
      ]
     },
     "execution_count": 38,
     "metadata": {},
     "output_type": "execute_result"
    }
   ],
   "source": [
    "# Cash flow constraints\n",
    "# May\n",
    "m.addConstr(w[0] == initial_cash + revenues[0] - expenses[0] + B[0, 0] + B[0, 1] + B[0, 2], \"cash_flow_May\")\n",
    "# June\n",
    "m.addConstr(w[1] == w[0] + revenues[1] - expenses[1] + B[1, 1] + B[1, 2] - (B[0, 0] * (1 + interest_rates[0])), \"cash_flow_June\")\n",
    "# July\n",
    "m.addConstr(w[2] == w[1] + revenues[2] - expenses[2] + B[2, 2] - (B[0, 1] * (1 + interest_rates[1])) - (B[1, 1] * (1 + interest_rates[0])), \"cash_flow_July\")\n",
    "# August\n",
    "m.addConstr(w[3] == w[2] + revenues[3] - expenses[3] - (B[0, 2] * (1 + interest_rates[2])) - (B[1, 2] * (1 + interest_rates[1])) - (B[2, 2] * (1 + interest_rates[0])), \"cash_flow_August\")\n"
   ]
  },
  {
   "cell_type": "code",
   "execution_count": 39,
   "metadata": {},
   "outputs": [],
   "source": [
    "# Non-negativity constraints\n",
    "for i in range(4):\n",
    "    for j in range(i, 4):\n",
    "        m.addConstr(B[i, j] >= 0, name=f\"B_nonneg_{i+1},{j+1}\")\n",
    "    m.addConstr(w[i] >= 0, name=f\"w_nonneg_{i+1}\")"
   ]
  },
  {
   "cell_type": "code",
   "execution_count": 40,
   "metadata": {},
   "outputs": [
    {
     "name": "stdout",
     "output_type": "stream",
     "text": [
      "Gurobi Optimizer version 11.0.0 build v11.0.0rc2 (mac64[arm] - Darwin 23.0.0 23A344)\n",
      "\n",
      "CPU model: Apple M1\n",
      "Thread count: 8 physical cores, 8 logical processors, using up to 8 threads\n",
      "\n",
      "Optimize a model with 26 rows, 14 columns and 49 nonzeros\n",
      "Model fingerprint: 0xa6e704dd\n",
      "Coefficient statistics:\n",
      "  Matrix range     [7e-01, 1e+00]\n",
      "  Objective range  [1e+00, 1e+00]\n",
      "  Bounds range     [0e+00, 0e+00]\n",
      "  RHS range        [2e+04, 4e+05]\n",
      "Presolve removed 19 rows and 5 columns\n",
      "Presolve time: 0.00s\n",
      "Presolved: 7 rows, 9 columns, 26 nonzeros\n",
      "\n",
      "Iteration    Objective       Primal Inf.    Dual Inf.      Time\n",
      "       0    0.0000000e+00   1.812500e+04   0.000000e+00      0s\n",
      "       6    1.4290473e+05   0.000000e+00   0.000000e+00      0s\n",
      "\n",
      "Solved in 6 iterations and 0.01 seconds (0.00 work units)\n",
      "Optimal objective  1.429047297e+05\n"
     ]
    }
   ],
   "source": [
    "# Solve the model\n",
    "m.optimize()"
   ]
  },
  {
   "cell_type": "code",
   "execution_count": 41,
   "metadata": {},
   "outputs": [
    {
     "name": "stdout",
     "output_type": "stream",
     "text": [
      "Objective Value: $142904.72972972973\n",
      "B_1,1 = 0.0\n",
      "B_1,2 = 0.0\n",
      "B_1,3 = 5000.0\n",
      "B_1,4 = 0.0\n",
      "B_2,2 = 54054.05405405405\n",
      "B_2,3 = 80945.94594594595\n",
      "B_2,4 = 0.0\n",
      "B_3,3 = 0.0\n",
      "B_3,4 = 0.0\n",
      "B_4,4 = 0.0\n",
      "w_1 = 25000.0\n",
      "w_2 = 20000.0\n",
      "w_3 = 35000.0\n",
      "w_4 = 327095.2702702703\n"
     ]
    }
   ],
   "source": [
    "# Output results\n",
    "if m.status == GRB.OPTIMAL:\n",
    "    print(f\"Objective Value: ${m.ObjVal}\")\n",
    "    for v in m.getVars():\n",
    "        print(f\"{v.VarName} = {v.X}\")\n",
    "\n",
    "else:\n",
    "    print(\"No optimal solution found\")"
   ]
  },
  {
   "cell_type": "code",
   "execution_count": 42,
   "metadata": {},
   "outputs": [
    {
     "name": "stdout",
     "output_type": "stream",
     "text": [
      "Gurobi Optimizer version 11.0.0 build v11.0.0rc2 (mac64[arm] - Darwin 23.0.0 23A344)\n",
      "\n",
      "CPU model: Apple M1\n",
      "Thread count: 8 physical cores, 8 logical processors, using up to 8 threads\n",
      "\n",
      "Optimize a model with 26 rows, 14 columns and 49 nonzeros\n",
      "Model fingerprint: 0x82f949b7\n",
      "Coefficient statistics:\n",
      "  Matrix range     [7e-01, 1e+00]\n",
      "  Objective range  [1e+00, 1e+00]\n",
      "  Bounds range     [0e+00, 0e+00]\n",
      "  RHS range        [2e+04, 4e+05]\n",
      "Presolve removed 19 rows and 5 columns\n",
      "Presolve time: 0.00s\n",
      "Presolved: 7 rows, 9 columns, 26 nonzeros\n",
      "\n",
      "Iteration    Objective       Primal Inf.    Dual Inf.      Time\n",
      "       0    0.0000000e+00   1.906250e+04   0.000000e+00      0s\n",
      "       6    1.5053662e+05   0.000000e+00   0.000000e+00      0s\n",
      "\n",
      "Solved in 6 iterations and 0.01 seconds (0.00 work units)\n",
      "Optimal objective  1.505366247e+05\n",
      "Updated Objective Value: $150536.6246928747\n"
     ]
    }
   ],
   "source": [
    "# Remove the old constraint for June's cash balance if it exists\n",
    "m.remove(m.getConstrByName('cash_balance_2'))\n",
    "\n",
    "# Add the new constraint with the updated cash balance for June\n",
    "m.addConstr(w[1] >= 27500, name=\"cash_balance_June_updated\")\n",
    "\n",
    "# Resolve the model with the updated constraint\n",
    "m.update()\n",
    "m.optimize()\n",
    "\n",
    "# Output the new total repayment amount\n",
    "if m.status == GRB.OPTIMAL:\n",
    "    print(f\"Updated Objective Value: ${m.ObjVal}\")\n",
    "else:\n",
    "    print(\"No optimal solution found with the updated constraints\")"
   ]
  },
  {
   "cell_type": "code",
   "execution_count": 45,
   "metadata": {},
   "outputs": [
    {
     "name": "stdout",
     "output_type": "stream",
     "text": [
      "Gurobi Optimizer version 11.0.0 build v11.0.0rc2 (mac64[arm] - Darwin 23.0.0 23A344)\n",
      "\n",
      "CPU model: Apple M1\n",
      "Thread count: 8 physical cores, 8 logical processors, using up to 8 threads\n",
      "\n",
      "Optimize a model with 6 rows, 7 columns and 16 nonzeros\n",
      "Model fingerprint: 0x0e0adb09\n",
      "Coefficient statistics:\n",
      "  Matrix range     [1e+00, 1e+00]\n",
      "  Objective range  [2e+04, 4e+05]\n",
      "  Bounds range     [0e+00, 0e+00]\n",
      "  RHS range        [1e+00, 1e+00]\n",
      "Presolve time: 0.00s\n",
      "\n",
      "Solved in 0 iterations and 0.00 seconds (0.00 work units)\n",
      "Infeasible or unbounded model\n",
      "No optimal solution found for the dual problem\n"
     ]
    }
   ],
   "source": [
    "from gurobipy import Model, GRB, quicksum\n",
    "\n",
    "# Assumed initial data\n",
    "cash_balance_constraints = [25000, 27500, 35000, 18000]  # Updated June constraint\n",
    "borrow_limits = [250000, 150000, 350000]\n",
    "interest_rates = [0.0175, 0.0225, 0.0275]\n",
    "\n",
    "# Create the dual model\n",
    "dual = Model(\"SunnyshoreBayDual\")\n",
    "\n",
    "# Dual variables for the cash balance constraints\n",
    "pi = {i: dual.addVar(name=f\"pi_{i+1}\") for i in range(4)}\n",
    "\n",
    "# Dual variables for the borrowing limits\n",
    "lambda_ = {i: dual.addVar(name=f\"lambda_{i+1}\") for i in range(3)}\n",
    "\n",
    "# The objective is to maximize the utility of cash balance and borrowing limits\n",
    "dual.setObjective(\n",
    "    quicksum(pi[i] * cash_balance_constraints[i] for i in range(4)) +\n",
    "    quicksum(lambda_[i] * borrow_limits[i] for i in range(3)),\n",
    "    GRB.MAXIMIZE\n",
    ")\n",
    "\n",
    "# Constraints for the dual problem are derived from the primal variables\n",
    "# For each primal variable B[i, j], we need to create a constraint in the dual\n",
    "# May borrowings\n",
    "for j in range(3):\n",
    "    dual.addConstr(\n",
    "        quicksum(pi[i] for i in range(j+1)) - \n",
    "        lambda_[j] <= \n",
    "        (1 + interest_rates[j]),\n",
    "        name=f\"dual_constraint_May_{j+1}\"\n",
    "    )\n",
    "\n",
    "# June borrowings\n",
    "dual.addConstr(\n",
    "    pi[2] + pi[3] - lambda_[1] <= \n",
    "    (1 + interest_rates[0]),\n",
    "    name=\"dual_constraint_June_3\"\n",
    ")\n",
    "\n",
    "dual.addConstr(\n",
    "    pi[3] - lambda_[1] <= \n",
    "    (1 + interest_rates[1]),\n",
    "    name=\"dual_constraint_June_4\"\n",
    ")\n",
    "\n",
    "# July borrowing\n",
    "dual.addConstr(\n",
    "    pi[3] - lambda_[2] <= \n",
    "    (1 + interest_rates[0]),\n",
    "    name=\"dual_constraint_July_4\"\n",
    ")\n",
    "\n",
    "# Solving the dual\n",
    "dual.optimize()\n",
    "\n",
    "# Output results for the dual\n",
    "if dual.status == GRB.OPTIMAL:\n",
    "    print(f\"Objective Value (Dual): ${dual.ObjVal}\")\n",
    "    for v in dual.getVars():\n",
    "        print(f\"{v.VarName} = {v.X}\")\n",
    "else:\n",
    "    print(\"No optimal solution found for the dual problem\")\n"
   ]
  },
  {
   "cell_type": "code",
   "execution_count": null,
   "metadata": {},
   "outputs": [],
   "source": []
  }
 ],
 "metadata": {
  "kernelspec": {
   "display_name": "Python 3",
   "language": "python",
   "name": "python3"
  },
  "language_info": {
   "codemirror_mode": {
    "name": "ipython",
    "version": 3
   },
   "file_extension": ".py",
   "mimetype": "text/x-python",
   "name": "python",
   "nbconvert_exporter": "python",
   "pygments_lexer": "ipython3",
   "version": "3.10.11"
  }
 },
 "nbformat": 4,
 "nbformat_minor": 2
}
