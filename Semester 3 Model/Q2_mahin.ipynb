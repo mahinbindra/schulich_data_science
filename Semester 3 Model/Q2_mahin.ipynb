{
 "cells": [
  {
   "cell_type": "code",
   "execution_count": 1,
   "metadata": {},
   "outputs": [],
   "source": [
    "import gurobipy as gp\n",
    "from gurobipy import GRB\n",
    "import numpy as np\n",
    "import pandas as pd"
   ]
  },
  {
   "cell_type": "code",
   "execution_count": 2,
   "metadata": {},
   "outputs": [],
   "source": [
    "# Load the data\n",
    "cost_matrix_df = pd.read_csv('/Users/mahinbindra/Downloads/cost_matrix.csv')\n",
    "distributions_df = pd.read_csv('/Users/mahinbindra/Downloads/distributions.csv')"
   ]
  },
  {
   "cell_type": "code",
   "execution_count": 3,
   "metadata": {},
   "outputs": [],
   "source": [
    "# Convert cost matrix to a NumPy array for easier access\n",
    "cost_matrix = cost_matrix_df.to_numpy()"
   ]
  },
  {
   "cell_type": "code",
   "execution_count": 4,
   "metadata": {},
   "outputs": [],
   "source": [
    "# Constants\n",
    "ordering_cost = 24.44\n",
    "num_scenarios = 1000  # Number of Monte Carlo simulations\n",
    "np.random.seed(0)  # For reproducibility"
   ]
  },
  {
   "cell_type": "code",
   "execution_count": 5,
   "metadata": {},
   "outputs": [],
   "source": [
    "# Generate demand scenarios using Monte Carlo simulation\n",
    "demand_scenarios = np.array([\n",
    "    np.random.binomial(n=row['n'], p=row['p'], size=num_scenarios)\n",
    "    for index, row in distributions_df.iterrows()\n",
    "])"
   ]
  },
  {
   "cell_type": "code",
   "execution_count": 6,
   "metadata": {},
   "outputs": [
    {
     "name": "stdout",
     "output_type": "stream",
     "text": [
      "Set parameter Username\n",
      "Academic license - for non-commercial use only - expires 2025-01-15\n"
     ]
    }
   ],
   "source": [
    "# Initialize Gurobi model\n",
    "model = gp.Model(\"Two_Stage_Stochastic_Baffin_Bay_Retail_Network\")"
   ]
  },
  {
   "cell_type": "code",
   "execution_count": 7,
   "metadata": {},
   "outputs": [],
   "source": [
    "# First stage decision variables: initial order quantities\n",
    "y = model.addVars(len(distributions_df), lb=0, vtype=GRB.CONTINUOUS, name=\"order_qty\")"
   ]
  },
  {
   "cell_type": "code",
   "execution_count": 8,
   "metadata": {},
   "outputs": [],
   "source": [
    "# Second stage decision variables: transshipment quantities for each scenario\n",
    "x = model.addVars(len(distributions_df), len(distributions_df), num_scenarios, lb=0, vtype=GRB.CONTINUOUS, name=\"transshipment\")"
   ]
  },
  {
   "cell_type": "code",
   "execution_count": 9,
   "metadata": {},
   "outputs": [],
   "source": [
    "# Objective function: Minimize total cost\n",
    "total_cost = ordering_cost * gp.quicksum(y[i] for i in range(len(distributions_df))) + \\\n",
    "             gp.quicksum(cost_matrix[i, j] * x[i, j, k] for i in range(len(distributions_df)) \n",
    "                         for j in range(len(distributions_df)) if i != j for k in range(num_scenarios))\n",
    "model.setObjective(total_cost, GRB.MINIMIZE)"
   ]
  },
  {
   "cell_type": "code",
   "execution_count": 10,
   "metadata": {},
   "outputs": [],
   "source": [
    "# Constraints\n",
    "for k in range(num_scenarios):\n",
    "    for i in range(len(distributions_df)):\n",
    "        # Ensure demand is met in each scenario\n",
    "        model.addConstr(\n",
    "            y[i] + gp.quicksum(x[j, i, k] for j in range(len(distributions_df)) if j != i) >= demand_scenarios[i, k],\n",
    "            name=f\"demand_met_{i}_{k}\"\n",
    "        )\n",
    "        # Transshipment limits based on ordered quantities and scenario demands\n",
    "        for j in range(len(distributions_df)):\n",
    "            if i != j:\n",
    "                model.addConstr(\n",
    "                    x[i, j, k] <= y[i] - demand_scenarios[i, k],\n",
    "                    name=f\"transship_limit_{i}_{j}_{k}\"\n",
    "                )"
   ]
  },
  {
   "cell_type": "code",
   "execution_count": 11,
   "metadata": {},
   "outputs": [
    {
     "name": "stdout",
     "output_type": "stream",
     "text": [
      "Gurobi Optimizer version 11.0.0 build v11.0.0rc2 (mac64[arm] - Darwin 23.0.0 23A344)\n",
      "\n",
      "CPU model: Apple M1\n",
      "Thread count: 8 physical cores, 8 logical processors, using up to 8 threads\n",
      "\n",
      "Optimize a model with 225000 rows, 225015 columns and 645000 nonzeros\n",
      "Model fingerprint: 0x5dd5eb43\n",
      "Coefficient statistics:\n",
      "  Matrix range     [1e+00, 1e+00]\n",
      "  Objective range  [1e+00, 2e+01]\n",
      "  Bounds range     [0e+00, 0e+00]\n",
      "  RHS range        [4e+01, 1e+02]\n",
      "Presolve removed 225000 rows and 225015 columns\n",
      "Presolve time: 0.10s\n",
      "Presolve: All rows and columns removed\n",
      "Iteration    Objective       Primal Inf.    Dual Inf.      Time\n",
      "       0    3.8101960e+04   0.000000e+00   0.000000e+00      0s\n",
      "\n",
      "Solved in 0 iterations and 0.15 seconds (0.24 work units)\n",
      "Optimal objective  3.810196000e+04\n"
     ]
    }
   ],
   "source": [
    "# Solve the model\n",
    "model.optimize()"
   ]
  },
  {
   "cell_type": "code",
   "execution_count": 12,
   "metadata": {},
   "outputs": [
    {
     "name": "stdout",
     "output_type": "stream",
     "text": [
      "Optimal value (total cost): $ 38101.96000000001\n",
      "Order quantities (y_i):\n",
      "Retailer 1: 104.00 units\n",
      "Retailer 2: 68.00 units\n",
      "Retailer 3: 112.00 units\n",
      "Retailer 4: 84.00 units\n",
      "Retailer 5: 68.00 units\n",
      "Retailer 6: 77.00 units\n",
      "Retailer 7: 126.00 units\n",
      "Retailer 8: 119.00 units\n",
      "Retailer 9: 102.00 units\n",
      "Retailer 10: 109.00 units\n",
      "Retailer 11: 94.00 units\n",
      "Retailer 12: 110.00 units\n",
      "Retailer 13: 121.00 units\n",
      "Retailer 14: 133.00 units\n",
      "Retailer 15: 132.00 units\n"
     ]
    }
   ],
   "source": [
    "# Output results\n",
    "if model.status == GRB.OPTIMAL:\n",
    "    print(\"Optimal value (total cost): $\", model.ObjVal)\n",
    "    print(\"Order quantities (y_i):\")\n",
    "    for i in range(len(distributions_df)):\n",
    "        print(f\"Retailer {i+1}: {y[i].X:.2f} units\")\n",
    "else:\n",
    "    print(\"No optimal solution found.\")"
   ]
  },
  {
   "cell_type": "code",
   "execution_count": 13,
   "metadata": {},
   "outputs": [
    {
     "name": "stdout",
     "output_type": "stream",
     "text": [
      "Unsold Inventory Cost per unit: $2.44\n",
      "Opportunity Cost of Excess Inventory per unit: $25.55\n"
     ]
    }
   ],
   "source": [
    "# Constants\n",
    "selling_price = 49.99  # as given previously\n",
    "ordering_cost = 24.44  # as given previously\n",
    "\n",
    "# Assume unsold inventory cost is a certain percentage of the ordering cost\n",
    "# and opportunity cost as the missed profit on lost sales\n",
    "percentage_of_ordering_cost = 0.1  # this percentage should be defined based on your case\n",
    "unsold_inventory_cost = percentage_of_ordering_cost * ordering_cost\n",
    "\n",
    "# Opportunity cost is the selling price minus the cost of goods sold per unit\n",
    "opportunity_cost = selling_price - ordering_cost\n",
    "\n",
    "# Print the calculated costs\n",
    "print(f\"Unsold Inventory Cost per unit: ${unsold_inventory_cost:.2f}\")\n",
    "print(f\"Opportunity Cost of Excess Inventory per unit: ${opportunity_cost:.2f}\")"
   ]
  },
  {
   "cell_type": "code",
   "execution_count": 19,
   "metadata": {},
   "outputs": [
    {
     "name": "stdout",
     "output_type": "stream",
     "text": [
      "Average cost associated with the optimal plan: $33885.47\n"
     ]
    }
   ],
   "source": [
    "import gurobipy as gp\n",
    "from gurobipy import GRB\n",
    "import numpy as np\n",
    "import pandas as pd\n",
    "\n",
    "# Load the distributions data\n",
    "distributions_df = pd.read_csv('/Users/mahinbindra/Downloads/distributions.csv')\n",
    "\n",
    "# Constants\n",
    "selling_price = 49.99\n",
    "ordering_cost = 24.44\n",
    "unsold_inventory_cost_percentage = 0.1  # Assumed or based on your case\n",
    "unsold_inventory_cost = unsold_inventory_cost_percentage * ordering_cost\n",
    "opportunity_cost = selling_price - ordering_cost\n",
    "\n",
    "# Parameters for Monte Carlo simulation\n",
    "num_trials = 50\n",
    "num_scenarios = 100\n",
    "np.random.seed(0)  # For reproducibility\n",
    "\n",
    "# Generate demand scenarios once to avoid re-generation in each trial\n",
    "all_demand_scenarios = [\n",
    "    np.random.binomial(n=row['n'], p=row['p'], size=(num_trials, num_scenarios))\n",
    "    for index, row in distributions_df.iterrows()\n",
    "]\n",
    "\n",
    "def perform_trial(trial_index, demand_scenarios):\n",
    "    # Initialize Gurobi model\n",
    "    model = gp.Model(\"Retailer_Order_Quantity_Optimization\")\n",
    "    model.setParam('OutputFlag', 0)  # Turn off Gurobi output\n",
    "\n",
    "    # Decision variable: order quantity for each retailer\n",
    "    y = model.addVars(len(distributions_df), lb=0, vtype=GRB.CONTINUOUS, name=\"order_qty\")\n",
    "\n",
    "    # Calculate expected cost for this trial\n",
    "    cost_expr = ordering_cost * gp.quicksum(y[i] for i in range(len(distributions_df)))  # Ordering cost\n",
    "\n",
    "    # Iterate through each scenario in this trial to calculate the opportunity and unsold inventory costs\n",
    "    for i in range(len(distributions_df)):\n",
    "        scenario_costs = 0\n",
    "        for k in range(num_scenarios):\n",
    "            demand = demand_scenarios[i][trial_index, k]\n",
    "            excess_demand = model.addVar(lb=0, ub=GRB.INFINITY, name=\"excess_demand_{}_{}_{}\".format(i, trial_index, k))\n",
    "            model.addConstr(excess_demand >= demand - y[i])\n",
    "            unsold_inventory = model.addVar(lb=0, ub=GRB.INFINITY, name=\"unsold_inventory_{}_{}_{}\".format(i, trial_index, k))\n",
    "            model.addConstr(unsold_inventory >= y[i] - demand)\n",
    "            \n",
    "            scenario_costs += (unsold_inventory * unsold_inventory_cost + excess_demand * opportunity_cost)\n",
    "\n",
    "        cost_expr += scenario_costs / num_scenarios\n",
    "\n",
    "    model.setObjective(cost_expr, GRB.MINIMIZE)\n",
    "\n",
    "    # Solve the model\n",
    "    model.optimize()\n",
    "\n",
    "    # Return the total cost for this trial\n",
    "    return model.ObjVal if model.status == GRB.OPTIMAL else None\n",
    "\n",
    "# Perform all trials and compute the average cost\n",
    "total_costs = [perform_trial(trial, all_demand_scenarios) for trial in range(num_trials)]\n",
    "average_cost = np.mean(total_costs)\n",
    "\n",
    "print(f\"Average cost associated with the optimal plan: ${average_cost:.2f}\")\n"
   ]
  },
  {
   "cell_type": "code",
   "execution_count": 23,
   "metadata": {},
   "outputs": [
    {
     "name": "stdout",
     "output_type": "stream",
     "text": [
      "Average cost associated with the optimal plan: $35818.62\n"
     ]
    }
   ],
   "source": [
    "import gurobipy as gp\n",
    "from gurobipy import GRB\n",
    "import numpy as np\n",
    "import pandas as pd\n",
    "\n",
    "# Load the data\n",
    "distributions_df = pd.read_csv('/Users/mahinbindra/Downloads/distributions.csv')\n",
    "cost_matrix_df = pd.read_csv('/Users/mahinbindra/Downloads/cost_matrix.csv')\n",
    "\n",
    "# Constants\n",
    "ordering_cost = 24.44\n",
    "unsold_inventory_cost_percentage = 0.1\n",
    "unsold_inventory_cost = unsold_inventory_cost_percentage * ordering_cost\n",
    "selling_price = 49.99\n",
    "opportunity_cost = selling_price - ordering_cost\n",
    "\n",
    "# Parameters for Monte Carlo simulation\n",
    "num_trials = 50\n",
    "num_scenarios = 100\n",
    "np.random.seed(0)  # For reproducibility\n",
    "\n",
    "# Generate demand scenarios once to avoid re-generation in each trial\n",
    "all_demand_scenarios = np.array([\n",
    "    np.random.binomial(n=row['n'], p=row['p'], size=(num_trials, num_scenarios))\n",
    "    for index, row in distributions_df.iterrows()\n",
    "])\n",
    "\n",
    "def perform_trial(trial_index, demand_scenarios, cost_matrix):\n",
    "    num_retailers = len(distributions_df)\n",
    "    model = gp.Model(\"Retailer_Order_and_Transshipment_Optimization\")\n",
    "    model.setParam('OutputFlag', 0)  # Turn off Gurobi output\n",
    "\n",
    "    y = model.addVars(num_retailers, lb=0, vtype=GRB.CONTINUOUS, name=\"order_qty\")\n",
    "    x = model.addVars(num_retailers, num_retailers, num_scenarios, lb=0, vtype=GRB.CONTINUOUS, name=\"transshipment_qty\")\n",
    "\n",
    "    # Calculate the total cost\n",
    "    order_cost = ordering_cost * gp.quicksum(y[i] for i in range(num_retailers))\n",
    "    transshipment_cost = gp.quicksum(cost_matrix.iloc[i, j] * x[i, j, k] for i in range(num_retailers) for j in range(num_retailers) if i != j for k in range(num_scenarios))\n",
    "\n",
    "    total_cost = order_cost + transshipment_cost\n",
    "\n",
    "    # Constraints for demand fulfillment across scenarios\n",
    "    for k in range(num_scenarios):\n",
    "        for i in range(num_retailers):\n",
    "            demand = demand_scenarios[i][trial_index, k]\n",
    "            model.addConstr(\n",
    "                y[i] + gp.quicksum(x[j, i, k] for j in range(num_retailers) if j != i) \n",
    "                - gp.quicksum(x[i, j, k] for j in range(num_retailers) if i != j) >= demand,\n",
    "                name=f\"demand_fulfill_{i}_{k}\"\n",
    "            )\n",
    "\n",
    "    model.setObjective(total_cost, GRB.MINIMIZE)\n",
    "\n",
    "    model.optimize()\n",
    "\n",
    "    return model.ObjVal if model.status == GRB.OPTIMAL else None\n",
    "\n",
    "# Assuming all_demand_scenarios and cost_matrix_df are already defined\n",
    "total_costs = [perform_trial(trial, all_demand_scenarios, cost_matrix_df) for trial in range(num_trials)]\n",
    "average_cost = np.mean([cost for cost in total_costs if cost is not None])\n",
    "\n",
    "print(f\"Average cost associated with the optimal plan: ${average_cost:.2f}\")\n",
    "\n",
    "\n"
   ]
  },
  {
   "cell_type": "code",
   "execution_count": null,
   "metadata": {},
   "outputs": [],
   "source": []
  }
 ],
 "metadata": {
  "kernelspec": {
   "display_name": "Python 3",
   "language": "python",
   "name": "python3"
  },
  "language_info": {
   "codemirror_mode": {
    "name": "ipython",
    "version": 3
   },
   "file_extension": ".py",
   "mimetype": "text/x-python",
   "name": "python",
   "nbconvert_exporter": "python",
   "pygments_lexer": "ipython3",
   "version": "3.10.11"
  }
 },
 "nbformat": 4,
 "nbformat_minor": 2
}
