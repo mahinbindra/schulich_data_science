{
 "cells": [
  {
   "cell_type": "code",
   "execution_count": 14,
   "metadata": {},
   "outputs": [],
   "source": [
    "from gurobipy import Model, GRB"
   ]
  },
  {
   "cell_type": "code",
   "execution_count": 15,
   "metadata": {},
   "outputs": [],
   "source": [
    "# Create a new model\n",
    "m = Model(\"mckenna_logistics\")"
   ]
  },
  {
   "cell_type": "code",
   "execution_count": 16,
   "metadata": {},
   "outputs": [],
   "source": [
    "# Decision variables\n",
    "# x[i, j] for heavy, y[i, j] for medium, z[i, j] for light, where i is the pallet number and j is the truck number\n",
    "x = m.addVars(7, 9, vtype=GRB.BINARY, name='x')  # Heavy pallets\n",
    "y = m.addVars(6, 9, vtype=GRB.BINARY, name='y')  # Medium pallets\n",
    "z = m.addVars(5, 9, vtype=GRB.BINARY, name='z')  # Light pallets\n",
    "v = m.addVars(9, vtype=GRB.BINARY, name='v')     # Truck chosen"
   ]
  },
  {
   "cell_type": "code",
   "execution_count": 17,
   "metadata": {},
   "outputs": [],
   "source": [
    "# Costs per trip for each truck type\n",
    "costs = [5500, 4700, 3900]"
   ]
  },
  {
   "cell_type": "code",
   "execution_count": 18,
   "metadata": {},
   "outputs": [],
   "source": [
    "# Weight limits for each truck type\n",
    "weight_limits = [13.5, 12, 10]"
   ]
  },
  {
   "cell_type": "code",
   "execution_count": 19,
   "metadata": {},
   "outputs": [],
   "source": [
    "# Pallet weights\n",
    "pallet_weights = [4, 3, 0.5]  # Heavy, Medium, Light"
   ]
  },
  {
   "cell_type": "code",
   "execution_count": 20,
   "metadata": {},
   "outputs": [],
   "source": [
    "# Objective Function: Minimize the total cost of shipping\n",
    "m.setObjective(\n",
    "    sum(costs[j//3] * v[j] for j in range(9)),\n",
    "    GRB.MINIMIZE)"
   ]
  },
  {
   "cell_type": "code",
   "execution_count": 21,
   "metadata": {},
   "outputs": [],
   "source": [
    "# Constraints\n",
    "\n",
    "# Each pallet is assigned to exactly one truck\n",
    "for i in range(7):\n",
    "    m.addConstr(sum(x[i, j] for j in range(9)) == 1, f\"HeavyPalletAssign_{i}\")\n",
    "\n",
    "for i in range(6):\n",
    "    m.addConstr(sum(y[i, j] for j in range(9)) == 1, f\"MediumPalletAssign_{i}\")\n",
    "\n",
    "for i in range(5):\n",
    "    m.addConstr(sum(z[i, j] for j in range(9)) == 1, f\"LightPalletAssign_{i}\")\n",
    "\n",
    "# Truck weight limit constraint for each truck\n",
    "for j in range(9):\n",
    "    m.addConstr(\n",
    "        sum(4 * x[i, j] for i in range(7)) +\n",
    "        sum(3 * y[i, j] for i in range(6)) +\n",
    "        sum(0.5 * z[i, j] for i in range(5)) <= weight_limits[j//3] * v[j],\n",
    "        f\"WeightLimit_{j}\")\n",
    "\n",
    "# Truck utilization constraint\n",
    "# Ensure that if any pallet is assigned to a truck, that truck is marked as chosen\n",
    "for j in range(9):\n",
    "    m.addConstr(\n",
    "        sum(x[i, j] for i in range(7)) +\n",
    "        sum(y[i, j] for i in range(6)) +\n",
    "        sum(z[i, j] for i in range(5)) <= 18 * v[j],\n",
    "        f\"TruckUse_{j}\")\n",
    "\n",
    "# Each truck type can be used at most three times\n",
    "for t in range(3):\n",
    "    m.addConstr(\n",
    "        sum(v[3*t + k] for k in range(3)) <= 3,\n",
    "        f\"TruckTypeUse_{t}\")"
   ]
  },
  {
   "cell_type": "code",
   "execution_count": 22,
   "metadata": {},
   "outputs": [
    {
     "name": "stdout",
     "output_type": "stream",
     "text": [
      "Gurobi Optimizer version 11.0.0 build v11.0.0rc2 (mac64[arm] - Darwin 23.0.0 23A344)\n",
      "\n",
      "CPU model: Apple M1\n",
      "Thread count: 8 physical cores, 8 logical processors, using up to 8 threads\n",
      "\n",
      "Optimize a model with 39 rows, 171 columns and 513 nonzeros\n",
      "Model fingerprint: 0x03edde6b\n",
      "Variable types: 0 continuous, 171 integer (171 binary)\n",
      "Coefficient statistics:\n",
      "  Matrix range     [5e-01, 2e+01]\n",
      "  Objective range  [4e+03, 6e+03]\n",
      "  Bounds range     [1e+00, 1e+00]\n",
      "  RHS range        [1e+00, 3e+00]\n",
      "Found heuristic solution: objective 23500.000000\n",
      "Presolve removed 3 rows and 0 columns\n",
      "Presolve time: 0.00s\n",
      "Presolved: 36 rows, 171 columns, 504 nonzeros\n",
      "Variable types: 0 continuous, 171 integer (171 binary)\n",
      "\n",
      "Root relaxation: objective 1.894583e+04, 47 iterations, 0.00 seconds (0.00 work units)\n",
      "\n",
      "    Nodes    |    Current Node    |     Objective Bounds      |     Work\n",
      " Expl Unexpl |  Obj  Depth IntInf | Incumbent    BestBd   Gap | It/Node Time\n",
      "\n",
      "     0     0 18945.8333    0    9 23500.0000 18945.8333  19.4%     -    0s\n",
      "H    0     0                    21100.000000 18945.8333  10.2%     -    0s\n",
      "     0     0 18967.2840    0   19 21100.0000 18967.2840  10.1%     -    0s\n",
      "H    0     0                    19600.000000 19067.2072  2.72%     -    0s\n",
      "     0     0 19141.6665    0   17 19600.0000 19141.6665  2.34%     -    0s\n",
      "     0     0 19141.6665    0   16 19600.0000 19141.6665  2.34%     -    0s\n",
      "     0     0 19158.3333    0   19 19600.0000 19158.3333  2.25%     -    0s\n",
      "     0     0 19158.3333    0   24 19600.0000 19158.3333  2.25%     -    0s\n",
      "     0     0 19158.3333    0   24 19600.0000 19158.3333  2.25%     -    0s\n",
      "     0     0 19158.3333    0   22 19600.0000 19158.3333  2.25%     -    0s\n",
      "     0     0 19158.3333    0   24 19600.0000 19158.3333  2.25%     -    0s\n",
      "     0     0 19170.0000    0   22 19600.0000 19170.0000  2.19%     -    0s\n",
      "     0     0 19170.0000    0   30 19600.0000 19170.0000  2.19%     -    0s\n",
      "     0     0 19190.0000    0    6 19600.0000 19190.0000  2.09%     -    0s\n",
      "     0     0 19207.4074    0   15 19600.0000 19207.4074  2.00%     -    0s\n",
      "     0     0 19405.0000    0    5 19600.0000 19405.0000  0.99%     -    0s\n",
      "     0     0 19405.0000    0   11 19600.0000 19405.0000  0.99%     -    0s\n",
      "     0     0 19405.0000    0   15 19600.0000 19405.0000  0.99%     -    0s\n",
      "\n",
      "Cutting planes:\n",
      "  Gomory: 1\n",
      "  Cover: 8\n",
      "  Clique: 5\n",
      "  MIR: 11\n",
      "  StrongCG: 2\n",
      "  RLT: 3\n",
      "\n",
      "Explored 1 nodes (609 simplex iterations) in 0.05 seconds (0.02 work units)\n",
      "Thread count was 8 (of 8 available processors)\n",
      "\n",
      "Solution count 3: 19600 21100 23500 \n",
      "\n",
      "Optimal solution found (tolerance 1.00e-04)\n",
      "Best objective 1.960000000000e+04, best bound 1.960000000000e+04, gap 0.0000%\n"
     ]
    }
   ],
   "source": [
    "# Solve the model\n",
    "m.optimize()"
   ]
  },
  {
   "cell_type": "code",
   "execution_count": 23,
   "metadata": {},
   "outputs": [
    {
     "name": "stdout",
     "output_type": "stream",
     "text": [
      "x[0,4] = 1.0\n",
      "x[1,5] = 1.0\n",
      "x[2,5] = 1.0\n",
      "x[3,5] = 1.0\n",
      "x[4,4] = 1.0\n",
      "x[5,0] = 1.0\n",
      "x[6,3] = 1.0\n",
      "y[0,0] = 1.0\n",
      "y[1,0] = 1.0\n",
      "y[2,0] = 1.0\n",
      "y[3,3] = 1.0\n",
      "y[4,3] = 1.0\n",
      "y[5,4] = 1.0\n",
      "z[0,0] = 1.0\n",
      "z[1,3] = 1.0\n",
      "z[2,3] = 1.0\n",
      "z[3,3] = 1.0\n",
      "z[4,3] = 1.0\n",
      "v[0] = 1.0\n",
      "v[3] = 1.0\n",
      "v[4] = 1.0\n",
      "v[5] = 1.0\n"
     ]
    }
   ],
   "source": [
    "# Print the solution\n",
    "if m.status == GRB.OPTIMAL:\n",
    "    for var in m.getVars():\n",
    "        if var.x > 0:\n",
    "            print(f\"{var.varName} = {var.x}\")\n",
    "\n",
    "else:\n",
    "    print('No solution found')"
   ]
  },
  {
   "cell_type": "code",
   "execution_count": null,
   "metadata": {},
   "outputs": [],
   "source": []
  }
 ],
 "metadata": {
  "kernelspec": {
   "display_name": "Python 3",
   "language": "python",
   "name": "python3"
  },
  "language_info": {
   "codemirror_mode": {
    "name": "ipython",
    "version": 3
   },
   "file_extension": ".py",
   "mimetype": "text/x-python",
   "name": "python",
   "nbconvert_exporter": "python",
   "pygments_lexer": "ipython3",
   "version": "3.10.11"
  }
 },
 "nbformat": 4,
 "nbformat_minor": 2
}
