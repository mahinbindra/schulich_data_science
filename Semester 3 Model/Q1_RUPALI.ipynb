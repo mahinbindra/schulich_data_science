{
 "cells": [
  {
   "cell_type": "code",
   "execution_count": 1,
   "metadata": {},
   "outputs": [],
   "source": [
    "import gurobipy as gp\n",
    "import pandas as pd\n",
    "from gurobipy import GRB"
   ]
  },
  {
   "cell_type": "code",
   "execution_count": 2,
   "metadata": {},
   "outputs": [],
   "source": [
    "costs_data_new = pd.read_csv(\"/Users/mahinbindra/Downloads/costs.csv\")"
   ]
  },
  {
   "cell_type": "code",
   "execution_count": 3,
   "metadata": {},
   "outputs": [],
   "source": [
    "num_sites = costs_data_new.shape[0]\n",
    "total_units = 2900000"
   ]
  },
  {
   "cell_type": "code",
   "execution_count": 4,
   "metadata": {},
   "outputs": [],
   "source": [
    "# Fixed and variable costs per site\n",
    "fixed_costs = costs_data_new['Fixed'].tolist()\n",
    "variable_costs = costs_data_new['Variable'].tolist()"
   ]
  },
  {
   "cell_type": "code",
   "execution_count": 5,
   "metadata": {},
   "outputs": [
    {
     "name": "stdout",
     "output_type": "stream",
     "text": [
      "Set parameter Username\n",
      "Academic license - for non-commercial use only - expires 2025-01-15\n"
     ]
    }
   ],
   "source": [
    "from gurobipy import Model, GRB, quicksum\n",
    "\n",
    "# Create a new model\n",
    "model = Model(\"HealthLink Supplies Distribution\")"
   ]
  },
  {
   "cell_type": "code",
   "execution_count": 6,
   "metadata": {},
   "outputs": [],
   "source": [
    "# Decision variables\n",
    "# Binary variables for each site (1 if a warehouse is established, 0 otherwise)\n",
    "x = model.addVars(27, vtype=GRB.BINARY, name=\"x\")\n",
    "\n",
    "# Continuous variables for the number of units transported from Ottawa to each site\n",
    "y = model.addVars(27, lb=0, name=\"y\")"
   ]
  },
  {
   "cell_type": "code",
   "execution_count": 7,
   "metadata": {},
   "outputs": [],
   "source": [
    "# Objective function: Minimize the total cost\n",
    "obj = quicksum(fixed_costs[i] * x[i] + variable_costs[i] * y[i] for i in range(27))\n",
    "model.setObjective(obj, GRB.MINIMIZE)"
   ]
  },
  {
   "cell_type": "code",
   "execution_count": 8,
   "metadata": {},
   "outputs": [
    {
     "data": {
      "text/plain": [
       "<gurobi.Constr *Awaiting Model Update*>"
      ]
     },
     "execution_count": 8,
     "metadata": {},
     "output_type": "execute_result"
    }
   ],
   "source": [
    "model.addConstr(quicksum(y[i] for i in range(27)) <= 2900000, \"supply_constraint\")\n",
    "\n",
    "# Constraint 2: Demand constraints (using a large number M)\n",
    "M = 1000000  # Adjust M based on the context, it should be larger than the maximum possible demand\n",
    "for i in range(27):\n",
    "    model.addConstr(y[i] <= M * x[i], f\"demand_constraint_{i+1}\")\n",
    "    \n",
    "# Constraint 5: Storage capacity constraints\n",
    "for i in range(27):\n",
    "    model.addConstr(175000 * x[i] <= y[i], f\"min_storage_{i+1}\")\n",
    "    model.addConstr(y[i] <= 375000 * x[i], f\"max_storage_{i+1}\")\n",
    "\n",
    "# Constraint 6: Location choice constraints\n",
    "# At least four locations must be chosen among sites 6-16\n",
    "model.addConstr(quicksum(x[i] for i in range(5, 16)) >= 4, \"min_locations_6_16\")\n",
    "\n",
    "# No more than 6 locations must be chosen among the even-numbered sites\n",
    "model.addConstr(quicksum(x[i] for i in range(1, 27, 2)) <= 6, \"max_even_locations\")\n",
    "\n",
    "# If location 1 or 2 is chosen, then sites 5, 6, and 7 cannot be chosen\n",
    "model.addConstr(x[0] + x[1] <= 1 - x[4], \"exclusion_1_2_5\")\n",
    "model.addConstr(x[0] + x[1] <= 1 - x[5], \"exclusion_1_2_6\")\n",
    "model.addConstr(x[0] + x[1] <= 1 - x[6], \"exclusion_1_2_7\")\n",
    "\n",
    "\n",
    "# If any location from 19-22 is chosen, locations 24, 26, and 27 cannot be chosen\n",
    "model.addConstr(quicksum(x[i] for i in range(18, 22)) <= 1 - x[23], \"exclusion_19_22_24\")\n",
    "model.addConstr(quicksum(x[i] for i in range(18, 22)) <= 1 - x[25], \"exclusion_19_22_26\")\n",
    "model.addConstr(quicksum(x[i] for i in range(18, 22)) <= 1 - x[26], \"exclusion_19_22_27\")\n",
    "\n",
    "\n",
    "# If any location from 1-5 is chosen, at least one odd site from 21-27 must be chosen\n",
    "model.addConstr(quicksum(x[i] for i in range(5)) <= quicksum(x[i] for i in range(20, 27, 2)), \"odd_site_requirement_1_5\")\n",
    "\n",
    "model.addConstr(quicksum(x[i] for i in range(14)) == quicksum(x[i] for i in range(14, 27)), \"equal_locations_1_14_15_27\")\n",
    "model.addConstr(quicksum(y[i] for i in range(9)) == quicksum(y[i] for i in range(18, 27)), \"equal_units_1_9_19_27\")"
   ]
  },
  {
   "cell_type": "code",
   "execution_count": 9,
   "metadata": {},
   "outputs": [
    {
     "name": "stdout",
     "output_type": "stream",
     "text": [
      "Gurobi Optimizer version 11.0.0 build v11.0.0rc2 (mac64[arm] - Darwin 23.0.0 23A344)\n",
      "\n",
      "CPU model: Apple M1\n",
      "Thread count: 8 physical cores, 8 logical processors, using up to 8 threads\n",
      "\n",
      "Optimize a model with 93 rows, 54 columns and 291 nonzeros\n",
      "Model fingerprint: 0x242ab608\n",
      "Variable types: 27 continuous, 27 integer (27 binary)\n",
      "Coefficient statistics:\n",
      "  Matrix range     [1e+00, 1e+06]\n",
      "  Objective range  [2e-01, 3e+06]\n",
      "  Bounds range     [1e+00, 1e+00]\n",
      "  RHS range        [1e+00, 3e+06]\n",
      "Presolve removed 45 rows and 9 columns\n",
      "Presolve time: 0.00s\n",
      "Presolved: 48 rows, 45 columns, 192 nonzeros\n",
      "Variable types: 18 continuous, 27 integer (27 binary)\n",
      "Found heuristic solution: objective 1.085550e+07\n",
      "\n",
      "Root relaxation: objective 6.765500e+06, 14 iterations, 0.00 seconds (0.00 work units)\n",
      "\n",
      "    Nodes    |    Current Node    |     Objective Bounds      |     Work\n",
      " Expl Unexpl |  Obj  Depth IntInf | Incumbent    BestBd   Gap | It/Node Time\n",
      "\n",
      "*    0     0               0    6765500.0000 6765500.00  0.00%     -    0s\n",
      "\n",
      "Explored 1 nodes (14 simplex iterations) in 0.05 seconds (0.00 work units)\n",
      "Thread count was 8 (of 8 available processors)\n",
      "\n",
      "Solution count 2: 6.7655e+06 1.08555e+07 \n",
      "\n",
      "Optimal solution found (tolerance 1.00e-04)\n",
      "Best objective 6.765500000000e+06, best bound 6.765500000000e+06, gap 0.0000%\n"
     ]
    }
   ],
   "source": [
    "# Optimize the model\n",
    "model.optimize()"
   ]
  },
  {
   "cell_type": "code",
   "execution_count": 10,
   "metadata": {},
   "outputs": [
    {
     "name": "stdout",
     "output_type": "stream",
     "text": [
      "Optimal solution found!\n",
      "Selected locations: [11, 13, 15, 16]\n",
      "Units transported to location 11: 175000.0\n",
      "Units transported to location 13: 175000.0\n",
      "Units transported to location 15: 175000.0\n",
      "Units transported to location 16: 175000.0\n"
     ]
    }
   ],
   "source": [
    "# Check if an optimal solution is found\n",
    "if model.status == GRB.OPTIMAL:\n",
    "    print(\"Optimal solution found!\")\n",
    "    # Print the selected locations and the number of units transported\n",
    "    selected_locations = [i + 1 for i in range(27) if x[i].X > 0.5]\n",
    "    print(\"Selected locations:\", selected_locations)\n",
    "    for i in selected_locations:\n",
    "        print(f\"Units transported to location {i}: {y[i-1].X}\")\n",
    "else:\n",
    "    print(\"No optimal solution found.\")"
   ]
  },
  {
   "cell_type": "code",
   "execution_count": null,
   "metadata": {},
   "outputs": [],
   "source": []
  }
 ],
 "metadata": {
  "kernelspec": {
   "display_name": "Python 3",
   "language": "python",
   "name": "python3"
  },
  "language_info": {
   "codemirror_mode": {
    "name": "ipython",
    "version": 3
   },
   "file_extension": ".py",
   "mimetype": "text/x-python",
   "name": "python",
   "nbconvert_exporter": "python",
   "pygments_lexer": "ipython3",
   "version": "3.10.11"
  }
 },
 "nbformat": 4,
 "nbformat_minor": 2
}
