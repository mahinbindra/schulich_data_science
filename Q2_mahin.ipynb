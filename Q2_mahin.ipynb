{
 "cells": [
  {
   "cell_type": "code",
   "execution_count": 49,
   "metadata": {},
   "outputs": [],
   "source": [
    "import gurobipy as gp\n",
    "from gurobipy import GRB\n",
    "import numpy as np\n",
    "import pandas as pd"
   ]
  },
  {
   "cell_type": "code",
   "execution_count": 37,
   "metadata": {},
   "outputs": [],
   "source": [
    "# Load the data\n",
    "cost_matrix_df = pd.read_csv('/Users/mahinbindra/Downloads/cost_matrix.csv')\n",
    "distributions_df = pd.read_csv('/Users/mahinbindra/Downloads/distributions.csv')"
   ]
  },
  {
   "cell_type": "code",
   "execution_count": 38,
   "metadata": {},
   "outputs": [],
   "source": [
    "# Convert cost matrix to a NumPy array for easier access\n",
    "cost_matrix = cost_matrix_df.to_numpy()"
   ]
  },
  {
   "cell_type": "code",
   "execution_count": 50,
   "metadata": {},
   "outputs": [],
   "source": [
    "# Constants\n",
    "ordering_cost = 24.44\n",
    "num_scenarios = 1000  # Number of Monte Carlo simulations\n",
    "np.random.seed(0)  # For reproducibility"
   ]
  },
  {
   "cell_type": "code",
   "execution_count": 51,
   "metadata": {},
   "outputs": [],
   "source": [
    "# Generate demand scenarios using Monte Carlo simulation\n",
    "demand_scenarios = np.array([\n",
    "    np.random.binomial(n=row['n'], p=row['p'], size=num_scenarios)\n",
    "    for index, row in distributions_df.iterrows()\n",
    "])"
   ]
  },
  {
   "cell_type": "code",
   "execution_count": 52,
   "metadata": {},
   "outputs": [],
   "source": [
    "# Initialize Gurobi model\n",
    "model = gp.Model(\"Two_Stage_Stochastic_Baffin_Bay_Retail_Network\")"
   ]
  },
  {
   "cell_type": "code",
   "execution_count": 53,
   "metadata": {},
   "outputs": [],
   "source": [
    "# First stage decision variables: initial order quantities\n",
    "y = model.addVars(len(distributions_df), lb=0, vtype=GRB.CONTINUOUS, name=\"order_qty\")"
   ]
  },
  {
   "cell_type": "code",
   "execution_count": 54,
   "metadata": {},
   "outputs": [],
   "source": [
    "# Second stage decision variables: transshipment quantities for each scenario\n",
    "x = model.addVars(len(distributions_df), len(distributions_df), num_scenarios, lb=0, vtype=GRB.CONTINUOUS, name=\"transshipment\")"
   ]
  },
  {
   "cell_type": "code",
   "execution_count": 55,
   "metadata": {},
   "outputs": [],
   "source": [
    "# Objective function: Minimize total cost\n",
    "total_cost = ordering_cost * gp.quicksum(y[i] for i in range(len(distributions_df))) + \\\n",
    "             gp.quicksum(cost_matrix[i, j] * x[i, j, k] for i in range(len(distributions_df)) \n",
    "                         for j in range(len(distributions_df)) if i != j for k in range(num_scenarios))\n",
    "model.setObjective(total_cost, GRB.MINIMIZE)"
   ]
  },
  {
   "cell_type": "code",
   "execution_count": 57,
   "metadata": {},
   "outputs": [],
   "source": [
    "# Constraints\n",
    "for k in range(num_scenarios):\n",
    "    for i in range(len(distributions_df)):\n",
    "        # Ensure demand is met in each scenario\n",
    "        model.addConstr(\n",
    "            y[i] + gp.quicksum(x[j, i, k] for j in range(len(distributions_df)) if j != i) >= demand_scenarios[i, k],\n",
    "            name=f\"demand_met_{i}_{k}\"\n",
    "        )\n",
    "        # Transshipment limits based on ordered quantities and scenario demands\n",
    "        for j in range(len(distributions_df)):\n",
    "            if i != j:\n",
    "                model.addConstr(\n",
    "                    x[i, j, k] <= y[i] - demand_scenarios[i, k],\n",
    "                    name=f\"transship_limit_{i}_{j}_{k}\"\n",
    "                )"
   ]
  },
  {
   "cell_type": "code",
   "execution_count": 58,
   "metadata": {},
   "outputs": [
    {
     "name": "stdout",
     "output_type": "stream",
     "text": [
      "Gurobi Optimizer version 11.0.0 build v11.0.0rc2 (mac64[arm] - Darwin 23.0.0 23A344)\n",
      "\n",
      "CPU model: Apple M1\n",
      "Thread count: 8 physical cores, 8 logical processors, using up to 8 threads\n",
      "\n",
      "Optimize a model with 450000 rows, 225015 columns and 1290000 nonzeros\n",
      "Model fingerprint: 0x858fbcbc\n",
      "Coefficient statistics:\n",
      "  Matrix range     [1e+00, 1e+00]\n",
      "  Objective range  [1e+00, 2e+01]\n",
      "  Bounds range     [0e+00, 0e+00]\n",
      "  RHS range        [4e+01, 1e+02]\n",
      "Presolve removed 450000 rows and 225015 columns\n",
      "Presolve time: 0.20s\n",
      "Presolve: All rows and columns removed\n",
      "Iteration    Objective       Primal Inf.    Dual Inf.      Time\n",
      "       0    3.8101960e+04   0.000000e+00   0.000000e+00      0s\n",
      "\n",
      "Solved in 0 iterations and 0.30 seconds (0.45 work units)\n",
      "Optimal objective  3.810196000e+04\n"
     ]
    }
   ],
   "source": [
    "# Solve the model\n",
    "model.optimize()"
   ]
  },
  {
   "cell_type": "code",
   "execution_count": 59,
   "metadata": {},
   "outputs": [
    {
     "name": "stdout",
     "output_type": "stream",
     "text": [
      "Optimal value (total cost): $ 38101.96000000001\n",
      "Order quantities (y_i):\n",
      "Retailer 1: 104.00 units\n",
      "Retailer 2: 68.00 units\n",
      "Retailer 3: 112.00 units\n",
      "Retailer 4: 84.00 units\n",
      "Retailer 5: 68.00 units\n",
      "Retailer 6: 77.00 units\n",
      "Retailer 7: 126.00 units\n",
      "Retailer 8: 119.00 units\n",
      "Retailer 9: 102.00 units\n",
      "Retailer 10: 109.00 units\n",
      "Retailer 11: 94.00 units\n",
      "Retailer 12: 110.00 units\n",
      "Retailer 13: 121.00 units\n",
      "Retailer 14: 133.00 units\n",
      "Retailer 15: 132.00 units\n"
     ]
    }
   ],
   "source": [
    "# Output results\n",
    "if model.status == GRB.OPTIMAL:\n",
    "    print(\"Optimal value (total cost): $\", model.ObjVal)\n",
    "    print(\"Order quantities (y_i):\")\n",
    "    for i in range(len(distributions_df)):\n",
    "        print(f\"Retailer {i+1}: {y[i].X:.2f} units\")\n",
    "else:\n",
    "    print(\"No optimal solution found.\")"
   ]
  },
  {
   "cell_type": "code",
   "execution_count": null,
   "metadata": {},
   "outputs": [],
   "source": []
  }
 ],
 "metadata": {
  "kernelspec": {
   "display_name": "Python 3",
   "language": "python",
   "name": "python3"
  },
  "language_info": {
   "codemirror_mode": {
    "name": "ipython",
    "version": 3
   },
   "file_extension": ".py",
   "mimetype": "text/x-python",
   "name": "python",
   "nbconvert_exporter": "python",
   "pygments_lexer": "ipython3",
   "version": "3.10.11"
  }
 },
 "nbformat": 4,
 "nbformat_minor": 2
}
