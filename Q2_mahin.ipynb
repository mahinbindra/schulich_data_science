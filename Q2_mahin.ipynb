{
 "cells": [
  {
   "cell_type": "code",
   "execution_count": 2,
   "metadata": {},
   "outputs": [],
   "source": [
    "import gurobipy as gp\n",
    "from gurobipy import GRB\n",
    "import numpy as np\n",
    "import pandas as pd"
   ]
  },
  {
   "cell_type": "code",
   "execution_count": 3,
   "metadata": {},
   "outputs": [],
   "source": [
    "# Load the data\n",
    "cost_matrix = pd.read_csv('/Users/mahinbindra/Downloads/cost_matrix.csv').to_numpy()\n",
    "distributions = pd.read_csv('/Users/mahinbindra/Downloads/distributions.csv')"
   ]
  },
  {
   "cell_type": "code",
   "execution_count": 4,
   "metadata": {},
   "outputs": [
    {
     "name": "stdout",
     "output_type": "stream",
     "text": [
      "Set parameter Username\n",
      "Academic license - for non-commercial use only - expires 2025-01-15\n"
     ]
    }
   ],
   "source": [
    "# Set up the model\n",
    "model = gp.Model(\"Baffin_Bay_Retail_Network\")"
   ]
  },
  {
   "cell_type": "code",
   "execution_count": 5,
   "metadata": {},
   "outputs": [],
   "source": [
    "# Number of retailers\n",
    "n = len(distributions)"
   ]
  },
  {
   "cell_type": "code",
   "execution_count": 6,
   "metadata": {},
   "outputs": [],
   "source": [
    "# Constants\n",
    "selling_price = 49.99\n",
    "ordering_cost = 24.44"
   ]
  },
  {
   "cell_type": "code",
   "execution_count": 7,
   "metadata": {},
   "outputs": [],
   "source": [
    "# Decision variables\n",
    "y = model.addVars(n, vtype=GRB.CONTINUOUS, name=\"y\")\n",
    "x = model.addVars(n, n, vtype=GRB.CONTINUOUS, name=\"x\")"
   ]
  },
  {
   "cell_type": "code",
   "execution_count": 8,
   "metadata": {},
   "outputs": [],
   "source": [
    "# Objective function\n",
    "revenue = gp.quicksum(selling_price * distributions['Mean'][i] - ordering_cost * y[i] for i in range(n))\n",
    "transshipment_cost = gp.quicksum(cost_matrix[i, j] * x[i, j] for i in range(n) for j in range(n) if i != j)\n",
    "model.setObjective(revenue - transshipment_cost, GRB.MAXIMIZE)"
   ]
  },
  {
   "cell_type": "code",
   "execution_count": 9,
   "metadata": {},
   "outputs": [],
   "source": [
    "# Constraints\n",
    "# Each retailer's order should at least meet the expected demand minus the amount it transships to others\n",
    "for i in range(n):\n",
    "    model.addConstr(y[i] + gp.quicksum(x[j, i] for j in range(n) if j != i) >= distributions['Mean'][i])\n",
    "\n",
    "# Transshipment from a retailer cannot exceed its excess over its own demand\n",
    "for i in range(n):\n",
    "    for j in range(n):\n",
    "        if i != j:\n",
    "            model.addConstr(x[i, j] <= y[i] - distributions['Mean'][i])"
   ]
  },
  {
   "cell_type": "code",
   "execution_count": 10,
   "metadata": {},
   "outputs": [
    {
     "name": "stdout",
     "output_type": "stream",
     "text": [
      "Gurobi Optimizer version 11.0.0 build v11.0.0rc2 (mac64[arm] - Darwin 23.0.0 23A344)\n",
      "\n",
      "CPU model: Apple M1\n",
      "Thread count: 8 physical cores, 8 logical processors, using up to 8 threads\n",
      "\n",
      "Optimize a model with 225 rows, 240 columns and 645 nonzeros\n",
      "Model fingerprint: 0x69f646eb\n",
      "Coefficient statistics:\n",
      "  Matrix range     [1e+00, 1e+00]\n",
      "  Objective range  [1e+00, 2e+01]\n",
      "  Bounds range     [0e+00, 0e+00]\n",
      "  RHS range        [5e+01, 1e+02]\n",
      "Presolve removed 0 rows and 15 columns\n",
      "Presolve time: 0.01s\n",
      "Presolved: 225 rows, 225 columns, 645 nonzeros\n",
      "\n",
      "Iteration    Objective       Primal Inf.    Dual Inf.      Time\n",
      "       0    3.5267443e+04   0.000000e+00   0.000000e+00      0s\n",
      "       0    3.5267443e+04   0.000000e+00   0.000000e+00      0s\n",
      "\n",
      "Solved in 0 iterations and 0.01 seconds (0.00 work units)\n",
      "Optimal objective  3.526744315e+04\n"
     ]
    }
   ],
   "source": [
    "# Solve the model\n",
    "model.optimize()"
   ]
  },
  {
   "cell_type": "code",
   "execution_count": 11,
   "metadata": {},
   "outputs": [
    {
     "name": "stdout",
     "output_type": "stream",
     "text": [
      "Optimal value (profit): $ 35267.443152940985\n",
      "Order quantities (y_i):\n",
      "Retailer 1: 89.89 units\n",
      "Retailer 2: 51.82 units\n",
      "Retailer 3: 99.10 units\n",
      "Retailer 4: 66.75 units\n",
      "Retailer 5: 53.45 units\n",
      "Retailer 6: 61.77 units\n",
      "Retailer 7: 114.65 units\n",
      "Retailer 8: 110.04 units\n",
      "Retailer 9: 99.58 units\n",
      "Retailer 10: 98.32 units\n",
      "Retailer 11: 82.44 units\n",
      "Retailer 12: 95.27 units\n",
      "Retailer 13: 120.12 units\n",
      "Retailer 14: 121.85 units\n",
      "Retailer 15: 115.28 units\n"
     ]
    }
   ],
   "source": [
    "# Output results\n",
    "if model.status == GRB.OPTIMAL:\n",
    "    print(\"Optimal value (profit): $\", model.ObjVal)\n",
    "    print(\"Order quantities (y_i):\")\n",
    "    for i in range(n):\n",
    "        print(f\"Retailer {i+1}: {y[i].X:.2f} units\")"
   ]
  },
  {
   "cell_type": "code",
   "execution_count": null,
   "metadata": {},
   "outputs": [],
   "source": []
  }
 ],
 "metadata": {
  "kernelspec": {
   "display_name": "Python 3",
   "language": "python",
   "name": "python3"
  },
  "language_info": {
   "codemirror_mode": {
    "name": "ipython",
    "version": 3
   },
   "file_extension": ".py",
   "mimetype": "text/x-python",
   "name": "python",
   "nbconvert_exporter": "python",
   "pygments_lexer": "ipython3",
   "version": "3.10.11"
  }
 },
 "nbformat": 4,
 "nbformat_minor": 2
}
