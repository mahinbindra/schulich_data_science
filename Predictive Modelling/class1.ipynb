{
 "cells": [
  {
   "cell_type": "code",
   "execution_count": 2,
   "metadata": {},
   "outputs": [
    {
     "ename": "ModuleNotFoundError",
     "evalue": "No module named 'oct2py'",
     "output_type": "error",
     "traceback": [
      "\u001b[0;31m---------------------------------------------------------------------------\u001b[0m",
      "\u001b[0;31mModuleNotFoundError\u001b[0m                       Traceback (most recent call last)",
      "Cell \u001b[0;32mIn[2], line 8\u001b[0m\n\u001b[1;32m      6\u001b[0m \u001b[39mimport\u001b[39;00m \u001b[39mmatplotlib\u001b[39;00m\u001b[39m.\u001b[39;00m\u001b[39mpyplot\u001b[39;00m \u001b[39mas\u001b[39;00m \u001b[39mplt\u001b[39;00m\n\u001b[1;32m      7\u001b[0m \u001b[39mimport\u001b[39;00m \u001b[39mmatplotlib\u001b[39;00m \u001b[39mas\u001b[39;00m \u001b[39mmlt\u001b[39;00m\n\u001b[0;32m----> 8\u001b[0m \u001b[39mimport\u001b[39;00m \u001b[39moct2py\u001b[39;00m \u001b[39mas\u001b[39;00m \u001b[39moclib\u001b[39;00m\n",
      "\u001b[0;31mModuleNotFoundError\u001b[0m: No module named 'oct2py'"
     ]
    }
   ],
   "source": [
    "import numpy as np\n",
    "import pandas as pd\n",
    "import sklearn as sl\n",
    "import scipy as sp\n",
    "import seaborn as sns\n",
    "import matplotlib.pyplot as plt\n",
    "import matplotlib as mlt\n",
    "import oct2py as oclib\n"
   ]
  },
  {
   "cell_type": "code",
   "execution_count": 3,
   "metadata": {},
   "outputs": [
    {
     "name": "stdout",
     "output_type": "stream",
     "text": [
      "Collecting oct2py\n",
      "  Downloading oct2py-5.6.0-py3-none-any.whl (45 kB)\n",
      "\u001b[2K     \u001b[90m━━━━━━━━━━━━━━━━━━━━━━━━━━━━━━━━━━━━━━━\u001b[0m \u001b[32m45.7/45.7 kB\u001b[0m \u001b[31m147.3 kB/s\u001b[0m eta \u001b[36m0:00:00\u001b[0ma \u001b[36m0:00:01\u001b[0m\n",
      "\u001b[?25hRequirement already satisfied: numpy>=1.12 in /Library/Frameworks/Python.framework/Versions/3.10/lib/python3.10/site-packages (from oct2py) (1.24.3)\n",
      "Collecting octave-kernel>=0.34.0 (from oct2py)\n",
      "  Downloading octave_kernel-0.35.1-py3-none-any.whl (35 kB)\n",
      "Requirement already satisfied: scipy>=0.17 in /Library/Frameworks/Python.framework/Versions/3.10/lib/python3.10/site-packages (from oct2py) (1.10.1)\n",
      "Requirement already satisfied: ipykernel in /Users/mahinbindra/Library/Python/3.10/lib/python/site-packages (from octave-kernel>=0.34.0->oct2py) (6.22.0)\n",
      "Requirement already satisfied: jupyter-client>=4.3.0 in /Users/mahinbindra/Library/Python/3.10/lib/python/site-packages (from octave-kernel>=0.34.0->oct2py) (8.2.0)\n",
      "Collecting metakernel>=0.24.0 (from octave-kernel>=0.34.0->oct2py)\n",
      "  Obtaining dependency information for metakernel>=0.24.0 from https://files.pythonhosted.org/packages/ad/55/f85425e94b7efc26d61b4760f162cf2cddeefea55e5d3dbc26c7f69cfc94/metakernel-0.30.1-py3-none-any.whl.metadata\n",
      "  Downloading metakernel-0.30.1-py3-none-any.whl.metadata (7.5 kB)\n",
      "Requirement already satisfied: jupyter-core!=5.0.*,>=4.12 in /Users/mahinbindra/Library/Python/3.10/lib/python/site-packages (from jupyter-client>=4.3.0->octave-kernel>=0.34.0->oct2py) (5.3.0)\n",
      "Requirement already satisfied: python-dateutil>=2.8.2 in /Users/mahinbindra/Library/Python/3.10/lib/python/site-packages (from jupyter-client>=4.3.0->octave-kernel>=0.34.0->oct2py) (2.8.2)\n",
      "Requirement already satisfied: pyzmq>=23.0 in /Users/mahinbindra/Library/Python/3.10/lib/python/site-packages (from jupyter-client>=4.3.0->octave-kernel>=0.34.0->oct2py) (25.0.2)\n",
      "Requirement already satisfied: tornado>=6.2 in /Users/mahinbindra/Library/Python/3.10/lib/python/site-packages (from jupyter-client>=4.3.0->octave-kernel>=0.34.0->oct2py) (6.3.1)\n",
      "Requirement already satisfied: traitlets>=5.3 in /Users/mahinbindra/Library/Python/3.10/lib/python/site-packages (from jupyter-client>=4.3.0->octave-kernel>=0.34.0->oct2py) (5.9.0)\n",
      "Requirement already satisfied: jedi>=0.18 in /Users/mahinbindra/Library/Python/3.10/lib/python/site-packages (from metakernel>=0.24.0->octave-kernel>=0.34.0->oct2py) (0.18.2)\n",
      "Requirement already satisfied: pexpect>=4.8 in /Users/mahinbindra/Library/Python/3.10/lib/python/site-packages (from metakernel>=0.24.0->octave-kernel>=0.34.0->oct2py) (4.8.0)\n",
      "Requirement already satisfied: appnope in /Users/mahinbindra/Library/Python/3.10/lib/python/site-packages (from ipykernel->octave-kernel>=0.34.0->oct2py) (0.1.3)\n",
      "Requirement already satisfied: comm>=0.1.1 in /Users/mahinbindra/Library/Python/3.10/lib/python/site-packages (from ipykernel->octave-kernel>=0.34.0->oct2py) (0.1.3)\n",
      "Requirement already satisfied: debugpy>=1.6.5 in /Users/mahinbindra/Library/Python/3.10/lib/python/site-packages (from ipykernel->octave-kernel>=0.34.0->oct2py) (1.6.7)\n",
      "Requirement already satisfied: ipython>=7.23.1 in /Users/mahinbindra/Library/Python/3.10/lib/python/site-packages (from ipykernel->octave-kernel>=0.34.0->oct2py) (8.13.1)\n",
      "Requirement already satisfied: matplotlib-inline>=0.1 in /Users/mahinbindra/Library/Python/3.10/lib/python/site-packages (from ipykernel->octave-kernel>=0.34.0->oct2py) (0.1.6)\n",
      "Requirement already satisfied: nest-asyncio in /Users/mahinbindra/Library/Python/3.10/lib/python/site-packages (from ipykernel->octave-kernel>=0.34.0->oct2py) (1.5.6)\n",
      "Requirement already satisfied: packaging in /Users/mahinbindra/Library/Python/3.10/lib/python/site-packages (from ipykernel->octave-kernel>=0.34.0->oct2py) (23.1)\n",
      "Requirement already satisfied: psutil in /Users/mahinbindra/Library/Python/3.10/lib/python/site-packages (from ipykernel->octave-kernel>=0.34.0->oct2py) (5.9.5)\n",
      "Requirement already satisfied: backcall in /Users/mahinbindra/Library/Python/3.10/lib/python/site-packages (from ipython>=7.23.1->ipykernel->octave-kernel>=0.34.0->oct2py) (0.2.0)\n",
      "Requirement already satisfied: decorator in /Users/mahinbindra/Library/Python/3.10/lib/python/site-packages (from ipython>=7.23.1->ipykernel->octave-kernel>=0.34.0->oct2py) (5.1.1)\n",
      "Requirement already satisfied: pickleshare in /Users/mahinbindra/Library/Python/3.10/lib/python/site-packages (from ipython>=7.23.1->ipykernel->octave-kernel>=0.34.0->oct2py) (0.7.5)\n",
      "Requirement already satisfied: prompt-toolkit!=3.0.37,<3.1.0,>=3.0.30 in /Users/mahinbindra/Library/Python/3.10/lib/python/site-packages (from ipython>=7.23.1->ipykernel->octave-kernel>=0.34.0->oct2py) (3.0.38)\n",
      "Requirement already satisfied: pygments>=2.4.0 in /Users/mahinbindra/Library/Python/3.10/lib/python/site-packages (from ipython>=7.23.1->ipykernel->octave-kernel>=0.34.0->oct2py) (2.15.1)\n",
      "Requirement already satisfied: stack-data in /Users/mahinbindra/Library/Python/3.10/lib/python/site-packages (from ipython>=7.23.1->ipykernel->octave-kernel>=0.34.0->oct2py) (0.6.2)\n",
      "Requirement already satisfied: parso<0.9.0,>=0.8.0 in /Users/mahinbindra/Library/Python/3.10/lib/python/site-packages (from jedi>=0.18->metakernel>=0.24.0->octave-kernel>=0.34.0->oct2py) (0.8.3)\n",
      "Requirement already satisfied: platformdirs>=2.5 in /Users/mahinbindra/Library/Python/3.10/lib/python/site-packages (from jupyter-core!=5.0.*,>=4.12->jupyter-client>=4.3.0->octave-kernel>=0.34.0->oct2py) (3.5.0)\n",
      "Requirement already satisfied: ptyprocess>=0.5 in /Users/mahinbindra/Library/Python/3.10/lib/python/site-packages (from pexpect>=4.8->metakernel>=0.24.0->octave-kernel>=0.34.0->oct2py) (0.7.0)\n",
      "Requirement already satisfied: six>=1.5 in /Users/mahinbindra/Library/Python/3.10/lib/python/site-packages (from python-dateutil>=2.8.2->jupyter-client>=4.3.0->octave-kernel>=0.34.0->oct2py) (1.16.0)\n",
      "Requirement already satisfied: wcwidth in /Users/mahinbindra/Library/Python/3.10/lib/python/site-packages (from prompt-toolkit!=3.0.37,<3.1.0,>=3.0.30->ipython>=7.23.1->ipykernel->octave-kernel>=0.34.0->oct2py) (0.2.6)\n",
      "Requirement already satisfied: executing>=1.2.0 in /Users/mahinbindra/Library/Python/3.10/lib/python/site-packages (from stack-data->ipython>=7.23.1->ipykernel->octave-kernel>=0.34.0->oct2py) (1.2.0)\n",
      "Requirement already satisfied: asttokens>=2.1.0 in /Users/mahinbindra/Library/Python/3.10/lib/python/site-packages (from stack-data->ipython>=7.23.1->ipykernel->octave-kernel>=0.34.0->oct2py) (2.2.1)\n",
      "Requirement already satisfied: pure-eval in /Users/mahinbindra/Library/Python/3.10/lib/python/site-packages (from stack-data->ipython>=7.23.1->ipykernel->octave-kernel>=0.34.0->oct2py) (0.2.2)\n",
      "Downloading metakernel-0.30.1-py3-none-any.whl (217 kB)\n",
      "\u001b[2K   \u001b[90m━━━━━━━━━━━━━━━━━━━━━━━━━━━━━━━━━━━━━━━\u001b[0m \u001b[32m217.8/217.8 kB\u001b[0m \u001b[31m373.9 kB/s\u001b[0m eta \u001b[36m0:00:00\u001b[0ma \u001b[36m0:00:01\u001b[0m\n",
      "\u001b[?25hInstalling collected packages: metakernel, octave-kernel, oct2py\n",
      "Successfully installed metakernel-0.30.1 oct2py-5.6.0 octave-kernel-0.35.1\n",
      "Note: you may need to restart the kernel to use updated packages.\n"
     ]
    }
   ],
   "source": [
    "pip install oct2py"
   ]
  },
  {
   "cell_type": "code",
   "execution_count": 5,
   "metadata": {},
   "outputs": [],
   "source": [
    "import numpy as np\n",
    "import pandas as pd\n",
    "import sklearn as sl\n",
    "import scipy as sp\n",
    "import seaborn as sns\n",
    "import matplotlib.pyplot as plt\n",
    "import matplotlib as mlt\n",
    "import oct2py as oclib"
   ]
  },
  {
   "cell_type": "code",
   "execution_count": null,
   "metadata": {},
   "outputs": [],
   "source": []
  }
 ],
 "metadata": {
  "kernelspec": {
   "display_name": "Python 3",
   "language": "python",
   "name": "python3"
  },
  "language_info": {
   "codemirror_mode": {
    "name": "ipython",
    "version": 3
   },
   "file_extension": ".py",
   "mimetype": "text/x-python",
   "name": "python",
   "nbconvert_exporter": "python",
   "pygments_lexer": "ipython3",
   "version": "3.10.11"
  },
  "orig_nbformat": 4
 },
 "nbformat": 4,
 "nbformat_minor": 2
}
