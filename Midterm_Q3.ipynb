{
 "cells": [
  {
   "cell_type": "code",
   "execution_count": 1,
   "metadata": {},
   "outputs": [],
   "source": [
    "from gurobipy import Model, GRB, quicksum\n",
    "import pandas as pd"
   ]
  },
  {
   "cell_type": "code",
   "execution_count": 2,
   "metadata": {},
   "outputs": [],
   "source": [
    "# Load the dataset\n",
    "costs_df = pd.read_csv('/Users/mahinbindra/Downloads/nurse_shift_costs.csv')"
   ]
  },
  {
   "cell_type": "code",
   "execution_count": 3,
   "metadata": {},
   "outputs": [],
   "source": [
    "# Constants from the problem statement\n",
    "num_nurses = 26\n",
    "num_shifts = 14\n",
    "min_hours = 36\n",
    "max_hours = 60\n",
    "min_nurses_per_shift = 6\n",
    "shift_length = 12"
   ]
  },
  {
   "cell_type": "code",
   "execution_count": 4,
   "metadata": {},
   "outputs": [
    {
     "name": "stdout",
     "output_type": "stream",
     "text": [
      "Set parameter Username\n",
      "Academic license - for non-commercial use only - expires 2025-01-15\n"
     ]
    }
   ],
   "source": [
    "# Create a new model\n",
    "m = Model('nurse_scheduling')"
   ]
  },
  {
   "cell_type": "code",
   "execution_count": 5,
   "metadata": {},
   "outputs": [],
   "source": [
    "# Decision variables\n",
    "x = m.addVars(num_nurses, num_shifts, vtype=GRB.BINARY, name='x')\n",
    "y = m.addVars(num_nurses, num_shifts, vtype=GRB.BINARY, name='y')\n",
    "z = m.addVars(num_nurses, num_shifts, vtype=GRB.BINARY, name='z')"
   ]
  },
  {
   "cell_type": "code",
   "execution_count": 6,
   "metadata": {},
   "outputs": [],
   "source": [
    "# Objective: Minimize total cost\n",
    "obj = quicksum(costs_df.at[i, 'Cost_Weekday'] * (x[i, j] + y[i, j] + z[i, j]) for i in range(num_nurses) for j in range(5)) + \\\n",
    "      quicksum(costs_df.at[i, 'Cost_Weekend'] * (x[i, j] + y[i, j] + z[i, j]) for i in range(num_nurses) for j in range(5, num_shifts)) + \\\n",
    "      quicksum(costs_df.at[i, 'Cost_Overtime'] * (quicksum((x[i, j] + y[i, j] + z[i, j]) * shift_length for j in range(num_shifts)) - min_hours) for i in range(num_nurses))\n",
    "m.setObjective(obj, GRB.MINIMIZE)"
   ]
  },
  {
   "cell_type": "code",
   "execution_count": 7,
   "metadata": {},
   "outputs": [],
   "source": [
    "# Constraints\n",
    "# Each shift must have at least 6 nurses\n",
    "for j in range(num_shifts):\n",
    "    m.addConstr(quicksum(x[i, j] + y[i, j] + z[i, j] for i in range(num_nurses)) >= min_nurses_per_shift)\n",
    "\n",
    "# Each nurse works between 36 and 60 hours\n",
    "for i in range(num_nurses):\n",
    "    m.addConstr(quicksum((x[i, j] + y[i, j] + z[i, j]) * shift_length for j in range(num_shifts)) >= min_hours)\n",
    "    m.addConstr(quicksum((x[i, j] + y[i, j] + z[i, j]) * shift_length for j in range(num_shifts)) <= max_hours)\n",
    "\n",
    "# Each shift must have at least one SRN\n",
    "for j in range(num_shifts):\n",
    "    m.addConstr(quicksum(x[i, j] for i in range(num_nurses)) >= 1)\n",
    "\n",
    "# Nurses cannot work consecutive shifts\n",
    "for i in range(num_nurses):\n",
    "    for j in range(num_shifts - 1):\n",
    "        m.addConstr(x[i, j] + x[i, j+1] <= 1)\n",
    "        m.addConstr(y[i, j] + y[i, j+1] <= 1)\n",
    "        m.addConstr(z[i, j] + z[i, j+1] <= 1)\n",
    "    # Ensure wrap-around constraint for the last shift of the week\n",
    "    m.addConstr(x[i, 0] + x[i, num_shifts-1] <= 1)\n",
    "    m.addConstr(y[i, 0] + y[i, num_shifts-1] <= 1)\n",
    "    m.addConstr(z[i, 0] + z[i, num_shifts-1] <= 1)\n"
   ]
  },
  {
   "cell_type": "code",
   "execution_count": 8,
   "metadata": {},
   "outputs": [
    {
     "name": "stdout",
     "output_type": "stream",
     "text": [
      "Gurobi Optimizer version 11.0.0 build v11.0.0rc2 (mac64[arm] - Darwin 23.0.0 23A344)\n",
      "\n",
      "CPU model: Apple M1\n",
      "Thread count: 8 physical cores, 8 logical processors, using up to 8 threads\n",
      "\n",
      "Optimize a model with 1172 rows, 1092 columns and 5824 nonzeros\n",
      "Model fingerprint: 0xbce85aad\n",
      "Variable types: 0 continuous, 1092 integer (1092 binary)\n",
      "Coefficient statistics:\n",
      "  Matrix range     [1e+00, 1e+01]\n",
      "  Objective range  [2e+03, 2e+04]\n",
      "  Bounds range     [1e+00, 1e+00]\n",
      "  RHS range        [1e+00, 6e+01]\n",
      "Found heuristic solution: objective 51572.000000\n",
      "Presolve time: 0.01s\n",
      "Presolved: 1172 rows, 1092 columns, 5824 nonzeros\n",
      "Variable types: 0 continuous, 1092 integer (1092 binary)\n",
      "Found heuristic solution: objective 44660.000000\n",
      "\n",
      "Root relaxation: objective 4.326600e+04, 475 iterations, 0.01 seconds (0.01 work units)\n",
      "\n",
      "    Nodes    |    Current Node    |     Objective Bounds      |     Work\n",
      " Expl Unexpl |  Obj  Depth IntInf | Incumbent    BestBd   Gap | It/Node Time\n",
      "\n",
      "*    0     0               0    43266.000000 43266.0000  0.00%     -    0s\n",
      "\n",
      "Explored 1 nodes (475 simplex iterations) in 0.03 seconds (0.01 work units)\n",
      "Thread count was 8 (of 8 available processors)\n",
      "\n",
      "Solution count 3: 43266 44660 51572 \n",
      "\n",
      "Optimal solution found (tolerance 1.00e-04)\n",
      "Best objective 4.326600000000e+04, best bound 4.326600000000e+04, gap 0.0000%\n"
     ]
    }
   ],
   "source": [
    "# Solve the model\n",
    "m.optimize()"
   ]
  },
  {
   "cell_type": "code",
   "execution_count": 9,
   "metadata": {},
   "outputs": [
    {
     "name": "stdout",
     "output_type": "stream",
     "text": [
      "x[1,1], 1.0\n",
      "x[2,1], 1.0\n",
      "x[3,5], 1.0\n",
      "x[3,7], 1.0\n",
      "x[3,9], 1.0\n",
      "x[3,11], 1.0\n",
      "x[3,13], 1.0\n",
      "x[4,8], 1.0\n",
      "x[5,6], 1.0\n",
      "x[11,9], 1.0\n",
      "x[12,5], 1.0\n",
      "x[12,7], 1.0\n",
      "x[12,12], 1.0\n",
      "x[13,11], 1.0\n",
      "x[14,0], 1.0\n",
      "x[14,2], 1.0\n",
      "x[15,0], 1.0\n",
      "x[15,4], 1.0\n",
      "x[16,0], 1.0\n",
      "x[16,3], 1.0\n",
      "x[17,1], 1.0\n",
      "x[17,5], 1.0\n",
      "x[18,1], 1.0\n",
      "x[19,1], 1.0\n",
      "x[19,10], 1.0\n",
      "x[20,8], 1.0\n",
      "x[21,5], 1.0\n",
      "x[21,11], 1.0\n",
      "x[21,13], 1.0\n",
      "x[22,0], 1.0\n",
      "x[23,11], 1.0\n",
      "x[24,1], 1.0\n",
      "x[25,8], 1.0\n",
      "y[0,10], 1.0\n",
      "y[0,12], 1.0\n",
      "y[1,4], 1.0\n",
      "y[2,4], 1.0\n",
      "y[4,7], 1.0\n",
      "y[5,8], 1.0\n",
      "y[5,13], 1.0\n",
      "y[6,0], 1.0\n",
      "y[6,4], 1.0\n",
      "y[7,12], 1.0\n",
      "y[8,10], 1.0\n",
      "y[9,7], 1.0\n",
      "y[9,12], 1.0\n",
      "y[10,5], 1.0\n",
      "y[10,13], 1.0\n",
      "y[11,12], 1.0\n",
      "y[12,12], 1.0\n",
      "y[13,7], 1.0\n",
      "y[14,2], 1.0\n",
      "y[18,4], 1.0\n",
      "y[19,3], 1.0\n",
      "y[20,6], 1.0\n",
      "y[22,3], 1.0\n",
      "y[23,9], 1.0\n",
      "y[24,2], 1.0\n",
      "y[24,4], 1.0\n",
      "y[25,8], 1.0\n",
      "y[25,10], 1.0\n",
      "z[0,13], 1.0\n",
      "z[1,3], 1.0\n",
      "z[2,2], 1.0\n",
      "z[4,10], 1.0\n",
      "z[6,2], 1.0\n",
      "z[7,5], 1.0\n",
      "z[7,11], 1.0\n",
      "z[8,6], 1.0\n",
      "z[8,9], 1.0\n",
      "z[9,9], 1.0\n",
      "z[10,10], 1.0\n",
      "z[11,6], 1.0\n",
      "z[12,7], 1.0\n",
      "z[13,11], 1.0\n",
      "z[15,3], 1.0\n",
      "z[16,0], 1.0\n",
      "z[17,13], 1.0\n",
      "z[18,2], 1.0\n",
      "z[20,6], 1.0\n",
      "z[21,6], 1.0\n",
      "z[21,8], 1.0\n",
      "z[22,3], 1.0\n",
      "z[23,9], 1.0\n"
     ]
    }
   ],
   "source": [
    "# Output the solution\n",
    "for v in m.getVars():\n",
    "    if v.x > 0:\n",
    "        print(f\"{v.varName}, {v.x}\")"
   ]
  },
  {
   "cell_type": "code",
   "execution_count": 11,
   "metadata": {},
   "outputs": [
    {
     "data": {
      "text/plain": [
       "1092"
      ]
     },
     "execution_count": 11,
     "metadata": {},
     "output_type": "execute_result"
    }
   ],
   "source": [
    "# Number of decision variables = num_nurses * num_shifts * 3 (for SRN, RN, NIT)\n",
    "total_decision_variables = num_nurses * num_shifts * 3\n",
    "total_decision_variables"
   ]
  },
  {
   "cell_type": "code",
   "execution_count": 13,
   "metadata": {},
   "outputs": [
    {
     "data": {
      "text/plain": [
       "43266.0"
      ]
     },
     "execution_count": 13,
     "metadata": {},
     "output_type": "execute_result"
    }
   ],
   "source": [
    "# This would retrieve the optimal value after optimization, which cannot be done here\n",
    "optimal_value = m.objVal\n",
    "optimal_value"
   ]
  },
  {
   "cell_type": "code",
   "execution_count": null,
   "metadata": {},
   "outputs": [],
   "source": []
  }
 ],
 "metadata": {
  "kernelspec": {
   "display_name": "Python 3",
   "language": "python",
   "name": "python3"
  },
  "language_info": {
   "codemirror_mode": {
    "name": "ipython",
    "version": 3
   },
   "file_extension": ".py",
   "mimetype": "text/x-python",
   "name": "python",
   "nbconvert_exporter": "python",
   "pygments_lexer": "ipython3",
   "version": "3.10.11"
  }
 },
 "nbformat": 4,
 "nbformat_minor": 2
}
