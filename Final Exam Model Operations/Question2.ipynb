{
 "cells": [
  {
   "cell_type": "code",
   "execution_count": 1,
   "metadata": {},
   "outputs": [],
   "source": [
    "from gurobipy import Model, GRB, quicksum"
   ]
  },
  {
   "cell_type": "code",
   "execution_count": 2,
   "metadata": {},
   "outputs": [],
   "source": [
    "# Data from the problem\n",
    "probabilities = [0.09, 0.12, 0.10, 0.05, 0.16, 0.14, 0.03, 0.08, 0.05, 0.05, 0.04, 0.03, 0.02, 0.01, 0.02, 0.01]\n",
    "demands = [90, 95, 100, 105, 110, 115, 120, 125, 130, 135, 140, 145, 150, 155, 160, 165]\n",
    "supplier_costs = [120, 105, 110]  # Costs for Phil & Sebastian, Rosso, and Monogram respectively\n",
    "advance_order_cost = 95\n",
    "num_scenarios = len(probabilities)\n",
    "min_order_quantities = [0, 70, 40]  # Minimum order quantities for Phil & Sebastian, Rosso, and Monogram"
   ]
  },
  {
   "cell_type": "code",
   "execution_count": 3,
   "metadata": {},
   "outputs": [
    {
     "name": "stdout",
     "output_type": "stream",
     "text": [
      "Set parameter Username\n",
      "Academic license - for non-commercial use only - expires 2025-01-15\n"
     ]
    }
   ],
   "source": [
    "# Create a new model\n",
    "m = Model('CoffeeSupplyOptimization')"
   ]
  },
  {
   "cell_type": "code",
   "execution_count": 4,
   "metadata": {},
   "outputs": [],
   "source": [
    "# Decision variables\n",
    "x = m.addVar(vtype=GRB.CONTINUOUS, name=\"x\")  # Gallons of coffee ordered in advance\n",
    "# Gallons of coffee ordered from local suppliers in each scenario\n",
    "y = m.addVars(3, num_scenarios, vtype=GRB.CONTINUOUS, name=\"y\")"
   ]
  },
  {
   "cell_type": "code",
   "execution_count": 5,
   "metadata": {},
   "outputs": [],
   "source": [
    "# Objective Function: Minimize the expected cost of ordering coffee\n",
    "m.setObjective(advance_order_cost * x + quicksum(probabilities[n] * quicksum(supplier_costs[i] * y[i,n] for i in range(3)) for n in range(num_scenarios)), GRB.MINIMIZE)"
   ]
  },
  {
   "cell_type": "code",
   "execution_count": 6,
   "metadata": {},
   "outputs": [],
   "source": [
    "# Constraints\n",
    "# Ensure demand is met for each scenario\n",
    "for n in range(num_scenarios):\n",
    "    m.addConstr(x + quicksum(y[i,n] for i in range(3)) >= demands[n], \"Demand_Scenario_%s\" % n)\n",
    "\n",
    "# Supplier minimum order constraints for Rosso and Monogram\n",
    "for i in range(1, 3):  # Skip Phil & Sebastian since it has no minimum\n",
    "    for n in range(num_scenarios):\n",
    "        m.addGenConstrIndicator(y[i,n], True, y[i,n] >= min_order_quantities[i], name=f\"Min_Order_{i}_{n}\")\n"
   ]
  },
  {
   "cell_type": "code",
   "execution_count": 7,
   "metadata": {},
   "outputs": [
    {
     "name": "stdout",
     "output_type": "stream",
     "text": [
      "Gurobi Optimizer version 11.0.0 build v11.0.0rc2 (mac64[arm] - Darwin 23.0.0 23A344)\n",
      "\n",
      "CPU model: Apple M1\n",
      "Thread count: 8 physical cores, 8 logical processors, using up to 8 threads\n",
      "\n",
      "Optimize a model with 16 rows, 49 columns and 64 nonzeros\n",
      "Model fingerprint: 0x6a6e1f80\n",
      "Model has 32 general constraints\n",
      "Variable types: 49 continuous, 0 integer (0 binary)\n",
      "Coefficient statistics:\n",
      "  Matrix range     [1e+00, 1e+00]\n",
      "  Objective range  [1e+00, 1e+02]\n",
      "  Bounds range     [0e+00, 0e+00]\n",
      "  RHS range        [9e+01, 2e+02]\n",
      "  GenCon rhs range [4e+01, 7e+01]\n",
      "  GenCon coe range [1e+00, 1e+00]\n",
      "Found heuristic solution: objective 8.600000e+11\n",
      "Presolve removed 16 rows and 49 columns\n",
      "Presolve time: 0.00s\n",
      "Presolve: All rows and columns removed\n",
      "\n",
      "Explored 0 nodes (0 simplex iterations) in 0.01 seconds (0.00 work units)\n",
      "Thread count was 1 (of 8 available processors)\n",
      "\n",
      "Solution count 2: 11437 8.6e+11 \n",
      "\n",
      "Optimal solution found (tolerance 1.00e-04)\n",
      "Best objective 1.143700000000e+04, best bound 1.143700000000e+04, gap 0.0000%\n"
     ]
    }
   ],
   "source": [
    "# Optimize the model\n",
    "m.optimize()"
   ]
  },
  {
   "cell_type": "code",
   "execution_count": 8,
   "metadata": {},
   "outputs": [
    {
     "name": "stdout",
     "output_type": "stream",
     "text": [
      "Optimal amount of coffee to order in advance: 95.0 gallons.\n",
      "Order 5.0 gallons from supplier 1 in scenario 3.\n",
      "Order 10.0 gallons from supplier 1 in scenario 4.\n",
      "Order 15.0 gallons from supplier 1 in scenario 5.\n",
      "Order 20.0 gallons from supplier 1 in scenario 6.\n",
      "Order 25.0 gallons from supplier 1 in scenario 7.\n",
      "Order 30.0 gallons from supplier 1 in scenario 8.\n",
      "Order 35.0 gallons from supplier 1 in scenario 9.\n",
      "Order 40.0 gallons from supplier 1 in scenario 10.\n",
      "Order 45.0 gallons from supplier 1 in scenario 11.\n",
      "Order 50.0 gallons from supplier 1 in scenario 12.\n",
      "Order 55.0 gallons from supplier 1 in scenario 13.\n",
      "Order 60.0 gallons from supplier 1 in scenario 14.\n",
      "Order 65.0 gallons from supplier 1 in scenario 15.\n",
      "Order 70.0 gallons from supplier 1 in scenario 16.\n"
     ]
    }
   ],
   "source": [
    "# Output solution\n",
    "if m.status == GRB.OPTIMAL:\n",
    "    print(f\"Optimal amount of coffee to order in advance: {x.X} gallons.\")\n",
    "    for i in range(3):\n",
    "        for n in range(num_scenarios):\n",
    "            if y[i,n].X > 0:\n",
    "                print(f\"Order {y[i,n].X} gallons from supplier {i+1} in scenario {n+1}.\")\n",
    "else:\n",
    "    print(\"No optimal solution found.\")"
   ]
  },
  {
   "cell_type": "code",
   "execution_count": null,
   "metadata": {},
   "outputs": [],
   "source": []
  }
 ],
 "metadata": {
  "kernelspec": {
   "display_name": "Python 3",
   "language": "python",
   "name": "python3"
  },
  "language_info": {
   "codemirror_mode": {
    "name": "ipython",
    "version": 3
   },
   "file_extension": ".py",
   "mimetype": "text/x-python",
   "name": "python",
   "nbconvert_exporter": "python",
   "pygments_lexer": "ipython3",
   "version": "3.10.11"
  }
 },
 "nbformat": 4,
 "nbformat_minor": 2
}
